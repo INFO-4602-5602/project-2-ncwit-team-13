{
 "cells": [
  {
   "cell_type": "markdown",
   "metadata": {},
   "source": [
    "### Bokeh Tutorial"
   ]
  },
  {
   "cell_type": "code",
   "execution_count": 1,
   "metadata": {},
   "outputs": [
    {
     "data": {
      "text/html": [
       "\n",
       "    <div class=\"bk-root\">\n",
       "        <a href=\"https://bokeh.pydata.org\" target=\"_blank\" class=\"bk-logo bk-logo-small bk-logo-notebook\"></a>\n",
       "        <span id=\"52da103a-0449-4c7f-a2b4-3f3b967c88fa\">Loading BokehJS ...</span>\n",
       "    </div>"
      ]
     },
     "metadata": {},
     "output_type": "display_data"
    },
    {
     "data": {
      "application/javascript": [
       "\n",
       "(function(root) {\n",
       "  function now() {\n",
       "    return new Date();\n",
       "  }\n",
       "\n",
       "  var force = true;\n",
       "\n",
       "  if (typeof (root._bokeh_onload_callbacks) === \"undefined\" || force === true) {\n",
       "    root._bokeh_onload_callbacks = [];\n",
       "    root._bokeh_is_loading = undefined;\n",
       "  }\n",
       "\n",
       "  var JS_MIME_TYPE = 'application/javascript';\n",
       "  var HTML_MIME_TYPE = 'text/html';\n",
       "  var EXEC_MIME_TYPE = 'application/vnd.bokehjs_exec.v0+json';\n",
       "  var CLASS_NAME = 'output_bokeh rendered_html';\n",
       "\n",
       "  /**\n",
       "   * Render data to the DOM node\n",
       "   */\n",
       "  function render(props, node) {\n",
       "    var script = document.createElement(\"script\");\n",
       "    node.appendChild(script);\n",
       "  }\n",
       "\n",
       "  /**\n",
       "   * Handle when an output is cleared or removed\n",
       "   */\n",
       "  function handleClearOutput(event, handle) {\n",
       "    var cell = handle.cell;\n",
       "\n",
       "    var id = cell.output_area._bokeh_element_id;\n",
       "    var server_id = cell.output_area._bokeh_server_id;\n",
       "    // Clean up Bokeh references\n",
       "    if (id !== undefined) {\n",
       "      Bokeh.index[id].model.document.clear();\n",
       "      delete Bokeh.index[id];\n",
       "    }\n",
       "\n",
       "    if (server_id !== undefined) {\n",
       "      // Clean up Bokeh references\n",
       "      var cmd = \"from bokeh.io.state import curstate; print(curstate().uuid_to_server['\" + server_id + \"'].get_sessions()[0].document.roots[0]._id)\";\n",
       "      cell.notebook.kernel.execute(cmd, {\n",
       "        iopub: {\n",
       "          output: function(msg) {\n",
       "            var element_id = msg.content.text.trim();\n",
       "            Bokeh.index[element_id].model.document.clear();\n",
       "            delete Bokeh.index[element_id];\n",
       "          }\n",
       "        }\n",
       "      });\n",
       "      // Destroy server and session\n",
       "      var cmd = \"import bokeh.io.notebook as ion; ion.destroy_server('\" + server_id + \"')\";\n",
       "      cell.notebook.kernel.execute(cmd);\n",
       "    }\n",
       "  }\n",
       "\n",
       "  /**\n",
       "   * Handle when a new output is added\n",
       "   */\n",
       "  function handleAddOutput(event, handle) {\n",
       "    var output_area = handle.output_area;\n",
       "    var output = handle.output;\n",
       "\n",
       "    // limit handleAddOutput to display_data with EXEC_MIME_TYPE content only\n",
       "    if ((output.output_type != \"display_data\") || (!output.data.hasOwnProperty(EXEC_MIME_TYPE))) {\n",
       "      return\n",
       "    }\n",
       "\n",
       "    var toinsert = output_area.element.find(`.${CLASS_NAME.split(' ')[0]}`);\n",
       "\n",
       "    if (output.metadata[EXEC_MIME_TYPE][\"id\"] !== undefined) {\n",
       "      toinsert[0].firstChild.textContent = output.data[JS_MIME_TYPE];\n",
       "      // store reference to embed id on output_area\n",
       "      output_area._bokeh_element_id = output.metadata[EXEC_MIME_TYPE][\"id\"];\n",
       "    }\n",
       "    if (output.metadata[EXEC_MIME_TYPE][\"server_id\"] !== undefined) {\n",
       "      var bk_div = document.createElement(\"div\");\n",
       "      bk_div.innerHTML = output.data[HTML_MIME_TYPE];\n",
       "      var script_attrs = bk_div.children[0].attributes;\n",
       "      for (var i = 0; i < script_attrs.length; i++) {\n",
       "        toinsert[0].firstChild.setAttribute(script_attrs[i].name, script_attrs[i].value);\n",
       "      }\n",
       "      // store reference to server id on output_area\n",
       "      output_area._bokeh_server_id = output.metadata[EXEC_MIME_TYPE][\"server_id\"];\n",
       "    }\n",
       "  }\n",
       "\n",
       "  function register_renderer(events, OutputArea) {\n",
       "\n",
       "    function append_mime(data, metadata, element) {\n",
       "      // create a DOM node to render to\n",
       "      var toinsert = this.create_output_subarea(\n",
       "        metadata,\n",
       "        CLASS_NAME,\n",
       "        EXEC_MIME_TYPE\n",
       "      );\n",
       "      this.keyboard_manager.register_events(toinsert);\n",
       "      // Render to node\n",
       "      var props = {data: data, metadata: metadata[EXEC_MIME_TYPE]};\n",
       "      render(props, toinsert[0]);\n",
       "      element.append(toinsert);\n",
       "      return toinsert\n",
       "    }\n",
       "\n",
       "    /* Handle when an output is cleared or removed */\n",
       "    events.on('clear_output.CodeCell', handleClearOutput);\n",
       "    events.on('delete.Cell', handleClearOutput);\n",
       "\n",
       "    /* Handle when a new output is added */\n",
       "    events.on('output_added.OutputArea', handleAddOutput);\n",
       "\n",
       "    /**\n",
       "     * Register the mime type and append_mime function with output_area\n",
       "     */\n",
       "    OutputArea.prototype.register_mime_type(EXEC_MIME_TYPE, append_mime, {\n",
       "      /* Is output safe? */\n",
       "      safe: true,\n",
       "      /* Index of renderer in `output_area.display_order` */\n",
       "      index: 0\n",
       "    });\n",
       "  }\n",
       "\n",
       "  // register the mime type if in Jupyter Notebook environment and previously unregistered\n",
       "  if (root.Jupyter !== undefined) {\n",
       "    var events = require('base/js/events');\n",
       "    var OutputArea = require('notebook/js/outputarea').OutputArea;\n",
       "\n",
       "    if (OutputArea.prototype.mime_types().indexOf(EXEC_MIME_TYPE) == -1) {\n",
       "      register_renderer(events, OutputArea);\n",
       "    }\n",
       "  }\n",
       "\n",
       "  \n",
       "  if (typeof (root._bokeh_timeout) === \"undefined\" || force === true) {\n",
       "    root._bokeh_timeout = Date.now() + 5000;\n",
       "    root._bokeh_failed_load = false;\n",
       "  }\n",
       "\n",
       "  var NB_LOAD_WARNING = {'data': {'text/html':\n",
       "     \"<div style='background-color: #fdd'>\\n\"+\n",
       "     \"<p>\\n\"+\n",
       "     \"BokehJS does not appear to have successfully loaded. If loading BokehJS from CDN, this \\n\"+\n",
       "     \"may be due to a slow or bad network connection. Possible fixes:\\n\"+\n",
       "     \"</p>\\n\"+\n",
       "     \"<ul>\\n\"+\n",
       "     \"<li>re-rerun `output_notebook()` to attempt to load from CDN again, or</li>\\n\"+\n",
       "     \"<li>use INLINE resources instead, as so:</li>\\n\"+\n",
       "     \"</ul>\\n\"+\n",
       "     \"<code>\\n\"+\n",
       "     \"from bokeh.resources import INLINE\\n\"+\n",
       "     \"output_notebook(resources=INLINE)\\n\"+\n",
       "     \"</code>\\n\"+\n",
       "     \"</div>\"}};\n",
       "\n",
       "  function display_loaded() {\n",
       "    var el = document.getElementById(\"52da103a-0449-4c7f-a2b4-3f3b967c88fa\");\n",
       "    if (el != null) {\n",
       "      el.textContent = \"BokehJS is loading...\";\n",
       "    }\n",
       "    if (root.Bokeh !== undefined) {\n",
       "      if (el != null) {\n",
       "        el.textContent = \"BokehJS \" + root.Bokeh.version + \" successfully loaded.\";\n",
       "      }\n",
       "    } else if (Date.now() < root._bokeh_timeout) {\n",
       "      setTimeout(display_loaded, 100)\n",
       "    }\n",
       "  }\n",
       "\n",
       "\n",
       "  function run_callbacks() {\n",
       "    try {\n",
       "      root._bokeh_onload_callbacks.forEach(function(callback) { callback() });\n",
       "    }\n",
       "    finally {\n",
       "      delete root._bokeh_onload_callbacks\n",
       "    }\n",
       "    console.info(\"Bokeh: all callbacks have finished\");\n",
       "  }\n",
       "\n",
       "  function load_libs(js_urls, callback) {\n",
       "    root._bokeh_onload_callbacks.push(callback);\n",
       "    if (root._bokeh_is_loading > 0) {\n",
       "      console.log(\"Bokeh: BokehJS is being loaded, scheduling callback at\", now());\n",
       "      return null;\n",
       "    }\n",
       "    if (js_urls == null || js_urls.length === 0) {\n",
       "      run_callbacks();\n",
       "      return null;\n",
       "    }\n",
       "    console.log(\"Bokeh: BokehJS not loaded, scheduling load and callback at\", now());\n",
       "    root._bokeh_is_loading = js_urls.length;\n",
       "    for (var i = 0; i < js_urls.length; i++) {\n",
       "      var url = js_urls[i];\n",
       "      var s = document.createElement('script');\n",
       "      s.src = url;\n",
       "      s.async = false;\n",
       "      s.onreadystatechange = s.onload = function() {\n",
       "        root._bokeh_is_loading--;\n",
       "        if (root._bokeh_is_loading === 0) {\n",
       "          console.log(\"Bokeh: all BokehJS libraries loaded\");\n",
       "          run_callbacks()\n",
       "        }\n",
       "      };\n",
       "      s.onerror = function() {\n",
       "        console.warn(\"failed to load library \" + url);\n",
       "      };\n",
       "      console.log(\"Bokeh: injecting script tag for BokehJS library: \", url);\n",
       "      document.getElementsByTagName(\"head\")[0].appendChild(s);\n",
       "    }\n",
       "  };var element = document.getElementById(\"52da103a-0449-4c7f-a2b4-3f3b967c88fa\");\n",
       "  if (element == null) {\n",
       "    console.log(\"Bokeh: ERROR: autoload.js configured with elementid '52da103a-0449-4c7f-a2b4-3f3b967c88fa' but no matching script tag was found. \")\n",
       "    return false;\n",
       "  }\n",
       "\n",
       "  var js_urls = [\"https://cdn.pydata.org/bokeh/release/bokeh-0.12.10.min.js\", \"https://cdn.pydata.org/bokeh/release/bokeh-widgets-0.12.10.min.js\", \"https://cdn.pydata.org/bokeh/release/bokeh-tables-0.12.10.min.js\", \"https://cdn.pydata.org/bokeh/release/bokeh-gl-0.12.10.min.js\"];\n",
       "\n",
       "  var inline_js = [\n",
       "    function(Bokeh) {\n",
       "      Bokeh.set_log_level(\"info\");\n",
       "    },\n",
       "    \n",
       "    function(Bokeh) {\n",
       "      \n",
       "    },\n",
       "    function(Bokeh) {\n",
       "      console.log(\"Bokeh: injecting CSS: https://cdn.pydata.org/bokeh/release/bokeh-0.12.10.min.css\");\n",
       "      Bokeh.embed.inject_css(\"https://cdn.pydata.org/bokeh/release/bokeh-0.12.10.min.css\");\n",
       "      console.log(\"Bokeh: injecting CSS: https://cdn.pydata.org/bokeh/release/bokeh-widgets-0.12.10.min.css\");\n",
       "      Bokeh.embed.inject_css(\"https://cdn.pydata.org/bokeh/release/bokeh-widgets-0.12.10.min.css\");\n",
       "      console.log(\"Bokeh: injecting CSS: https://cdn.pydata.org/bokeh/release/bokeh-tables-0.12.10.min.css\");\n",
       "      Bokeh.embed.inject_css(\"https://cdn.pydata.org/bokeh/release/bokeh-tables-0.12.10.min.css\");\n",
       "    }\n",
       "  ];\n",
       "\n",
       "  function run_inline_js() {\n",
       "    \n",
       "    if ((root.Bokeh !== undefined) || (force === true)) {\n",
       "      for (var i = 0; i < inline_js.length; i++) {\n",
       "        inline_js[i].call(root, root.Bokeh);\n",
       "      }if (force === true) {\n",
       "        display_loaded();\n",
       "      }} else if (Date.now() < root._bokeh_timeout) {\n",
       "      setTimeout(run_inline_js, 100);\n",
       "    } else if (!root._bokeh_failed_load) {\n",
       "      console.log(\"Bokeh: BokehJS failed to load within specified timeout.\");\n",
       "      root._bokeh_failed_load = true;\n",
       "    } else if (force !== true) {\n",
       "      var cell = $(document.getElementById(\"52da103a-0449-4c7f-a2b4-3f3b967c88fa\")).parents('.cell').data().cell;\n",
       "      cell.output_area.append_execute_result(NB_LOAD_WARNING)\n",
       "    }\n",
       "\n",
       "  }\n",
       "\n",
       "  if (root._bokeh_is_loading === 0) {\n",
       "    console.log(\"Bokeh: BokehJS loaded, going straight to plotting\");\n",
       "    run_inline_js();\n",
       "  } else {\n",
       "    load_libs(js_urls, function() {\n",
       "      console.log(\"Bokeh: BokehJS plotting callback run at\", now());\n",
       "      run_inline_js();\n",
       "    });\n",
       "  }\n",
       "}(window));"
      ],
      "application/vnd.bokehjs_load.v0+json": "\n(function(root) {\n  function now() {\n    return new Date();\n  }\n\n  var force = true;\n\n  if (typeof (root._bokeh_onload_callbacks) === \"undefined\" || force === true) {\n    root._bokeh_onload_callbacks = [];\n    root._bokeh_is_loading = undefined;\n  }\n\n  \n\n  \n  if (typeof (root._bokeh_timeout) === \"undefined\" || force === true) {\n    root._bokeh_timeout = Date.now() + 5000;\n    root._bokeh_failed_load = false;\n  }\n\n  var NB_LOAD_WARNING = {'data': {'text/html':\n     \"<div style='background-color: #fdd'>\\n\"+\n     \"<p>\\n\"+\n     \"BokehJS does not appear to have successfully loaded. If loading BokehJS from CDN, this \\n\"+\n     \"may be due to a slow or bad network connection. Possible fixes:\\n\"+\n     \"</p>\\n\"+\n     \"<ul>\\n\"+\n     \"<li>re-rerun `output_notebook()` to attempt to load from CDN again, or</li>\\n\"+\n     \"<li>use INLINE resources instead, as so:</li>\\n\"+\n     \"</ul>\\n\"+\n     \"<code>\\n\"+\n     \"from bokeh.resources import INLINE\\n\"+\n     \"output_notebook(resources=INLINE)\\n\"+\n     \"</code>\\n\"+\n     \"</div>\"}};\n\n  function display_loaded() {\n    var el = document.getElementById(\"52da103a-0449-4c7f-a2b4-3f3b967c88fa\");\n    if (el != null) {\n      el.textContent = \"BokehJS is loading...\";\n    }\n    if (root.Bokeh !== undefined) {\n      if (el != null) {\n        el.textContent = \"BokehJS \" + root.Bokeh.version + \" successfully loaded.\";\n      }\n    } else if (Date.now() < root._bokeh_timeout) {\n      setTimeout(display_loaded, 100)\n    }\n  }\n\n\n  function run_callbacks() {\n    try {\n      root._bokeh_onload_callbacks.forEach(function(callback) { callback() });\n    }\n    finally {\n      delete root._bokeh_onload_callbacks\n    }\n    console.info(\"Bokeh: all callbacks have finished\");\n  }\n\n  function load_libs(js_urls, callback) {\n    root._bokeh_onload_callbacks.push(callback);\n    if (root._bokeh_is_loading > 0) {\n      console.log(\"Bokeh: BokehJS is being loaded, scheduling callback at\", now());\n      return null;\n    }\n    if (js_urls == null || js_urls.length === 0) {\n      run_callbacks();\n      return null;\n    }\n    console.log(\"Bokeh: BokehJS not loaded, scheduling load and callback at\", now());\n    root._bokeh_is_loading = js_urls.length;\n    for (var i = 0; i < js_urls.length; i++) {\n      var url = js_urls[i];\n      var s = document.createElement('script');\n      s.src = url;\n      s.async = false;\n      s.onreadystatechange = s.onload = function() {\n        root._bokeh_is_loading--;\n        if (root._bokeh_is_loading === 0) {\n          console.log(\"Bokeh: all BokehJS libraries loaded\");\n          run_callbacks()\n        }\n      };\n      s.onerror = function() {\n        console.warn(\"failed to load library \" + url);\n      };\n      console.log(\"Bokeh: injecting script tag for BokehJS library: \", url);\n      document.getElementsByTagName(\"head\")[0].appendChild(s);\n    }\n  };var element = document.getElementById(\"52da103a-0449-4c7f-a2b4-3f3b967c88fa\");\n  if (element == null) {\n    console.log(\"Bokeh: ERROR: autoload.js configured with elementid '52da103a-0449-4c7f-a2b4-3f3b967c88fa' but no matching script tag was found. \")\n    return false;\n  }\n\n  var js_urls = [\"https://cdn.pydata.org/bokeh/release/bokeh-0.12.10.min.js\", \"https://cdn.pydata.org/bokeh/release/bokeh-widgets-0.12.10.min.js\", \"https://cdn.pydata.org/bokeh/release/bokeh-tables-0.12.10.min.js\", \"https://cdn.pydata.org/bokeh/release/bokeh-gl-0.12.10.min.js\"];\n\n  var inline_js = [\n    function(Bokeh) {\n      Bokeh.set_log_level(\"info\");\n    },\n    \n    function(Bokeh) {\n      \n    },\n    function(Bokeh) {\n      console.log(\"Bokeh: injecting CSS: https://cdn.pydata.org/bokeh/release/bokeh-0.12.10.min.css\");\n      Bokeh.embed.inject_css(\"https://cdn.pydata.org/bokeh/release/bokeh-0.12.10.min.css\");\n      console.log(\"Bokeh: injecting CSS: https://cdn.pydata.org/bokeh/release/bokeh-widgets-0.12.10.min.css\");\n      Bokeh.embed.inject_css(\"https://cdn.pydata.org/bokeh/release/bokeh-widgets-0.12.10.min.css\");\n      console.log(\"Bokeh: injecting CSS: https://cdn.pydata.org/bokeh/release/bokeh-tables-0.12.10.min.css\");\n      Bokeh.embed.inject_css(\"https://cdn.pydata.org/bokeh/release/bokeh-tables-0.12.10.min.css\");\n    }\n  ];\n\n  function run_inline_js() {\n    \n    if ((root.Bokeh !== undefined) || (force === true)) {\n      for (var i = 0; i < inline_js.length; i++) {\n        inline_js[i].call(root, root.Bokeh);\n      }if (force === true) {\n        display_loaded();\n      }} else if (Date.now() < root._bokeh_timeout) {\n      setTimeout(run_inline_js, 100);\n    } else if (!root._bokeh_failed_load) {\n      console.log(\"Bokeh: BokehJS failed to load within specified timeout.\");\n      root._bokeh_failed_load = true;\n    } else if (force !== true) {\n      var cell = $(document.getElementById(\"52da103a-0449-4c7f-a2b4-3f3b967c88fa\")).parents('.cell').data().cell;\n      cell.output_area.append_execute_result(NB_LOAD_WARNING)\n    }\n\n  }\n\n  if (root._bokeh_is_loading === 0) {\n    console.log(\"Bokeh: BokehJS loaded, going straight to plotting\");\n    run_inline_js();\n  } else {\n    load_libs(js_urls, function() {\n      console.log(\"Bokeh: BokehJS plotting callback run at\", now());\n      run_inline_js();\n    });\n  }\n}(window));"
     },
     "metadata": {},
     "output_type": "display_data"
    }
   ],
   "source": [
    "from bokeh.io import output_notebook, show\n",
    "from bokeh.plotting import figure\n",
    "output_notebook()"
   ]
  },
  {
   "cell_type": "markdown",
   "metadata": {},
   "source": [
    "Now that we know from the previous chapter how multiple plots can be placed together in a layout, we can start to look at how different plots can be linked togeher, or how plots can be linked to widgets. "
   ]
  },
  {
   "cell_type": "markdown",
   "metadata": {
    "collapsed": true
   },
   "source": [
    "# Linked Interactions\n",
    "\n",
    "It is possible to link various interactions between different Bokeh plots. For instance, the ranges of two (or more) plots can be linked, so that when one of the plots is panned (or zoomed, or otherwise has its range changed) the other plots will update in unison. It is also possible to link selections between two plots, so that when items are selected on one plot, the corresponding items on the second plot also become selected. "
   ]
  },
  {
   "cell_type": "markdown",
   "metadata": {},
   "source": [
    "## Linked panning\n",
    "\n",
    "Linked panning (when multiple plots have ranges that stay in sync) is simple to spell with Bokeh. You simply share the appropriate range objects between two (or more) plots. The example below shows how to accomplish this by linking the ranges of three plots in various ways:"
   ]
  },
  {
   "cell_type": "code",
   "execution_count": 6,
   "metadata": {},
   "outputs": [
    {
     "data": {
      "text/html": [
       "\n",
       "<div class=\"bk-root\">\n",
       "    <div class=\"bk-plotdiv\" id=\"6c962b12-5122-4a9d-a67f-2e13883fdcd4\"></div>\n",
       "</div>"
      ]
     },
     "metadata": {},
     "output_type": "display_data"
    },
    {
     "data": {
      "application/javascript": [
       "(function(root) {\n",
       "  function embed_document(root) {\n",
       "    var docs_json = {\"6da530a4-9a3e-4fc2-833e-cfb15d7f2415\":{\"roots\":{\"references\":[{\"attributes\":{},\"id\":\"14f6cd9e-731a-4b2e-a009-972e89ec4d1b\",\"type\":\"BasicTicker\"},{\"attributes\":{\"dimension\":1,\"plot\":{\"id\":\"49b91206-c4e4-4988-aa9b-90dbc758015b\",\"subtype\":\"Figure\",\"type\":\"Plot\"},\"ticker\":{\"id\":\"14f6cd9e-731a-4b2e-a009-972e89ec4d1b\",\"type\":\"BasicTicker\"}},\"id\":\"a3d43d5b-a795-4477-a7cc-13fae0f3fbfb\",\"type\":\"Grid\"},{\"attributes\":{\"data_source\":{\"id\":\"29fa3db7-ecd3-4251-a83b-5e3051ca6e81\",\"type\":\"ColumnDataSource\"},\"glyph\":{\"id\":\"8e257198-f10b-46c0-b8ea-34a0dadbfcd6\",\"type\":\"Square\"},\"hover_glyph\":null,\"muted_glyph\":null,\"nonselection_glyph\":{\"id\":\"cfd3d927-cb14-4b34-af12-2a3450965828\",\"type\":\"Square\"},\"selection_glyph\":null,\"view\":{\"id\":\"ae69a497-0e6e-4471-829d-feb3b5cc5d32\",\"type\":\"CDSView\"}},\"id\":\"e88645b8-f3d5-4411-8ad4-cd4ef2ad8cf3\",\"type\":\"GlyphRenderer\"},{\"attributes\":{},\"id\":\"a9d25b70-68b7-4e6f-93ef-0cf2e5f3c72e\",\"type\":\"PanTool\"},{\"attributes\":{\"below\":[{\"id\":\"2d8d82ba-5c5e-415e-bfb0-88b415a4408a\",\"type\":\"LinearAxis\"}],\"left\":[{\"id\":\"76afd283-db9b-449d-aa49-be67954ebe8c\",\"type\":\"LinearAxis\"}],\"plot_height\":250,\"plot_width\":250,\"renderers\":[{\"id\":\"2d8d82ba-5c5e-415e-bfb0-88b415a4408a\",\"type\":\"LinearAxis\"},{\"id\":\"8024cf97-793b-4b31-8542-f3a4386eed27\",\"type\":\"Grid\"},{\"id\":\"76afd283-db9b-449d-aa49-be67954ebe8c\",\"type\":\"LinearAxis\"},{\"id\":\"a3d43d5b-a795-4477-a7cc-13fae0f3fbfb\",\"type\":\"Grid\"},{\"id\":\"896678a1-e547-4bd6-bfe3-309b6f295283\",\"type\":\"GlyphRenderer\"}],\"title\":{\"id\":\"6f7818a0-53d6-4ede-b234-319bff4ce4a5\",\"type\":\"Title\"},\"toolbar\":{\"id\":\"8bce0142-3b67-4d0c-8c4e-98f89abf760d\",\"type\":\"Toolbar\"},\"toolbar_location\":null,\"x_range\":{\"id\":\"39c1aa94-c815-41ee-9413-9a5c1049156d\",\"type\":\"DataRange1d\"},\"x_scale\":{\"id\":\"3f08d3db-62cb-431e-84ef-bb06c3b49d3f\",\"type\":\"LinearScale\"},\"y_range\":{\"id\":\"e0ebe2fa-925b-40cc-8d1a-dfa148eb4b22\",\"type\":\"DataRange1d\"},\"y_scale\":{\"id\":\"f6e7d7e5-8231-4351-b021-f126a0aafb88\",\"type\":\"LinearScale\"}},\"id\":\"49b91206-c4e4-4988-aa9b-90dbc758015b\",\"subtype\":\"Figure\",\"type\":\"Plot\"},{\"attributes\":{\"callback\":null,\"column_names\":[\"x\",\"y\"],\"data\":{\"x\":[0,1,2,3,4,5,6,7,8,9,10],\"y\":[0,1,2,3,4,5,6,7,8,9,10]}},\"id\":\"1e4fbf4f-6910-483f-8c70-b0f6dd44009a\",\"type\":\"ColumnDataSource\"},{\"attributes\":{},\"id\":\"8d48ae65-6003-45dc-985b-3ca6f3ac224c\",\"type\":\"WheelZoomTool\"},{\"attributes\":{\"source\":{\"id\":\"29fa3db7-ecd3-4251-a83b-5e3051ca6e81\",\"type\":\"ColumnDataSource\"}},\"id\":\"ae69a497-0e6e-4471-829d-feb3b5cc5d32\",\"type\":\"CDSView\"},{\"attributes\":{},\"id\":\"488c65c2-8cf8-4718-aaef-aaffb9ec32a0\",\"type\":\"BasicTicker\"},{\"attributes\":{\"callback\":null,\"column_names\":[\"x\",\"y\"],\"data\":{\"x\":[0,1,2,3,4,5,6,7,8,9,10],\"y\":[10,9,8,7,6,5,4,3,2,1,0]}},\"id\":\"3936cea3-3069-4baa-afb2-82c93b180882\",\"type\":\"ColumnDataSource\"},{\"attributes\":{},\"id\":\"bb31b580-ea8f-4ef5-9ee0-fca38e3b91c5\",\"type\":\"BasicTickFormatter\"},{\"attributes\":{\"children\":[{\"id\":\"c69c77e9-3cf6-4953-bc6f-0bdeeb28ec6c\",\"type\":\"Row\"}]},\"id\":\"bc050616-8e12-456b-97d7-0b0efe6f0f01\",\"type\":\"Column\"},{\"attributes\":{\"formatter\":{\"id\":\"93ac2311-31b8-4605-8fc2-9da3af731467\",\"type\":\"BasicTickFormatter\"},\"plot\":{\"id\":\"66bdfc41-e8c5-4b17-ab89-0feaee8d34e0\",\"subtype\":\"Figure\",\"type\":\"Plot\"},\"ticker\":{\"id\":\"761d3e29-cdfb-40f3-b194-ff817d0ed1fe\",\"type\":\"BasicTicker\"}},\"id\":\"1896a6cd-57a5-4d4a-81c3-4a76ae2c765d\",\"type\":\"LinearAxis\"},{\"attributes\":{\"formatter\":{\"id\":\"a3673bce-be28-432d-bc82-9e1f2bb77a66\",\"type\":\"BasicTickFormatter\"},\"plot\":{\"id\":\"d6510652-5fe1-49a8-90b0-86c67b240394\",\"subtype\":\"Figure\",\"type\":\"Plot\"},\"ticker\":{\"id\":\"d0a00516-6f8c-4f5c-8c67-2d2a9a691aea\",\"type\":\"BasicTicker\"}},\"id\":\"55b80f12-73be-4d07-9e6d-fe0895b738a6\",\"type\":\"LinearAxis\"},{\"attributes\":{\"callback\":null},\"id\":\"e0ebe2fa-925b-40cc-8d1a-dfa148eb4b22\",\"type\":\"DataRange1d\"},{\"attributes\":{\"fill_color\":{\"value\":\"olive\"},\"line_color\":{\"value\":\"olive\"},\"size\":{\"units\":\"screen\",\"value\":10},\"x\":{\"field\":\"x\"},\"y\":{\"field\":\"y\"}},\"id\":\"8e257198-f10b-46c0-b8ea-34a0dadbfcd6\",\"type\":\"Square\"},{\"attributes\":{\"plot\":{\"id\":\"49b91206-c4e4-4988-aa9b-90dbc758015b\",\"subtype\":\"Figure\",\"type\":\"Plot\"},\"ticker\":{\"id\":\"488c65c2-8cf8-4718-aaef-aaffb9ec32a0\",\"type\":\"BasicTicker\"}},\"id\":\"8024cf97-793b-4b31-8542-f3a4386eed27\",\"type\":\"Grid\"},{\"attributes\":{},\"id\":\"d09cd89e-db96-4137-9cbe-c8d47e8bd53e\",\"type\":\"BasicTickFormatter\"},{\"attributes\":{\"active_drag\":\"auto\",\"active_inspect\":\"auto\",\"active_scroll\":\"auto\",\"active_tap\":\"auto\",\"tools\":[{\"id\":\"a9d25b70-68b7-4e6f-93ef-0cf2e5f3c72e\",\"type\":\"PanTool\"},{\"id\":\"8d48ae65-6003-45dc-985b-3ca6f3ac224c\",\"type\":\"WheelZoomTool\"}]},\"id\":\"951e91d6-5088-40ac-965f-ca245fe92f4d\",\"type\":\"Toolbar\"},{\"attributes\":{},\"id\":\"761d3e29-cdfb-40f3-b194-ff817d0ed1fe\",\"type\":\"BasicTicker\"},{\"attributes\":{\"formatter\":{\"id\":\"6cd3e94d-9c67-4d81-ac88-809526db6778\",\"type\":\"BasicTickFormatter\"},\"plot\":{\"id\":\"d6510652-5fe1-49a8-90b0-86c67b240394\",\"subtype\":\"Figure\",\"type\":\"Plot\"},\"ticker\":{\"id\":\"c06f7974-9464-4ef8-b90c-20fdfbb8f815\",\"type\":\"BasicTicker\"}},\"id\":\"be741200-c62e-4c3d-b6a0-8e458de9da7b\",\"type\":\"LinearAxis\"},{\"attributes\":{\"fill_alpha\":{\"value\":0.1},\"fill_color\":{\"value\":\"#1f77b4\"},\"line_alpha\":{\"value\":0.1},\"line_color\":{\"value\":\"#1f77b4\"},\"size\":{\"units\":\"screen\",\"value\":10},\"x\":{\"field\":\"x\"},\"y\":{\"field\":\"y\"}},\"id\":\"aa17b05d-cec2-4a65-98bb-88c55b73d04c\",\"type\":\"Triangle\"},{\"attributes\":{\"formatter\":{\"id\":\"bb31b580-ea8f-4ef5-9ee0-fca38e3b91c5\",\"type\":\"BasicTickFormatter\"},\"plot\":{\"id\":\"49b91206-c4e4-4988-aa9b-90dbc758015b\",\"subtype\":\"Figure\",\"type\":\"Plot\"},\"ticker\":{\"id\":\"488c65c2-8cf8-4718-aaef-aaffb9ec32a0\",\"type\":\"BasicTicker\"}},\"id\":\"2d8d82ba-5c5e-415e-bfb0-88b415a4408a\",\"type\":\"LinearAxis\"},{\"attributes\":{},\"id\":\"da619a7f-5eb3-4b6b-869b-bec4cda50443\",\"type\":\"BasicTickFormatter\"},{\"attributes\":{\"active_drag\":\"auto\",\"active_inspect\":\"auto\",\"active_scroll\":\"auto\",\"active_tap\":\"auto\",\"tools\":[{\"id\":\"7f25a338-187a-41e6-9828-c4ea693e9281\",\"type\":\"PanTool\"},{\"id\":\"15f831fa-b798-42d8-b132-755ea57291b1\",\"type\":\"WheelZoomTool\"}]},\"id\":\"8bce0142-3b67-4d0c-8c4e-98f89abf760d\",\"type\":\"Toolbar\"},{\"attributes\":{},\"id\":\"3f08d3db-62cb-431e-84ef-bb06c3b49d3f\",\"type\":\"LinearScale\"},{\"attributes\":{\"fill_alpha\":{\"value\":0.1},\"fill_color\":{\"value\":\"#1f77b4\"},\"line_alpha\":{\"value\":0.1},\"line_color\":{\"value\":\"#1f77b4\"},\"size\":{\"units\":\"screen\",\"value\":10},\"x\":{\"field\":\"x\"},\"y\":{\"field\":\"y\"}},\"id\":\"cfd3d927-cb14-4b34-af12-2a3450965828\",\"type\":\"Square\"},{\"attributes\":{},\"id\":\"5b71158b-a529-4aa4-b080-6fdd0a2134ff\",\"type\":\"PanTool\"},{\"attributes\":{\"plot\":null,\"text\":\"\"},\"id\":\"6f7818a0-53d6-4ede-b234-319bff4ce4a5\",\"type\":\"Title\"},{\"attributes\":{},\"id\":\"d2c690d0-a911-446b-92e9-42e98d62a776\",\"type\":\"WheelZoomTool\"},{\"attributes\":{\"children\":[{\"id\":\"d6510652-5fe1-49a8-90b0-86c67b240394\",\"subtype\":\"Figure\",\"type\":\"Plot\"},{\"id\":\"49b91206-c4e4-4988-aa9b-90dbc758015b\",\"subtype\":\"Figure\",\"type\":\"Plot\"},{\"id\":\"66bdfc41-e8c5-4b17-ab89-0feaee8d34e0\",\"subtype\":\"Figure\",\"type\":\"Plot\"}]},\"id\":\"c69c77e9-3cf6-4953-bc6f-0bdeeb28ec6c\",\"type\":\"Row\"},{\"attributes\":{},\"id\":\"b8eece39-beb4-45a5-9320-68be7073d6cf\",\"type\":\"BasicTicker\"},{\"attributes\":{\"dimension\":1,\"plot\":{\"id\":\"66bdfc41-e8c5-4b17-ab89-0feaee8d34e0\",\"subtype\":\"Figure\",\"type\":\"Plot\"},\"ticker\":{\"id\":\"b8eece39-beb4-45a5-9320-68be7073d6cf\",\"type\":\"BasicTicker\"}},\"id\":\"77c19b4b-1bf5-4806-b570-c29714d2fd63\",\"type\":\"Grid\"},{\"attributes\":{},\"id\":\"f6e7d7e5-8231-4351-b021-f126a0aafb88\",\"type\":\"LinearScale\"},{\"attributes\":{},\"id\":\"15f831fa-b798-42d8-b132-755ea57291b1\",\"type\":\"WheelZoomTool\"},{\"attributes\":{\"formatter\":{\"id\":\"d09cd89e-db96-4137-9cbe-c8d47e8bd53e\",\"type\":\"BasicTickFormatter\"},\"plot\":{\"id\":\"49b91206-c4e4-4988-aa9b-90dbc758015b\",\"subtype\":\"Figure\",\"type\":\"Plot\"},\"ticker\":{\"id\":\"14f6cd9e-731a-4b2e-a009-972e89ec4d1b\",\"type\":\"BasicTicker\"}},\"id\":\"76afd283-db9b-449d-aa49-be67954ebe8c\",\"type\":\"LinearAxis\"},{\"attributes\":{},\"id\":\"6a1150dc-9242-421c-886a-fe6fda7f992f\",\"type\":\"LinearScale\"},{\"attributes\":{\"data_source\":{\"id\":\"1e4fbf4f-6910-483f-8c70-b0f6dd44009a\",\"type\":\"ColumnDataSource\"},\"glyph\":{\"id\":\"6e75292c-056c-4ba0-b9dc-788e2eb8fe09\",\"type\":\"Circle\"},\"hover_glyph\":null,\"muted_glyph\":null,\"nonselection_glyph\":{\"id\":\"1818441f-9451-4acd-938d-8c2ac08dc5f3\",\"type\":\"Circle\"},\"selection_glyph\":null,\"view\":{\"id\":\"e8a6abb0-5f4e-49b2-a117-7fa6f84924f1\",\"type\":\"CDSView\"}},\"id\":\"a3935c99-f46b-43f6-a6bd-201a87bdafa1\",\"type\":\"GlyphRenderer\"},{\"attributes\":{},\"id\":\"c4403a7c-0425-4c68-8334-a021272bba91\",\"type\":\"LinearScale\"},{\"attributes\":{\"active_drag\":\"auto\",\"active_inspect\":\"auto\",\"active_scroll\":\"auto\",\"active_tap\":\"auto\",\"tools\":[{\"id\":\"5b71158b-a529-4aa4-b080-6fdd0a2134ff\",\"type\":\"PanTool\"},{\"id\":\"d2c690d0-a911-446b-92e9-42e98d62a776\",\"type\":\"WheelZoomTool\"}]},\"id\":\"97f289ca-cc80-43a4-a9a8-e9c9ef112d9a\",\"type\":\"Toolbar\"},{\"attributes\":{\"source\":{\"id\":\"1e4fbf4f-6910-483f-8c70-b0f6dd44009a\",\"type\":\"ColumnDataSource\"}},\"id\":\"e8a6abb0-5f4e-49b2-a117-7fa6f84924f1\",\"type\":\"CDSView\"},{\"attributes\":{\"below\":[{\"id\":\"1896a6cd-57a5-4d4a-81c3-4a76ae2c765d\",\"type\":\"LinearAxis\"}],\"left\":[{\"id\":\"32f853d7-83ab-4c1e-b6f2-310e378ea221\",\"type\":\"LinearAxis\"}],\"plot_height\":250,\"plot_width\":250,\"renderers\":[{\"id\":\"1896a6cd-57a5-4d4a-81c3-4a76ae2c765d\",\"type\":\"LinearAxis\"},{\"id\":\"43371abd-5fbc-42a2-babc-667a10540c89\",\"type\":\"Grid\"},{\"id\":\"32f853d7-83ab-4c1e-b6f2-310e378ea221\",\"type\":\"LinearAxis\"},{\"id\":\"77c19b4b-1bf5-4806-b570-c29714d2fd63\",\"type\":\"Grid\"},{\"id\":\"e88645b8-f3d5-4411-8ad4-cd4ef2ad8cf3\",\"type\":\"GlyphRenderer\"}],\"title\":{\"id\":\"5feb816a-0ebb-42b5-86ad-d12d2ba9b18e\",\"type\":\"Title\"},\"toolbar\":{\"id\":\"97f289ca-cc80-43a4-a9a8-e9c9ef112d9a\",\"type\":\"Toolbar\"},\"toolbar_location\":null,\"x_range\":{\"id\":\"39c1aa94-c815-41ee-9413-9a5c1049156d\",\"type\":\"DataRange1d\"},\"x_scale\":{\"id\":\"6a1150dc-9242-421c-886a-fe6fda7f992f\",\"type\":\"LinearScale\"},\"y_range\":{\"id\":\"fd0847ff-5346-43b1-816c-10ed4c3c9d76\",\"type\":\"DataRange1d\"},\"y_scale\":{\"id\":\"3cbaf035-3f2f-45d5-9bce-fb25b3310ac4\",\"type\":\"LinearScale\"}},\"id\":\"66bdfc41-e8c5-4b17-ab89-0feaee8d34e0\",\"subtype\":\"Figure\",\"type\":\"Plot\"},{\"attributes\":{},\"id\":\"c06f7974-9464-4ef8-b90c-20fdfbb8f815\",\"type\":\"BasicTicker\"},{\"attributes\":{\"plot\":null,\"text\":\"\"},\"id\":\"5feb816a-0ebb-42b5-86ad-d12d2ba9b18e\",\"type\":\"Title\"},{\"attributes\":{\"callback\":null},\"id\":\"fd0847ff-5346-43b1-816c-10ed4c3c9d76\",\"type\":\"DataRange1d\"},{\"attributes\":{\"fill_alpha\":{\"value\":0.1},\"fill_color\":{\"value\":\"#1f77b4\"},\"line_alpha\":{\"value\":0.1},\"line_color\":{\"value\":\"#1f77b4\"},\"size\":{\"units\":\"screen\",\"value\":10},\"x\":{\"field\":\"x\"},\"y\":{\"field\":\"y\"}},\"id\":\"1818441f-9451-4acd-938d-8c2ac08dc5f3\",\"type\":\"Circle\"},{\"attributes\":{\"fill_color\":{\"value\":\"navy\"},\"line_color\":{\"value\":\"navy\"},\"size\":{\"units\":\"screen\",\"value\":10},\"x\":{\"field\":\"x\"},\"y\":{\"field\":\"y\"}},\"id\":\"6e75292c-056c-4ba0-b9dc-788e2eb8fe09\",\"type\":\"Circle\"},{\"attributes\":{\"dimension\":1,\"plot\":{\"id\":\"d6510652-5fe1-49a8-90b0-86c67b240394\",\"subtype\":\"Figure\",\"type\":\"Plot\"},\"ticker\":{\"id\":\"c06f7974-9464-4ef8-b90c-20fdfbb8f815\",\"type\":\"BasicTicker\"}},\"id\":\"b7541a39-cd7b-4272-a036-b83e0245cd6e\",\"type\":\"Grid\"},{\"attributes\":{},\"id\":\"d0a00516-6f8c-4f5c-8c67-2d2a9a691aea\",\"type\":\"BasicTicker\"},{\"attributes\":{},\"id\":\"a3673bce-be28-432d-bc82-9e1f2bb77a66\",\"type\":\"BasicTickFormatter\"},{\"attributes\":{\"callback\":null,\"column_names\":[\"x\",\"y\"],\"data\":{\"x\":[0,1,2,3,4,5,6,7,8,9,10],\"y\":[5,4,3,2,1,0,1,2,3,4,5]}},\"id\":\"29fa3db7-ecd3-4251-a83b-5e3051ca6e81\",\"type\":\"ColumnDataSource\"},{\"attributes\":{},\"id\":\"3cbaf035-3f2f-45d5-9bce-fb25b3310ac4\",\"type\":\"LinearScale\"},{\"attributes\":{\"children\":[{\"id\":\"62da356a-5f7e-4fc9-b9ad-3ca43a54f001\",\"type\":\"ToolbarBox\"},{\"id\":\"bc050616-8e12-456b-97d7-0b0efe6f0f01\",\"type\":\"Column\"}]},\"id\":\"0863711c-e4a7-42ef-8175-9dadc46d98d2\",\"type\":\"Column\"},{\"attributes\":{},\"id\":\"7f25a338-187a-41e6-9828-c4ea693e9281\",\"type\":\"PanTool\"},{\"attributes\":{\"plot\":null,\"text\":\"\"},\"id\":\"004eec50-c59e-45c3-9ad3-7222cc63f9f4\",\"type\":\"Title\"},{\"attributes\":{\"sizing_mode\":\"scale_width\",\"toolbar_location\":\"above\",\"tools\":[{\"id\":\"a9d25b70-68b7-4e6f-93ef-0cf2e5f3c72e\",\"type\":\"PanTool\"},{\"id\":\"8d48ae65-6003-45dc-985b-3ca6f3ac224c\",\"type\":\"WheelZoomTool\"},{\"id\":\"7f25a338-187a-41e6-9828-c4ea693e9281\",\"type\":\"PanTool\"},{\"id\":\"15f831fa-b798-42d8-b132-755ea57291b1\",\"type\":\"WheelZoomTool\"},{\"id\":\"5b71158b-a529-4aa4-b080-6fdd0a2134ff\",\"type\":\"PanTool\"},{\"id\":\"d2c690d0-a911-446b-92e9-42e98d62a776\",\"type\":\"WheelZoomTool\"}]},\"id\":\"62da356a-5f7e-4fc9-b9ad-3ca43a54f001\",\"type\":\"ToolbarBox\"},{\"attributes\":{\"data_source\":{\"id\":\"3936cea3-3069-4baa-afb2-82c93b180882\",\"type\":\"ColumnDataSource\"},\"glyph\":{\"id\":\"f0070cc8-19ce-4064-a56a-1010db990428\",\"type\":\"Triangle\"},\"hover_glyph\":null,\"muted_glyph\":null,\"nonselection_glyph\":{\"id\":\"aa17b05d-cec2-4a65-98bb-88c55b73d04c\",\"type\":\"Triangle\"},\"selection_glyph\":null,\"view\":{\"id\":\"96a02508-3ff0-4741-b2e7-1bc8875510c2\",\"type\":\"CDSView\"}},\"id\":\"896678a1-e547-4bd6-bfe3-309b6f295283\",\"type\":\"GlyphRenderer\"},{\"attributes\":{\"formatter\":{\"id\":\"da619a7f-5eb3-4b6b-869b-bec4cda50443\",\"type\":\"BasicTickFormatter\"},\"plot\":{\"id\":\"66bdfc41-e8c5-4b17-ab89-0feaee8d34e0\",\"subtype\":\"Figure\",\"type\":\"Plot\"},\"ticker\":{\"id\":\"b8eece39-beb4-45a5-9320-68be7073d6cf\",\"type\":\"BasicTicker\"}},\"id\":\"32f853d7-83ab-4c1e-b6f2-310e378ea221\",\"type\":\"LinearAxis\"},{\"attributes\":{\"source\":{\"id\":\"3936cea3-3069-4baa-afb2-82c93b180882\",\"type\":\"ColumnDataSource\"}},\"id\":\"96a02508-3ff0-4741-b2e7-1bc8875510c2\",\"type\":\"CDSView\"},{\"attributes\":{},\"id\":\"93ac2311-31b8-4605-8fc2-9da3af731467\",\"type\":\"BasicTickFormatter\"},{\"attributes\":{\"plot\":{\"id\":\"66bdfc41-e8c5-4b17-ab89-0feaee8d34e0\",\"subtype\":\"Figure\",\"type\":\"Plot\"},\"ticker\":{\"id\":\"761d3e29-cdfb-40f3-b194-ff817d0ed1fe\",\"type\":\"BasicTicker\"}},\"id\":\"43371abd-5fbc-42a2-babc-667a10540c89\",\"type\":\"Grid\"},{\"attributes\":{},\"id\":\"6cd3e94d-9c67-4d81-ac88-809526db6778\",\"type\":\"BasicTickFormatter\"},{\"attributes\":{\"plot\":{\"id\":\"d6510652-5fe1-49a8-90b0-86c67b240394\",\"subtype\":\"Figure\",\"type\":\"Plot\"},\"ticker\":{\"id\":\"d0a00516-6f8c-4f5c-8c67-2d2a9a691aea\",\"type\":\"BasicTicker\"}},\"id\":\"07b789b4-04b2-4652-b343-7ed37001f22b\",\"type\":\"Grid\"},{\"attributes\":{},\"id\":\"4cf72b05-108d-468b-860b-283dbd6d303c\",\"type\":\"LinearScale\"},{\"attributes\":{\"fill_color\":{\"value\":\"firebrick\"},\"line_color\":{\"value\":\"firebrick\"},\"size\":{\"units\":\"screen\",\"value\":10},\"x\":{\"field\":\"x\"},\"y\":{\"field\":\"y\"}},\"id\":\"f0070cc8-19ce-4064-a56a-1010db990428\",\"type\":\"Triangle\"},{\"attributes\":{\"below\":[{\"id\":\"55b80f12-73be-4d07-9e6d-fe0895b738a6\",\"type\":\"LinearAxis\"}],\"left\":[{\"id\":\"be741200-c62e-4c3d-b6a0-8e458de9da7b\",\"type\":\"LinearAxis\"}],\"plot_height\":250,\"plot_width\":250,\"renderers\":[{\"id\":\"55b80f12-73be-4d07-9e6d-fe0895b738a6\",\"type\":\"LinearAxis\"},{\"id\":\"07b789b4-04b2-4652-b343-7ed37001f22b\",\"type\":\"Grid\"},{\"id\":\"be741200-c62e-4c3d-b6a0-8e458de9da7b\",\"type\":\"LinearAxis\"},{\"id\":\"b7541a39-cd7b-4272-a036-b83e0245cd6e\",\"type\":\"Grid\"},{\"id\":\"a3935c99-f46b-43f6-a6bd-201a87bdafa1\",\"type\":\"GlyphRenderer\"}],\"title\":{\"id\":\"004eec50-c59e-45c3-9ad3-7222cc63f9f4\",\"type\":\"Title\"},\"toolbar\":{\"id\":\"951e91d6-5088-40ac-965f-ca245fe92f4d\",\"type\":\"Toolbar\"},\"toolbar_location\":null,\"x_range\":{\"id\":\"39c1aa94-c815-41ee-9413-9a5c1049156d\",\"type\":\"DataRange1d\"},\"x_scale\":{\"id\":\"4cf72b05-108d-468b-860b-283dbd6d303c\",\"type\":\"LinearScale\"},\"y_range\":{\"id\":\"e0ebe2fa-925b-40cc-8d1a-dfa148eb4b22\",\"type\":\"DataRange1d\"},\"y_scale\":{\"id\":\"c4403a7c-0425-4c68-8334-a021272bba91\",\"type\":\"LinearScale\"}},\"id\":\"d6510652-5fe1-49a8-90b0-86c67b240394\",\"subtype\":\"Figure\",\"type\":\"Plot\"},{\"attributes\":{\"callback\":null},\"id\":\"39c1aa94-c815-41ee-9413-9a5c1049156d\",\"type\":\"DataRange1d\"}],\"root_ids\":[\"0863711c-e4a7-42ef-8175-9dadc46d98d2\"]},\"title\":\"Bokeh Application\",\"version\":\"0.12.10\"}};\n",
       "    var render_items = [{\"docid\":\"6da530a4-9a3e-4fc2-833e-cfb15d7f2415\",\"elementid\":\"6c962b12-5122-4a9d-a67f-2e13883fdcd4\",\"modelid\":\"0863711c-e4a7-42ef-8175-9dadc46d98d2\"}];\n",
       "\n",
       "    root.Bokeh.embed.embed_items(docs_json, render_items);\n",
       "  }\n",
       "\n",
       "  if (root.Bokeh !== undefined) {\n",
       "    embed_document(root);\n",
       "  } else {\n",
       "    var attempts = 0;\n",
       "    var timer = setInterval(function(root) {\n",
       "      if (root.Bokeh !== undefined) {\n",
       "        embed_document(root);\n",
       "        clearInterval(timer);\n",
       "      }\n",
       "      attempts++;\n",
       "      if (attempts > 100) {\n",
       "        console.log(\"Bokeh: ERROR: Unable to embed document because BokehJS library is missing\")\n",
       "        clearInterval(timer);\n",
       "      }\n",
       "    }, 10, root)\n",
       "  }\n",
       "})(window);"
      ],
      "application/vnd.bokehjs_exec.v0+json": ""
     },
     "metadata": {
      "application/vnd.bokehjs_exec.v0+json": {
       "id": "0863711c-e4a7-42ef-8175-9dadc46d98d2"
      }
     },
     "output_type": "display_data"
    }
   ],
   "source": [
    "from bokeh.layouts import gridplot\n",
    "\n",
    "x = list(range(11))\n",
    "y0, y1, y2 = x, [10-i for i in x], [abs(i-5) for i in x]\n",
    "\n",
    "plot_options = dict(width=250, plot_height=250, tools='pan,wheel_zoom')\n",
    "\n",
    "# create a new plot\n",
    "s1 = figure(**plot_options)\n",
    "s1.circle(x, y0, size=10, color=\"navy\")\n",
    "\n",
    "# create a new plot and share both ranges\n",
    "s2 = figure(x_range=s1.x_range, y_range=s1.y_range, **plot_options)\n",
    "s2.triangle(x, y1, size=10, color=\"firebrick\")\n",
    "\n",
    "# create a new plot and share only one range\n",
    "s3 = figure(x_range=s1.x_range, **plot_options)\n",
    "s3.square(x, y2, size=10, color=\"olive\")\n",
    "\n",
    "p = gridplot([[s1, s2, s3]])\n",
    "\n",
    "# show the results\n",
    "show(p)"
   ]
  },
  {
   "cell_type": "code",
   "execution_count": 3,
   "metadata": {
    "collapsed": true
   },
   "outputs": [],
   "source": [
    "# EXERCISE: create two plots in a gridplot, and link their ranges\n"
   ]
  },
  {
   "cell_type": "markdown",
   "metadata": {},
   "source": [
    "## Linked brushing\n",
    "\n",
    "Linking selections is accomplished in a similar way, by sharing data sources between plots. Note that normally with ``bokeh.plotting`` and ``bokeh.charts`` creating a default data source for simple plots is handled automatically. However to share a data source, we must create them by hand and pass them explicitly. This is illustrated in the example below:"
   ]
  },
  {
   "cell_type": "code",
   "execution_count": 7,
   "metadata": {},
   "outputs": [
    {
     "data": {
      "text/html": [
       "\n",
       "<div class=\"bk-root\">\n",
       "    <div class=\"bk-plotdiv\" id=\"c8e0bb1b-4632-4b64-850e-613fc25df5f3\"></div>\n",
       "</div>"
      ]
     },
     "metadata": {},
     "output_type": "display_data"
    },
    {
     "data": {
      "application/javascript": [
       "(function(root) {\n",
       "  function embed_document(root) {\n",
       "    var docs_json = {\"cdeabf4f-1412-44ac-b9f6-fc4e9bc520a4\":{\"roots\":{\"references\":[{\"attributes\":{},\"id\":\"e752cee4-a75d-4681-a0f7-1a99c42f6d80\",\"type\":\"BasicTickFormatter\"},{\"attributes\":{\"fill_alpha\":{\"value\":0.5},\"fill_color\":{\"value\":\"lightgrey\"},\"level\":\"overlay\",\"line_alpha\":{\"value\":1.0},\"line_color\":{\"value\":\"black\"},\"line_dash\":[4,4],\"line_width\":{\"value\":2},\"plot\":null,\"xs_units\":\"screen\",\"ys_units\":\"screen\"},\"id\":\"9e875ee3-79b7-42e0-8334-f384724de71e\",\"type\":\"PolyAnnotation\"},{\"attributes\":{\"fill_alpha\":{\"value\":0.5},\"fill_color\":{\"value\":\"lightgrey\"},\"level\":\"overlay\",\"line_alpha\":{\"value\":1.0},\"line_color\":{\"value\":\"black\"},\"line_dash\":[4,4],\"line_width\":{\"value\":2},\"plot\":null,\"xs_units\":\"screen\",\"ys_units\":\"screen\"},\"id\":\"41527765-b3fa-46d3-90e5-a5eaba43de28\",\"type\":\"PolyAnnotation\"},{\"attributes\":{\"active_drag\":\"auto\",\"active_inspect\":\"auto\",\"active_scroll\":\"auto\",\"active_tap\":\"auto\",\"tools\":[{\"id\":\"e09d6d93-728a-401c-83c4-d1aab05fdac1\",\"type\":\"BoxSelectTool\"},{\"id\":\"1ae39d83-c523-405d-885f-277f762b429c\",\"type\":\"LassoSelectTool\"},{\"id\":\"aeba35a9-8295-4ced-913f-66815af1ea33\",\"type\":\"HelpTool\"}]},\"id\":\"916026b9-3862-42f8-8332-aeb83d35ab54\",\"type\":\"Toolbar\"},{\"attributes\":{},\"id\":\"40e0cdb1-70f9-4f03-ab54-f964255cf9bf\",\"type\":\"LinearScale\"},{\"attributes\":{\"dimension\":1,\"plot\":{\"id\":\"6eb0457c-ef17-40c0-b3ed-ebad78264f49\",\"subtype\":\"Figure\",\"type\":\"Plot\"},\"ticker\":{\"id\":\"56f996d5-99fb-4383-ae5a-c5de32d16b44\",\"type\":\"BasicTicker\"}},\"id\":\"f8bdd99c-a1c7-4ba3-88f9-ab423159804e\",\"type\":\"Grid\"},{\"attributes\":{\"fill_color\":{\"value\":\"#1f77b4\"},\"line_color\":{\"value\":\"#1f77b4\"},\"x\":{\"field\":\"x\"},\"y\":{\"field\":\"y1\"}},\"id\":\"02198845-99be-4b2a-9ed5-1d553cf74847\",\"type\":\"Circle\"},{\"attributes\":{},\"id\":\"649a3f35-f653-451b-9f45-6ebb7a12d243\",\"type\":\"LinearScale\"},{\"attributes\":{\"callback\":null,\"overlay\":{\"id\":\"9e875ee3-79b7-42e0-8334-f384724de71e\",\"type\":\"PolyAnnotation\"}},\"id\":\"1ae39d83-c523-405d-885f-277f762b429c\",\"type\":\"LassoSelectTool\"},{\"attributes\":{\"formatter\":{\"id\":\"5e2956f2-1f47-4216-bfa0-0be172bae1cb\",\"type\":\"BasicTickFormatter\"},\"plot\":{\"id\":\"47fe5865-6045-4a47-b10e-c4a8e19ce828\",\"subtype\":\"Figure\",\"type\":\"Plot\"},\"ticker\":{\"id\":\"e828c36d-bbbc-4fb8-92b6-d6f175427a52\",\"type\":\"BasicTicker\"}},\"id\":\"faee9354-0a53-4cc9-8a9c-7ec409c31b3f\",\"type\":\"LinearAxis\"},{\"attributes\":{\"formatter\":{\"id\":\"c7a1116d-655d-4eac-9602-b5286e919c7f\",\"type\":\"BasicTickFormatter\"},\"plot\":{\"id\":\"6eb0457c-ef17-40c0-b3ed-ebad78264f49\",\"subtype\":\"Figure\",\"type\":\"Plot\"},\"ticker\":{\"id\":\"d1031e25-37b6-4c9b-913d-ade94cd7e0e8\",\"type\":\"BasicTicker\"}},\"id\":\"b678a0be-7977-4a97-a425-75548a62a8f4\",\"type\":\"LinearAxis\"},{\"attributes\":{\"plot\":null,\"text\":\"\"},\"id\":\"73fa7c2b-74e6-4876-9aa9-a37e25ca0b02\",\"type\":\"Title\"},{\"attributes\":{\"callback\":null,\"column_names\":[\"y1\",\"y0\",\"x\"],\"data\":{\"x\":[-20,-19,-18,-17,-16,-15,-14,-13,-12,-11,-10,-9,-8,-7,-6,-5,-4,-3,-2,-1,0,1,2,3,4,5,6,7,8,9,10,11,12,13,14,15,16,17,18,19,20],\"y0\":[20,19,18,17,16,15,14,13,12,11,10,9,8,7,6,5,4,3,2,1,0,1,2,3,4,5,6,7,8,9,10,11,12,13,14,15,16,17,18,19,20],\"y1\":[400,361,324,289,256,225,196,169,144,121,100,81,64,49,36,25,16,9,4,1,0,1,4,9,16,25,36,49,64,81,100,121,144,169,196,225,256,289,324,361,400]}},\"id\":\"56e66775-5fcc-45c0-8fd9-859cfe73406b\",\"type\":\"ColumnDataSource\"},{\"attributes\":{\"bottom_units\":\"screen\",\"fill_alpha\":{\"value\":0.5},\"fill_color\":{\"value\":\"lightgrey\"},\"left_units\":\"screen\",\"level\":\"overlay\",\"line_alpha\":{\"value\":1.0},\"line_color\":{\"value\":\"black\"},\"line_dash\":[4,4],\"line_width\":{\"value\":2},\"plot\":null,\"render_mode\":\"css\",\"right_units\":\"screen\",\"top_units\":\"screen\"},\"id\":\"70b2cafb-1997-4bb5-a567-a9aa64e5d355\",\"type\":\"BoxAnnotation\"},{\"attributes\":{\"data_source\":{\"id\":\"56e66775-5fcc-45c0-8fd9-859cfe73406b\",\"type\":\"ColumnDataSource\"},\"glyph\":{\"id\":\"02198845-99be-4b2a-9ed5-1d553cf74847\",\"type\":\"Circle\"},\"hover_glyph\":null,\"muted_glyph\":null,\"nonselection_glyph\":{\"id\":\"eb9281e6-35c4-487b-af14-0bb59967f32d\",\"type\":\"Circle\"},\"selection_glyph\":null,\"view\":{\"id\":\"a2df423a-dc37-4fa9-b7a7-7928b3d7558c\",\"type\":\"CDSView\"}},\"id\":\"0ca30145-2a2f-4157-bfc2-74a490d20e92\",\"type\":\"GlyphRenderer\"},{\"attributes\":{\"data_source\":{\"id\":\"56e66775-5fcc-45c0-8fd9-859cfe73406b\",\"type\":\"ColumnDataSource\"},\"glyph\":{\"id\":\"5d249d05-bdd0-49b1-9c98-1669cbdd7160\",\"type\":\"Circle\"},\"hover_glyph\":null,\"muted_glyph\":null,\"nonselection_glyph\":{\"id\":\"a8b7fce9-3a00-47fb-9f5c-01d2cfac1355\",\"type\":\"Circle\"},\"selection_glyph\":null,\"view\":{\"id\":\"d5bb6063-5f1d-42b0-8f37-d396fe47c24c\",\"type\":\"CDSView\"}},\"id\":\"545ca232-f470-4b48-889c-f2f0e7a7f8ac\",\"type\":\"GlyphRenderer\"},{\"attributes\":{},\"id\":\"f18fdaca-04cc-40a6-ae15-e1b208e875b9\",\"type\":\"HelpTool\"},{\"attributes\":{},\"id\":\"003bdfa4-bdb2-4248-a3e0-8068b293a96b\",\"type\":\"BasicTicker\"},{\"attributes\":{\"children\":[{\"id\":\"c712a04a-e1d2-4098-a652-ca2af06a2ede\",\"type\":\"Row\"}]},\"id\":\"e4a4cf41-801a-450c-96ea-01a455b3bc2e\",\"type\":\"Column\"},{\"attributes\":{\"sizing_mode\":\"scale_width\",\"toolbar_location\":\"above\",\"tools\":[{\"id\":\"e09d6d93-728a-401c-83c4-d1aab05fdac1\",\"type\":\"BoxSelectTool\"},{\"id\":\"1ae39d83-c523-405d-885f-277f762b429c\",\"type\":\"LassoSelectTool\"},{\"id\":\"aeba35a9-8295-4ced-913f-66815af1ea33\",\"type\":\"HelpTool\"},{\"id\":\"c4e03e41-f34e-4f2f-890f-64aa19973501\",\"type\":\"BoxSelectTool\"},{\"id\":\"8d2ca0ed-d5c8-46cb-a7ab-466530fbcfd6\",\"type\":\"LassoSelectTool\"},{\"id\":\"f18fdaca-04cc-40a6-ae15-e1b208e875b9\",\"type\":\"HelpTool\"}]},\"id\":\"f38adf5a-4cd6-4d77-9e46-496c06d63468\",\"type\":\"ToolbarBox\"},{\"attributes\":{\"callback\":null},\"id\":\"069d9270-a22b-435c-b582-d6085e3e959b\",\"type\":\"DataRange1d\"},{\"attributes\":{\"plot\":{\"id\":\"47fe5865-6045-4a47-b10e-c4a8e19ce828\",\"subtype\":\"Figure\",\"type\":\"Plot\"},\"ticker\":{\"id\":\"e828c36d-bbbc-4fb8-92b6-d6f175427a52\",\"type\":\"BasicTicker\"}},\"id\":\"df7dbbd2-087f-4400-ac30-f2cfd2eb9127\",\"type\":\"Grid\"},{\"attributes\":{\"callback\":null},\"id\":\"c64f2a20-66a9-44e5-b8d2-ed529446193e\",\"type\":\"DataRange1d\"},{\"attributes\":{\"fill_alpha\":{\"value\":0.1},\"fill_color\":{\"value\":\"#1f77b4\"},\"line_alpha\":{\"value\":0.1},\"line_color\":{\"value\":\"#1f77b4\"},\"x\":{\"field\":\"x\"},\"y\":{\"field\":\"y0\"}},\"id\":\"a8b7fce9-3a00-47fb-9f5c-01d2cfac1355\",\"type\":\"Circle\"},{\"attributes\":{\"children\":[{\"id\":\"f38adf5a-4cd6-4d77-9e46-496c06d63468\",\"type\":\"ToolbarBox\"},{\"id\":\"e4a4cf41-801a-450c-96ea-01a455b3bc2e\",\"type\":\"Column\"}]},\"id\":\"759f23fa-fc30-42e6-8b8b-9dceb2d2062e\",\"type\":\"Column\"},{\"attributes\":{\"fill_color\":{\"value\":\"#1f77b4\"},\"line_color\":{\"value\":\"#1f77b4\"},\"x\":{\"field\":\"x\"},\"y\":{\"field\":\"y0\"}},\"id\":\"5d249d05-bdd0-49b1-9c98-1669cbdd7160\",\"type\":\"Circle\"},{\"attributes\":{},\"id\":\"aeba35a9-8295-4ced-913f-66815af1ea33\",\"type\":\"HelpTool\"},{\"attributes\":{\"formatter\":{\"id\":\"87759656-dfc0-4e03-9e0d-e18874244c64\",\"type\":\"BasicTickFormatter\"},\"plot\":{\"id\":\"47fe5865-6045-4a47-b10e-c4a8e19ce828\",\"subtype\":\"Figure\",\"type\":\"Plot\"},\"ticker\":{\"id\":\"003bdfa4-bdb2-4248-a3e0-8068b293a96b\",\"type\":\"BasicTicker\"}},\"id\":\"c505a524-3b5e-4985-bb7b-a1fa3e8573a1\",\"type\":\"LinearAxis\"},{\"attributes\":{\"plot\":null,\"text\":\"\"},\"id\":\"700ab4ce-dfb1-4d11-a311-63c353662ca5\",\"type\":\"Title\"},{\"attributes\":{},\"id\":\"c7a1116d-655d-4eac-9602-b5286e919c7f\",\"type\":\"BasicTickFormatter\"},{\"attributes\":{\"callback\":null,\"overlay\":{\"id\":\"41527765-b3fa-46d3-90e5-a5eaba43de28\",\"type\":\"PolyAnnotation\"}},\"id\":\"8d2ca0ed-d5c8-46cb-a7ab-466530fbcfd6\",\"type\":\"LassoSelectTool\"},{\"attributes\":{},\"id\":\"e828c36d-bbbc-4fb8-92b6-d6f175427a52\",\"type\":\"BasicTicker\"},{\"attributes\":{\"dimension\":1,\"plot\":{\"id\":\"47fe5865-6045-4a47-b10e-c4a8e19ce828\",\"subtype\":\"Figure\",\"type\":\"Plot\"},\"ticker\":{\"id\":\"003bdfa4-bdb2-4248-a3e0-8068b293a96b\",\"type\":\"BasicTicker\"}},\"id\":\"a9f8f750-d194-4590-bddc-a729b61fe094\",\"type\":\"Grid\"},{\"attributes\":{\"source\":{\"id\":\"56e66775-5fcc-45c0-8fd9-859cfe73406b\",\"type\":\"ColumnDataSource\"}},\"id\":\"d5bb6063-5f1d-42b0-8f37-d396fe47c24c\",\"type\":\"CDSView\"},{\"attributes\":{\"callback\":null},\"id\":\"de984e95-e8a8-4707-9424-f65ebde27d3f\",\"type\":\"DataRange1d\"},{\"attributes\":{\"below\":[{\"id\":\"faee9354-0a53-4cc9-8a9c-7ec409c31b3f\",\"type\":\"LinearAxis\"}],\"left\":[{\"id\":\"c505a524-3b5e-4985-bb7b-a1fa3e8573a1\",\"type\":\"LinearAxis\"}],\"plot_height\":300,\"plot_width\":300,\"renderers\":[{\"id\":\"faee9354-0a53-4cc9-8a9c-7ec409c31b3f\",\"type\":\"LinearAxis\"},{\"id\":\"df7dbbd2-087f-4400-ac30-f2cfd2eb9127\",\"type\":\"Grid\"},{\"id\":\"c505a524-3b5e-4985-bb7b-a1fa3e8573a1\",\"type\":\"LinearAxis\"},{\"id\":\"a9f8f750-d194-4590-bddc-a729b61fe094\",\"type\":\"Grid\"},{\"id\":\"70b2cafb-1997-4bb5-a567-a9aa64e5d355\",\"type\":\"BoxAnnotation\"},{\"id\":\"41527765-b3fa-46d3-90e5-a5eaba43de28\",\"type\":\"PolyAnnotation\"},{\"id\":\"0ca30145-2a2f-4157-bfc2-74a490d20e92\",\"type\":\"GlyphRenderer\"}],\"title\":{\"id\":\"700ab4ce-dfb1-4d11-a311-63c353662ca5\",\"type\":\"Title\"},\"toolbar\":{\"id\":\"84bbec10-c025-4875-a7f9-1a95c7d2b3c8\",\"type\":\"Toolbar\"},\"toolbar_location\":null,\"x_range\":{\"id\":\"5687e3fd-bb27-4fce-9dfe-befa16526f9b\",\"type\":\"DataRange1d\"},\"x_scale\":{\"id\":\"a78ba5ca-e91a-4c9b-8550-244ddebaffc7\",\"type\":\"LinearScale\"},\"y_range\":{\"id\":\"de984e95-e8a8-4707-9424-f65ebde27d3f\",\"type\":\"DataRange1d\"},\"y_scale\":{\"id\":\"a48027e1-5f34-4905-b33c-ab0ddc03adab\",\"type\":\"LinearScale\"}},\"id\":\"47fe5865-6045-4a47-b10e-c4a8e19ce828\",\"subtype\":\"Figure\",\"type\":\"Plot\"},{\"attributes\":{\"below\":[{\"id\":\"b678a0be-7977-4a97-a425-75548a62a8f4\",\"type\":\"LinearAxis\"}],\"left\":[{\"id\":\"43fb6cc9-f62c-437c-952b-6d0ced4fa097\",\"type\":\"LinearAxis\"}],\"plot_height\":300,\"plot_width\":300,\"renderers\":[{\"id\":\"b678a0be-7977-4a97-a425-75548a62a8f4\",\"type\":\"LinearAxis\"},{\"id\":\"7827b682-aa2a-4d84-bd5d-ae17b4a2cead\",\"type\":\"Grid\"},{\"id\":\"43fb6cc9-f62c-437c-952b-6d0ced4fa097\",\"type\":\"LinearAxis\"},{\"id\":\"f8bdd99c-a1c7-4ba3-88f9-ab423159804e\",\"type\":\"Grid\"},{\"id\":\"51380557-e02d-4f47-87da-2a81cbada3aa\",\"type\":\"BoxAnnotation\"},{\"id\":\"9e875ee3-79b7-42e0-8334-f384724de71e\",\"type\":\"PolyAnnotation\"},{\"id\":\"545ca232-f470-4b48-889c-f2f0e7a7f8ac\",\"type\":\"GlyphRenderer\"}],\"title\":{\"id\":\"73fa7c2b-74e6-4876-9aa9-a37e25ca0b02\",\"type\":\"Title\"},\"toolbar\":{\"id\":\"916026b9-3862-42f8-8332-aeb83d35ab54\",\"type\":\"Toolbar\"},\"toolbar_location\":null,\"x_range\":{\"id\":\"069d9270-a22b-435c-b582-d6085e3e959b\",\"type\":\"DataRange1d\"},\"x_scale\":{\"id\":\"40e0cdb1-70f9-4f03-ab54-f964255cf9bf\",\"type\":\"LinearScale\"},\"y_range\":{\"id\":\"c64f2a20-66a9-44e5-b8d2-ed529446193e\",\"type\":\"DataRange1d\"},\"y_scale\":{\"id\":\"649a3f35-f653-451b-9f45-6ebb7a12d243\",\"type\":\"LinearScale\"}},\"id\":\"6eb0457c-ef17-40c0-b3ed-ebad78264f49\",\"subtype\":\"Figure\",\"type\":\"Plot\"},{\"attributes\":{\"plot\":{\"id\":\"6eb0457c-ef17-40c0-b3ed-ebad78264f49\",\"subtype\":\"Figure\",\"type\":\"Plot\"},\"ticker\":{\"id\":\"d1031e25-37b6-4c9b-913d-ade94cd7e0e8\",\"type\":\"BasicTicker\"}},\"id\":\"7827b682-aa2a-4d84-bd5d-ae17b4a2cead\",\"type\":\"Grid\"},{\"attributes\":{\"children\":[{\"id\":\"6eb0457c-ef17-40c0-b3ed-ebad78264f49\",\"subtype\":\"Figure\",\"type\":\"Plot\"},{\"id\":\"47fe5865-6045-4a47-b10e-c4a8e19ce828\",\"subtype\":\"Figure\",\"type\":\"Plot\"}]},\"id\":\"c712a04a-e1d2-4098-a652-ca2af06a2ede\",\"type\":\"Row\"},{\"attributes\":{},\"id\":\"d1031e25-37b6-4c9b-913d-ade94cd7e0e8\",\"type\":\"BasicTicker\"},{\"attributes\":{\"source\":{\"id\":\"56e66775-5fcc-45c0-8fd9-859cfe73406b\",\"type\":\"ColumnDataSource\"}},\"id\":\"a2df423a-dc37-4fa9-b7a7-7928b3d7558c\",\"type\":\"CDSView\"},{\"attributes\":{},\"id\":\"5e2956f2-1f47-4216-bfa0-0be172bae1cb\",\"type\":\"BasicTickFormatter\"},{\"attributes\":{\"fill_alpha\":{\"value\":0.1},\"fill_color\":{\"value\":\"#1f77b4\"},\"line_alpha\":{\"value\":0.1},\"line_color\":{\"value\":\"#1f77b4\"},\"x\":{\"field\":\"x\"},\"y\":{\"field\":\"y1\"}},\"id\":\"eb9281e6-35c4-487b-af14-0bb59967f32d\",\"type\":\"Circle\"},{\"attributes\":{},\"id\":\"a78ba5ca-e91a-4c9b-8550-244ddebaffc7\",\"type\":\"LinearScale\"},{\"attributes\":{\"callback\":null,\"overlay\":{\"id\":\"70b2cafb-1997-4bb5-a567-a9aa64e5d355\",\"type\":\"BoxAnnotation\"},\"renderers\":[{\"id\":\"0ca30145-2a2f-4157-bfc2-74a490d20e92\",\"type\":\"GlyphRenderer\"}]},\"id\":\"c4e03e41-f34e-4f2f-890f-64aa19973501\",\"type\":\"BoxSelectTool\"},{\"attributes\":{\"formatter\":{\"id\":\"e752cee4-a75d-4681-a0f7-1a99c42f6d80\",\"type\":\"BasicTickFormatter\"},\"plot\":{\"id\":\"6eb0457c-ef17-40c0-b3ed-ebad78264f49\",\"subtype\":\"Figure\",\"type\":\"Plot\"},\"ticker\":{\"id\":\"56f996d5-99fb-4383-ae5a-c5de32d16b44\",\"type\":\"BasicTicker\"}},\"id\":\"43fb6cc9-f62c-437c-952b-6d0ced4fa097\",\"type\":\"LinearAxis\"},{\"attributes\":{},\"id\":\"a48027e1-5f34-4905-b33c-ab0ddc03adab\",\"type\":\"LinearScale\"},{\"attributes\":{\"callback\":null},\"id\":\"5687e3fd-bb27-4fce-9dfe-befa16526f9b\",\"type\":\"DataRange1d\"},{\"attributes\":{\"active_drag\":\"auto\",\"active_inspect\":\"auto\",\"active_scroll\":\"auto\",\"active_tap\":\"auto\",\"tools\":[{\"id\":\"c4e03e41-f34e-4f2f-890f-64aa19973501\",\"type\":\"BoxSelectTool\"},{\"id\":\"8d2ca0ed-d5c8-46cb-a7ab-466530fbcfd6\",\"type\":\"LassoSelectTool\"},{\"id\":\"f18fdaca-04cc-40a6-ae15-e1b208e875b9\",\"type\":\"HelpTool\"}]},\"id\":\"84bbec10-c025-4875-a7f9-1a95c7d2b3c8\",\"type\":\"Toolbar\"},{\"attributes\":{},\"id\":\"56f996d5-99fb-4383-ae5a-c5de32d16b44\",\"type\":\"BasicTicker\"},{\"attributes\":{},\"id\":\"87759656-dfc0-4e03-9e0d-e18874244c64\",\"type\":\"BasicTickFormatter\"},{\"attributes\":{\"bottom_units\":\"screen\",\"fill_alpha\":{\"value\":0.5},\"fill_color\":{\"value\":\"lightgrey\"},\"left_units\":\"screen\",\"level\":\"overlay\",\"line_alpha\":{\"value\":1.0},\"line_color\":{\"value\":\"black\"},\"line_dash\":[4,4],\"line_width\":{\"value\":2},\"plot\":null,\"render_mode\":\"css\",\"right_units\":\"screen\",\"top_units\":\"screen\"},\"id\":\"51380557-e02d-4f47-87da-2a81cbada3aa\",\"type\":\"BoxAnnotation\"},{\"attributes\":{\"callback\":null,\"overlay\":{\"id\":\"51380557-e02d-4f47-87da-2a81cbada3aa\",\"type\":\"BoxAnnotation\"},\"renderers\":[{\"id\":\"545ca232-f470-4b48-889c-f2f0e7a7f8ac\",\"type\":\"GlyphRenderer\"}]},\"id\":\"e09d6d93-728a-401c-83c4-d1aab05fdac1\",\"type\":\"BoxSelectTool\"}],\"root_ids\":[\"759f23fa-fc30-42e6-8b8b-9dceb2d2062e\"]},\"title\":\"Bokeh Application\",\"version\":\"0.12.10\"}};\n",
       "    var render_items = [{\"docid\":\"cdeabf4f-1412-44ac-b9f6-fc4e9bc520a4\",\"elementid\":\"c8e0bb1b-4632-4b64-850e-613fc25df5f3\",\"modelid\":\"759f23fa-fc30-42e6-8b8b-9dceb2d2062e\"}];\n",
       "\n",
       "    root.Bokeh.embed.embed_items(docs_json, render_items);\n",
       "  }\n",
       "\n",
       "  if (root.Bokeh !== undefined) {\n",
       "    embed_document(root);\n",
       "  } else {\n",
       "    var attempts = 0;\n",
       "    var timer = setInterval(function(root) {\n",
       "      if (root.Bokeh !== undefined) {\n",
       "        embed_document(root);\n",
       "        clearInterval(timer);\n",
       "      }\n",
       "      attempts++;\n",
       "      if (attempts > 100) {\n",
       "        console.log(\"Bokeh: ERROR: Unable to embed document because BokehJS library is missing\")\n",
       "        clearInterval(timer);\n",
       "      }\n",
       "    }, 10, root)\n",
       "  }\n",
       "})(window);"
      ],
      "application/vnd.bokehjs_exec.v0+json": ""
     },
     "metadata": {
      "application/vnd.bokehjs_exec.v0+json": {
       "id": "759f23fa-fc30-42e6-8b8b-9dceb2d2062e"
      }
     },
     "output_type": "display_data"
    }
   ],
   "source": [
    "from bokeh.models import ColumnDataSource\n",
    "\n",
    "x = list(range(-20, 21))\n",
    "y0, y1 = [abs(xx) for xx in x], [xx**2 for xx in x]\n",
    "\n",
    "# create a column data source for the plots to share\n",
    "source = ColumnDataSource(data=dict(x=x, y0=y0, y1=y1))\n",
    "\n",
    "TOOLS = \"box_select,lasso_select,help\"\n",
    "\n",
    "# create a new plot and add a renderer\n",
    "left = figure(tools=TOOLS, width=300, height=300)\n",
    "left.circle('x', 'y0', source=source)\n",
    "\n",
    "# create another new plot and add a renderer\n",
    "right = figure(tools=TOOLS, width=300, height=300)\n",
    "right.circle('x', 'y1', source=source)\n",
    "\n",
    "p = gridplot([[left, right]])\n",
    "\n",
    "show(p)"
   ]
  },
  {
   "cell_type": "code",
   "execution_count": 5,
   "metadata": {
    "collapsed": true
   },
   "outputs": [],
   "source": [
    "# EXERCISE: create two plots in a gridplot, and link their data sources\n",
    "\n"
   ]
  },
  {
   "cell_type": "markdown",
   "metadata": {},
   "source": [
    "# Hover Tools\n",
    "\n",
    "Bokeh has a Hover Tool that allows additional information to be displayed in a popup whenever the user hovers over a specific glyph. Basic hover tool configuration amounts to providing a list of ``(name, format)`` tuples. The full details can be found in the User's Guide [here](http://bokeh.pydata.org/en/latest/docs/user_guide/tools.html#hovertool).\n",
    "\n",
    "The example below shows some basic usage of the Hover tool with a circle glyph, using hover information defined in utils.py:"
   ]
  },
  {
   "cell_type": "code",
   "execution_count": 8,
   "metadata": {},
   "outputs": [
    {
     "data": {
      "text/html": [
       "\n",
       "<div class=\"bk-root\">\n",
       "    <div class=\"bk-plotdiv\" id=\"a535bd51-7fd0-45bd-854c-f6999b8ee398\"></div>\n",
       "</div>"
      ]
     },
     "metadata": {},
     "output_type": "display_data"
    },
    {
     "data": {
      "application/javascript": [
       "(function(root) {\n",
       "  function embed_document(root) {\n",
       "    var docs_json = {\"b1fdae96-d67a-4098-a564-983160f7b56f\":{\"roots\":{\"references\":[{\"attributes\":{},\"id\":\"be3d5dc6-8703-4cc5-bcd8-792c0dedb5a8\",\"type\":\"BasicTicker\"},{\"attributes\":{},\"id\":\"161afbfd-9b16-40dd-aeab-ede48a0a2907\",\"type\":\"LinearScale\"},{\"attributes\":{\"data_source\":{\"id\":\"48602190-ae88-46c9-ad13-048e6bd6c7ad\",\"type\":\"ColumnDataSource\"},\"glyph\":{\"id\":\"f1a7a04a-5eea-41a8-acf6-a7cf78f23713\",\"type\":\"Circle\"},\"hover_glyph\":null,\"muted_glyph\":null,\"nonselection_glyph\":{\"id\":\"ccdb4366-0cdd-4f12-9aea-18cfbdbcb492\",\"type\":\"Circle\"},\"selection_glyph\":null,\"view\":{\"id\":\"a1349925-f13c-45ca-8525-5d93e2f97720\",\"type\":\"CDSView\"}},\"id\":\"c830e591-077e-4a6f-a3c7-c088ad2b92a0\",\"type\":\"GlyphRenderer\"},{\"attributes\":{},\"id\":\"a21c2def-c290-4aff-bc27-6d62aa7bbce9\",\"type\":\"BasicTicker\"},{\"attributes\":{\"formatter\":{\"id\":\"874abb1d-8c58-4713-9700-30e08295c368\",\"type\":\"BasicTickFormatter\"},\"plot\":{\"id\":\"d16cc203-37da-4d67-8150-841b9aad5202\",\"subtype\":\"Figure\",\"type\":\"Plot\"},\"ticker\":{\"id\":\"be3d5dc6-8703-4cc5-bcd8-792c0dedb5a8\",\"type\":\"BasicTicker\"}},\"id\":\"86cc1157-0bfc-41ee-9b62-230b7f54ab89\",\"type\":\"LinearAxis\"},{\"attributes\":{\"active_drag\":\"auto\",\"active_inspect\":\"auto\",\"active_scroll\":\"auto\",\"active_tap\":\"auto\",\"tools\":[{\"id\":\"2d97cfa8-9e2b-420d-bb66-eecff19493e3\",\"type\":\"HoverTool\"}]},\"id\":\"dedc4afd-633d-4107-a178-1809ad0ed056\",\"type\":\"Toolbar\"},{\"attributes\":{\"plot\":{\"id\":\"d16cc203-37da-4d67-8150-841b9aad5202\",\"subtype\":\"Figure\",\"type\":\"Plot\"},\"ticker\":{\"id\":\"a21c2def-c290-4aff-bc27-6d62aa7bbce9\",\"type\":\"BasicTicker\"}},\"id\":\"fc1b6727-cd6e-46ab-969d-ecd5b7db4ef6\",\"type\":\"Grid\"},{\"attributes\":{\"plot\":null,\"text\":\"Mouse over the dots\"},\"id\":\"2d0eddce-a465-4d50-9b95-7bc259dc6352\",\"type\":\"Title\"},{\"attributes\":{},\"id\":\"1fabe9ec-3af2-48ca-b2ab-d32c7b53db30\",\"type\":\"LinearScale\"},{\"attributes\":{\"dimension\":1,\"plot\":{\"id\":\"d16cc203-37da-4d67-8150-841b9aad5202\",\"subtype\":\"Figure\",\"type\":\"Plot\"},\"ticker\":{\"id\":\"be3d5dc6-8703-4cc5-bcd8-792c0dedb5a8\",\"type\":\"BasicTicker\"}},\"id\":\"d09fcd44-6be2-44c4-a193-988a9a560b94\",\"type\":\"Grid\"},{\"attributes\":{\"callback\":null},\"id\":\"7ee7d36c-322c-4d93-ba63-930424ede803\",\"type\":\"DataRange1d\"},{\"attributes\":{},\"id\":\"4f9c1196-e532-4339-8dc0-a071eed37d09\",\"type\":\"BasicTickFormatter\"},{\"attributes\":{\"source\":{\"id\":\"48602190-ae88-46c9-ad13-048e6bd6c7ad\",\"type\":\"ColumnDataSource\"}},\"id\":\"a1349925-f13c-45ca-8525-5d93e2f97720\",\"type\":\"CDSView\"},{\"attributes\":{\"callback\":null,\"column_names\":[\"y\",\"x\",\"desc\"],\"data\":{\"desc\":[\"A\",\"b\",\"C\",\"d\",\"E\"],\"x\":[1,2,3,4,5],\"y\":[2,5,8,2,7]}},\"id\":\"48602190-ae88-46c9-ad13-048e6bd6c7ad\",\"type\":\"ColumnDataSource\"},{\"attributes\":{\"fill_color\":{\"value\":\"#1f77b4\"},\"line_color\":{\"value\":\"#1f77b4\"},\"size\":{\"units\":\"screen\",\"value\":20},\"x\":{\"field\":\"x\"},\"y\":{\"field\":\"y\"}},\"id\":\"f1a7a04a-5eea-41a8-acf6-a7cf78f23713\",\"type\":\"Circle\"},{\"attributes\":{\"callback\":null,\"tooltips\":[[\"index\",\"$index\"],[\"(x,y)\",\"($x, $y)\"],[\"desc\",\"@desc\"]]},\"id\":\"2d97cfa8-9e2b-420d-bb66-eecff19493e3\",\"type\":\"HoverTool\"},{\"attributes\":{\"fill_alpha\":{\"value\":0.1},\"fill_color\":{\"value\":\"#1f77b4\"},\"line_alpha\":{\"value\":0.1},\"line_color\":{\"value\":\"#1f77b4\"},\"size\":{\"units\":\"screen\",\"value\":20},\"x\":{\"field\":\"x\"},\"y\":{\"field\":\"y\"}},\"id\":\"ccdb4366-0cdd-4f12-9aea-18cfbdbcb492\",\"type\":\"Circle\"},{\"attributes\":{\"callback\":null},\"id\":\"4b8ea6d2-94db-4202-8aa3-cbd1990a0c0a\",\"type\":\"DataRange1d\"},{\"attributes\":{},\"id\":\"874abb1d-8c58-4713-9700-30e08295c368\",\"type\":\"BasicTickFormatter\"},{\"attributes\":{\"formatter\":{\"id\":\"4f9c1196-e532-4339-8dc0-a071eed37d09\",\"type\":\"BasicTickFormatter\"},\"plot\":{\"id\":\"d16cc203-37da-4d67-8150-841b9aad5202\",\"subtype\":\"Figure\",\"type\":\"Plot\"},\"ticker\":{\"id\":\"a21c2def-c290-4aff-bc27-6d62aa7bbce9\",\"type\":\"BasicTicker\"}},\"id\":\"d2f7d7d2-90a0-40d4-9b3a-4bf224dcbab6\",\"type\":\"LinearAxis\"},{\"attributes\":{\"below\":[{\"id\":\"d2f7d7d2-90a0-40d4-9b3a-4bf224dcbab6\",\"type\":\"LinearAxis\"}],\"left\":[{\"id\":\"86cc1157-0bfc-41ee-9b62-230b7f54ab89\",\"type\":\"LinearAxis\"}],\"plot_height\":300,\"plot_width\":300,\"renderers\":[{\"id\":\"d2f7d7d2-90a0-40d4-9b3a-4bf224dcbab6\",\"type\":\"LinearAxis\"},{\"id\":\"fc1b6727-cd6e-46ab-969d-ecd5b7db4ef6\",\"type\":\"Grid\"},{\"id\":\"86cc1157-0bfc-41ee-9b62-230b7f54ab89\",\"type\":\"LinearAxis\"},{\"id\":\"d09fcd44-6be2-44c4-a193-988a9a560b94\",\"type\":\"Grid\"},{\"id\":\"c830e591-077e-4a6f-a3c7-c088ad2b92a0\",\"type\":\"GlyphRenderer\"}],\"title\":{\"id\":\"2d0eddce-a465-4d50-9b95-7bc259dc6352\",\"type\":\"Title\"},\"toolbar\":{\"id\":\"dedc4afd-633d-4107-a178-1809ad0ed056\",\"type\":\"Toolbar\"},\"x_range\":{\"id\":\"4b8ea6d2-94db-4202-8aa3-cbd1990a0c0a\",\"type\":\"DataRange1d\"},\"x_scale\":{\"id\":\"161afbfd-9b16-40dd-aeab-ede48a0a2907\",\"type\":\"LinearScale\"},\"y_range\":{\"id\":\"7ee7d36c-322c-4d93-ba63-930424ede803\",\"type\":\"DataRange1d\"},\"y_scale\":{\"id\":\"1fabe9ec-3af2-48ca-b2ab-d32c7b53db30\",\"type\":\"LinearScale\"}},\"id\":\"d16cc203-37da-4d67-8150-841b9aad5202\",\"subtype\":\"Figure\",\"type\":\"Plot\"}],\"root_ids\":[\"d16cc203-37da-4d67-8150-841b9aad5202\"]},\"title\":\"Bokeh Application\",\"version\":\"0.12.10\"}};\n",
       "    var render_items = [{\"docid\":\"b1fdae96-d67a-4098-a564-983160f7b56f\",\"elementid\":\"a535bd51-7fd0-45bd-854c-f6999b8ee398\",\"modelid\":\"d16cc203-37da-4d67-8150-841b9aad5202\"}];\n",
       "\n",
       "    root.Bokeh.embed.embed_items(docs_json, render_items);\n",
       "  }\n",
       "\n",
       "  if (root.Bokeh !== undefined) {\n",
       "    embed_document(root);\n",
       "  } else {\n",
       "    var attempts = 0;\n",
       "    var timer = setInterval(function(root) {\n",
       "      if (root.Bokeh !== undefined) {\n",
       "        embed_document(root);\n",
       "        clearInterval(timer);\n",
       "      }\n",
       "      attempts++;\n",
       "      if (attempts > 100) {\n",
       "        console.log(\"Bokeh: ERROR: Unable to embed document because BokehJS library is missing\")\n",
       "        clearInterval(timer);\n",
       "      }\n",
       "    }, 10, root)\n",
       "  }\n",
       "})(window);"
      ],
      "application/vnd.bokehjs_exec.v0+json": ""
     },
     "metadata": {
      "application/vnd.bokehjs_exec.v0+json": {
       "id": "d16cc203-37da-4d67-8150-841b9aad5202"
      }
     },
     "output_type": "display_data"
    }
   ],
   "source": [
    "from bokeh.models import HoverTool\n",
    "\n",
    "source = ColumnDataSource(\n",
    "        data=dict(\n",
    "            x=[1, 2, 3, 4, 5],\n",
    "            y=[2, 5, 8, 2, 7],\n",
    "            desc=['A', 'b', 'C', 'd', 'E'],\n",
    "        )\n",
    "    )\n",
    "\n",
    "hover = HoverTool(\n",
    "        tooltips=[\n",
    "            (\"index\", \"$index\"),\n",
    "            (\"(x,y)\", \"($x, $y)\"),\n",
    "            (\"desc\", \"@desc\"),\n",
    "        ]\n",
    "    )\n",
    "\n",
    "p = figure(plot_width=300, plot_height=300, tools=[hover], title=\"Mouse over the dots\")\n",
    "\n",
    "p.circle('x', 'y', size=20, source=source)\n",
    "\n",
    "show(p)"
   ]
  },
  {
   "cell_type": "markdown",
   "metadata": {},
   "source": [
    "# Widgets"
   ]
  },
  {
   "cell_type": "markdown",
   "metadata": {},
   "source": [
    "Bokeh supports direct integration with a small basic widget set. Thse can be used in conjunction with a Bokeh Server, or with ``CustomJS`` models to add more interactive capability to your documents. You can see a complete list, with example code in the [Adding Widgets](http://bokeh.pydata.org/en/latest/docs/user_guide/interaction.html#adding-widgets) section of the User's Guide. \n",
    "\n",
    "To use the widgets, include them in a layout like you would a plot object:"
   ]
  },
  {
   "cell_type": "code",
   "execution_count": 9,
   "metadata": {},
   "outputs": [
    {
     "data": {
      "text/html": [
       "\n",
       "<div class=\"bk-root\">\n",
       "    <div class=\"bk-plotdiv\" id=\"3d9f037d-bb01-4116-a0de-1df24ae864da\"></div>\n",
       "</div>"
      ]
     },
     "metadata": {},
     "output_type": "display_data"
    },
    {
     "data": {
      "application/javascript": [
       "(function(root) {\n",
       "  function embed_document(root) {\n",
       "    var docs_json = {\"ff9d3162-8695-4863-9cd1-fa5447c065e9\":{\"roots\":{\"references\":[{\"attributes\":{\"children\":[{\"id\":\"6c6009ba-d04d-4982-8c6c-b05ad9758a76\",\"type\":\"Slider\"}]},\"id\":\"38f3632b-6327-4c97-ba59-cb9ef47626e7\",\"type\":\"WidgetBox\"},{\"attributes\":{\"callback\":null,\"end\":10,\"start\":0,\"step\":0.1,\"title\":\"foo\",\"value\":1},\"id\":\"6c6009ba-d04d-4982-8c6c-b05ad9758a76\",\"type\":\"Slider\"}],\"root_ids\":[\"38f3632b-6327-4c97-ba59-cb9ef47626e7\"]},\"title\":\"Bokeh Application\",\"version\":\"0.12.10\"}};\n",
       "    var render_items = [{\"docid\":\"ff9d3162-8695-4863-9cd1-fa5447c065e9\",\"elementid\":\"3d9f037d-bb01-4116-a0de-1df24ae864da\",\"modelid\":\"38f3632b-6327-4c97-ba59-cb9ef47626e7\"}];\n",
       "\n",
       "    root.Bokeh.embed.embed_items(docs_json, render_items);\n",
       "  }\n",
       "\n",
       "  if (root.Bokeh !== undefined) {\n",
       "    embed_document(root);\n",
       "  } else {\n",
       "    var attempts = 0;\n",
       "    var timer = setInterval(function(root) {\n",
       "      if (root.Bokeh !== undefined) {\n",
       "        embed_document(root);\n",
       "        clearInterval(timer);\n",
       "      }\n",
       "      attempts++;\n",
       "      if (attempts > 100) {\n",
       "        console.log(\"Bokeh: ERROR: Unable to embed document because BokehJS library is missing\")\n",
       "        clearInterval(timer);\n",
       "      }\n",
       "    }, 10, root)\n",
       "  }\n",
       "})(window);"
      ],
      "application/vnd.bokehjs_exec.v0+json": ""
     },
     "metadata": {
      "application/vnd.bokehjs_exec.v0+json": {
       "id": "38f3632b-6327-4c97-ba59-cb9ef47626e7"
      }
     },
     "output_type": "display_data"
    }
   ],
   "source": [
    "from bokeh.layouts import widgetbox\n",
    "from bokeh.models.widgets import Slider\n",
    "\n",
    "\n",
    "slider = Slider(start=0, end=10, value=1, step=.1, title=\"foo\")\n",
    "\n",
    "show(widgetbox(slider))"
   ]
  },
  {
   "cell_type": "code",
   "execution_count": 8,
   "metadata": {
    "collapsed": true
   },
   "outputs": [],
   "source": [
    "# EXERCISE: create and show a Select widget \n"
   ]
  },
  {
   "cell_type": "markdown",
   "metadata": {},
   "source": [
    "# CustomJS Callbacks"
   ]
  },
  {
   "cell_type": "code",
   "execution_count": 10,
   "metadata": {},
   "outputs": [
    {
     "data": {
      "text/html": [
       "\n",
       "<div class=\"bk-root\">\n",
       "    <div class=\"bk-plotdiv\" id=\"57ba02fc-6e69-4d7b-bed6-e04f4f4aa5e9\"></div>\n",
       "</div>"
      ]
     },
     "metadata": {},
     "output_type": "display_data"
    },
    {
     "data": {
      "application/javascript": [
       "(function(root) {\n",
       "  function embed_document(root) {\n",
       "    var docs_json = {\"00930e91-b529-45c3-b64b-26134531c19c\":{\"roots\":{\"references\":[{\"attributes\":{\"plot\":null,\"text\":\"\"},\"id\":\"c103856c-e6eb-432a-a746-d308965d90cb\",\"type\":\"Title\"},{\"attributes\":{\"callback\":null},\"id\":\"9f473bf0-8da9-448b-b14b-06291fe3e521\",\"type\":\"DataRange1d\"},{\"attributes\":{\"fill_alpha\":{\"value\":0.1},\"fill_color\":{\"value\":\"#1f77b4\"},\"line_alpha\":{\"value\":0.1},\"line_color\":{\"value\":\"#1f77b4\"},\"size\":{\"units\":\"screen\",\"value\":20},\"x\":{\"field\":\"x\"},\"y\":{\"field\":\"y\"}},\"id\":\"8afe41fa-ed99-480c-ba26-e37992c8a4ed\",\"type\":\"Circle\"},{\"attributes\":{},\"id\":\"e704e9cc-3164-452f-b83f-467c017c2ffc\",\"type\":\"LinearScale\"},{\"attributes\":{\"data_source\":{\"id\":\"bfbffb53-578b-41a5-b298-cb9992f4fc17\",\"type\":\"ColumnDataSource\"},\"glyph\":{\"id\":\"35fe5a82-c65f-4445-ac2b-e27318321500\",\"type\":\"Circle\"},\"hover_glyph\":null,\"muted_glyph\":null,\"nonselection_glyph\":{\"id\":\"8afe41fa-ed99-480c-ba26-e37992c8a4ed\",\"type\":\"Circle\"},\"selection_glyph\":null,\"view\":{\"id\":\"8d7471d1-2be2-48e8-a093-6ffaf942be22\",\"type\":\"CDSView\"}},\"id\":\"02bc5cc1-945e-4a22-bf9e-339426607e6e\",\"type\":\"GlyphRenderer\"},{\"attributes\":{\"dimension\":1,\"plot\":{\"id\":\"e49ceffa-9760-4c51-8c4c-7297dfa035bc\",\"subtype\":\"Figure\",\"type\":\"Plot\"},\"ticker\":{\"id\":\"1da7abad-ab30-4287-a01c-6d083c6fba92\",\"type\":\"BasicTicker\"}},\"id\":\"88131725-e3fb-4b3f-9836-f1da8a89f0bc\",\"type\":\"Grid\"},{\"attributes\":{\"callback\":null,\"column_names\":[\"y\",\"x\"],\"data\":{\"x\":[1,2,3,4,5],\"y\":[2,5,8,2,7]}},\"id\":\"bfbffb53-578b-41a5-b298-cb9992f4fc17\",\"type\":\"ColumnDataSource\"},{\"attributes\":{\"plot\":{\"id\":\"e49ceffa-9760-4c51-8c4c-7297dfa035bc\",\"subtype\":\"Figure\",\"type\":\"Plot\"},\"ticker\":{\"id\":\"5e6cbf6e-fb1b-4947-ab0f-74a4bf182348\",\"type\":\"BasicTicker\"}},\"id\":\"f8b5781b-d719-4d26-b4bb-d3d3ac7ee7e9\",\"type\":\"Grid\"},{\"attributes\":{\"callback\":null},\"id\":\"b3e49017-b7ce-4a9f-b9ad-6b90d0694dd9\",\"type\":\"DataRange1d\"},{\"attributes\":{\"source\":{\"id\":\"bfbffb53-578b-41a5-b298-cb9992f4fc17\",\"type\":\"ColumnDataSource\"}},\"id\":\"8d7471d1-2be2-48e8-a093-6ffaf942be22\",\"type\":\"CDSView\"},{\"attributes\":{},\"id\":\"5e6cbf6e-fb1b-4947-ab0f-74a4bf182348\",\"type\":\"BasicTicker\"},{\"attributes\":{\"formatter\":{\"id\":\"60ba0e8a-7532-4499-bdc9-e894d2d9f0c7\",\"type\":\"BasicTickFormatter\"},\"plot\":{\"id\":\"e49ceffa-9760-4c51-8c4c-7297dfa035bc\",\"subtype\":\"Figure\",\"type\":\"Plot\"},\"ticker\":{\"id\":\"1da7abad-ab30-4287-a01c-6d083c6fba92\",\"type\":\"BasicTicker\"}},\"id\":\"ac93eac4-fd55-4f64-9a99-5661f591292e\",\"type\":\"LinearAxis\"},{\"attributes\":{\"active_drag\":\"auto\",\"active_inspect\":\"auto\",\"active_scroll\":\"auto\",\"active_tap\":\"auto\",\"tools\":[{\"id\":\"b74d8153-8e4f-449a-9de0-8511035f790a\",\"type\":\"TapTool\"}]},\"id\":\"55e91b91-b870-4064-8f90-304260c44838\",\"type\":\"Toolbar\"},{\"attributes\":{\"formatter\":{\"id\":\"80609b81-945b-40db-97a1-786f0179672d\",\"type\":\"BasicTickFormatter\"},\"plot\":{\"id\":\"e49ceffa-9760-4c51-8c4c-7297dfa035bc\",\"subtype\":\"Figure\",\"type\":\"Plot\"},\"ticker\":{\"id\":\"5e6cbf6e-fb1b-4947-ab0f-74a4bf182348\",\"type\":\"BasicTicker\"}},\"id\":\"4e841898-3a63-413e-aebf-d2f69c4eca9f\",\"type\":\"LinearAxis\"},{\"attributes\":{\"code\":\"alert('hello world')\"},\"id\":\"239540d1-76a4-4c84-ae50-3b9e65490be7\",\"type\":\"CustomJS\"},{\"attributes\":{\"fill_color\":{\"value\":\"#1f77b4\"},\"line_color\":{\"value\":\"#1f77b4\"},\"size\":{\"units\":\"screen\",\"value\":20},\"x\":{\"field\":\"x\"},\"y\":{\"field\":\"y\"}},\"id\":\"35fe5a82-c65f-4445-ac2b-e27318321500\",\"type\":\"Circle\"},{\"attributes\":{},\"id\":\"80609b81-945b-40db-97a1-786f0179672d\",\"type\":\"BasicTickFormatter\"},{\"attributes\":{\"below\":[{\"id\":\"4e841898-3a63-413e-aebf-d2f69c4eca9f\",\"type\":\"LinearAxis\"}],\"left\":[{\"id\":\"ac93eac4-fd55-4f64-9a99-5661f591292e\",\"type\":\"LinearAxis\"}],\"plot_height\":300,\"renderers\":[{\"id\":\"4e841898-3a63-413e-aebf-d2f69c4eca9f\",\"type\":\"LinearAxis\"},{\"id\":\"f8b5781b-d719-4d26-b4bb-d3d3ac7ee7e9\",\"type\":\"Grid\"},{\"id\":\"ac93eac4-fd55-4f64-9a99-5661f591292e\",\"type\":\"LinearAxis\"},{\"id\":\"88131725-e3fb-4b3f-9836-f1da8a89f0bc\",\"type\":\"Grid\"},{\"id\":\"02bc5cc1-945e-4a22-bf9e-339426607e6e\",\"type\":\"GlyphRenderer\"}],\"title\":{\"id\":\"c103856c-e6eb-432a-a746-d308965d90cb\",\"type\":\"Title\"},\"toolbar\":{\"id\":\"55e91b91-b870-4064-8f90-304260c44838\",\"type\":\"Toolbar\"},\"x_range\":{\"id\":\"b3e49017-b7ce-4a9f-b9ad-6b90d0694dd9\",\"type\":\"DataRange1d\"},\"x_scale\":{\"id\":\"e704e9cc-3164-452f-b83f-467c017c2ffc\",\"type\":\"LinearScale\"},\"y_range\":{\"id\":\"9f473bf0-8da9-448b-b14b-06291fe3e521\",\"type\":\"DataRange1d\"},\"y_scale\":{\"id\":\"39f95f91-2fc7-48a0-91be-24fe1020bb1b\",\"type\":\"LinearScale\"}},\"id\":\"e49ceffa-9760-4c51-8c4c-7297dfa035bc\",\"subtype\":\"Figure\",\"type\":\"Plot\"},{\"attributes\":{\"callback\":{\"id\":\"239540d1-76a4-4c84-ae50-3b9e65490be7\",\"type\":\"CustomJS\"}},\"id\":\"b74d8153-8e4f-449a-9de0-8511035f790a\",\"type\":\"TapTool\"},{\"attributes\":{},\"id\":\"60ba0e8a-7532-4499-bdc9-e894d2d9f0c7\",\"type\":\"BasicTickFormatter\"},{\"attributes\":{},\"id\":\"39f95f91-2fc7-48a0-91be-24fe1020bb1b\",\"type\":\"LinearScale\"},{\"attributes\":{},\"id\":\"1da7abad-ab30-4287-a01c-6d083c6fba92\",\"type\":\"BasicTicker\"}],\"root_ids\":[\"e49ceffa-9760-4c51-8c4c-7297dfa035bc\"]},\"title\":\"Bokeh Application\",\"version\":\"0.12.10\"}};\n",
       "    var render_items = [{\"docid\":\"00930e91-b529-45c3-b64b-26134531c19c\",\"elementid\":\"57ba02fc-6e69-4d7b-bed6-e04f4f4aa5e9\",\"modelid\":\"e49ceffa-9760-4c51-8c4c-7297dfa035bc\"}];\n",
       "\n",
       "    root.Bokeh.embed.embed_items(docs_json, render_items);\n",
       "  }\n",
       "\n",
       "  if (root.Bokeh !== undefined) {\n",
       "    embed_document(root);\n",
       "  } else {\n",
       "    var attempts = 0;\n",
       "    var timer = setInterval(function(root) {\n",
       "      if (root.Bokeh !== undefined) {\n",
       "        embed_document(root);\n",
       "        clearInterval(timer);\n",
       "      }\n",
       "      attempts++;\n",
       "      if (attempts > 100) {\n",
       "        console.log(\"Bokeh: ERROR: Unable to embed document because BokehJS library is missing\")\n",
       "        clearInterval(timer);\n",
       "      }\n",
       "    }, 10, root)\n",
       "  }\n",
       "})(window);"
      ],
      "application/vnd.bokehjs_exec.v0+json": ""
     },
     "metadata": {
      "application/vnd.bokehjs_exec.v0+json": {
       "id": "e49ceffa-9760-4c51-8c4c-7297dfa035bc"
      }
     },
     "output_type": "display_data"
    }
   ],
   "source": [
    "from bokeh.models import TapTool, CustomJS, ColumnDataSource\n",
    "\n",
    "callback = CustomJS(code=\"alert('hello world')\")\n",
    "tap = TapTool(callback=callback)\n",
    "\n",
    "p = figure(plot_width=600, plot_height=300, tools=[tap])\n",
    "\n",
    "p.circle(x=[1, 2, 3, 4, 5], y=[2, 5, 8, 2, 7], size=20)\n",
    "\n",
    "show(p)"
   ]
  },
  {
   "cell_type": "markdown",
   "metadata": {},
   "source": [
    "## Lots of places to add callbacks\n",
    "\n",
    "* Widgets - Button, Toggle, Dropdown, TextInput, AutocompleteInput, Select, Multiselect, Slider, (DateRangeSlider), DatePicker,\n",
    "* Tools - TapTool, BoxSelectTool, HoverTool,\n",
    "* Selection - ColumnDataSource, AjaxDataSource, BlazeDataSource, ServerDataSource\n",
    "* Ranges - Range1d, DataRange1d, FactorRange\n"
   ]
  },
  {
   "cell_type": "markdown",
   "metadata": {},
   "source": [
    "## Callbacks for widgets\n",
    "\n",
    "Widgets that have values associated can have small JavaScript actions attached to them. These actions (also referred to as \"callbacks\") are executed whenever the widget's value is changed. In order to make it easier to refer to specific Bokeh models (e.g., a data source, or a glyhph) from JavaScript, the ``CustomJS`` obejct also accepts a dictionary of \"args\" that map names to Python Bokeh models. The corresponding JavaScript models are made available automaticaly to the ``CustomJS`` code. \n",
    "\n",
    "And example below shows an action attached to a slider that updates a data source whenever the slider is moved:"
   ]
  },
  {
   "cell_type": "code",
   "execution_count": 11,
   "metadata": {},
   "outputs": [
    {
     "data": {
      "text/html": [
       "\n",
       "<div class=\"bk-root\">\n",
       "    <div class=\"bk-plotdiv\" id=\"92bde154-2a6f-4406-9573-a8622dbcd849\"></div>\n",
       "</div>"
      ]
     },
     "metadata": {},
     "output_type": "display_data"
    },
    {
     "data": {
      "application/javascript": [
       "(function(root) {\n",
       "  function embed_document(root) {\n",
       "    var docs_json = {\"fb79d60c-6a28-4ada-a922-957b5298e1c8\":{\"roots\":{\"references\":[{\"attributes\":{\"children\":[{\"id\":\"52ec040c-7631-43a2-8b42-b19c25af8462\",\"type\":\"Slider\"}]},\"id\":\"38ad1595-0780-46a4-838d-3067fb2e12a6\",\"type\":\"WidgetBox\"},{\"attributes\":{},\"id\":\"d96eeebf-e75c-4fff-a4bc-f353a797e128\",\"type\":\"LinearScale\"},{\"attributes\":{\"plot\":{\"id\":\"38fa8390-3d75-4bc9-b329-71874b151961\",\"subtype\":\"Figure\",\"type\":\"Plot\"},\"ticker\":{\"id\":\"bd4056ee-d965-4dc3-837f-d3449c256385\",\"type\":\"BasicTicker\"}},\"id\":\"37f49705-1c2d-485a-b82b-843ff57f48ed\",\"type\":\"Grid\"},{\"attributes\":{},\"id\":\"bd4056ee-d965-4dc3-837f-d3449c256385\",\"type\":\"BasicTicker\"},{\"attributes\":{\"bottom_units\":\"screen\",\"fill_alpha\":{\"value\":0.5},\"fill_color\":{\"value\":\"lightgrey\"},\"left_units\":\"screen\",\"level\":\"overlay\",\"line_alpha\":{\"value\":1.0},\"line_color\":{\"value\":\"black\"},\"line_dash\":[4,4],\"line_width\":{\"value\":2},\"plot\":null,\"render_mode\":\"css\",\"right_units\":\"screen\",\"top_units\":\"screen\"},\"id\":\"3a263e8d-b058-409a-9489-64346d909830\",\"type\":\"BoxAnnotation\"},{\"attributes\":{\"source\":{\"id\":\"f1ed3f76-d79d-4992-ab95-0256804143ac\",\"type\":\"ColumnDataSource\"}},\"id\":\"ba7f4def-afcb-49c3-a7fc-9af118b442fc\",\"type\":\"CDSView\"},{\"attributes\":{\"children\":[{\"id\":\"38ad1595-0780-46a4-838d-3067fb2e12a6\",\"type\":\"WidgetBox\"},{\"id\":\"38fa8390-3d75-4bc9-b329-71874b151961\",\"subtype\":\"Figure\",\"type\":\"Plot\"}]},\"id\":\"eff05f90-4ae0-435c-9399-61f665996598\",\"type\":\"Column\"},{\"attributes\":{},\"id\":\"21a95b40-c027-490e-b13c-ef036179e5bb\",\"type\":\"BasicTickFormatter\"},{\"attributes\":{},\"id\":\"9defedc7-65ef-4695-880f-8f4168db1ab7\",\"type\":\"WheelZoomTool\"},{\"attributes\":{},\"id\":\"f216bb19-6b4c-4aee-965a-d90b1e94286c\",\"type\":\"BasicTickFormatter\"},{\"attributes\":{\"data_source\":{\"id\":\"f1ed3f76-d79d-4992-ab95-0256804143ac\",\"type\":\"ColumnDataSource\"},\"glyph\":{\"id\":\"ed2182c2-7804-48a0-93d9-2faf7be5670c\",\"type\":\"Line\"},\"hover_glyph\":null,\"muted_glyph\":null,\"nonselection_glyph\":{\"id\":\"175a5d08-aeef-4930-96eb-e511f73633d2\",\"type\":\"Line\"},\"selection_glyph\":null,\"view\":{\"id\":\"ba7f4def-afcb-49c3-a7fc-9af118b442fc\",\"type\":\"CDSView\"}},\"id\":\"a112825a-f6d0-4fcc-93da-685402ba4f5c\",\"type\":\"GlyphRenderer\"},{\"attributes\":{\"callback\":null},\"id\":\"39fcc95b-ee8b-4916-b8f7-d334a30c8b20\",\"type\":\"DataRange1d\"},{\"attributes\":{\"line_alpha\":{\"value\":0.1},\"line_color\":{\"value\":\"#1f77b4\"},\"line_width\":{\"value\":3},\"x\":{\"field\":\"x\"},\"y\":{\"field\":\"y\"}},\"id\":\"175a5d08-aeef-4930-96eb-e511f73633d2\",\"type\":\"Line\"},{\"attributes\":{},\"id\":\"9d86c67b-8b41-4537-8564-e2c46b658c43\",\"type\":\"LinearScale\"},{\"attributes\":{},\"id\":\"85e309ce-19ff-4c88-a617-9b727474178d\",\"type\":\"BasicTicker\"},{\"attributes\":{\"overlay\":{\"id\":\"3a263e8d-b058-409a-9489-64346d909830\",\"type\":\"BoxAnnotation\"}},\"id\":\"e2a157cf-db2a-4635-976b-cb70979bf4a0\",\"type\":\"BoxZoomTool\"},{\"attributes\":{\"plot\":null,\"text\":\"\"},\"id\":\"546448ee-11d8-448f-9510-08eb2e50f7a5\",\"type\":\"Title\"},{\"attributes\":{\"callback\":null,\"end\":6,\"js_property_callbacks\":{\"change:value\":[{\"id\":\"7516bbfb-7e38-4dde-a3b7-cc947a4a3b80\",\"type\":\"CustomJS\"}]},\"start\":0.1,\"step\":0.1,\"title\":\"power\",\"value\":1},\"id\":\"52ec040c-7631-43a2-8b42-b19c25af8462\",\"type\":\"Slider\"},{\"attributes\":{},\"id\":\"da6d51ad-fa2f-4b73-902a-3e319f3f5278\",\"type\":\"HelpTool\"},{\"attributes\":{\"line_alpha\":{\"value\":0.6},\"line_color\":{\"value\":\"#1f77b4\"},\"line_width\":{\"value\":3},\"x\":{\"field\":\"x\"},\"y\":{\"field\":\"y\"}},\"id\":\"ed2182c2-7804-48a0-93d9-2faf7be5670c\",\"type\":\"Line\"},{\"attributes\":{\"formatter\":{\"id\":\"f216bb19-6b4c-4aee-965a-d90b1e94286c\",\"type\":\"BasicTickFormatter\"},\"plot\":{\"id\":\"38fa8390-3d75-4bc9-b329-71874b151961\",\"subtype\":\"Figure\",\"type\":\"Plot\"},\"ticker\":{\"id\":\"bd4056ee-d965-4dc3-837f-d3449c256385\",\"type\":\"BasicTicker\"}},\"id\":\"b4a75369-7890-4086-a0c5-aff72679611e\",\"type\":\"LinearAxis\"},{\"attributes\":{\"formatter\":{\"id\":\"21a95b40-c027-490e-b13c-ef036179e5bb\",\"type\":\"BasicTickFormatter\"},\"plot\":{\"id\":\"38fa8390-3d75-4bc9-b329-71874b151961\",\"subtype\":\"Figure\",\"type\":\"Plot\"},\"ticker\":{\"id\":\"85e309ce-19ff-4c88-a617-9b727474178d\",\"type\":\"BasicTicker\"}},\"id\":\"a82aee54-6e01-4163-8dae-d06b58bceb0c\",\"type\":\"LinearAxis\"},{\"attributes\":{},\"id\":\"e61199e6-bb10-42d1-9530-39a6902e118a\",\"type\":\"SaveTool\"},{\"attributes\":{\"dimension\":1,\"plot\":{\"id\":\"38fa8390-3d75-4bc9-b329-71874b151961\",\"subtype\":\"Figure\",\"type\":\"Plot\"},\"ticker\":{\"id\":\"85e309ce-19ff-4c88-a617-9b727474178d\",\"type\":\"BasicTicker\"}},\"id\":\"35dc185e-e8ed-4e37-97b9-aafb40868049\",\"type\":\"Grid\"},{\"attributes\":{},\"id\":\"867b2efc-6eca-4350-8052-34a60c75699b\",\"type\":\"ResetTool\"},{\"attributes\":{\"callback\":null},\"id\":\"aa93c129-c9e9-42b2-bfce-ba6f91fa12ca\",\"type\":\"DataRange1d\"},{\"attributes\":{\"args\":{\"slider\":{\"id\":\"52ec040c-7631-43a2-8b42-b19c25af8462\",\"type\":\"Slider\"},\"source\":{\"id\":\"f1ed3f76-d79d-4992-ab95-0256804143ac\",\"type\":\"ColumnDataSource\"}},\"code\":\"\\n    var data = source.get('data');\\n    var f = slider.value;\\n    x = data['x']\\n    y = data['y']\\n    for (i = 0; i < x.length; i++) {\\n        y[i] = Math.pow(x[i], f)\\n    }\\n    source.change.emit();\\n\"},\"id\":\"7516bbfb-7e38-4dde-a3b7-cc947a4a3b80\",\"type\":\"CustomJS\"},{\"attributes\":{\"below\":[{\"id\":\"b4a75369-7890-4086-a0c5-aff72679611e\",\"type\":\"LinearAxis\"}],\"left\":[{\"id\":\"a82aee54-6e01-4163-8dae-d06b58bceb0c\",\"type\":\"LinearAxis\"}],\"plot_height\":400,\"plot_width\":400,\"renderers\":[{\"id\":\"b4a75369-7890-4086-a0c5-aff72679611e\",\"type\":\"LinearAxis\"},{\"id\":\"37f49705-1c2d-485a-b82b-843ff57f48ed\",\"type\":\"Grid\"},{\"id\":\"a82aee54-6e01-4163-8dae-d06b58bceb0c\",\"type\":\"LinearAxis\"},{\"id\":\"35dc185e-e8ed-4e37-97b9-aafb40868049\",\"type\":\"Grid\"},{\"id\":\"3a263e8d-b058-409a-9489-64346d909830\",\"type\":\"BoxAnnotation\"},{\"id\":\"a112825a-f6d0-4fcc-93da-685402ba4f5c\",\"type\":\"GlyphRenderer\"}],\"title\":{\"id\":\"546448ee-11d8-448f-9510-08eb2e50f7a5\",\"type\":\"Title\"},\"toolbar\":{\"id\":\"e30f734a-4a81-45f1-afb4-c897ea74ab4c\",\"type\":\"Toolbar\"},\"x_range\":{\"id\":\"39fcc95b-ee8b-4916-b8f7-d334a30c8b20\",\"type\":\"DataRange1d\"},\"x_scale\":{\"id\":\"9d86c67b-8b41-4537-8564-e2c46b658c43\",\"type\":\"LinearScale\"},\"y_range\":{\"id\":\"aa93c129-c9e9-42b2-bfce-ba6f91fa12ca\",\"type\":\"DataRange1d\"},\"y_scale\":{\"id\":\"d96eeebf-e75c-4fff-a4bc-f353a797e128\",\"type\":\"LinearScale\"}},\"id\":\"38fa8390-3d75-4bc9-b329-71874b151961\",\"subtype\":\"Figure\",\"type\":\"Plot\"},{\"attributes\":{},\"id\":\"ba963d10-c21d-4303-89f5-b6901dbf5c66\",\"type\":\"PanTool\"},{\"attributes\":{\"callback\":null,\"column_names\":[\"y\",\"x\"],\"data\":{\"x\":[0.0,0.005,0.01,0.015,0.02,0.025,0.03,0.035,0.04,0.045,0.05,0.055,0.06,0.065,0.07,0.075,0.08,0.085,0.09,0.095,0.1,0.105,0.11,0.115,0.12,0.125,0.13,0.135,0.14,0.145,0.15,0.155,0.16,0.165,0.17,0.17500000000000002,0.18,0.185,0.19,0.195,0.2,0.20500000000000002,0.21,0.215,0.22,0.225,0.23,0.23500000000000001,0.24,0.245,0.25,0.255,0.26,0.265,0.27,0.275,0.28,0.28500000000000003,0.29,0.295,0.3,0.305,0.31,0.315,0.32,0.325,0.33,0.335,0.34,0.34500000000000003,0.35000000000000003,0.355,0.36,0.365,0.37,0.375,0.38,0.385,0.39,0.395,0.4,0.405,0.41000000000000003,0.41500000000000004,0.42,0.425,0.43,0.435,0.44,0.445,0.45,0.455,0.46,0.465,0.47000000000000003,0.47500000000000003,0.48,0.485,0.49,0.495,0.5,0.505,0.51,0.515,0.52,0.525,0.53,0.535,0.54,0.545,0.55,0.555,0.56,0.5650000000000001,0.5700000000000001,0.5750000000000001,0.58,0.585,0.59,0.595,0.6,0.605,0.61,0.615,0.62,0.625,0.63,0.635,0.64,0.645,0.65,0.655,0.66,0.665,0.67,0.675,0.68,0.685,0.6900000000000001,0.6950000000000001,0.7000000000000001,0.705,0.71,0.715,0.72,0.725,0.73,0.735,0.74,0.745,0.75,0.755,0.76,0.765,0.77,0.775,0.78,0.785,0.79,0.795,0.8,0.805,0.81,0.8150000000000001,0.8200000000000001,0.8250000000000001,0.8300000000000001,0.835,0.84,0.845,0.85,0.855,0.86,0.865,0.87,0.875,0.88,0.885,0.89,0.895,0.9,0.905,0.91,0.915,0.92,0.925,0.93,0.935,0.9400000000000001,0.9450000000000001,0.9500000000000001,0.9550000000000001,0.96,0.965,0.97,0.975,0.98,0.985,0.99,0.995,1.0],\"y\":[0.0,0.005,0.01,0.015,0.02,0.025,0.03,0.035,0.04,0.045,0.05,0.055,0.06,0.065,0.07,0.075,0.08,0.085,0.09,0.095,0.1,0.105,0.11,0.115,0.12,0.125,0.13,0.135,0.14,0.145,0.15,0.155,0.16,0.165,0.17,0.17500000000000002,0.18,0.185,0.19,0.195,0.2,0.20500000000000002,0.21,0.215,0.22,0.225,0.23,0.23500000000000001,0.24,0.245,0.25,0.255,0.26,0.265,0.27,0.275,0.28,0.28500000000000003,0.29,0.295,0.3,0.305,0.31,0.315,0.32,0.325,0.33,0.335,0.34,0.34500000000000003,0.35000000000000003,0.355,0.36,0.365,0.37,0.375,0.38,0.385,0.39,0.395,0.4,0.405,0.41000000000000003,0.41500000000000004,0.42,0.425,0.43,0.435,0.44,0.445,0.45,0.455,0.46,0.465,0.47000000000000003,0.47500000000000003,0.48,0.485,0.49,0.495,0.5,0.505,0.51,0.515,0.52,0.525,0.53,0.535,0.54,0.545,0.55,0.555,0.56,0.5650000000000001,0.5700000000000001,0.5750000000000001,0.58,0.585,0.59,0.595,0.6,0.605,0.61,0.615,0.62,0.625,0.63,0.635,0.64,0.645,0.65,0.655,0.66,0.665,0.67,0.675,0.68,0.685,0.6900000000000001,0.6950000000000001,0.7000000000000001,0.705,0.71,0.715,0.72,0.725,0.73,0.735,0.74,0.745,0.75,0.755,0.76,0.765,0.77,0.775,0.78,0.785,0.79,0.795,0.8,0.805,0.81,0.8150000000000001,0.8200000000000001,0.8250000000000001,0.8300000000000001,0.835,0.84,0.845,0.85,0.855,0.86,0.865,0.87,0.875,0.88,0.885,0.89,0.895,0.9,0.905,0.91,0.915,0.92,0.925,0.93,0.935,0.9400000000000001,0.9450000000000001,0.9500000000000001,0.9550000000000001,0.96,0.965,0.97,0.975,0.98,0.985,0.99,0.995,1.0]}},\"id\":\"f1ed3f76-d79d-4992-ab95-0256804143ac\",\"type\":\"ColumnDataSource\"},{\"attributes\":{\"active_drag\":\"auto\",\"active_inspect\":\"auto\",\"active_scroll\":\"auto\",\"active_tap\":\"auto\",\"tools\":[{\"id\":\"ba963d10-c21d-4303-89f5-b6901dbf5c66\",\"type\":\"PanTool\"},{\"id\":\"9defedc7-65ef-4695-880f-8f4168db1ab7\",\"type\":\"WheelZoomTool\"},{\"id\":\"e2a157cf-db2a-4635-976b-cb70979bf4a0\",\"type\":\"BoxZoomTool\"},{\"id\":\"e61199e6-bb10-42d1-9530-39a6902e118a\",\"type\":\"SaveTool\"},{\"id\":\"867b2efc-6eca-4350-8052-34a60c75699b\",\"type\":\"ResetTool\"},{\"id\":\"da6d51ad-fa2f-4b73-902a-3e319f3f5278\",\"type\":\"HelpTool\"}]},\"id\":\"e30f734a-4a81-45f1-afb4-c897ea74ab4c\",\"type\":\"Toolbar\"}],\"root_ids\":[\"eff05f90-4ae0-435c-9399-61f665996598\"]},\"title\":\"Bokeh Application\",\"version\":\"0.12.10\"}};\n",
       "    var render_items = [{\"docid\":\"fb79d60c-6a28-4ada-a922-957b5298e1c8\",\"elementid\":\"92bde154-2a6f-4406-9573-a8622dbcd849\",\"modelid\":\"eff05f90-4ae0-435c-9399-61f665996598\"}];\n",
       "\n",
       "    root.Bokeh.embed.embed_items(docs_json, render_items);\n",
       "  }\n",
       "\n",
       "  if (root.Bokeh !== undefined) {\n",
       "    embed_document(root);\n",
       "  } else {\n",
       "    var attempts = 0;\n",
       "    var timer = setInterval(function(root) {\n",
       "      if (root.Bokeh !== undefined) {\n",
       "        embed_document(root);\n",
       "        clearInterval(timer);\n",
       "      }\n",
       "      attempts++;\n",
       "      if (attempts > 100) {\n",
       "        console.log(\"Bokeh: ERROR: Unable to embed document because BokehJS library is missing\")\n",
       "        clearInterval(timer);\n",
       "      }\n",
       "    }, 10, root)\n",
       "  }\n",
       "})(window);"
      ],
      "application/vnd.bokehjs_exec.v0+json": ""
     },
     "metadata": {
      "application/vnd.bokehjs_exec.v0+json": {
       "id": "eff05f90-4ae0-435c-9399-61f665996598"
      }
     },
     "output_type": "display_data"
    }
   ],
   "source": [
    "from bokeh.layouts import column\n",
    "from bokeh.models import CustomJS, ColumnDataSource, Slider\n",
    "\n",
    "x = [x*0.005 for x in range(0, 201)]\n",
    "\n",
    "source = ColumnDataSource(data=dict(x=x, y=x))\n",
    "\n",
    "plot = figure(plot_width=400, plot_height=400)\n",
    "plot.line('x', 'y', source=source, line_width=3, line_alpha=0.6)\n",
    "\n",
    "slider = Slider(start=0.1, end=6, value=1, step=.1, title=\"power\")\n",
    "\n",
    "update_curve = CustomJS(args=dict(source=source, slider=slider), code=\"\"\"\n",
    "    var data = source.get('data');\n",
    "    var f = slider.value;\n",
    "    x = data['x']\n",
    "    y = data['y']\n",
    "    for (i = 0; i < x.length; i++) {\n",
    "        y[i] = Math.pow(x[i], f)\n",
    "    }\n",
    "    source.change.emit();\n",
    "\"\"\")\n",
    "slider.js_on_change('value', update_curve)\n",
    "\n",
    "\n",
    "show(column(slider, plot))"
   ]
  },
  {
   "cell_type": "markdown",
   "metadata": {},
   "source": [
    "## Calbacks for selections\n",
    "\n",
    "It's also possible to make JavaScript actions that execute whenever a user selection (e.g., box, point, lasso) changes. This is done by attaching the same kind of CustomJS object to whatever data source the selection is made on.\n",
    "\n",
    "The example below is a bit more sophisticated, and demonstrates updating one glyph's data source in response to another glyph's selection: "
   ]
  },
  {
   "cell_type": "code",
   "execution_count": 11,
   "metadata": {},
   "outputs": [
    {
     "data": {
      "text/html": [
       "\n",
       "\n",
       "    <div class=\"bk-root\">\n",
       "        <div class=\"bk-plotdiv\" id=\"7aa85e80-8b20-4dc7-998e-401db9756ecc\"></div>\n",
       "    </div>\n",
       "<script type=\"text/javascript\">\n",
       "  \n",
       "  (function(root) {\n",
       "    function now() {\n",
       "      return new Date();\n",
       "    }\n",
       "  \n",
       "    var force = false;\n",
       "  \n",
       "    if (typeof (root._bokeh_onload_callbacks) === \"undefined\" || force === true) {\n",
       "      root._bokeh_onload_callbacks = [];\n",
       "      root._bokeh_is_loading = undefined;\n",
       "    }\n",
       "  \n",
       "  \n",
       "    \n",
       "    if (typeof (root._bokeh_timeout) === \"undefined\" || force === true) {\n",
       "      root._bokeh_timeout = Date.now() + 0;\n",
       "      root._bokeh_failed_load = false;\n",
       "    }\n",
       "  \n",
       "    var NB_LOAD_WARNING = {'data': {'text/html':\n",
       "       \"<div style='background-color: #fdd'>\\n\"+\n",
       "       \"<p>\\n\"+\n",
       "       \"BokehJS does not appear to have successfully loaded. If loading BokehJS from CDN, this \\n\"+\n",
       "       \"may be due to a slow or bad network connection. Possible fixes:\\n\"+\n",
       "       \"</p>\\n\"+\n",
       "       \"<ul>\\n\"+\n",
       "       \"<li>re-rerun `output_notebook()` to attempt to load from CDN again, or</li>\\n\"+\n",
       "       \"<li>use INLINE resources instead, as so:</li>\\n\"+\n",
       "       \"</ul>\\n\"+\n",
       "       \"<code>\\n\"+\n",
       "       \"from bokeh.resources import INLINE\\n\"+\n",
       "       \"output_notebook(resources=INLINE)\\n\"+\n",
       "       \"</code>\\n\"+\n",
       "       \"</div>\"}};\n",
       "  \n",
       "    function display_loaded() {\n",
       "      if (root.Bokeh !== undefined) {\n",
       "        var el = document.getElementById(\"7aa85e80-8b20-4dc7-998e-401db9756ecc\");\n",
       "        if (el != null) {\n",
       "          el.textContent = \"BokehJS \" + Bokeh.version + \" successfully loaded.\";\n",
       "        }\n",
       "      } else if (Date.now() < root._bokeh_timeout) {\n",
       "        setTimeout(display_loaded, 100)\n",
       "      }\n",
       "    }\n",
       "  \n",
       "  \n",
       "    function run_callbacks() {\n",
       "      try {\n",
       "        root._bokeh_onload_callbacks.forEach(function(callback) { callback() });\n",
       "      }\n",
       "      finally {\n",
       "        delete root._bokeh_onload_callbacks\n",
       "      }\n",
       "      console.info(\"Bokeh: all callbacks have finished\");\n",
       "    }\n",
       "  \n",
       "    function load_libs(js_urls, callback) {\n",
       "      root._bokeh_onload_callbacks.push(callback);\n",
       "      if (root._bokeh_is_loading > 0) {\n",
       "        console.log(\"Bokeh: BokehJS is being loaded, scheduling callback at\", now());\n",
       "        return null;\n",
       "      }\n",
       "      if (js_urls == null || js_urls.length === 0) {\n",
       "        run_callbacks();\n",
       "        return null;\n",
       "      }\n",
       "      console.log(\"Bokeh: BokehJS not loaded, scheduling load and callback at\", now());\n",
       "      root._bokeh_is_loading = js_urls.length;\n",
       "      for (var i = 0; i < js_urls.length; i++) {\n",
       "        var url = js_urls[i];\n",
       "        var s = document.createElement('script');\n",
       "        s.src = url;\n",
       "        s.async = false;\n",
       "        s.onreadystatechange = s.onload = function() {\n",
       "          root._bokeh_is_loading--;\n",
       "          if (root._bokeh_is_loading === 0) {\n",
       "            console.log(\"Bokeh: all BokehJS libraries loaded\");\n",
       "            run_callbacks()\n",
       "          }\n",
       "        };\n",
       "        s.onerror = function() {\n",
       "          console.warn(\"failed to load library \" + url);\n",
       "        };\n",
       "        console.log(\"Bokeh: injecting script tag for BokehJS library: \", url);\n",
       "        document.getElementsByTagName(\"head\")[0].appendChild(s);\n",
       "      }\n",
       "    };var element = document.getElementById(\"7aa85e80-8b20-4dc7-998e-401db9756ecc\");\n",
       "    if (element == null) {\n",
       "      console.log(\"Bokeh: ERROR: autoload.js configured with elementid '7aa85e80-8b20-4dc7-998e-401db9756ecc' but no matching script tag was found. \")\n",
       "      return false;\n",
       "    }\n",
       "  \n",
       "    var js_urls = [];\n",
       "  \n",
       "    var inline_js = [\n",
       "      function(Bokeh) {\n",
       "        (function() {\n",
       "          var fn = function() {\n",
       "            var docs_json = {\"3d0655a9-1f2f-497c-a973-5389db74ab4f\":{\"roots\":{\"references\":[{\"attributes\":{\"fill_alpha\":{\"value\":0.1},\"fill_color\":{\"value\":\"#1f77b4\"},\"line_alpha\":{\"value\":0.1},\"line_color\":{\"value\":\"#1f77b4\"},\"size\":{\"units\":\"screen\",\"value\":8},\"x\":{\"field\":\"x\"},\"y\":{\"field\":\"y\"}},\"id\":\"c3b44934-5ed2-4fbc-874c-40dda3984b89\",\"type\":\"Circle\"},{\"attributes\":{},\"id\":\"2c2f9b70-918d-4e61-883d-7c8d57728079\",\"type\":\"LinearScale\"},{\"attributes\":{},\"id\":\"6829c1c9-c951-4ef0-9ceb-7f1c7584a77f\",\"type\":\"BasicTickFormatter\"},{\"attributes\":{\"source\":{\"id\":\"6a0da6c9-6ce4-4dfc-899c-6b86fbb7f5a6\",\"type\":\"ColumnDataSource\"}},\"id\":\"216d96dc-b9a7-41a7-ab3d-4019bb8240cd\",\"type\":\"CDSView\"},{\"attributes\":{\"callback\":null},\"id\":\"3d0d1bb5-bd47-43f9-9f2c-ce303254dd23\",\"type\":\"DataRange1d\"},{\"attributes\":{\"fill_alpha\":{\"value\":0.5},\"fill_color\":{\"value\":\"lightgrey\"},\"level\":\"overlay\",\"line_alpha\":{\"value\":1.0},\"line_color\":{\"value\":\"black\"},\"line_dash\":[4,4],\"line_width\":{\"value\":2},\"plot\":null,\"xs_units\":\"screen\",\"ys_units\":\"screen\"},\"id\":\"327ec6d6-0716-49f2-b513-eac230358caa\",\"type\":\"PolyAnnotation\"},{\"attributes\":{\"line_alpha\":{\"value\":0.1},\"line_color\":{\"value\":\"#1f77b4\"},\"line_width\":{\"value\":5},\"x\":{\"field\":\"xm\"},\"y\":{\"field\":\"ym\"}},\"id\":\"9251faa0-2306-4e1a-9212-67fc8e12c86f\",\"type\":\"Line\"},{\"attributes\":{},\"id\":\"ed4ec15b-e96b-4603-9685-f148833c9c6b\",\"type\":\"BasicTicker\"},{\"attributes\":{\"dimension\":1,\"plot\":{\"id\":\"c669b475-b412-4609-8337-0606a88f3023\",\"subtype\":\"Figure\",\"type\":\"Plot\"},\"ticker\":{\"id\":\"87fe035b-a0ce-4a5a-b9d1-85b7c84635f7\",\"type\":\"BasicTicker\"}},\"id\":\"70b75cd5-39ea-487d-bb88-926357bca72f\",\"type\":\"Grid\"},{\"attributes\":{\"args\":{\"s2\":{\"id\":\"6a0da6c9-6ce4-4dfc-899c-6b86fbb7f5a6\",\"type\":\"ColumnDataSource\"}},\"code\":\"\\n    var inds = cb_obj.get('selected')['1d'].indices;\\n    var d = cb_obj.get('data');\\n    var ym = 0\\n    \\n    if (inds.length == 0) { return; }\\n    \\n    for (i = 0; i < d['color'].length; i++) {\\n        d['color'][i] = \\\"navy\\\"\\n    }\\n    for (i = 0; i < inds.length; i++) {\\n        d['color'][inds[i]] = \\\"firebrick\\\"\\n        ym += d['y'][inds[i]]\\n    }\\n    \\n    ym /= inds.length\\n    s2.get('data')['ym'] = [ym, ym]\\n    \\n    cb_obj.trigger('change');\\n    s2.trigger('change');\\n\"},\"id\":\"e98bcc19-0862-416f-9fc9-b6fc9406d2b7\",\"type\":\"CustomJS\"},{\"attributes\":{\"source\":{\"id\":\"d73ce496-4a2b-4422-8f1e-8d41b6979e2b\",\"type\":\"ColumnDataSource\"}},\"id\":\"deea95a0-8a57-4bcb-8269-7f9e50dfe8bd\",\"type\":\"CDSView\"},{\"attributes\":{\"formatter\":{\"id\":\"6829c1c9-c951-4ef0-9ceb-7f1c7584a77f\",\"type\":\"BasicTickFormatter\"},\"plot\":{\"id\":\"c669b475-b412-4609-8337-0606a88f3023\",\"subtype\":\"Figure\",\"type\":\"Plot\"},\"ticker\":{\"id\":\"ed4ec15b-e96b-4603-9685-f148833c9c6b\",\"type\":\"BasicTicker\"}},\"id\":\"6617e5da-4189-4989-bf3b-98be07b6fa3b\",\"type\":\"LinearAxis\"},{\"attributes\":{\"plot\":{\"id\":\"c669b475-b412-4609-8337-0606a88f3023\",\"subtype\":\"Figure\",\"type\":\"Plot\"},\"ticker\":{\"id\":\"ed4ec15b-e96b-4603-9685-f148833c9c6b\",\"type\":\"BasicTicker\"}},\"id\":\"436a7128-e0eb-4f90-8dcd-173e44bdc089\",\"type\":\"Grid\"},{\"attributes\":{},\"id\":\"87fe035b-a0ce-4a5a-b9d1-85b7c84635f7\",\"type\":\"BasicTicker\"},{\"attributes\":{\"line_alpha\":{\"value\":0.6},\"line_color\":{\"value\":\"orange\"},\"line_width\":{\"value\":5},\"x\":{\"field\":\"xm\"},\"y\":{\"field\":\"ym\"}},\"id\":\"8934b320-fb27-4a10-ba83-a2d9370b5418\",\"type\":\"Line\"},{\"attributes\":{\"formatter\":{\"id\":\"f9062bfd-49c4-4100-bb24-777e5b938ea3\",\"type\":\"BasicTickFormatter\"},\"plot\":{\"id\":\"c669b475-b412-4609-8337-0606a88f3023\",\"subtype\":\"Figure\",\"type\":\"Plot\"},\"ticker\":{\"id\":\"87fe035b-a0ce-4a5a-b9d1-85b7c84635f7\",\"type\":\"BasicTicker\"}},\"id\":\"a809587c-4b08-416a-87f3-c6d23f0f5c7b\",\"type\":\"LinearAxis\"},{\"attributes\":{\"callback\":null,\"column_names\":[\"xm\",\"ym\"],\"data\":{\"xm\":[0,1],\"ym\":[0.5,0.5]}},\"id\":\"6a0da6c9-6ce4-4dfc-899c-6b86fbb7f5a6\",\"type\":\"ColumnDataSource\"},{\"attributes\":{\"data_source\":{\"id\":\"6a0da6c9-6ce4-4dfc-899c-6b86fbb7f5a6\",\"type\":\"ColumnDataSource\"},\"glyph\":{\"id\":\"8934b320-fb27-4a10-ba83-a2d9370b5418\",\"type\":\"Line\"},\"hover_glyph\":null,\"muted_glyph\":null,\"nonselection_glyph\":{\"id\":\"9251faa0-2306-4e1a-9212-67fc8e12c86f\",\"type\":\"Line\"},\"selection_glyph\":null,\"view\":{\"id\":\"216d96dc-b9a7-41a7-ab3d-4019bb8240cd\",\"type\":\"CDSView\"}},\"id\":\"fb49775b-6fb9-4734-8297-266e2012b4b2\",\"type\":\"GlyphRenderer\"},{\"attributes\":{\"callback\":null,\"overlay\":{\"id\":\"327ec6d6-0716-49f2-b513-eac230358caa\",\"type\":\"PolyAnnotation\"}},\"id\":\"8eb96e99-dc35-404b-8a3c-faf80f6ba55b\",\"type\":\"LassoSelectTool\"},{\"attributes\":{},\"id\":\"f9062bfd-49c4-4100-bb24-777e5b938ea3\",\"type\":\"BasicTickFormatter\"},{\"attributes\":{\"callback\":null},\"id\":\"ca7dcb03-665e-4af8-8f06-83f95c947eed\",\"type\":\"DataRange1d\"},{\"attributes\":{},\"id\":\"baa08970-bffe-4aa7-9a2f-bf143d876bbf\",\"type\":\"LinearScale\"},{\"attributes\":{\"callback\":{\"id\":\"e98bcc19-0862-416f-9fc9-b6fc9406d2b7\",\"type\":\"CustomJS\"},\"column_names\":[\"x\",\"y\",\"color\"],\"data\":{\"color\":[\"navy\",\"navy\",\"navy\",\"navy\",\"navy\",\"navy\",\"navy\",\"navy\",\"navy\",\"navy\",\"navy\",\"navy\",\"navy\",\"navy\",\"navy\",\"navy\",\"navy\",\"navy\",\"navy\",\"navy\",\"navy\",\"navy\",\"navy\",\"navy\",\"navy\",\"navy\",\"navy\",\"navy\",\"navy\",\"navy\",\"navy\",\"navy\",\"navy\",\"navy\",\"navy\",\"navy\",\"navy\",\"navy\",\"navy\",\"navy\",\"navy\",\"navy\",\"navy\",\"navy\",\"navy\",\"navy\",\"navy\",\"navy\",\"navy\",\"navy\",\"navy\",\"navy\",\"navy\",\"navy\",\"navy\",\"navy\",\"navy\",\"navy\",\"navy\",\"navy\",\"navy\",\"navy\",\"navy\",\"navy\",\"navy\",\"navy\",\"navy\",\"navy\",\"navy\",\"navy\",\"navy\",\"navy\",\"navy\",\"navy\",\"navy\",\"navy\",\"navy\",\"navy\",\"navy\",\"navy\",\"navy\",\"navy\",\"navy\",\"navy\",\"navy\",\"navy\",\"navy\",\"navy\",\"navy\",\"navy\",\"navy\",\"navy\",\"navy\",\"navy\",\"navy\",\"navy\",\"navy\",\"navy\",\"navy\",\"navy\",\"navy\",\"navy\",\"navy\",\"navy\",\"navy\",\"navy\",\"navy\",\"navy\",\"navy\",\"navy\",\"navy\",\"navy\",\"navy\",\"navy\",\"navy\",\"navy\",\"navy\",\"navy\",\"navy\",\"navy\",\"navy\",\"navy\",\"navy\",\"navy\",\"navy\",\"navy\",\"navy\",\"navy\",\"navy\",\"navy\",\"navy\",\"navy\",\"navy\",\"navy\",\"navy\",\"navy\",\"navy\",\"navy\",\"navy\",\"navy\",\"navy\",\"navy\",\"navy\",\"navy\",\"navy\",\"navy\",\"navy\",\"navy\",\"navy\",\"navy\",\"navy\",\"navy\",\"navy\",\"navy\",\"navy\",\"navy\",\"navy\",\"navy\",\"navy\",\"navy\",\"navy\",\"navy\",\"navy\",\"navy\",\"navy\",\"navy\",\"navy\",\"navy\",\"navy\",\"navy\",\"navy\",\"navy\",\"navy\",\"navy\",\"navy\",\"navy\",\"navy\",\"navy\",\"navy\",\"navy\",\"navy\",\"navy\",\"navy\",\"navy\",\"navy\",\"navy\",\"navy\",\"navy\",\"navy\",\"navy\",\"navy\",\"navy\",\"navy\",\"navy\",\"navy\",\"navy\",\"navy\",\"navy\",\"navy\",\"navy\",\"navy\",\"navy\",\"navy\",\"navy\",\"navy\",\"navy\",\"navy\",\"navy\",\"navy\",\"navy\",\"navy\",\"navy\",\"navy\",\"navy\",\"navy\",\"navy\",\"navy\",\"navy\",\"navy\",\"navy\",\"navy\",\"navy\",\"navy\",\"navy\",\"navy\",\"navy\",\"navy\",\"navy\",\"navy\",\"navy\",\"navy\",\"navy\",\"navy\",\"navy\",\"navy\",\"navy\",\"navy\",\"navy\",\"navy\",\"navy\",\"navy\",\"navy\",\"navy\",\"navy\",\"navy\",\"navy\",\"navy\",\"navy\",\"navy\",\"navy\",\"navy\",\"navy\",\"navy\",\"navy\",\"navy\",\"navy\",\"navy\",\"navy\",\"navy\",\"navy\",\"navy\",\"navy\",\"navy\",\"navy\",\"navy\",\"navy\",\"navy\",\"navy\",\"navy\",\"navy\",\"navy\",\"navy\",\"navy\",\"navy\",\"navy\",\"navy\",\"navy\",\"navy\",\"navy\",\"navy\",\"navy\",\"navy\",\"navy\",\"navy\",\"navy\",\"navy\",\"navy\",\"navy\",\"navy\",\"navy\",\"navy\",\"navy\",\"navy\",\"navy\",\"navy\",\"navy\",\"navy\",\"navy\",\"navy\",\"navy\",\"navy\",\"navy\",\"navy\",\"navy\",\"navy\",\"navy\",\"navy\",\"navy\",\"navy\",\"navy\",\"navy\",\"navy\",\"navy\",\"navy\",\"navy\",\"navy\",\"navy\",\"navy\",\"navy\",\"navy\",\"navy\",\"navy\",\"navy\",\"navy\",\"navy\",\"navy\",\"navy\",\"navy\",\"navy\",\"navy\",\"navy\",\"navy\",\"navy\",\"navy\",\"navy\",\"navy\",\"navy\",\"navy\",\"navy\",\"navy\",\"navy\",\"navy\",\"navy\",\"navy\",\"navy\",\"navy\",\"navy\",\"navy\",\"navy\",\"navy\",\"navy\",\"navy\",\"navy\",\"navy\",\"navy\",\"navy\",\"navy\",\"navy\",\"navy\",\"navy\",\"navy\",\"navy\",\"navy\",\"navy\",\"navy\",\"navy\",\"navy\",\"navy\",\"navy\",\"navy\",\"navy\",\"navy\",\"navy\",\"navy\",\"navy\",\"navy\",\"navy\",\"navy\",\"navy\",\"navy\",\"navy\",\"navy\",\"navy\",\"navy\",\"navy\",\"navy\",\"navy\",\"navy\",\"navy\",\"navy\",\"navy\",\"navy\",\"navy\",\"navy\",\"navy\",\"navy\",\"navy\",\"navy\",\"navy\",\"navy\",\"navy\",\"navy\",\"navy\",\"navy\",\"navy\",\"navy\",\"navy\",\"navy\",\"navy\",\"navy\",\"navy\",\"navy\",\"navy\",\"navy\",\"navy\",\"navy\",\"navy\",\"navy\",\"navy\",\"navy\",\"navy\",\"navy\",\"navy\",\"navy\",\"navy\",\"navy\",\"navy\",\"navy\",\"navy\",\"navy\",\"navy\",\"navy\",\"navy\",\"navy\",\"navy\",\"navy\",\"navy\",\"navy\",\"navy\",\"navy\",\"navy\",\"navy\",\"navy\",\"navy\",\"navy\",\"navy\",\"navy\",\"navy\",\"navy\",\"navy\",\"navy\",\"navy\",\"navy\",\"navy\",\"navy\",\"navy\",\"navy\",\"navy\",\"navy\",\"navy\",\"navy\",\"navy\",\"navy\",\"navy\",\"navy\",\"navy\",\"navy\",\"navy\",\"navy\",\"navy\",\"navy\",\"navy\",\"navy\",\"navy\",\"navy\",\"navy\",\"navy\",\"navy\",\"navy\",\"navy\",\"navy\",\"navy\",\"navy\",\"navy\",\"navy\",\"navy\",\"navy\",\"navy\",\"navy\",\"navy\",\"navy\",\"navy\",\"navy\",\"navy\",\"navy\",\"navy\",\"navy\",\"navy\",\"navy\",\"navy\"],\"x\":[0.3756319515370674,0.03915528513590494,0.04909517633614813,0.6868060132854438,0.5717566954201361,0.34686830208851005,0.8602823989214868,0.6565038951923806,0.8813326066577437,0.7306394860873681,0.9312723788446069,0.8785759186612998,0.5470162287394205,0.8616866318746346,0.8179579153799053,0.007561125988897799,0.15362822592259717,0.8278331717672399,0.8246124186643911,0.38291885255365954,0.9536458088613666,0.5507175259010861,0.7753454262419112,0.7373469176607229,0.08032756509789396,0.7433042576597122,0.2939625382591444,0.2441164207873716,0.41362442308735214,0.9254870559782834,0.7685977731442265,0.6603986288484259,0.04515823910770567,0.280067814420795,0.24958413746661912,0.9780438849140125,0.6038097680540601,0.47062705056032406,0.9740461750728471,0.25096553216259243,0.5188486296538293,0.37126929302461353,0.46463229582485044,0.8376853574652723,0.9158199621495937,0.9933423818370208,0.21573631942457616,0.8644790479688841,0.7396222795269013,0.6018014027507815,0.21887914913196982,0.4569802978515366,0.18264404238455,0.6020345620489791,0.2972381734658792,0.8892763188259349,0.27046610774446134,0.7155225473873154,0.7990496161878817,0.499701671538204,0.48519573861483656,0.22576921397281957,0.8515130872457112,0.6499084220492599,0.735151468097132,0.3776815344586888,0.2792730788093173,0.143370784301183,0.9774940453818465,0.8617479236307956,0.31008964759322655,0.5243604509195803,0.7206948321949354,0.3124670068438766,0.6520223740737784,0.4244684706958961,0.03652061993083444,0.8337685659473631,0.359439295499262,0.6715447077211525,0.15877193437280723,0.14517132240635633,0.9890615426620848,0.351171266429422,0.5965105862223951,0.9923707551527728,0.0020606677085716063,0.6967905104546926,0.37254145312888987,0.19010377902431663,0.807202741399465,0.9183096324731367,0.7714810526462875,0.30909436822720915,0.7539703394783552,0.15821836745502893,0.022612543795097473,0.5417614250640693,0.5850836784900716,0.4603598839026898,0.8097588710631218,0.1359096481353642,0.8174632165021648,0.501554004816141,0.9258297303574836,0.9778046503967809,0.02552645059113967,0.9982591919533805,0.0659140244170161,0.5503719069390626,0.34941395926378493,0.2335996603866467,0.23057868270253923,0.7570148517812628,0.6690161830660203,0.29266664192156155,0.8685881845098766,0.815425620085748,0.5538742015994967,0.9948483464037179,0.8843264208967797,0.7555603099016431,0.09612744532347373,0.44913419267506605,0.22120339461769656,0.9127585227475159,0.17374776264257685,0.6038232035228576,0.4878834553175617,0.8685787631699965,0.577182608141524,0.21272161123721,0.8674653921038938,0.08102125768517188,0.3972166323864107,0.6736550081941628,0.8409101049120751,0.9969303682664105,0.6674431138937459,0.7210532704818832,0.9623518477766042,0.004260467138640256,0.32932446178472474,0.8832439792650406,0.32089458748992217,0.9947994877757476,0.5947412383365092,0.6428658866595328,0.7794745841180958,0.8192336817039025,0.797537561714223,0.4914976631002598,0.3060550264887514,0.33549268804427257,0.9261121445784526,0.22760389719540863,0.47875189738395496,0.9590690755636954,0.4437947677113404,0.3226368926625559,0.21272374156794915,0.6017975286098798,0.9803979784508998,0.8977607686151344,0.3889849926356246,0.35481141425924667,0.7557103745392311,0.816218382201489,0.9303984295138011,0.12939325797888324,0.3555730211754924,0.5115728375949647,0.3094241943934728,0.30023656473947347,0.8186991571717632,0.03971598067877491,0.14484306703759053,0.4672743055419517,0.05609137074370074,0.10261244058565,0.05925409264986781,0.41655518844141426,0.3497640764098936,0.05700360869549281,0.002073282873958693,0.476146038903844,0.5555626010677363,0.9366256616613637,0.09869444266208771,0.3752690248587732,0.6817014231031772,0.8738380823440722,0.6772404528233865,0.9951676952063787,0.3455981393826205,0.5833046965101591,0.8649898904440606,0.4105421673132874,0.5733440579120466,0.7709506479773914,0.6012444558089896,0.2743081959547985,0.040240084215923067,0.02194342111958103,0.9926460770412667,0.42238577862010074,0.10501095128641458,0.43822042498030833,0.10343796926486748,0.7052822537697568,0.0715534970270002,0.07393843595404015,0.7379069102843819,0.12429100974246743,0.9301278098142344,0.9747400656509596,0.11009688916245175,0.41760714702462454,0.00021609387496945853,0.3494645082865977,0.8184591397012043,0.1293302624633702,0.15545203271975216,0.8087868871288401,0.43663194520842463,0.5419288515756531,0.8790823538343162,0.3722885961597081,0.945080860604504,0.7313276981299519,0.7298370153685617,0.10118641376550708,0.7969070713841664,0.9885109569071925,0.5745550450717487,0.008039600920596524,0.35248241012505455,0.40076230812900016,0.40962906176233194,0.09667430022233059,0.48191989022654247,0.2896638637576314,0.9434695056418675,0.10010944886699713,0.5107441436062372,0.4571988118504444,0.03040156879041933,0.27885102561715813,0.07130694810837446,0.4387851934571235,0.5955221126269915,0.5063082314552174,0.9930751013417601,0.2588738275847867,0.9674288196128682,0.8643783504156806,0.30746262330615104,0.31382279352733866,0.42367439534429785,0.36993890521261785,0.443924737694837,0.03926140786778953,0.2819129547739454,0.5781291070420307,0.3771718783930442,0.5234628974358401,0.7288560215146979,0.5309454128205571,0.702810754573984,0.08686358854291887,0.9837185811291651,0.7879755333506093,0.18219828461450094,0.720596175195172,0.23332364296720076,0.6266816536368612,0.17478793143685845,0.6657259383354924,0.0822009033650053,0.528108084448341,0.4785506616658681,0.21643903789646035,0.9376098567825571,0.7090873981697453,0.844025730151798,0.8873139341491126,0.04665933738865102,0.4752303562693757,0.5215359672754679,0.490997674892354,0.45306652288315397,0.8953021145574521,0.6465733881528132,0.5932460466292245,0.8554005038285776,0.4260329314054818,0.9963883378540109,0.6842873103738147,0.6391670346778753,0.5357043555223359,0.8429865282014009,0.9513456556042055,0.00910245141788002,0.22902581711107273,0.33162227885821727,0.838079974030625,0.2042881333740567,0.8556014945161888,0.11838207042458682,0.7892390579370459,0.07981814725337755,0.6500389889860261,0.18595404533253557,0.0886823736304565,0.11665528514889523,0.047418076846707735,0.27708722018384824,0.3153687517614735,0.5253963847421007,0.07013919492828158,0.1477951891521998,0.8471126208654347,0.04271128801599189,0.1341496613832529,0.904767376451075,0.9079918758080225,0.3962374602617311,0.8353547648412173,0.19371148395458482,0.32403745779565896,0.7636145122797866,0.78236127899162,0.729737903247724,0.26586915986922477,0.8394465166610446,0.8927889559174804,0.6687696516545844,0.07737115652994175,0.01580555483169155,0.11027193935851554,0.6762632310504348,0.8084624531644281,0.032810511019039645,0.6956201472235828,0.4036118983995661,0.10165905828169275,0.63948886302967,0.8924117029615043,0.7194893311699612,0.10394618974128844,0.23094717561537392,0.5313521832815941,0.8054766996775331,0.10704205102381859,0.8649773967731168,0.8186337122474248,0.7041650095334313,0.5013998961805183,0.19223952289997703,0.025494787112820938,0.5656774649317184,0.5991894226368587,0.20868244823433935,0.0867600185712798,0.7139274501232294,0.9861684631869122,0.40658967589804607,0.14362564956324542,0.1652695063281252,0.7023843024602235,0.3638056850814154,0.36329637338248233,0.0649220085455966,0.9969964774598238,0.5532958968148938,0.8186605104985255,0.4741925170842849,0.2335129915064822,0.20065967014908437,0.5257073365365708,0.883237148782075,0.4663931548737834,0.9124815046198921,0.5030190905405769,0.653724330419593,0.7872348927713164,0.9896362808218554,0.6603636215737219,0.04079048524465556,0.6087933277697531,0.446391476204556,0.7863057176900754,0.30517110940497105,0.2347746624592234,0.7505961289289975,0.3463339728580628,0.8738053357409042,0.11624699217059098,0.25422921420803013,0.8322334952849839,0.9946915885534708,0.9361448316311249,0.0030650000067848904,0.537609379614488,0.29695760417377115,0.42331943777420133,0.9893578004783791,0.413258254202284,0.6531224370290575,0.11845790270203138,0.08696497780346724,0.9858575883249305,0.9278812182582094,0.5119944240951434,0.9504518752134744,0.10634372540756198,0.26294088676769534,0.7226279035622932,0.8984777705081703,0.9495398597106902,0.798583478789208,0.9596033839007405,0.9743333687788013,0.0236197975485124,0.08678357931063807,0.4100739050031197,0.5971843780860606,0.9798609986613481,0.18154683444822128,0.17477242927944636,0.7590266671508994,0.24719672735541265,0.263349572688795,0.5701680546218301,0.9541997487938356,0.5538357488857422,0.5525127653181661,0.32977122803261527,0.22626844025377246,0.03708790460129052,0.3805718483045798,0.11881878148774094,0.9603726303847812,0.04207055388072278,0.15898466046188697,0.28009471949748155,0.8857648005984334,0.68651845521553,0.9118203129653634,0.23760361128492957,0.5789890724448638,0.42975680523659865,0.35734867125033754,0.7286714669089837,0.8150405057337796,0.7012546433091721,0.2088670302924286,0.48233924003835515,0.6562704886625819,0.9390205455563988,0.058827620579856243,0.5542574165453059,0.1941348256172838,0.25141734506049684,0.9750354837676807,0.4220912886765462,0.6841486041842626,0.9745686544554092,0.8338995962251392,0.5920923084568938,0.8969553294682248,0.6745560669116385,0.24865796363019588,0.28685904221921343,0.2921751297584303,0.45556154657119463,0.1871348773536109,0.7591693825729744,0.45620635886673333,0.7113180082558299,0.7576555762885491,0.28050541051436606,0.9689494415691856,0.012804910191085317,0.38194442669393946,0.787067797184967,0.7668263628754362,0.8638953417601931,0.8693703430690404,0.1431524770586753,0.9902987589648831,0.626574170146312,0.1377315188286231,0.8190159155451133,0.37640795540387695,0.6194306911012037,0.9240539069925929,0.1051424688346555,0.5559616160136802,0.09687437813630217],\"y\":[0.7073797715336065,0.16536495285793973,0.8340429037506825,0.6413751613962789,0.6567783606675505,0.4222116961763036,0.8496882582289653,0.7054005710715862,0.4846448720670862,0.21773964026468573,0.06446531392712085,0.1417679706043391,0.03082415477686562,0.7118650068085165,0.40388844694100545,0.5626436903476171,0.5699427253462517,0.6474015354227588,0.684313630938418,0.9689614639041154,0.7114625784638128,0.8563055566325306,0.9316284843869399,0.3801830641982563,0.1261374895766676,0.482154910062374,0.2999361879130299,0.4304007170521369,0.18165157803389465,0.21728300394244948,0.06199256724720226,0.28868459574340266,0.569549353553435,0.848119426082156,0.3914837604096737,0.722932474119515,0.005537713982948778,0.7895143035772528,0.8670269212429877,0.07454261136500295,0.5677435716738459,0.7881245619446359,0.8015663109361783,0.42848263842031276,0.8044629198087482,0.431583135246442,0.7903311840094699,0.5759705950070173,0.9311653890068851,0.8156916878084145,0.3639403443373115,0.17838018158248237,0.9667583948043253,0.06022148287798845,0.35735827708870216,0.9352328455033572,0.951080427591055,0.9161045525722873,0.5602120039733308,0.4474316377022749,0.17910318224061228,0.4141415810526413,0.0007660540784359959,0.19880043936603387,0.09367139421914439,0.9393011294038344,0.7582806958968827,0.4938169546094341,0.39005922798187276,0.9677416901994256,0.5141651345899126,0.4381687679371521,0.5359428264161539,0.9965304275210831,0.2633634478358188,0.49856351194317605,0.7975235392231402,0.5439049951752227,0.05822734307663058,0.5106979863635903,0.17750115746966766,0.07911430536811503,0.2506173377862021,0.9714543149205216,0.28025000149733137,0.9142047923039771,0.015984778513933984,0.9991833099652192,0.9229494271394911,0.788177449342108,0.48238223678719916,0.5509276070621025,0.3225770224799963,0.228707700121353,0.7952056240722214,0.37902494804182874,0.9236248719685077,0.6024575905759831,0.7545300610978386,0.636180752625682,0.029527406779557896,0.04945827670278802,0.8338538915969994,0.3311715885398411,0.5906226035175796,0.35147481148837967,0.4045731948967065,0.688686805271943,0.1102799986444144,0.5927312325566944,0.27275515947982876,0.40806045185130624,0.7342072363613777,0.08737569830795988,0.6221813674016566,0.4497666831163133,0.8346814066014125,0.8840568460615165,0.43600266417696953,0.5039370288864378,0.7302484181160422,0.41349616586517746,0.9807161316843939,0.9855761503062389,0.7272631718453582,0.05717158455500271,0.02131677245188024,0.08490156137531535,0.2541546929276032,0.09465092707882772,0.16241162046781188,0.7570578370969353,0.5809786557929953,0.8549749918895215,0.7056845427501436,0.4816771724096688,0.5255879910335034,0.45085026823081864,0.49037472606020027,0.20865148642332,0.6715121385194113,0.4604352803208811,0.25432906764259156,0.21351400081113903,0.5481122861725324,0.7785592955002373,0.41292273966911575,0.9026558353432823,0.9608841915853157,0.10353891238971502,0.2409120000135404,0.03944661941941907,0.29395548721397546,0.25956406228635054,0.8923625418648102,0.5748007490119832,0.13295551849731324,0.4608160326538864,0.884292361440028,0.9504325629801873,0.7778710869376437,0.16848548376453787,0.8382256857728716,0.24842195320599014,0.005384403487418754,0.7225342527870421,0.2710325785920178,0.675435818499581,0.2765510086664439,0.08372173928818072,0.6384595745690093,0.004773131099075623,0.25828534570305406,0.36772196807646285,0.009059874199458084,0.6313801794970212,0.7239017400618482,0.5656903528824833,0.9248017440729545,0.10977450433814606,0.33078086669249607,0.7163169188971488,0.8707408949921659,0.06355974125426722,0.48403705573816136,0.9752768232410378,0.2082803315684726,0.18815584593240542,0.9054936417566434,0.6254230581843604,0.5473309444285184,0.14736690758296545,0.7757260967028344,0.7310801534912288,0.7061693973663025,0.21900739793316126,0.035768276569533075,0.3601663529354875,0.9669266279519467,0.4496844051359279,0.029750058010582614,0.6438992776654722,0.8602264060553573,0.25305705824169744,0.22098134182628626,0.7876105854305302,0.2752392905504657,0.08822106777031391,0.16163856078712469,0.6763515269170967,0.6725840485488668,0.8060040285113103,0.7495382682237124,0.7216159365223829,0.027051735223125872,0.3527034666940341,0.7121385200650551,0.9713399254916896,0.7146007883419331,0.6345194259315652,0.8835442664970464,0.9037991955544102,0.7393663333406992,0.6258323964885268,0.4325140424289141,0.5068903760119908,0.7392705576670112,0.5399835982766881,0.16817942859280877,0.14086248442210514,0.844167026777364,0.48345147332816873,0.13536093760644397,0.7905717428201533,0.6772289422670575,0.9976312388198455,0.4470463408293913,0.2448332982036332,0.0496163422173419,0.9299594717827567,0.5106684387546069,0.5336058967924705,0.2729037935381815,0.26249164946963344,0.5667855269631644,0.5305412587366453,0.02752288165610084,0.9223946363065935,0.5717544138337983,0.6734255982173069,0.8608819549274191,0.36434014407627646,0.028263233167284074,0.783823112866727,0.020574477455676643,0.139002566180763,0.43021319283364157,0.9529897849895681,0.3345621686703534,0.7706622053545936,0.5707892434097135,0.971088967872617,0.703955421570594,0.6589155117041703,0.3942257905739288,0.21900915097530704,0.289321800828512,0.16505864825184657,0.3645362792302552,0.19880270879062878,0.32987163927522,0.6868931761849139,0.9674771122697486,0.9339975154494674,0.34288129482970087,0.31278235033189516,0.7015503573331038,0.20771533504470063,0.269135142485713,0.15755224184912764,0.15817054232076422,0.9264910438721864,0.9524178542902382,0.5530511721302961,0.3087804672231702,0.957754053667061,0.7068742178904268,0.9602156228879828,0.8438859137237882,0.14490041676278265,0.4262272075620407,0.31640961187637573,0.13734617364042923,0.009681376612353798,0.9607693302109529,0.7631573624990453,0.0912823637689818,0.21739858870686923,0.049578839099573835,0.8472149457279754,0.33237282709939875,0.4028818472302227,0.7752308890194306,0.3541940624884745,0.1976878599384304,0.030203221438634187,0.40269520770844125,0.9212210401559628,0.4442969191740992,0.49699263359336354,0.13701904083342342,0.17044660452336657,0.33070816658375213,0.2110094773175224,0.9264156623288649,0.6130955441066462,0.15595258376502208,0.18052163186862746,0.1410482545784758,0.21756076154226067,0.18195144462479618,0.8534911500398215,0.6639318013283375,0.7855134415596536,0.6737094995901,0.16481842384449008,0.6542499515666717,0.75477081683367,0.7971603757271327,0.26005431588613015,0.6435413294009117,0.16182435580048338,0.0987396601387932,0.5180233606804231,0.2519538296260454,0.6394419464983164,0.08819013309464041,0.492499029474616,0.7708426084417539,0.010458979238538224,0.17711024178510149,0.45833935475104504,0.23911399904573383,0.9690905198417146,0.003480709147340999,0.9637312204751184,0.3518646128847025,0.8527336679781958,0.709509523489482,0.4951649529238952,0.5017992237006015,0.20921952319774462,0.10000028186521415,0.8863033279407715,0.058739821663931546,0.39005376041937445,0.06376003135600128,0.7386162294621117,0.614215649787808,0.42971381107330897,0.9597510314308422,0.016968336979957366,0.26543176262463775,0.12305181708429547,0.7371255912464209,0.15672302181452546,0.9570752556459129,0.21119483731910993,0.387912592988086,0.9693033580061188,0.2529523512052695,0.662518413155605,0.7985020201595715,0.16844996502938925,0.6405027499721028,0.2289693328512029,0.016874974249479813,0.9643823618812489,0.33028868601976613,0.08342366535598023,0.9821068873797737,0.2593706385837933,0.7410836451261321,0.7452300115180954,0.5460119087904169,0.8465493685452192,0.8174602503707565,0.06278223519812465,0.8865364703893445,0.5856577745528955,0.4881188470545067,0.617677972171039,0.38289650366491,0.8376526184136184,0.6311526499009616,0.07162038482375033,0.9693316138348023,0.3873173693474733,0.06650617867651631,0.570475605264583,0.4640967271555787,0.9622501439715303,0.4158038354502315,0.7207315397158841,0.650954220999715,0.007220147019964762,0.603689374396823,0.0979475803796287,0.5027827302943079,0.2796470237399905,0.44268890740173616,0.7786331101500851,0.3771097720662201,0.9512477997281351,0.34725955765130534,0.7035494439623442,0.8453373900543246,0.6727106572537486,0.5030807500708241,0.5239474721615128,0.3370314584935139,0.8186612220819827,0.8249099917643956,0.4050465419352729,0.5233597155761324,0.11462413178195896,0.975418006416887,0.9520343416673945,0.4365447550555984,0.7014665279224388,0.24996408550880322,0.30018821285169117,0.9698015938303506,0.9204498698940627,0.1785780866941855,0.42947047467815513,0.27481867127079085,0.6574126849692637,0.5234412678580089,0.5657565362471484,0.5234909238850372,0.8882592872105886,0.31916713280801245,0.11087412242883976,0.894400056497899,0.8269093883936172,0.14397521711975592,0.011676408038914565,0.7052230481288089,0.010929930006151722,0.8758805731994822,0.22859925851866958,0.47450600003541654,0.04741177135549346,0.11993150300085087,0.5379218624950207,0.639651127930695,0.646085961256492,0.6358827178174777,0.5445631955632648,0.029161839291308556,0.8844920772544507,0.7576360715595023,0.6247627738395616,0.6267395879087012,0.5346153182411714,0.7370418980608242,0.42074756353299136,0.27104312470326997,0.8084958421549728,0.5944940797818352,0.8523717397393525,0.7247254708360108,0.06961252964968268,0.8806380687502618,0.7585537071122864,0.031253602564998206,0.22963179076034257,0.02977378681079601,0.16239355541681788,0.047584269973696025,0.47168220989487497,0.34489130882021946,0.25029228027546124,0.11051305317403615,0.424951394351438,0.07580663823964218,0.8562471518533209,0.7350687250550104,0.9979895680840732,0.9582106843975629,0.28912667660988234,0.6938221594638097,0.8728540680421437,0.607571305456289,0.8432800758823066,0.0154024924592151,0.9383079425909804,0.8660485907561675,0.8318130144482044]}},\"id\":\"d73ce496-4a2b-4422-8f1e-8d41b6979e2b\",\"type\":\"ColumnDataSource\"},{\"attributes\":{\"plot\":null,\"text\":\"Select Here\"},\"id\":\"2e19bbe9-facb-49ed-a926-aa300929836a\",\"type\":\"Title\"},{\"attributes\":{\"active_drag\":\"auto\",\"active_inspect\":\"auto\",\"active_scroll\":\"auto\",\"active_tap\":\"auto\",\"tools\":[{\"id\":\"8eb96e99-dc35-404b-8a3c-faf80f6ba55b\",\"type\":\"LassoSelectTool\"}]},\"id\":\"83b4dde6-b9f2-4fda-9080-5c23b6093e37\",\"type\":\"Toolbar\"},{\"attributes\":{\"fill_alpha\":{\"value\":0.4},\"fill_color\":{\"field\":\"color\"},\"line_alpha\":{\"value\":0.4},\"line_color\":{\"field\":\"color\"},\"size\":{\"units\":\"screen\",\"value\":8},\"x\":{\"field\":\"x\"},\"y\":{\"field\":\"y\"}},\"id\":\"be870a78-47e4-4852-811c-1988d8fc10f4\",\"type\":\"Circle\"},{\"attributes\":{\"data_source\":{\"id\":\"d73ce496-4a2b-4422-8f1e-8d41b6979e2b\",\"type\":\"ColumnDataSource\"},\"glyph\":{\"id\":\"be870a78-47e4-4852-811c-1988d8fc10f4\",\"type\":\"Circle\"},\"hover_glyph\":null,\"muted_glyph\":null,\"nonselection_glyph\":{\"id\":\"c3b44934-5ed2-4fbc-874c-40dda3984b89\",\"type\":\"Circle\"},\"selection_glyph\":null,\"view\":{\"id\":\"deea95a0-8a57-4bcb-8269-7f9e50dfe8bd\",\"type\":\"CDSView\"}},\"id\":\"c7b6fbcd-7d73-45d2-a6a6-7c4e82d4dc76\",\"type\":\"GlyphRenderer\"},{\"attributes\":{\"below\":[{\"id\":\"6617e5da-4189-4989-bf3b-98be07b6fa3b\",\"type\":\"LinearAxis\"}],\"left\":[{\"id\":\"a809587c-4b08-416a-87f3-c6d23f0f5c7b\",\"type\":\"LinearAxis\"}],\"plot_height\":400,\"plot_width\":400,\"renderers\":[{\"id\":\"6617e5da-4189-4989-bf3b-98be07b6fa3b\",\"type\":\"LinearAxis\"},{\"id\":\"436a7128-e0eb-4f90-8dcd-173e44bdc089\",\"type\":\"Grid\"},{\"id\":\"a809587c-4b08-416a-87f3-c6d23f0f5c7b\",\"type\":\"LinearAxis\"},{\"id\":\"70b75cd5-39ea-487d-bb88-926357bca72f\",\"type\":\"Grid\"},{\"id\":\"327ec6d6-0716-49f2-b513-eac230358caa\",\"type\":\"PolyAnnotation\"},{\"id\":\"c7b6fbcd-7d73-45d2-a6a6-7c4e82d4dc76\",\"type\":\"GlyphRenderer\"},{\"id\":\"fb49775b-6fb9-4734-8297-266e2012b4b2\",\"type\":\"GlyphRenderer\"}],\"title\":{\"id\":\"2e19bbe9-facb-49ed-a926-aa300929836a\",\"type\":\"Title\"},\"toolbar\":{\"id\":\"83b4dde6-b9f2-4fda-9080-5c23b6093e37\",\"type\":\"Toolbar\"},\"x_range\":{\"id\":\"ca7dcb03-665e-4af8-8f06-83f95c947eed\",\"type\":\"DataRange1d\"},\"x_scale\":{\"id\":\"baa08970-bffe-4aa7-9a2f-bf143d876bbf\",\"type\":\"LinearScale\"},\"y_range\":{\"id\":\"3d0d1bb5-bd47-43f9-9f2c-ce303254dd23\",\"type\":\"DataRange1d\"},\"y_scale\":{\"id\":\"2c2f9b70-918d-4e61-883d-7c8d57728079\",\"type\":\"LinearScale\"}},\"id\":\"c669b475-b412-4609-8337-0606a88f3023\",\"subtype\":\"Figure\",\"type\":\"Plot\"}],\"root_ids\":[\"c669b475-b412-4609-8337-0606a88f3023\"]},\"title\":\"Bokeh Application\",\"version\":\"0.12.7\"}};\n",
       "            var render_items = [{\"docid\":\"3d0655a9-1f2f-497c-a973-5389db74ab4f\",\"elementid\":\"7aa85e80-8b20-4dc7-998e-401db9756ecc\",\"modelid\":\"c669b475-b412-4609-8337-0606a88f3023\"}];\n",
       "            \n",
       "            Bokeh.embed.embed_items(docs_json, render_items);\n",
       "          };\n",
       "          if (document.readyState != \"loading\") fn();\n",
       "          else document.addEventListener(\"DOMContentLoaded\", fn);\n",
       "        })();\n",
       "      },\n",
       "      function(Bokeh) {\n",
       "      }\n",
       "    ];\n",
       "  \n",
       "    function run_inline_js() {\n",
       "      \n",
       "      if ((root.Bokeh !== undefined) || (force === true)) {\n",
       "        for (var i = 0; i < inline_js.length; i++) {\n",
       "          inline_js[i].call(root, root.Bokeh);\n",
       "        }if (force === true) {\n",
       "          display_loaded();\n",
       "        }} else if (Date.now() < root._bokeh_timeout) {\n",
       "        setTimeout(run_inline_js, 100);\n",
       "      } else if (!root._bokeh_failed_load) {\n",
       "        console.log(\"Bokeh: BokehJS failed to load within specified timeout.\");\n",
       "        root._bokeh_failed_load = true;\n",
       "      } else if (force !== true) {\n",
       "        var cell = $(document.getElementById(\"7aa85e80-8b20-4dc7-998e-401db9756ecc\")).parents('.cell').data().cell;\n",
       "        cell.output_area.append_execute_result(NB_LOAD_WARNING)\n",
       "      }\n",
       "  \n",
       "    }\n",
       "  \n",
       "    if (root._bokeh_is_loading === 0) {\n",
       "      console.log(\"Bokeh: BokehJS loaded, going straight to plotting\");\n",
       "      run_inline_js();\n",
       "    } else {\n",
       "      load_libs(js_urls, function() {\n",
       "        console.log(\"Bokeh: BokehJS plotting callback run at\", now());\n",
       "        run_inline_js();\n",
       "      });\n",
       "    }\n",
       "  }(window));\n",
       "</script>"
      ]
     },
     "metadata": {},
     "output_type": "display_data"
    }
   ],
   "source": [
    "from random import random\n",
    "\n",
    "x = [random() for x in range(500)]\n",
    "y = [random() for y in range(500)]\n",
    "color = [\"navy\"] * len(x)\n",
    "\n",
    "s = ColumnDataSource(data=dict(x=x, y=y, color=color))\n",
    "p = figure(plot_width=400, plot_height=400, tools=\"lasso_select\", title=\"Select Here\")\n",
    "p.circle('x', 'y', color='color', size=8, source=s, alpha=0.4)\n",
    "\n",
    "s2 = ColumnDataSource(data=dict(xm=[0,1],ym=[0.5, 0.5]))\n",
    "p.line(x='xm', y='ym', color=\"orange\", line_width=5, alpha=0.6, source=s2)\n",
    "\n",
    "s.callback = CustomJS(args=dict(s2=s2), code=\"\"\"\n",
    "    var inds = cb_obj.get('selected')['1d'].indices;\n",
    "    var d = cb_obj.get('data');\n",
    "    var ym = 0\n",
    "    \n",
    "    if (inds.length == 0) { return; }\n",
    "    \n",
    "    for (i = 0; i < d['color'].length; i++) {\n",
    "        d['color'][i] = \"navy\"\n",
    "    }\n",
    "    for (i = 0; i < inds.length; i++) {\n",
    "        d['color'][inds[i]] = \"firebrick\"\n",
    "        ym += d['y'][inds[i]]\n",
    "    }\n",
    "    \n",
    "    ym /= inds.length\n",
    "    s2.get('data')['ym'] = [ym, ym]\n",
    "    \n",
    "    cb_obj.trigger('change');\n",
    "    s2.trigger('change');\n",
    "\"\"\")\n",
    "\n",
    "show(p)"
   ]
  },
  {
   "cell_type": "markdown",
   "metadata": {
    "collapsed": true
   },
   "source": [
    "# More\n",
    "For more interactions, see the User Guide - http://bokeh.pydata.org/en/latest/docs/user_guide/interaction.html"
   ]
  },
  {
   "cell_type": "code",
   "execution_count": null,
   "metadata": {
    "collapsed": true
   },
   "outputs": [],
   "source": []
  }
 ],
 "metadata": {
  "anaconda-cloud": {},
  "kernelspec": {
   "display_name": "Python 2",
   "language": "python",
   "name": "python2"
  },
  "language_info": {
   "codemirror_mode": {
    "name": "ipython",
    "version": 2
   },
   "file_extension": ".py",
   "mimetype": "text/x-python",
   "name": "python",
   "nbconvert_exporter": "python",
   "pygments_lexer": "ipython2",
   "version": "2.7.14"
  },
  "widgets": {
   "state": {
    "335ae2c8ff80469e9adac668c2924989": {
     "views": [
      {
       "cell_index": 19
      }
     ]
    }
   },
   "version": "1.2.0"
  }
 },
 "nbformat": 4,
 "nbformat_minor": 1
}
