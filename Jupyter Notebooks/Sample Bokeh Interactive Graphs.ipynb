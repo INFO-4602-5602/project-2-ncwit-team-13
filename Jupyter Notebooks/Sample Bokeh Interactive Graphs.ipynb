{
 "cells": [
  {
   "cell_type": "markdown",
   "metadata": {},
   "source": [
    "### Bokeh Tutorial"
   ]
  },
  {
   "cell_type": "code",
   "execution_count": 15,
   "metadata": {},
   "outputs": [
    {
     "data": {
      "text/html": [
       "\n",
       "    <div class=\"bk-root\">\n",
       "        <a href=\"https://bokeh.pydata.org\" target=\"_blank\" class=\"bk-logo bk-logo-small bk-logo-notebook\"></a>\n",
       "        <span id=\"99974747-1402-4cc9-b91e-cb44644e372c\">Loading BokehJS ...</span>\n",
       "    </div>"
      ]
     },
     "metadata": {},
     "output_type": "display_data"
    },
    {
     "data": {
      "application/javascript": [
       "\n",
       "(function(root) {\n",
       "  function now() {\n",
       "    return new Date();\n",
       "  }\n",
       "\n",
       "  var force = true;\n",
       "\n",
       "  if (typeof (root._bokeh_onload_callbacks) === \"undefined\" || force === true) {\n",
       "    root._bokeh_onload_callbacks = [];\n",
       "    root._bokeh_is_loading = undefined;\n",
       "  }\n",
       "\n",
       "  var JS_MIME_TYPE = 'application/javascript';\n",
       "  var HTML_MIME_TYPE = 'text/html';\n",
       "  var EXEC_MIME_TYPE = 'application/vnd.bokehjs_exec.v0+json';\n",
       "  var CLASS_NAME = 'output_bokeh rendered_html';\n",
       "\n",
       "  /**\n",
       "   * Render data to the DOM node\n",
       "   */\n",
       "  function render(props, node) {\n",
       "    var script = document.createElement(\"script\");\n",
       "    node.appendChild(script);\n",
       "  }\n",
       "\n",
       "  /**\n",
       "   * Handle when an output is cleared or removed\n",
       "   */\n",
       "  function handleClearOutput(event, handle) {\n",
       "    var cell = handle.cell;\n",
       "\n",
       "    var id = cell.output_area._bokeh_element_id;\n",
       "    var server_id = cell.output_area._bokeh_server_id;\n",
       "    // Clean up Bokeh references\n",
       "    if (id !== undefined) {\n",
       "      Bokeh.index[id].model.document.clear();\n",
       "      delete Bokeh.index[id];\n",
       "    }\n",
       "\n",
       "    if (server_id !== undefined) {\n",
       "      // Clean up Bokeh references\n",
       "      var cmd = \"from bokeh.io.state import curstate; print(curstate().uuid_to_server['\" + server_id + \"'].get_sessions()[0].document.roots[0]._id)\";\n",
       "      cell.notebook.kernel.execute(cmd, {\n",
       "        iopub: {\n",
       "          output: function(msg) {\n",
       "            var element_id = msg.content.text.trim();\n",
       "            Bokeh.index[element_id].model.document.clear();\n",
       "            delete Bokeh.index[element_id];\n",
       "          }\n",
       "        }\n",
       "      });\n",
       "      // Destroy server and session\n",
       "      var cmd = \"import bokeh.io.notebook as ion; ion.destroy_server('\" + server_id + \"')\";\n",
       "      cell.notebook.kernel.execute(cmd);\n",
       "    }\n",
       "  }\n",
       "\n",
       "  /**\n",
       "   * Handle when a new output is added\n",
       "   */\n",
       "  function handleAddOutput(event, handle) {\n",
       "    var output_area = handle.output_area;\n",
       "    var output = handle.output;\n",
       "\n",
       "    // limit handleAddOutput to display_data with EXEC_MIME_TYPE content only\n",
       "    if ((output.output_type != \"display_data\") || (!output.data.hasOwnProperty(EXEC_MIME_TYPE))) {\n",
       "      return\n",
       "    }\n",
       "\n",
       "    var toinsert = output_area.element.find(`.${CLASS_NAME.split(' ')[0]}`);\n",
       "\n",
       "    if (output.metadata[EXEC_MIME_TYPE][\"id\"] !== undefined) {\n",
       "      toinsert[0].firstChild.textContent = output.data[JS_MIME_TYPE];\n",
       "      // store reference to embed id on output_area\n",
       "      output_area._bokeh_element_id = output.metadata[EXEC_MIME_TYPE][\"id\"];\n",
       "    }\n",
       "    if (output.metadata[EXEC_MIME_TYPE][\"server_id\"] !== undefined) {\n",
       "      var bk_div = document.createElement(\"div\");\n",
       "      bk_div.innerHTML = output.data[HTML_MIME_TYPE];\n",
       "      var script_attrs = bk_div.children[0].attributes;\n",
       "      for (var i = 0; i < script_attrs.length; i++) {\n",
       "        toinsert[0].firstChild.setAttribute(script_attrs[i].name, script_attrs[i].value);\n",
       "      }\n",
       "      // store reference to server id on output_area\n",
       "      output_area._bokeh_server_id = output.metadata[EXEC_MIME_TYPE][\"server_id\"];\n",
       "    }\n",
       "  }\n",
       "\n",
       "  function register_renderer(events, OutputArea) {\n",
       "\n",
       "    function append_mime(data, metadata, element) {\n",
       "      // create a DOM node to render to\n",
       "      var toinsert = this.create_output_subarea(\n",
       "        metadata,\n",
       "        CLASS_NAME,\n",
       "        EXEC_MIME_TYPE\n",
       "      );\n",
       "      this.keyboard_manager.register_events(toinsert);\n",
       "      // Render to node\n",
       "      var props = {data: data, metadata: metadata[EXEC_MIME_TYPE]};\n",
       "      render(props, toinsert[0]);\n",
       "      element.append(toinsert);\n",
       "      return toinsert\n",
       "    }\n",
       "\n",
       "    /* Handle when an output is cleared or removed */\n",
       "    events.on('clear_output.CodeCell', handleClearOutput);\n",
       "    events.on('delete.Cell', handleClearOutput);\n",
       "\n",
       "    /* Handle when a new output is added */\n",
       "    events.on('output_added.OutputArea', handleAddOutput);\n",
       "\n",
       "    /**\n",
       "     * Register the mime type and append_mime function with output_area\n",
       "     */\n",
       "    OutputArea.prototype.register_mime_type(EXEC_MIME_TYPE, append_mime, {\n",
       "      /* Is output safe? */\n",
       "      safe: true,\n",
       "      /* Index of renderer in `output_area.display_order` */\n",
       "      index: 0\n",
       "    });\n",
       "  }\n",
       "\n",
       "  // register the mime type if in Jupyter Notebook environment and previously unregistered\n",
       "  if (root.Jupyter !== undefined) {\n",
       "    var events = require('base/js/events');\n",
       "    var OutputArea = require('notebook/js/outputarea').OutputArea;\n",
       "\n",
       "    if (OutputArea.prototype.mime_types().indexOf(EXEC_MIME_TYPE) == -1) {\n",
       "      register_renderer(events, OutputArea);\n",
       "    }\n",
       "  }\n",
       "\n",
       "  \n",
       "  if (typeof (root._bokeh_timeout) === \"undefined\" || force === true) {\n",
       "    root._bokeh_timeout = Date.now() + 5000;\n",
       "    root._bokeh_failed_load = false;\n",
       "  }\n",
       "\n",
       "  var NB_LOAD_WARNING = {'data': {'text/html':\n",
       "     \"<div style='background-color: #fdd'>\\n\"+\n",
       "     \"<p>\\n\"+\n",
       "     \"BokehJS does not appear to have successfully loaded. If loading BokehJS from CDN, this \\n\"+\n",
       "     \"may be due to a slow or bad network connection. Possible fixes:\\n\"+\n",
       "     \"</p>\\n\"+\n",
       "     \"<ul>\\n\"+\n",
       "     \"<li>re-rerun `output_notebook()` to attempt to load from CDN again, or</li>\\n\"+\n",
       "     \"<li>use INLINE resources instead, as so:</li>\\n\"+\n",
       "     \"</ul>\\n\"+\n",
       "     \"<code>\\n\"+\n",
       "     \"from bokeh.resources import INLINE\\n\"+\n",
       "     \"output_notebook(resources=INLINE)\\n\"+\n",
       "     \"</code>\\n\"+\n",
       "     \"</div>\"}};\n",
       "\n",
       "  function display_loaded() {\n",
       "    var el = document.getElementById(\"99974747-1402-4cc9-b91e-cb44644e372c\");\n",
       "    if (el != null) {\n",
       "      el.textContent = \"BokehJS is loading...\";\n",
       "    }\n",
       "    if (root.Bokeh !== undefined) {\n",
       "      if (el != null) {\n",
       "        el.textContent = \"BokehJS \" + root.Bokeh.version + \" successfully loaded.\";\n",
       "      }\n",
       "    } else if (Date.now() < root._bokeh_timeout) {\n",
       "      setTimeout(display_loaded, 100)\n",
       "    }\n",
       "  }\n",
       "\n",
       "\n",
       "  function run_callbacks() {\n",
       "    try {\n",
       "      root._bokeh_onload_callbacks.forEach(function(callback) { callback() });\n",
       "    }\n",
       "    finally {\n",
       "      delete root._bokeh_onload_callbacks\n",
       "    }\n",
       "    console.info(\"Bokeh: all callbacks have finished\");\n",
       "  }\n",
       "\n",
       "  function load_libs(js_urls, callback) {\n",
       "    root._bokeh_onload_callbacks.push(callback);\n",
       "    if (root._bokeh_is_loading > 0) {\n",
       "      console.log(\"Bokeh: BokehJS is being loaded, scheduling callback at\", now());\n",
       "      return null;\n",
       "    }\n",
       "    if (js_urls == null || js_urls.length === 0) {\n",
       "      run_callbacks();\n",
       "      return null;\n",
       "    }\n",
       "    console.log(\"Bokeh: BokehJS not loaded, scheduling load and callback at\", now());\n",
       "    root._bokeh_is_loading = js_urls.length;\n",
       "    for (var i = 0; i < js_urls.length; i++) {\n",
       "      var url = js_urls[i];\n",
       "      var s = document.createElement('script');\n",
       "      s.src = url;\n",
       "      s.async = false;\n",
       "      s.onreadystatechange = s.onload = function() {\n",
       "        root._bokeh_is_loading--;\n",
       "        if (root._bokeh_is_loading === 0) {\n",
       "          console.log(\"Bokeh: all BokehJS libraries loaded\");\n",
       "          run_callbacks()\n",
       "        }\n",
       "      };\n",
       "      s.onerror = function() {\n",
       "        console.warn(\"failed to load library \" + url);\n",
       "      };\n",
       "      console.log(\"Bokeh: injecting script tag for BokehJS library: \", url);\n",
       "      document.getElementsByTagName(\"head\")[0].appendChild(s);\n",
       "    }\n",
       "  };var element = document.getElementById(\"99974747-1402-4cc9-b91e-cb44644e372c\");\n",
       "  if (element == null) {\n",
       "    console.log(\"Bokeh: ERROR: autoload.js configured with elementid '99974747-1402-4cc9-b91e-cb44644e372c' but no matching script tag was found. \")\n",
       "    return false;\n",
       "  }\n",
       "\n",
       "  var js_urls = [\"https://cdn.pydata.org/bokeh/release/bokeh-0.12.10.min.js\", \"https://cdn.pydata.org/bokeh/release/bokeh-widgets-0.12.10.min.js\", \"https://cdn.pydata.org/bokeh/release/bokeh-tables-0.12.10.min.js\", \"https://cdn.pydata.org/bokeh/release/bokeh-gl-0.12.10.min.js\"];\n",
       "\n",
       "  var inline_js = [\n",
       "    function(Bokeh) {\n",
       "      Bokeh.set_log_level(\"info\");\n",
       "    },\n",
       "    \n",
       "    function(Bokeh) {\n",
       "      \n",
       "    },\n",
       "    function(Bokeh) {\n",
       "      console.log(\"Bokeh: injecting CSS: https://cdn.pydata.org/bokeh/release/bokeh-0.12.10.min.css\");\n",
       "      Bokeh.embed.inject_css(\"https://cdn.pydata.org/bokeh/release/bokeh-0.12.10.min.css\");\n",
       "      console.log(\"Bokeh: injecting CSS: https://cdn.pydata.org/bokeh/release/bokeh-widgets-0.12.10.min.css\");\n",
       "      Bokeh.embed.inject_css(\"https://cdn.pydata.org/bokeh/release/bokeh-widgets-0.12.10.min.css\");\n",
       "      console.log(\"Bokeh: injecting CSS: https://cdn.pydata.org/bokeh/release/bokeh-tables-0.12.10.min.css\");\n",
       "      Bokeh.embed.inject_css(\"https://cdn.pydata.org/bokeh/release/bokeh-tables-0.12.10.min.css\");\n",
       "    }\n",
       "  ];\n",
       "\n",
       "  function run_inline_js() {\n",
       "    \n",
       "    if ((root.Bokeh !== undefined) || (force === true)) {\n",
       "      for (var i = 0; i < inline_js.length; i++) {\n",
       "        inline_js[i].call(root, root.Bokeh);\n",
       "      }if (force === true) {\n",
       "        display_loaded();\n",
       "      }} else if (Date.now() < root._bokeh_timeout) {\n",
       "      setTimeout(run_inline_js, 100);\n",
       "    } else if (!root._bokeh_failed_load) {\n",
       "      console.log(\"Bokeh: BokehJS failed to load within specified timeout.\");\n",
       "      root._bokeh_failed_load = true;\n",
       "    } else if (force !== true) {\n",
       "      var cell = $(document.getElementById(\"99974747-1402-4cc9-b91e-cb44644e372c\")).parents('.cell').data().cell;\n",
       "      cell.output_area.append_execute_result(NB_LOAD_WARNING)\n",
       "    }\n",
       "\n",
       "  }\n",
       "\n",
       "  if (root._bokeh_is_loading === 0) {\n",
       "    console.log(\"Bokeh: BokehJS loaded, going straight to plotting\");\n",
       "    run_inline_js();\n",
       "  } else {\n",
       "    load_libs(js_urls, function() {\n",
       "      console.log(\"Bokeh: BokehJS plotting callback run at\", now());\n",
       "      run_inline_js();\n",
       "    });\n",
       "  }\n",
       "}(window));"
      ],
      "application/vnd.bokehjs_load.v0+json": "\n(function(root) {\n  function now() {\n    return new Date();\n  }\n\n  var force = true;\n\n  if (typeof (root._bokeh_onload_callbacks) === \"undefined\" || force === true) {\n    root._bokeh_onload_callbacks = [];\n    root._bokeh_is_loading = undefined;\n  }\n\n  \n\n  \n  if (typeof (root._bokeh_timeout) === \"undefined\" || force === true) {\n    root._bokeh_timeout = Date.now() + 5000;\n    root._bokeh_failed_load = false;\n  }\n\n  var NB_LOAD_WARNING = {'data': {'text/html':\n     \"<div style='background-color: #fdd'>\\n\"+\n     \"<p>\\n\"+\n     \"BokehJS does not appear to have successfully loaded. If loading BokehJS from CDN, this \\n\"+\n     \"may be due to a slow or bad network connection. Possible fixes:\\n\"+\n     \"</p>\\n\"+\n     \"<ul>\\n\"+\n     \"<li>re-rerun `output_notebook()` to attempt to load from CDN again, or</li>\\n\"+\n     \"<li>use INLINE resources instead, as so:</li>\\n\"+\n     \"</ul>\\n\"+\n     \"<code>\\n\"+\n     \"from bokeh.resources import INLINE\\n\"+\n     \"output_notebook(resources=INLINE)\\n\"+\n     \"</code>\\n\"+\n     \"</div>\"}};\n\n  function display_loaded() {\n    var el = document.getElementById(\"99974747-1402-4cc9-b91e-cb44644e372c\");\n    if (el != null) {\n      el.textContent = \"BokehJS is loading...\";\n    }\n    if (root.Bokeh !== undefined) {\n      if (el != null) {\n        el.textContent = \"BokehJS \" + root.Bokeh.version + \" successfully loaded.\";\n      }\n    } else if (Date.now() < root._bokeh_timeout) {\n      setTimeout(display_loaded, 100)\n    }\n  }\n\n\n  function run_callbacks() {\n    try {\n      root._bokeh_onload_callbacks.forEach(function(callback) { callback() });\n    }\n    finally {\n      delete root._bokeh_onload_callbacks\n    }\n    console.info(\"Bokeh: all callbacks have finished\");\n  }\n\n  function load_libs(js_urls, callback) {\n    root._bokeh_onload_callbacks.push(callback);\n    if (root._bokeh_is_loading > 0) {\n      console.log(\"Bokeh: BokehJS is being loaded, scheduling callback at\", now());\n      return null;\n    }\n    if (js_urls == null || js_urls.length === 0) {\n      run_callbacks();\n      return null;\n    }\n    console.log(\"Bokeh: BokehJS not loaded, scheduling load and callback at\", now());\n    root._bokeh_is_loading = js_urls.length;\n    for (var i = 0; i < js_urls.length; i++) {\n      var url = js_urls[i];\n      var s = document.createElement('script');\n      s.src = url;\n      s.async = false;\n      s.onreadystatechange = s.onload = function() {\n        root._bokeh_is_loading--;\n        if (root._bokeh_is_loading === 0) {\n          console.log(\"Bokeh: all BokehJS libraries loaded\");\n          run_callbacks()\n        }\n      };\n      s.onerror = function() {\n        console.warn(\"failed to load library \" + url);\n      };\n      console.log(\"Bokeh: injecting script tag for BokehJS library: \", url);\n      document.getElementsByTagName(\"head\")[0].appendChild(s);\n    }\n  };var element = document.getElementById(\"99974747-1402-4cc9-b91e-cb44644e372c\");\n  if (element == null) {\n    console.log(\"Bokeh: ERROR: autoload.js configured with elementid '99974747-1402-4cc9-b91e-cb44644e372c' but no matching script tag was found. \")\n    return false;\n  }\n\n  var js_urls = [\"https://cdn.pydata.org/bokeh/release/bokeh-0.12.10.min.js\", \"https://cdn.pydata.org/bokeh/release/bokeh-widgets-0.12.10.min.js\", \"https://cdn.pydata.org/bokeh/release/bokeh-tables-0.12.10.min.js\", \"https://cdn.pydata.org/bokeh/release/bokeh-gl-0.12.10.min.js\"];\n\n  var inline_js = [\n    function(Bokeh) {\n      Bokeh.set_log_level(\"info\");\n    },\n    \n    function(Bokeh) {\n      \n    },\n    function(Bokeh) {\n      console.log(\"Bokeh: injecting CSS: https://cdn.pydata.org/bokeh/release/bokeh-0.12.10.min.css\");\n      Bokeh.embed.inject_css(\"https://cdn.pydata.org/bokeh/release/bokeh-0.12.10.min.css\");\n      console.log(\"Bokeh: injecting CSS: https://cdn.pydata.org/bokeh/release/bokeh-widgets-0.12.10.min.css\");\n      Bokeh.embed.inject_css(\"https://cdn.pydata.org/bokeh/release/bokeh-widgets-0.12.10.min.css\");\n      console.log(\"Bokeh: injecting CSS: https://cdn.pydata.org/bokeh/release/bokeh-tables-0.12.10.min.css\");\n      Bokeh.embed.inject_css(\"https://cdn.pydata.org/bokeh/release/bokeh-tables-0.12.10.min.css\");\n    }\n  ];\n\n  function run_inline_js() {\n    \n    if ((root.Bokeh !== undefined) || (force === true)) {\n      for (var i = 0; i < inline_js.length; i++) {\n        inline_js[i].call(root, root.Bokeh);\n      }if (force === true) {\n        display_loaded();\n      }} else if (Date.now() < root._bokeh_timeout) {\n      setTimeout(run_inline_js, 100);\n    } else if (!root._bokeh_failed_load) {\n      console.log(\"Bokeh: BokehJS failed to load within specified timeout.\");\n      root._bokeh_failed_load = true;\n    } else if (force !== true) {\n      var cell = $(document.getElementById(\"99974747-1402-4cc9-b91e-cb44644e372c\")).parents('.cell').data().cell;\n      cell.output_area.append_execute_result(NB_LOAD_WARNING)\n    }\n\n  }\n\n  if (root._bokeh_is_loading === 0) {\n    console.log(\"Bokeh: BokehJS loaded, going straight to plotting\");\n    run_inline_js();\n  } else {\n    load_libs(js_urls, function() {\n      console.log(\"Bokeh: BokehJS plotting callback run at\", now());\n      run_inline_js();\n    });\n  }\n}(window));"
     },
     "metadata": {},
     "output_type": "display_data"
    }
   ],
   "source": [
    "from bokeh.io import output_notebook, show\n",
    "from bokeh.plotting import figure\n",
    "output_notebook()"
   ]
  },
  {
   "cell_type": "markdown",
   "metadata": {},
   "source": [
    "Now that we know from the previous chapter how multiple plots can be placed together in a layout, we can start to look at how different plots can be linked togeher, or how plots can be linked to widgets. "
   ]
  },
  {
   "cell_type": "markdown",
   "metadata": {
    "collapsed": true
   },
   "source": [
    "# Linked Interactions\n",
    "\n",
    "It is possible to link various interactions between different Bokeh plots. For instance, the ranges of two (or more) plots can be linked, so that when one of the plots is panned (or zoomed, or otherwise has its range changed) the other plots will update in unison. It is also possible to link selections between two plots, so that when items are selected on one plot, the corresponding items on the second plot also become selected. "
   ]
  },
  {
   "cell_type": "markdown",
   "metadata": {},
   "source": [
    "## Linked panning\n",
    "\n",
    "Linked panning (when multiple plots have ranges that stay in sync) is simple to spell with Bokeh. You simply share the appropriate range objects between two (or more) plots. The example below shows how to accomplish this by linking the ranges of three plots in various ways:"
   ]
  },
  {
   "cell_type": "code",
   "execution_count": 16,
   "metadata": {},
   "outputs": [
    {
     "data": {
      "text/html": [
       "\n",
       "<div class=\"bk-root\">\n",
       "    <div class=\"bk-plotdiv\" id=\"bde9b991-b811-480b-8511-94b2a00681b5\"></div>\n",
       "</div>"
      ]
     },
     "metadata": {},
     "output_type": "display_data"
    },
    {
     "data": {
      "application/javascript": [
       "(function(root) {\n",
       "  function embed_document(root) {\n",
       "    var docs_json = {\"233dee92-b772-4425-b338-7634ff49edb0\":{\"roots\":{\"references\":[{\"attributes\":{\"dimension\":1,\"plot\":{\"id\":\"4638e7f8-6a73-4941-abf3-479a89bf321b\",\"subtype\":\"Figure\",\"type\":\"Plot\"},\"ticker\":{\"id\":\"82caf667-684b-4f7b-ab87-da036f9c7d1b\",\"type\":\"BasicTicker\"}},\"id\":\"4b9ac290-bfaa-4680-b340-bf1112f85ec7\",\"type\":\"Grid\"},{\"attributes\":{},\"id\":\"9ce375e5-0905-4914-b26d-b9b0bea58408\",\"type\":\"BasicTickFormatter\"},{\"attributes\":{},\"id\":\"d38cdeb7-08e6-45dc-902d-dc3adf2cc5bd\",\"type\":\"BasicTickFormatter\"},{\"attributes\":{},\"id\":\"c38305dc-7958-4a29-8917-1bcd240a1b73\",\"type\":\"LinearScale\"},{\"attributes\":{\"formatter\":{\"id\":\"f03ece31-caba-41a8-9ed5-0c700d53db5a\",\"type\":\"BasicTickFormatter\"},\"plot\":{\"id\":\"d9fa7d3c-7ba0-41f1-b590-c3f8576b897f\",\"subtype\":\"Figure\",\"type\":\"Plot\"},\"ticker\":{\"id\":\"ce6a1a49-66fb-4abc-9a89-6ba5c5c68569\",\"type\":\"BasicTicker\"}},\"id\":\"9f1ef0d9-5f09-4fe3-9e2d-2b087ec3308f\",\"type\":\"LinearAxis\"},{\"attributes\":{\"formatter\":{\"id\":\"8be46546-c54d-4ed9-ad52-d97c31d861b4\",\"type\":\"BasicTickFormatter\"},\"plot\":{\"id\":\"c21e5651-8220-4ed1-b605-7e3c20f2f655\",\"subtype\":\"Figure\",\"type\":\"Plot\"},\"ticker\":{\"id\":\"100aa1c4-a15b-4638-9ae9-cbdcb2b2a411\",\"type\":\"BasicTicker\"}},\"id\":\"4a87d562-3fe5-4aa2-b265-fedbe62459e2\",\"type\":\"LinearAxis\"},{\"attributes\":{\"active_drag\":\"auto\",\"active_inspect\":\"auto\",\"active_scroll\":\"auto\",\"active_tap\":\"auto\",\"tools\":[{\"id\":\"10002284-d3c1-4f2d-89e0-16df2e8ef2af\",\"type\":\"PanTool\"},{\"id\":\"74cab3d3-8f5f-436f-b293-78816d7cfcf7\",\"type\":\"WheelZoomTool\"}]},\"id\":\"9b671895-1051-47af-b66b-fbccf9eae16f\",\"type\":\"Toolbar\"},{\"attributes\":{\"plot\":null,\"text\":\"\"},\"id\":\"498287af-e876-423d-a11a-613c3d91e079\",\"type\":\"Title\"},{\"attributes\":{\"fill_color\":{\"value\":\"olive\"},\"line_color\":{\"value\":\"olive\"},\"size\":{\"units\":\"screen\",\"value\":10},\"x\":{\"field\":\"x\"},\"y\":{\"field\":\"y\"}},\"id\":\"e79b1706-449a-4637-9176-2ef40cabf107\",\"type\":\"Square\"},{\"attributes\":{\"callback\":null,\"column_names\":[\"x\",\"y\"],\"data\":{\"x\":[0,1,2,3,4,5,6,7,8,9,10],\"y\":[5,4,3,2,1,0,1,2,3,4,5]}},\"id\":\"dd214882-78d7-4874-b567-d5e4c06223ce\",\"type\":\"ColumnDataSource\"},{\"attributes\":{\"callback\":null},\"id\":\"3468221e-de5a-440f-b4d3-988eb46e1e69\",\"type\":\"DataRange1d\"},{\"attributes\":{\"sizing_mode\":\"scale_width\",\"toolbar_location\":\"above\",\"tools\":[{\"id\":\"10002284-d3c1-4f2d-89e0-16df2e8ef2af\",\"type\":\"PanTool\"},{\"id\":\"74cab3d3-8f5f-436f-b293-78816d7cfcf7\",\"type\":\"WheelZoomTool\"},{\"id\":\"a6d40077-88a5-4f1f-97c1-9d6921694597\",\"type\":\"PanTool\"},{\"id\":\"4e9ad313-7195-41a9-bb8b-68e727a3a2c2\",\"type\":\"WheelZoomTool\"},{\"id\":\"b9346a68-ddc0-4747-bc65-af379f5a0f41\",\"type\":\"PanTool\"},{\"id\":\"d4ca6b74-dbbc-41e3-9d7f-1089227befd5\",\"type\":\"WheelZoomTool\"}]},\"id\":\"8da5e296-f092-4a53-883c-7bc1925a3436\",\"type\":\"ToolbarBox\"},{\"attributes\":{\"fill_alpha\":{\"value\":0.1},\"fill_color\":{\"value\":\"#1f77b4\"},\"line_alpha\":{\"value\":0.1},\"line_color\":{\"value\":\"#1f77b4\"},\"size\":{\"units\":\"screen\",\"value\":10},\"x\":{\"field\":\"x\"},\"y\":{\"field\":\"y\"}},\"id\":\"e480cf62-1923-438d-aaa6-1d363ea8cf59\",\"type\":\"Triangle\"},{\"attributes\":{},\"id\":\"fe47cd5a-7095-4c67-851e-212c01eee6b4\",\"type\":\"LinearScale\"},{\"attributes\":{},\"id\":\"d4ca6b74-dbbc-41e3-9d7f-1089227befd5\",\"type\":\"WheelZoomTool\"},{\"attributes\":{\"formatter\":{\"id\":\"5dcc997b-9672-4095-81ff-00d6c787262d\",\"type\":\"BasicTickFormatter\"},\"plot\":{\"id\":\"4638e7f8-6a73-4941-abf3-479a89bf321b\",\"subtype\":\"Figure\",\"type\":\"Plot\"},\"ticker\":{\"id\":\"82caf667-684b-4f7b-ab87-da036f9c7d1b\",\"type\":\"BasicTicker\"}},\"id\":\"217632db-d8fe-4029-a03b-e4b88c1607d8\",\"type\":\"LinearAxis\"},{\"attributes\":{\"data_source\":{\"id\":\"dd214882-78d7-4874-b567-d5e4c06223ce\",\"type\":\"ColumnDataSource\"},\"glyph\":{\"id\":\"e79b1706-449a-4637-9176-2ef40cabf107\",\"type\":\"Square\"},\"hover_glyph\":null,\"muted_glyph\":null,\"nonselection_glyph\":{\"id\":\"c354c15e-e00a-46dd-a852-665a50d0155c\",\"type\":\"Square\"},\"selection_glyph\":null,\"view\":{\"id\":\"c15943bc-e8ce-46bc-90d6-ab57b94b475d\",\"type\":\"CDSView\"}},\"id\":\"eec2b428-f700-444b-b924-7d3a16a66b5a\",\"type\":\"GlyphRenderer\"},{\"attributes\":{\"callback\":null,\"column_names\":[\"x\",\"y\"],\"data\":{\"x\":[0,1,2,3,4,5,6,7,8,9,10],\"y\":[10,9,8,7,6,5,4,3,2,1,0]}},\"id\":\"94ebc273-695e-426e-8ee0-6095460dbba3\",\"type\":\"ColumnDataSource\"},{\"attributes\":{\"source\":{\"id\":\"94ebc273-695e-426e-8ee0-6095460dbba3\",\"type\":\"ColumnDataSource\"}},\"id\":\"d1442717-271b-4471-9e3f-e99399203e2c\",\"type\":\"CDSView\"},{\"attributes\":{\"active_drag\":\"auto\",\"active_inspect\":\"auto\",\"active_scroll\":\"auto\",\"active_tap\":\"auto\",\"tools\":[{\"id\":\"a6d40077-88a5-4f1f-97c1-9d6921694597\",\"type\":\"PanTool\"},{\"id\":\"4e9ad313-7195-41a9-bb8b-68e727a3a2c2\",\"type\":\"WheelZoomTool\"}]},\"id\":\"36be030b-d1b2-4fe5-8b4e-bfd3682500d8\",\"type\":\"Toolbar\"},{\"attributes\":{\"plot\":{\"id\":\"d9fa7d3c-7ba0-41f1-b590-c3f8576b897f\",\"subtype\":\"Figure\",\"type\":\"Plot\"},\"ticker\":{\"id\":\"ce6a1a49-66fb-4abc-9a89-6ba5c5c68569\",\"type\":\"BasicTicker\"}},\"id\":\"ebe1f5d8-595e-4b52-b437-435388848327\",\"type\":\"Grid\"},{\"attributes\":{\"source\":{\"id\":\"dd214882-78d7-4874-b567-d5e4c06223ce\",\"type\":\"ColumnDataSource\"}},\"id\":\"c15943bc-e8ce-46bc-90d6-ab57b94b475d\",\"type\":\"CDSView\"},{\"attributes\":{\"plot\":null,\"text\":\"\"},\"id\":\"428d13f7-7041-443e-affb-de472fb96c9c\",\"type\":\"Title\"},{\"attributes\":{},\"id\":\"15e57576-5d78-4c6d-aea9-641c156ecd65\",\"type\":\"BasicTickFormatter\"},{\"attributes\":{},\"id\":\"5dcc997b-9672-4095-81ff-00d6c787262d\",\"type\":\"BasicTickFormatter\"},{\"attributes\":{},\"id\":\"d780a07b-d6ca-4109-b1d9-82432fddc53d\",\"type\":\"LinearScale\"},{\"attributes\":{\"dimension\":1,\"plot\":{\"id\":\"c21e5651-8220-4ed1-b605-7e3c20f2f655\",\"subtype\":\"Figure\",\"type\":\"Plot\"},\"ticker\":{\"id\":\"100aa1c4-a15b-4638-9ae9-cbdcb2b2a411\",\"type\":\"BasicTicker\"}},\"id\":\"15fb740c-b3fb-4787-adc0-048da2b6374f\",\"type\":\"Grid\"},{\"attributes\":{\"formatter\":{\"id\":\"9ce375e5-0905-4914-b26d-b9b0bea58408\",\"type\":\"BasicTickFormatter\"},\"plot\":{\"id\":\"c21e5651-8220-4ed1-b605-7e3c20f2f655\",\"subtype\":\"Figure\",\"type\":\"Plot\"},\"ticker\":{\"id\":\"337bcab8-439f-4031-b7ad-ce37217cb246\",\"type\":\"BasicTicker\"}},\"id\":\"d92541e1-993a-4b2e-9848-e0e89cee894b\",\"type\":\"LinearAxis\"},{\"attributes\":{},\"id\":\"a6d40077-88a5-4f1f-97c1-9d6921694597\",\"type\":\"PanTool\"},{\"attributes\":{\"fill_alpha\":{\"value\":0.1},\"fill_color\":{\"value\":\"#1f77b4\"},\"line_alpha\":{\"value\":0.1},\"line_color\":{\"value\":\"#1f77b4\"},\"size\":{\"units\":\"screen\",\"value\":10},\"x\":{\"field\":\"x\"},\"y\":{\"field\":\"y\"}},\"id\":\"c354c15e-e00a-46dd-a852-665a50d0155c\",\"type\":\"Square\"},{\"attributes\":{\"formatter\":{\"id\":\"d38cdeb7-08e6-45dc-902d-dc3adf2cc5bd\",\"type\":\"BasicTickFormatter\"},\"plot\":{\"id\":\"d9fa7d3c-7ba0-41f1-b590-c3f8576b897f\",\"subtype\":\"Figure\",\"type\":\"Plot\"},\"ticker\":{\"id\":\"e759890a-ab22-4b68-ae27-bcd51b564519\",\"type\":\"BasicTicker\"}},\"id\":\"9e5666a0-7f81-4445-82c1-d3617b071294\",\"type\":\"LinearAxis\"},{\"attributes\":{\"dimension\":1,\"plot\":{\"id\":\"d9fa7d3c-7ba0-41f1-b590-c3f8576b897f\",\"subtype\":\"Figure\",\"type\":\"Plot\"},\"ticker\":{\"id\":\"e759890a-ab22-4b68-ae27-bcd51b564519\",\"type\":\"BasicTicker\"}},\"id\":\"6fc68457-89a6-4b82-b9af-0d611736e89a\",\"type\":\"Grid\"},{\"attributes\":{\"children\":[{\"id\":\"8da5e296-f092-4a53-883c-7bc1925a3436\",\"type\":\"ToolbarBox\"},{\"id\":\"507c3056-fb34-4516-a654-19729d8bf371\",\"type\":\"Column\"}]},\"id\":\"4781ee66-94a2-400c-a2e3-901d6197d899\",\"type\":\"Column\"},{\"attributes\":{},\"id\":\"ddbf9815-adf8-4ab2-974e-1c47203cd61a\",\"type\":\"LinearScale\"},{\"attributes\":{\"source\":{\"id\":\"8111b874-b41e-40a5-b94c-f4f564de1c13\",\"type\":\"ColumnDataSource\"}},\"id\":\"8ef980d8-0d25-4392-af63-0c0276aad768\",\"type\":\"CDSView\"},{\"attributes\":{},\"id\":\"e759890a-ab22-4b68-ae27-bcd51b564519\",\"type\":\"BasicTicker\"},{\"attributes\":{},\"id\":\"ce6a1a49-66fb-4abc-9a89-6ba5c5c68569\",\"type\":\"BasicTicker\"},{\"attributes\":{\"callback\":null,\"column_names\":[\"x\",\"y\"],\"data\":{\"x\":[0,1,2,3,4,5,6,7,8,9,10],\"y\":[0,1,2,3,4,5,6,7,8,9,10]}},\"id\":\"8111b874-b41e-40a5-b94c-f4f564de1c13\",\"type\":\"ColumnDataSource\"},{\"attributes\":{\"fill_color\":{\"value\":\"navy\"},\"line_color\":{\"value\":\"navy\"},\"size\":{\"units\":\"screen\",\"value\":10},\"x\":{\"field\":\"x\"},\"y\":{\"field\":\"y\"}},\"id\":\"502d4f88-9bbf-4a21-8f5a-f06d2a787f03\",\"type\":\"Circle\"},{\"attributes\":{},\"id\":\"e96d7662-39a5-4903-8c63-82229f325f4d\",\"type\":\"BasicTicker\"},{\"attributes\":{},\"id\":\"4e9ad313-7195-41a9-bb8b-68e727a3a2c2\",\"type\":\"WheelZoomTool\"},{\"attributes\":{},\"id\":\"b9346a68-ddc0-4747-bc65-af379f5a0f41\",\"type\":\"PanTool\"},{\"attributes\":{},\"id\":\"d926abaf-2f26-4c44-841c-71998c017a0f\",\"type\":\"LinearScale\"},{\"attributes\":{},\"id\":\"8be46546-c54d-4ed9-ad52-d97c31d861b4\",\"type\":\"BasicTickFormatter\"},{\"attributes\":{},\"id\":\"337bcab8-439f-4031-b7ad-ce37217cb246\",\"type\":\"BasicTicker\"},{\"attributes\":{},\"id\":\"82caf667-684b-4f7b-ab87-da036f9c7d1b\",\"type\":\"BasicTicker\"},{\"attributes\":{\"below\":[{\"id\":\"9f1ef0d9-5f09-4fe3-9e2d-2b087ec3308f\",\"type\":\"LinearAxis\"}],\"left\":[{\"id\":\"9e5666a0-7f81-4445-82c1-d3617b071294\",\"type\":\"LinearAxis\"}],\"plot_height\":250,\"plot_width\":250,\"renderers\":[{\"id\":\"9f1ef0d9-5f09-4fe3-9e2d-2b087ec3308f\",\"type\":\"LinearAxis\"},{\"id\":\"ebe1f5d8-595e-4b52-b437-435388848327\",\"type\":\"Grid\"},{\"id\":\"9e5666a0-7f81-4445-82c1-d3617b071294\",\"type\":\"LinearAxis\"},{\"id\":\"6fc68457-89a6-4b82-b9af-0d611736e89a\",\"type\":\"Grid\"},{\"id\":\"702b2fe0-ea24-4759-aa40-3430b4c98030\",\"type\":\"GlyphRenderer\"}],\"title\":{\"id\":\"428d13f7-7041-443e-affb-de472fb96c9c\",\"type\":\"Title\"},\"toolbar\":{\"id\":\"9b671895-1051-47af-b66b-fbccf9eae16f\",\"type\":\"Toolbar\"},\"toolbar_location\":null,\"x_range\":{\"id\":\"7a83aff3-4232-44ff-8a19-e6465fbc3a58\",\"type\":\"DataRange1d\"},\"x_scale\":{\"id\":\"c006eafd-9968-48f6-9f27-0d708da38baa\",\"type\":\"LinearScale\"},\"y_range\":{\"id\":\"9c94bce9-ff0e-423b-8e6e-5257528466e0\",\"type\":\"DataRange1d\"},\"y_scale\":{\"id\":\"d780a07b-d6ca-4109-b1d9-82432fddc53d\",\"type\":\"LinearScale\"}},\"id\":\"d9fa7d3c-7ba0-41f1-b590-c3f8576b897f\",\"subtype\":\"Figure\",\"type\":\"Plot\"},{\"attributes\":{\"below\":[{\"id\":\"d44da214-b57c-46b8-a1c2-0eb2723fa6bc\",\"type\":\"LinearAxis\"}],\"left\":[{\"id\":\"217632db-d8fe-4029-a03b-e4b88c1607d8\",\"type\":\"LinearAxis\"}],\"plot_height\":250,\"plot_width\":250,\"renderers\":[{\"id\":\"d44da214-b57c-46b8-a1c2-0eb2723fa6bc\",\"type\":\"LinearAxis\"},{\"id\":\"40e48cbf-9c1f-49c7-b09e-fdaafa350c37\",\"type\":\"Grid\"},{\"id\":\"217632db-d8fe-4029-a03b-e4b88c1607d8\",\"type\":\"LinearAxis\"},{\"id\":\"4b9ac290-bfaa-4680-b340-bf1112f85ec7\",\"type\":\"Grid\"},{\"id\":\"a8c2faf2-188d-4b8c-aa90-3c21359c6339\",\"type\":\"GlyphRenderer\"}],\"title\":{\"id\":\"498287af-e876-423d-a11a-613c3d91e079\",\"type\":\"Title\"},\"toolbar\":{\"id\":\"36be030b-d1b2-4fe5-8b4e-bfd3682500d8\",\"type\":\"Toolbar\"},\"toolbar_location\":null,\"x_range\":{\"id\":\"7a83aff3-4232-44ff-8a19-e6465fbc3a58\",\"type\":\"DataRange1d\"},\"x_scale\":{\"id\":\"fe47cd5a-7095-4c67-851e-212c01eee6b4\",\"type\":\"LinearScale\"},\"y_range\":{\"id\":\"9c94bce9-ff0e-423b-8e6e-5257528466e0\",\"type\":\"DataRange1d\"},\"y_scale\":{\"id\":\"ddbf9815-adf8-4ab2-974e-1c47203cd61a\",\"type\":\"LinearScale\"}},\"id\":\"4638e7f8-6a73-4941-abf3-479a89bf321b\",\"subtype\":\"Figure\",\"type\":\"Plot\"},{\"attributes\":{\"plot\":{\"id\":\"c21e5651-8220-4ed1-b605-7e3c20f2f655\",\"subtype\":\"Figure\",\"type\":\"Plot\"},\"ticker\":{\"id\":\"337bcab8-439f-4031-b7ad-ce37217cb246\",\"type\":\"BasicTicker\"}},\"id\":\"e4fc5a3d-3a4d-4661-ad4f-a39aa7c9e9a6\",\"type\":\"Grid\"},{\"attributes\":{\"children\":[{\"id\":\"566817fc-4088-4e13-8914-90c0bcd0d824\",\"type\":\"Row\"}]},\"id\":\"507c3056-fb34-4516-a654-19729d8bf371\",\"type\":\"Column\"},{\"attributes\":{\"plot\":{\"id\":\"4638e7f8-6a73-4941-abf3-479a89bf321b\",\"subtype\":\"Figure\",\"type\":\"Plot\"},\"ticker\":{\"id\":\"e96d7662-39a5-4903-8c63-82229f325f4d\",\"type\":\"BasicTicker\"}},\"id\":\"40e48cbf-9c1f-49c7-b09e-fdaafa350c37\",\"type\":\"Grid\"},{\"attributes\":{\"data_source\":{\"id\":\"94ebc273-695e-426e-8ee0-6095460dbba3\",\"type\":\"ColumnDataSource\"},\"glyph\":{\"id\":\"320637f7-83f8-413f-86dd-bb1f8681a473\",\"type\":\"Triangle\"},\"hover_glyph\":null,\"muted_glyph\":null,\"nonselection_glyph\":{\"id\":\"e480cf62-1923-438d-aaa6-1d363ea8cf59\",\"type\":\"Triangle\"},\"selection_glyph\":null,\"view\":{\"id\":\"d1442717-271b-4471-9e3f-e99399203e2c\",\"type\":\"CDSView\"}},\"id\":\"a8c2faf2-188d-4b8c-aa90-3c21359c6339\",\"type\":\"GlyphRenderer\"},{\"attributes\":{\"children\":[{\"id\":\"d9fa7d3c-7ba0-41f1-b590-c3f8576b897f\",\"subtype\":\"Figure\",\"type\":\"Plot\"},{\"id\":\"4638e7f8-6a73-4941-abf3-479a89bf321b\",\"subtype\":\"Figure\",\"type\":\"Plot\"},{\"id\":\"c21e5651-8220-4ed1-b605-7e3c20f2f655\",\"subtype\":\"Figure\",\"type\":\"Plot\"}]},\"id\":\"566817fc-4088-4e13-8914-90c0bcd0d824\",\"type\":\"Row\"},{\"attributes\":{\"formatter\":{\"id\":\"15e57576-5d78-4c6d-aea9-641c156ecd65\",\"type\":\"BasicTickFormatter\"},\"plot\":{\"id\":\"4638e7f8-6a73-4941-abf3-479a89bf321b\",\"subtype\":\"Figure\",\"type\":\"Plot\"},\"ticker\":{\"id\":\"e96d7662-39a5-4903-8c63-82229f325f4d\",\"type\":\"BasicTicker\"}},\"id\":\"d44da214-b57c-46b8-a1c2-0eb2723fa6bc\",\"type\":\"LinearAxis\"},{\"attributes\":{\"below\":[{\"id\":\"d92541e1-993a-4b2e-9848-e0e89cee894b\",\"type\":\"LinearAxis\"}],\"left\":[{\"id\":\"4a87d562-3fe5-4aa2-b265-fedbe62459e2\",\"type\":\"LinearAxis\"}],\"plot_height\":250,\"plot_width\":250,\"renderers\":[{\"id\":\"d92541e1-993a-4b2e-9848-e0e89cee894b\",\"type\":\"LinearAxis\"},{\"id\":\"e4fc5a3d-3a4d-4661-ad4f-a39aa7c9e9a6\",\"type\":\"Grid\"},{\"id\":\"4a87d562-3fe5-4aa2-b265-fedbe62459e2\",\"type\":\"LinearAxis\"},{\"id\":\"15fb740c-b3fb-4787-adc0-048da2b6374f\",\"type\":\"Grid\"},{\"id\":\"eec2b428-f700-444b-b924-7d3a16a66b5a\",\"type\":\"GlyphRenderer\"}],\"title\":{\"id\":\"aae4cf15-5d8e-4e25-8db0-f2ed38cb2f91\",\"type\":\"Title\"},\"toolbar\":{\"id\":\"6fb338c2-0a90-4c0b-9919-a5400d1a16f2\",\"type\":\"Toolbar\"},\"toolbar_location\":null,\"x_range\":{\"id\":\"7a83aff3-4232-44ff-8a19-e6465fbc3a58\",\"type\":\"DataRange1d\"},\"x_scale\":{\"id\":\"c38305dc-7958-4a29-8917-1bcd240a1b73\",\"type\":\"LinearScale\"},\"y_range\":{\"id\":\"3468221e-de5a-440f-b4d3-988eb46e1e69\",\"type\":\"DataRange1d\"},\"y_scale\":{\"id\":\"d926abaf-2f26-4c44-841c-71998c017a0f\",\"type\":\"LinearScale\"}},\"id\":\"c21e5651-8220-4ed1-b605-7e3c20f2f655\",\"subtype\":\"Figure\",\"type\":\"Plot\"},{\"attributes\":{\"fill_color\":{\"value\":\"firebrick\"},\"line_color\":{\"value\":\"firebrick\"},\"size\":{\"units\":\"screen\",\"value\":10},\"x\":{\"field\":\"x\"},\"y\":{\"field\":\"y\"}},\"id\":\"320637f7-83f8-413f-86dd-bb1f8681a473\",\"type\":\"Triangle\"},{\"attributes\":{\"callback\":null},\"id\":\"7a83aff3-4232-44ff-8a19-e6465fbc3a58\",\"type\":\"DataRange1d\"},{\"attributes\":{},\"id\":\"f03ece31-caba-41a8-9ed5-0c700d53db5a\",\"type\":\"BasicTickFormatter\"},{\"attributes\":{\"callback\":null},\"id\":\"9c94bce9-ff0e-423b-8e6e-5257528466e0\",\"type\":\"DataRange1d\"},{\"attributes\":{\"data_source\":{\"id\":\"8111b874-b41e-40a5-b94c-f4f564de1c13\",\"type\":\"ColumnDataSource\"},\"glyph\":{\"id\":\"502d4f88-9bbf-4a21-8f5a-f06d2a787f03\",\"type\":\"Circle\"},\"hover_glyph\":null,\"muted_glyph\":null,\"nonselection_glyph\":{\"id\":\"d467e8a5-88b5-4dfc-a241-7a683a4cec9d\",\"type\":\"Circle\"},\"selection_glyph\":null,\"view\":{\"id\":\"8ef980d8-0d25-4392-af63-0c0276aad768\",\"type\":\"CDSView\"}},\"id\":\"702b2fe0-ea24-4759-aa40-3430b4c98030\",\"type\":\"GlyphRenderer\"},{\"attributes\":{},\"id\":\"c006eafd-9968-48f6-9f27-0d708da38baa\",\"type\":\"LinearScale\"},{\"attributes\":{\"plot\":null,\"text\":\"\"},\"id\":\"aae4cf15-5d8e-4e25-8db0-f2ed38cb2f91\",\"type\":\"Title\"},{\"attributes\":{\"active_drag\":\"auto\",\"active_inspect\":\"auto\",\"active_scroll\":\"auto\",\"active_tap\":\"auto\",\"tools\":[{\"id\":\"b9346a68-ddc0-4747-bc65-af379f5a0f41\",\"type\":\"PanTool\"},{\"id\":\"d4ca6b74-dbbc-41e3-9d7f-1089227befd5\",\"type\":\"WheelZoomTool\"}]},\"id\":\"6fb338c2-0a90-4c0b-9919-a5400d1a16f2\",\"type\":\"Toolbar\"},{\"attributes\":{\"fill_alpha\":{\"value\":0.1},\"fill_color\":{\"value\":\"#1f77b4\"},\"line_alpha\":{\"value\":0.1},\"line_color\":{\"value\":\"#1f77b4\"},\"size\":{\"units\":\"screen\",\"value\":10},\"x\":{\"field\":\"x\"},\"y\":{\"field\":\"y\"}},\"id\":\"d467e8a5-88b5-4dfc-a241-7a683a4cec9d\",\"type\":\"Circle\"},{\"attributes\":{},\"id\":\"10002284-d3c1-4f2d-89e0-16df2e8ef2af\",\"type\":\"PanTool\"},{\"attributes\":{},\"id\":\"74cab3d3-8f5f-436f-b293-78816d7cfcf7\",\"type\":\"WheelZoomTool\"},{\"attributes\":{},\"id\":\"100aa1c4-a15b-4638-9ae9-cbdcb2b2a411\",\"type\":\"BasicTicker\"}],\"root_ids\":[\"4781ee66-94a2-400c-a2e3-901d6197d899\"]},\"title\":\"Bokeh Application\",\"version\":\"0.12.10\"}};\n",
       "    var render_items = [{\"docid\":\"233dee92-b772-4425-b338-7634ff49edb0\",\"elementid\":\"bde9b991-b811-480b-8511-94b2a00681b5\",\"modelid\":\"4781ee66-94a2-400c-a2e3-901d6197d899\"}];\n",
       "\n",
       "    root.Bokeh.embed.embed_items(docs_json, render_items);\n",
       "  }\n",
       "\n",
       "  if (root.Bokeh !== undefined) {\n",
       "    embed_document(root);\n",
       "  } else {\n",
       "    var attempts = 0;\n",
       "    var timer = setInterval(function(root) {\n",
       "      if (root.Bokeh !== undefined) {\n",
       "        embed_document(root);\n",
       "        clearInterval(timer);\n",
       "      }\n",
       "      attempts++;\n",
       "      if (attempts > 100) {\n",
       "        console.log(\"Bokeh: ERROR: Unable to embed document because BokehJS library is missing\")\n",
       "        clearInterval(timer);\n",
       "      }\n",
       "    }, 10, root)\n",
       "  }\n",
       "})(window);"
      ],
      "application/vnd.bokehjs_exec.v0+json": ""
     },
     "metadata": {
      "application/vnd.bokehjs_exec.v0+json": {
       "id": "4781ee66-94a2-400c-a2e3-901d6197d899"
      }
     },
     "output_type": "display_data"
    }
   ],
   "source": [
    "from bokeh.layouts import gridplot\n",
    "\n",
    "x = list(range(11))\n",
    "y0, y1, y2 = x, [10-i for i in x], [abs(i-5) for i in x]\n",
    "\n",
    "plot_options = dict(width=250, plot_height=250, tools='pan,wheel_zoom')\n",
    "\n",
    "# create a new plot\n",
    "s1 = figure(**plot_options)\n",
    "s1.circle(x, y0, size=10, color=\"navy\")\n",
    "\n",
    "# create a new plot and share both ranges\n",
    "s2 = figure(x_range=s1.x_range, y_range=s1.y_range, **plot_options)\n",
    "s2.triangle(x, y1, size=10, color=\"firebrick\")\n",
    "\n",
    "# create a new plot and share only one range\n",
    "s3 = figure(x_range=s1.x_range, **plot_options)\n",
    "s3.square(x, y2, size=10, color=\"olive\")\n",
    "\n",
    "p = gridplot([[s1, s2, s3]])\n",
    "\n",
    "# show the results\n",
    "show(p)"
   ]
  },
  {
   "cell_type": "code",
   "execution_count": 3,
   "metadata": {
    "collapsed": true
   },
   "outputs": [],
   "source": [
    "# EXERCISE: create two plots in a gridplot, and link their ranges\n"
   ]
  },
  {
   "cell_type": "markdown",
   "metadata": {},
   "source": [
    "## Linked brushing\n",
    "\n",
    "Linking selections is accomplished in a similar way, by sharing data sources between plots. Note that normally with ``bokeh.plotting`` and ``bokeh.charts`` creating a default data source for simple plots is handled automatically. However to share a data source, we must create them by hand and pass them explicitly. This is illustrated in the example below:"
   ]
  },
  {
   "cell_type": "code",
   "execution_count": 17,
   "metadata": {},
   "outputs": [
    {
     "data": {
      "text/html": [
       "\n",
       "<div class=\"bk-root\">\n",
       "    <div class=\"bk-plotdiv\" id=\"56e05287-6904-4a03-8b65-560c6cf4701a\"></div>\n",
       "</div>"
      ]
     },
     "metadata": {},
     "output_type": "display_data"
    },
    {
     "data": {
      "application/javascript": [
       "(function(root) {\n",
       "  function embed_document(root) {\n",
       "    var docs_json = {\"a35d6a68-81af-4d1a-a557-2f3a17109246\":{\"roots\":{\"references\":[{\"attributes\":{\"fill_color\":{\"value\":\"#1f77b4\"},\"line_color\":{\"value\":\"#1f77b4\"},\"x\":{\"field\":\"x\"},\"y\":{\"field\":\"y0\"}},\"id\":\"523971d3-0478-4afe-afcc-7b0269dec552\",\"type\":\"Circle\"},{\"attributes\":{},\"id\":\"8bfe2771-6abe-489d-8012-3eea446e0434\",\"type\":\"LinearScale\"},{\"attributes\":{},\"id\":\"4dc402e0-3d0b-49fa-979b-9e3ff5abc73b\",\"type\":\"BasicTicker\"},{\"attributes\":{},\"id\":\"ebd88617-a191-4030-aab6-1a89526ebb6d\",\"type\":\"BasicTickFormatter\"},{\"attributes\":{\"bottom_units\":\"screen\",\"fill_alpha\":{\"value\":0.5},\"fill_color\":{\"value\":\"lightgrey\"},\"left_units\":\"screen\",\"level\":\"overlay\",\"line_alpha\":{\"value\":1.0},\"line_color\":{\"value\":\"black\"},\"line_dash\":[4,4],\"line_width\":{\"value\":2},\"plot\":null,\"render_mode\":\"css\",\"right_units\":\"screen\",\"top_units\":\"screen\"},\"id\":\"91f4e059-b466-4869-af99-c65038ea9acc\",\"type\":\"BoxAnnotation\"},{\"attributes\":{\"callback\":null,\"column_names\":[\"y1\",\"y0\",\"x\"],\"data\":{\"x\":[-20,-19,-18,-17,-16,-15,-14,-13,-12,-11,-10,-9,-8,-7,-6,-5,-4,-3,-2,-1,0,1,2,3,4,5,6,7,8,9,10,11,12,13,14,15,16,17,18,19,20],\"y0\":[20,19,18,17,16,15,14,13,12,11,10,9,8,7,6,5,4,3,2,1,0,1,2,3,4,5,6,7,8,9,10,11,12,13,14,15,16,17,18,19,20],\"y1\":[400,361,324,289,256,225,196,169,144,121,100,81,64,49,36,25,16,9,4,1,0,1,4,9,16,25,36,49,64,81,100,121,144,169,196,225,256,289,324,361,400]}},\"id\":\"e15e8d1d-3017-4197-b465-eee0389a588e\",\"type\":\"ColumnDataSource\"},{\"attributes\":{\"source\":{\"id\":\"e15e8d1d-3017-4197-b465-eee0389a588e\",\"type\":\"ColumnDataSource\"}},\"id\":\"51b7ccec-79e3-4a1d-9f3d-332272c40bfd\",\"type\":\"CDSView\"},{\"attributes\":{\"source\":{\"id\":\"e15e8d1d-3017-4197-b465-eee0389a588e\",\"type\":\"ColumnDataSource\"}},\"id\":\"bf07aaaf-7fc0-43c5-95bf-7423fbd8bc6f\",\"type\":\"CDSView\"},{\"attributes\":{\"plot\":null,\"text\":\"\"},\"id\":\"c90286ad-3c0d-4f63-86e5-7ab152bad10d\",\"type\":\"Title\"},{\"attributes\":{\"children\":[{\"id\":\"6557edfa-ee4c-4043-b9a7-399c9c4eca9f\",\"type\":\"ToolbarBox\"},{\"id\":\"c4258f0a-cf9a-41a6-9b63-8b791717f056\",\"type\":\"Column\"}]},\"id\":\"d50bd742-7876-4ce8-bb84-0df111b501e9\",\"type\":\"Column\"},{\"attributes\":{\"bottom_units\":\"screen\",\"fill_alpha\":{\"value\":0.5},\"fill_color\":{\"value\":\"lightgrey\"},\"left_units\":\"screen\",\"level\":\"overlay\",\"line_alpha\":{\"value\":1.0},\"line_color\":{\"value\":\"black\"},\"line_dash\":[4,4],\"line_width\":{\"value\":2},\"plot\":null,\"render_mode\":\"css\",\"right_units\":\"screen\",\"top_units\":\"screen\"},\"id\":\"6ccf535c-4cf1-4f0b-a52c-149ecda07864\",\"type\":\"BoxAnnotation\"},{\"attributes\":{\"children\":[{\"id\":\"999ad00f-268f-4b2b-8aca-8357bab6f335\",\"subtype\":\"Figure\",\"type\":\"Plot\"},{\"id\":\"300bf165-e2ef-4082-95f7-c58b0a19628c\",\"subtype\":\"Figure\",\"type\":\"Plot\"}]},\"id\":\"28145bc9-77d7-4a2c-870f-0c913fcd7319\",\"type\":\"Row\"},{\"attributes\":{},\"id\":\"5e654845-18c7-4232-ad00-947bbda87c9b\",\"type\":\"BasicTicker\"},{\"attributes\":{\"children\":[{\"id\":\"28145bc9-77d7-4a2c-870f-0c913fcd7319\",\"type\":\"Row\"}]},\"id\":\"c4258f0a-cf9a-41a6-9b63-8b791717f056\",\"type\":\"Column\"},{\"attributes\":{\"below\":[{\"id\":\"7d35e0c9-941c-4c72-b3b9-adfb4ceb6cc3\",\"type\":\"LinearAxis\"}],\"left\":[{\"id\":\"e3eb50fe-a85a-47c5-889f-b6358f68dca8\",\"type\":\"LinearAxis\"}],\"plot_height\":300,\"plot_width\":300,\"renderers\":[{\"id\":\"7d35e0c9-941c-4c72-b3b9-adfb4ceb6cc3\",\"type\":\"LinearAxis\"},{\"id\":\"dd8544d1-24d0-431f-9b4d-cac5d99e3945\",\"type\":\"Grid\"},{\"id\":\"e3eb50fe-a85a-47c5-889f-b6358f68dca8\",\"type\":\"LinearAxis\"},{\"id\":\"06d3b5c3-7315-45b2-9ba0-799cfda17cc4\",\"type\":\"Grid\"},{\"id\":\"91f4e059-b466-4869-af99-c65038ea9acc\",\"type\":\"BoxAnnotation\"},{\"id\":\"54be3c48-1f14-47ae-b821-83fb61ee51a9\",\"type\":\"PolyAnnotation\"},{\"id\":\"eee63ea4-4d82-4fd8-a485-5f6a7791b17b\",\"type\":\"GlyphRenderer\"}],\"title\":{\"id\":\"4d1b3727-c248-4d3c-ad89-cea8994bf6cc\",\"type\":\"Title\"},\"toolbar\":{\"id\":\"41a9fafa-c062-4714-9423-9e312613fb4d\",\"type\":\"Toolbar\"},\"toolbar_location\":null,\"x_range\":{\"id\":\"45046cc1-b0e0-4a81-9e43-72ca894fe0fc\",\"type\":\"DataRange1d\"},\"x_scale\":{\"id\":\"471208db-aded-4720-8f32-9529b408df9c\",\"type\":\"LinearScale\"},\"y_range\":{\"id\":\"c899fb35-d9e2-478a-9a3e-1dc209ff7d8f\",\"type\":\"DataRange1d\"},\"y_scale\":{\"id\":\"8bfe2771-6abe-489d-8012-3eea446e0434\",\"type\":\"LinearScale\"}},\"id\":\"300bf165-e2ef-4082-95f7-c58b0a19628c\",\"subtype\":\"Figure\",\"type\":\"Plot\"},{\"attributes\":{},\"id\":\"596effe4-a93c-4b21-ae5e-77f2b04eea84\",\"type\":\"BasicTickFormatter\"},{\"attributes\":{\"callback\":null,\"overlay\":{\"id\":\"54be3c48-1f14-47ae-b821-83fb61ee51a9\",\"type\":\"PolyAnnotation\"}},\"id\":\"548cfce5-b859-407a-9ad3-28aa35f2fdb0\",\"type\":\"LassoSelectTool\"},{\"attributes\":{\"fill_alpha\":{\"value\":0.5},\"fill_color\":{\"value\":\"lightgrey\"},\"level\":\"overlay\",\"line_alpha\":{\"value\":1.0},\"line_color\":{\"value\":\"black\"},\"line_dash\":[4,4],\"line_width\":{\"value\":2},\"plot\":null,\"xs_units\":\"screen\",\"ys_units\":\"screen\"},\"id\":\"54be3c48-1f14-47ae-b821-83fb61ee51a9\",\"type\":\"PolyAnnotation\"},{\"attributes\":{\"dimension\":1,\"plot\":{\"id\":\"999ad00f-268f-4b2b-8aca-8357bab6f335\",\"subtype\":\"Figure\",\"type\":\"Plot\"},\"ticker\":{\"id\":\"8991ca9f-6cc7-430e-aa16-24a79f315574\",\"type\":\"BasicTicker\"}},\"id\":\"0d0b17c7-cc18-465d-8c1e-b10abe719963\",\"type\":\"Grid\"},{\"attributes\":{\"sizing_mode\":\"scale_width\",\"toolbar_location\":\"above\",\"tools\":[{\"id\":\"3b11a611-dc47-46e9-94c8-ca90e21a0d4b\",\"type\":\"BoxSelectTool\"},{\"id\":\"b9eae039-dd82-4b81-87ff-5983d65042eb\",\"type\":\"LassoSelectTool\"},{\"id\":\"d7845b54-29c0-4d6f-8ab2-81061c1feaee\",\"type\":\"HelpTool\"},{\"id\":\"f8be7cdf-a28d-4c2b-8c99-7979fb7f3c84\",\"type\":\"BoxSelectTool\"},{\"id\":\"548cfce5-b859-407a-9ad3-28aa35f2fdb0\",\"type\":\"LassoSelectTool\"},{\"id\":\"3aa87d6f-1f46-45cb-9a96-e44cac5c26fa\",\"type\":\"HelpTool\"}]},\"id\":\"6557edfa-ee4c-4043-b9a7-399c9c4eca9f\",\"type\":\"ToolbarBox\"},{\"attributes\":{\"fill_alpha\":{\"value\":0.1},\"fill_color\":{\"value\":\"#1f77b4\"},\"line_alpha\":{\"value\":0.1},\"line_color\":{\"value\":\"#1f77b4\"},\"x\":{\"field\":\"x\"},\"y\":{\"field\":\"y0\"}},\"id\":\"eeeabdb1-cd98-4e73-940e-3023ecc9a44b\",\"type\":\"Circle\"},{\"attributes\":{\"callback\":null,\"overlay\":{\"id\":\"6ccf535c-4cf1-4f0b-a52c-149ecda07864\",\"type\":\"BoxAnnotation\"},\"renderers\":[{\"id\":\"f1ab8e2b-9e27-4e94-9a7e-e76dbbcc2b2b\",\"type\":\"GlyphRenderer\"}]},\"id\":\"3b11a611-dc47-46e9-94c8-ca90e21a0d4b\",\"type\":\"BoxSelectTool\"},{\"attributes\":{\"data_source\":{\"id\":\"e15e8d1d-3017-4197-b465-eee0389a588e\",\"type\":\"ColumnDataSource\"},\"glyph\":{\"id\":\"b28a4810-99df-4a73-b2ec-66e22119fdd6\",\"type\":\"Circle\"},\"hover_glyph\":null,\"muted_glyph\":null,\"nonselection_glyph\":{\"id\":\"de5a682d-3765-451e-8bde-acee1695aabd\",\"type\":\"Circle\"},\"selection_glyph\":null,\"view\":{\"id\":\"51b7ccec-79e3-4a1d-9f3d-332272c40bfd\",\"type\":\"CDSView\"}},\"id\":\"eee63ea4-4d82-4fd8-a485-5f6a7791b17b\",\"type\":\"GlyphRenderer\"},{\"attributes\":{\"formatter\":{\"id\":\"3604e055-b314-42ab-ad45-3cbc0d4e2ba2\",\"type\":\"BasicTickFormatter\"},\"plot\":{\"id\":\"300bf165-e2ef-4082-95f7-c58b0a19628c\",\"subtype\":\"Figure\",\"type\":\"Plot\"},\"ticker\":{\"id\":\"4dc402e0-3d0b-49fa-979b-9e3ff5abc73b\",\"type\":\"BasicTicker\"}},\"id\":\"e3eb50fe-a85a-47c5-889f-b6358f68dca8\",\"type\":\"LinearAxis\"},{\"attributes\":{},\"id\":\"3aa87d6f-1f46-45cb-9a96-e44cac5c26fa\",\"type\":\"HelpTool\"},{\"attributes\":{\"formatter\":{\"id\":\"ebd88617-a191-4030-aab6-1a89526ebb6d\",\"type\":\"BasicTickFormatter\"},\"plot\":{\"id\":\"300bf165-e2ef-4082-95f7-c58b0a19628c\",\"subtype\":\"Figure\",\"type\":\"Plot\"},\"ticker\":{\"id\":\"5e654845-18c7-4232-ad00-947bbda87c9b\",\"type\":\"BasicTicker\"}},\"id\":\"7d35e0c9-941c-4c72-b3b9-adfb4ceb6cc3\",\"type\":\"LinearAxis\"},{\"attributes\":{},\"id\":\"d7845b54-29c0-4d6f-8ab2-81061c1feaee\",\"type\":\"HelpTool\"},{\"attributes\":{},\"id\":\"f120e965-ace1-43bd-bbab-37615e2b5fe9\",\"type\":\"LinearScale\"},{\"attributes\":{\"fill_color\":{\"value\":\"#1f77b4\"},\"line_color\":{\"value\":\"#1f77b4\"},\"x\":{\"field\":\"x\"},\"y\":{\"field\":\"y1\"}},\"id\":\"b28a4810-99df-4a73-b2ec-66e22119fdd6\",\"type\":\"Circle\"},{\"attributes\":{\"dimension\":1,\"plot\":{\"id\":\"300bf165-e2ef-4082-95f7-c58b0a19628c\",\"subtype\":\"Figure\",\"type\":\"Plot\"},\"ticker\":{\"id\":\"4dc402e0-3d0b-49fa-979b-9e3ff5abc73b\",\"type\":\"BasicTicker\"}},\"id\":\"06d3b5c3-7315-45b2-9ba0-799cfda17cc4\",\"type\":\"Grid\"},{\"attributes\":{\"callback\":null,\"overlay\":{\"id\":\"969ea7ab-7e2b-4ea8-bba2-431f1c010d67\",\"type\":\"PolyAnnotation\"}},\"id\":\"b9eae039-dd82-4b81-87ff-5983d65042eb\",\"type\":\"LassoSelectTool\"},{\"attributes\":{\"callback\":null},\"id\":\"edfcd30c-18aa-4d90-9d40-5ad6a2d48ac0\",\"type\":\"DataRange1d\"},{\"attributes\":{\"active_drag\":\"auto\",\"active_inspect\":\"auto\",\"active_scroll\":\"auto\",\"active_tap\":\"auto\",\"tools\":[{\"id\":\"3b11a611-dc47-46e9-94c8-ca90e21a0d4b\",\"type\":\"BoxSelectTool\"},{\"id\":\"b9eae039-dd82-4b81-87ff-5983d65042eb\",\"type\":\"LassoSelectTool\"},{\"id\":\"d7845b54-29c0-4d6f-8ab2-81061c1feaee\",\"type\":\"HelpTool\"}]},\"id\":\"f9cabab5-0608-4076-9bce-b347f476c707\",\"type\":\"Toolbar\"},{\"attributes\":{\"data_source\":{\"id\":\"e15e8d1d-3017-4197-b465-eee0389a588e\",\"type\":\"ColumnDataSource\"},\"glyph\":{\"id\":\"523971d3-0478-4afe-afcc-7b0269dec552\",\"type\":\"Circle\"},\"hover_glyph\":null,\"muted_glyph\":null,\"nonselection_glyph\":{\"id\":\"eeeabdb1-cd98-4e73-940e-3023ecc9a44b\",\"type\":\"Circle\"},\"selection_glyph\":null,\"view\":{\"id\":\"bf07aaaf-7fc0-43c5-95bf-7423fbd8bc6f\",\"type\":\"CDSView\"}},\"id\":\"f1ab8e2b-9e27-4e94-9a7e-e76dbbcc2b2b\",\"type\":\"GlyphRenderer\"},{\"attributes\":{\"fill_alpha\":{\"value\":0.1},\"fill_color\":{\"value\":\"#1f77b4\"},\"line_alpha\":{\"value\":0.1},\"line_color\":{\"value\":\"#1f77b4\"},\"x\":{\"field\":\"x\"},\"y\":{\"field\":\"y1\"}},\"id\":\"de5a682d-3765-451e-8bde-acee1695aabd\",\"type\":\"Circle\"},{\"attributes\":{\"formatter\":{\"id\":\"ef7c3b9e-09da-4ddd-9451-aca1abf33cb7\",\"type\":\"BasicTickFormatter\"},\"plot\":{\"id\":\"999ad00f-268f-4b2b-8aca-8357bab6f335\",\"subtype\":\"Figure\",\"type\":\"Plot\"},\"ticker\":{\"id\":\"8991ca9f-6cc7-430e-aa16-24a79f315574\",\"type\":\"BasicTicker\"}},\"id\":\"5f6d4424-dc1b-4c55-b1c0-4b9e2ef5ec08\",\"type\":\"LinearAxis\"},{\"attributes\":{\"plot\":{\"id\":\"300bf165-e2ef-4082-95f7-c58b0a19628c\",\"subtype\":\"Figure\",\"type\":\"Plot\"},\"ticker\":{\"id\":\"5e654845-18c7-4232-ad00-947bbda87c9b\",\"type\":\"BasicTicker\"}},\"id\":\"dd8544d1-24d0-431f-9b4d-cac5d99e3945\",\"type\":\"Grid\"},{\"attributes\":{\"below\":[{\"id\":\"cf4c0e37-5ad7-47cb-a5dd-d645a64d4226\",\"type\":\"LinearAxis\"}],\"left\":[{\"id\":\"5f6d4424-dc1b-4c55-b1c0-4b9e2ef5ec08\",\"type\":\"LinearAxis\"}],\"plot_height\":300,\"plot_width\":300,\"renderers\":[{\"id\":\"cf4c0e37-5ad7-47cb-a5dd-d645a64d4226\",\"type\":\"LinearAxis\"},{\"id\":\"01951d34-82f8-49ce-9f4f-ab95fa2134dd\",\"type\":\"Grid\"},{\"id\":\"5f6d4424-dc1b-4c55-b1c0-4b9e2ef5ec08\",\"type\":\"LinearAxis\"},{\"id\":\"0d0b17c7-cc18-465d-8c1e-b10abe719963\",\"type\":\"Grid\"},{\"id\":\"6ccf535c-4cf1-4f0b-a52c-149ecda07864\",\"type\":\"BoxAnnotation\"},{\"id\":\"969ea7ab-7e2b-4ea8-bba2-431f1c010d67\",\"type\":\"PolyAnnotation\"},{\"id\":\"f1ab8e2b-9e27-4e94-9a7e-e76dbbcc2b2b\",\"type\":\"GlyphRenderer\"}],\"title\":{\"id\":\"c90286ad-3c0d-4f63-86e5-7ab152bad10d\",\"type\":\"Title\"},\"toolbar\":{\"id\":\"f9cabab5-0608-4076-9bce-b347f476c707\",\"type\":\"Toolbar\"},\"toolbar_location\":null,\"x_range\":{\"id\":\"edfcd30c-18aa-4d90-9d40-5ad6a2d48ac0\",\"type\":\"DataRange1d\"},\"x_scale\":{\"id\":\"f120e965-ace1-43bd-bbab-37615e2b5fe9\",\"type\":\"LinearScale\"},\"y_range\":{\"id\":\"285f9984-ea6e-493b-975c-20a0ba76d811\",\"type\":\"DataRange1d\"},\"y_scale\":{\"id\":\"4b0a8213-9940-467d-b19a-0889df43ec80\",\"type\":\"LinearScale\"}},\"id\":\"999ad00f-268f-4b2b-8aca-8357bab6f335\",\"subtype\":\"Figure\",\"type\":\"Plot\"},{\"attributes\":{\"callback\":null},\"id\":\"c899fb35-d9e2-478a-9a3e-1dc209ff7d8f\",\"type\":\"DataRange1d\"},{\"attributes\":{\"formatter\":{\"id\":\"596effe4-a93c-4b21-ae5e-77f2b04eea84\",\"type\":\"BasicTickFormatter\"},\"plot\":{\"id\":\"999ad00f-268f-4b2b-8aca-8357bab6f335\",\"subtype\":\"Figure\",\"type\":\"Plot\"},\"ticker\":{\"id\":\"679c7e4c-5a34-424a-a229-a0d2d5557ca9\",\"type\":\"BasicTicker\"}},\"id\":\"cf4c0e37-5ad7-47cb-a5dd-d645a64d4226\",\"type\":\"LinearAxis\"},{\"attributes\":{},\"id\":\"ef7c3b9e-09da-4ddd-9451-aca1abf33cb7\",\"type\":\"BasicTickFormatter\"},{\"attributes\":{},\"id\":\"679c7e4c-5a34-424a-a229-a0d2d5557ca9\",\"type\":\"BasicTicker\"},{\"attributes\":{\"callback\":null},\"id\":\"285f9984-ea6e-493b-975c-20a0ba76d811\",\"type\":\"DataRange1d\"},{\"attributes\":{\"callback\":null,\"overlay\":{\"id\":\"91f4e059-b466-4869-af99-c65038ea9acc\",\"type\":\"BoxAnnotation\"},\"renderers\":[{\"id\":\"eee63ea4-4d82-4fd8-a485-5f6a7791b17b\",\"type\":\"GlyphRenderer\"}]},\"id\":\"f8be7cdf-a28d-4c2b-8c99-7979fb7f3c84\",\"type\":\"BoxSelectTool\"},{\"attributes\":{\"callback\":null},\"id\":\"45046cc1-b0e0-4a81-9e43-72ca894fe0fc\",\"type\":\"DataRange1d\"},{\"attributes\":{},\"id\":\"4b0a8213-9940-467d-b19a-0889df43ec80\",\"type\":\"LinearScale\"},{\"attributes\":{},\"id\":\"8991ca9f-6cc7-430e-aa16-24a79f315574\",\"type\":\"BasicTicker\"},{\"attributes\":{},\"id\":\"3604e055-b314-42ab-ad45-3cbc0d4e2ba2\",\"type\":\"BasicTickFormatter\"},{\"attributes\":{\"plot\":null,\"text\":\"\"},\"id\":\"4d1b3727-c248-4d3c-ad89-cea8994bf6cc\",\"type\":\"Title\"},{\"attributes\":{},\"id\":\"471208db-aded-4720-8f32-9529b408df9c\",\"type\":\"LinearScale\"},{\"attributes\":{\"active_drag\":\"auto\",\"active_inspect\":\"auto\",\"active_scroll\":\"auto\",\"active_tap\":\"auto\",\"tools\":[{\"id\":\"f8be7cdf-a28d-4c2b-8c99-7979fb7f3c84\",\"type\":\"BoxSelectTool\"},{\"id\":\"548cfce5-b859-407a-9ad3-28aa35f2fdb0\",\"type\":\"LassoSelectTool\"},{\"id\":\"3aa87d6f-1f46-45cb-9a96-e44cac5c26fa\",\"type\":\"HelpTool\"}]},\"id\":\"41a9fafa-c062-4714-9423-9e312613fb4d\",\"type\":\"Toolbar\"},{\"attributes\":{\"plot\":{\"id\":\"999ad00f-268f-4b2b-8aca-8357bab6f335\",\"subtype\":\"Figure\",\"type\":\"Plot\"},\"ticker\":{\"id\":\"679c7e4c-5a34-424a-a229-a0d2d5557ca9\",\"type\":\"BasicTicker\"}},\"id\":\"01951d34-82f8-49ce-9f4f-ab95fa2134dd\",\"type\":\"Grid\"},{\"attributes\":{\"fill_alpha\":{\"value\":0.5},\"fill_color\":{\"value\":\"lightgrey\"},\"level\":\"overlay\",\"line_alpha\":{\"value\":1.0},\"line_color\":{\"value\":\"black\"},\"line_dash\":[4,4],\"line_width\":{\"value\":2},\"plot\":null,\"xs_units\":\"screen\",\"ys_units\":\"screen\"},\"id\":\"969ea7ab-7e2b-4ea8-bba2-431f1c010d67\",\"type\":\"PolyAnnotation\"}],\"root_ids\":[\"d50bd742-7876-4ce8-bb84-0df111b501e9\"]},\"title\":\"Bokeh Application\",\"version\":\"0.12.10\"}};\n",
       "    var render_items = [{\"docid\":\"a35d6a68-81af-4d1a-a557-2f3a17109246\",\"elementid\":\"56e05287-6904-4a03-8b65-560c6cf4701a\",\"modelid\":\"d50bd742-7876-4ce8-bb84-0df111b501e9\"}];\n",
       "\n",
       "    root.Bokeh.embed.embed_items(docs_json, render_items);\n",
       "  }\n",
       "\n",
       "  if (root.Bokeh !== undefined) {\n",
       "    embed_document(root);\n",
       "  } else {\n",
       "    var attempts = 0;\n",
       "    var timer = setInterval(function(root) {\n",
       "      if (root.Bokeh !== undefined) {\n",
       "        embed_document(root);\n",
       "        clearInterval(timer);\n",
       "      }\n",
       "      attempts++;\n",
       "      if (attempts > 100) {\n",
       "        console.log(\"Bokeh: ERROR: Unable to embed document because BokehJS library is missing\")\n",
       "        clearInterval(timer);\n",
       "      }\n",
       "    }, 10, root)\n",
       "  }\n",
       "})(window);"
      ],
      "application/vnd.bokehjs_exec.v0+json": ""
     },
     "metadata": {
      "application/vnd.bokehjs_exec.v0+json": {
       "id": "d50bd742-7876-4ce8-bb84-0df111b501e9"
      }
     },
     "output_type": "display_data"
    }
   ],
   "source": [
    "from bokeh.models import ColumnDataSource\n",
    "\n",
    "x = list(range(-20, 21))\n",
    "y0, y1 = [abs(xx) for xx in x], [xx**2 for xx in x]\n",
    "\n",
    "# create a column data source for the plots to share\n",
    "source = ColumnDataSource(data=dict(x=x, y0=y0, y1=y1))\n",
    "\n",
    "TOOLS = \"box_select,lasso_select,help\"\n",
    "\n",
    "# create a new plot and add a renderer\n",
    "left = figure(tools=TOOLS, width=300, height=300)\n",
    "left.circle('x', 'y0', source=source)\n",
    "\n",
    "# create another new plot and add a renderer\n",
    "right = figure(tools=TOOLS, width=300, height=300)\n",
    "right.circle('x', 'y1', source=source)\n",
    "\n",
    "p = gridplot([[left, right]])\n",
    "\n",
    "show(p)"
   ]
  },
  {
   "cell_type": "code",
   "execution_count": 5,
   "metadata": {
    "collapsed": true
   },
   "outputs": [],
   "source": [
    "# EXERCISE: create two plots in a gridplot, and link their data sources\n",
    "\n"
   ]
  },
  {
   "cell_type": "markdown",
   "metadata": {},
   "source": [
    "# Hover Tools\n",
    "\n",
    "Bokeh has a Hover Tool that allows additional information to be displayed in a popup whenever the user hovers over a specific glyph. Basic hover tool configuration amounts to providing a list of ``(name, format)`` tuples. The full details can be found in the User's Guide [here](http://bokeh.pydata.org/en/latest/docs/user_guide/tools.html#hovertool).\n",
    "\n",
    "The example below shows some basic usage of the Hover tool with a circle glyph, using hover information defined in utils.py:"
   ]
  },
  {
   "cell_type": "code",
   "execution_count": 18,
   "metadata": {},
   "outputs": [
    {
     "data": {
      "text/html": [
       "\n",
       "<div class=\"bk-root\">\n",
       "    <div class=\"bk-plotdiv\" id=\"c0ccfb27-babc-4fbb-a9cb-79022a6112b0\"></div>\n",
       "</div>"
      ]
     },
     "metadata": {},
     "output_type": "display_data"
    },
    {
     "data": {
      "application/javascript": [
       "(function(root) {\n",
       "  function embed_document(root) {\n",
       "    var docs_json = {\"51f1ab73-0cf3-4563-94c9-33062d34c0d1\":{\"roots\":{\"references\":[{\"attributes\":{\"dimension\":1,\"plot\":{\"id\":\"43197b34-1d33-463e-bfd2-d152b8a57222\",\"subtype\":\"Figure\",\"type\":\"Plot\"},\"ticker\":{\"id\":\"a9073d11-0d09-4d20-8288-4037a5e4eec2\",\"type\":\"BasicTicker\"}},\"id\":\"98031a0f-da41-434e-8139-afebebc028c7\",\"type\":\"Grid\"},{\"attributes\":{\"callback\":null,\"column_names\":[\"y\",\"x\",\"desc\"],\"data\":{\"desc\":[\"A\",\"b\",\"C\",\"d\",\"E\"],\"x\":[1,2,3,4,5],\"y\":[2,5,8,2,7]}},\"id\":\"1710c952-2f6c-4870-a269-5c5701ca5bc1\",\"type\":\"ColumnDataSource\"},{\"attributes\":{},\"id\":\"4f69e7ba-04a4-46d5-a1f2-4b8c31b8fc90\",\"type\":\"BasicTickFormatter\"},{\"attributes\":{\"source\":{\"id\":\"1710c952-2f6c-4870-a269-5c5701ca5bc1\",\"type\":\"ColumnDataSource\"}},\"id\":\"cd38c1cb-f0d9-41c0-a7d6-cde3a09b4e37\",\"type\":\"CDSView\"},{\"attributes\":{},\"id\":\"e6e0aec8-74bd-4f7b-bcb7-8bc3c47fcd65\",\"type\":\"BasicTickFormatter\"},{\"attributes\":{},\"id\":\"a9073d11-0d09-4d20-8288-4037a5e4eec2\",\"type\":\"BasicTicker\"},{\"attributes\":{\"data_source\":{\"id\":\"1710c952-2f6c-4870-a269-5c5701ca5bc1\",\"type\":\"ColumnDataSource\"},\"glyph\":{\"id\":\"140348ed-83e7-45f1-953d-701d35da5590\",\"type\":\"Circle\"},\"hover_glyph\":null,\"muted_glyph\":null,\"nonselection_glyph\":{\"id\":\"e051dba2-1e5d-4428-80e6-ba75cd935929\",\"type\":\"Circle\"},\"selection_glyph\":null,\"view\":{\"id\":\"cd38c1cb-f0d9-41c0-a7d6-cde3a09b4e37\",\"type\":\"CDSView\"}},\"id\":\"032c4313-8f4a-4f91-8218-282a8acabc4c\",\"type\":\"GlyphRenderer\"},{\"attributes\":{\"plot\":{\"id\":\"43197b34-1d33-463e-bfd2-d152b8a57222\",\"subtype\":\"Figure\",\"type\":\"Plot\"},\"ticker\":{\"id\":\"4f695b06-48dd-4cf8-92f5-f00339c3878f\",\"type\":\"BasicTicker\"}},\"id\":\"9f5840d3-f165-4bdd-9596-7a0ee7069c66\",\"type\":\"Grid\"},{\"attributes\":{\"fill_alpha\":{\"value\":0.1},\"fill_color\":{\"value\":\"#1f77b4\"},\"line_alpha\":{\"value\":0.1},\"line_color\":{\"value\":\"#1f77b4\"},\"size\":{\"units\":\"screen\",\"value\":20},\"x\":{\"field\":\"x\"},\"y\":{\"field\":\"y\"}},\"id\":\"e051dba2-1e5d-4428-80e6-ba75cd935929\",\"type\":\"Circle\"},{\"attributes\":{\"plot\":null,\"text\":\"Mouse over the dots\"},\"id\":\"83964dcd-eb68-4c98-9dc1-47c5d0054a1b\",\"type\":\"Title\"},{\"attributes\":{},\"id\":\"397daebd-e79c-498a-a44d-274e8c992d0d\",\"type\":\"LinearScale\"},{\"attributes\":{\"active_drag\":\"auto\",\"active_inspect\":\"auto\",\"active_scroll\":\"auto\",\"active_tap\":\"auto\",\"tools\":[{\"id\":\"cea34ebc-374c-4fd9-b30c-c0beafb8b766\",\"type\":\"HoverTool\"}]},\"id\":\"bde01899-c0e6-479b-b39a-3dbf45f39c0f\",\"type\":\"Toolbar\"},{\"attributes\":{\"fill_color\":{\"value\":\"#1f77b4\"},\"line_color\":{\"value\":\"#1f77b4\"},\"size\":{\"units\":\"screen\",\"value\":20},\"x\":{\"field\":\"x\"},\"y\":{\"field\":\"y\"}},\"id\":\"140348ed-83e7-45f1-953d-701d35da5590\",\"type\":\"Circle\"},{\"attributes\":{\"formatter\":{\"id\":\"4f69e7ba-04a4-46d5-a1f2-4b8c31b8fc90\",\"type\":\"BasicTickFormatter\"},\"plot\":{\"id\":\"43197b34-1d33-463e-bfd2-d152b8a57222\",\"subtype\":\"Figure\",\"type\":\"Plot\"},\"ticker\":{\"id\":\"a9073d11-0d09-4d20-8288-4037a5e4eec2\",\"type\":\"BasicTicker\"}},\"id\":\"3e1734e0-3423-4b28-83b5-d850d008b47e\",\"type\":\"LinearAxis\"},{\"attributes\":{\"callback\":null,\"tooltips\":[[\"index\",\"$index\"],[\"(x,y)\",\"($x, $y)\"],[\"desc\",\"@desc\"]]},\"id\":\"cea34ebc-374c-4fd9-b30c-c0beafb8b766\",\"type\":\"HoverTool\"},{\"attributes\":{\"below\":[{\"id\":\"731490d9-0d0c-451b-9c8b-52975ec4b89e\",\"type\":\"LinearAxis\"}],\"left\":[{\"id\":\"3e1734e0-3423-4b28-83b5-d850d008b47e\",\"type\":\"LinearAxis\"}],\"plot_height\":300,\"plot_width\":300,\"renderers\":[{\"id\":\"731490d9-0d0c-451b-9c8b-52975ec4b89e\",\"type\":\"LinearAxis\"},{\"id\":\"9f5840d3-f165-4bdd-9596-7a0ee7069c66\",\"type\":\"Grid\"},{\"id\":\"3e1734e0-3423-4b28-83b5-d850d008b47e\",\"type\":\"LinearAxis\"},{\"id\":\"98031a0f-da41-434e-8139-afebebc028c7\",\"type\":\"Grid\"},{\"id\":\"032c4313-8f4a-4f91-8218-282a8acabc4c\",\"type\":\"GlyphRenderer\"}],\"title\":{\"id\":\"83964dcd-eb68-4c98-9dc1-47c5d0054a1b\",\"type\":\"Title\"},\"toolbar\":{\"id\":\"bde01899-c0e6-479b-b39a-3dbf45f39c0f\",\"type\":\"Toolbar\"},\"x_range\":{\"id\":\"d9cdf32e-b12c-4e2e-bb15-3ff5b727bd32\",\"type\":\"DataRange1d\"},\"x_scale\":{\"id\":\"397daebd-e79c-498a-a44d-274e8c992d0d\",\"type\":\"LinearScale\"},\"y_range\":{\"id\":\"b2f08160-254c-4e0d-8443-c391f175d9db\",\"type\":\"DataRange1d\"},\"y_scale\":{\"id\":\"c304d926-d0a4-4ecc-a340-043957971064\",\"type\":\"LinearScale\"}},\"id\":\"43197b34-1d33-463e-bfd2-d152b8a57222\",\"subtype\":\"Figure\",\"type\":\"Plot\"},{\"attributes\":{},\"id\":\"c304d926-d0a4-4ecc-a340-043957971064\",\"type\":\"LinearScale\"},{\"attributes\":{},\"id\":\"4f695b06-48dd-4cf8-92f5-f00339c3878f\",\"type\":\"BasicTicker\"},{\"attributes\":{\"callback\":null},\"id\":\"b2f08160-254c-4e0d-8443-c391f175d9db\",\"type\":\"DataRange1d\"},{\"attributes\":{\"formatter\":{\"id\":\"e6e0aec8-74bd-4f7b-bcb7-8bc3c47fcd65\",\"type\":\"BasicTickFormatter\"},\"plot\":{\"id\":\"43197b34-1d33-463e-bfd2-d152b8a57222\",\"subtype\":\"Figure\",\"type\":\"Plot\"},\"ticker\":{\"id\":\"4f695b06-48dd-4cf8-92f5-f00339c3878f\",\"type\":\"BasicTicker\"}},\"id\":\"731490d9-0d0c-451b-9c8b-52975ec4b89e\",\"type\":\"LinearAxis\"},{\"attributes\":{\"callback\":null},\"id\":\"d9cdf32e-b12c-4e2e-bb15-3ff5b727bd32\",\"type\":\"DataRange1d\"}],\"root_ids\":[\"43197b34-1d33-463e-bfd2-d152b8a57222\"]},\"title\":\"Bokeh Application\",\"version\":\"0.12.10\"}};\n",
       "    var render_items = [{\"docid\":\"51f1ab73-0cf3-4563-94c9-33062d34c0d1\",\"elementid\":\"c0ccfb27-babc-4fbb-a9cb-79022a6112b0\",\"modelid\":\"43197b34-1d33-463e-bfd2-d152b8a57222\"}];\n",
       "\n",
       "    root.Bokeh.embed.embed_items(docs_json, render_items);\n",
       "  }\n",
       "\n",
       "  if (root.Bokeh !== undefined) {\n",
       "    embed_document(root);\n",
       "  } else {\n",
       "    var attempts = 0;\n",
       "    var timer = setInterval(function(root) {\n",
       "      if (root.Bokeh !== undefined) {\n",
       "        embed_document(root);\n",
       "        clearInterval(timer);\n",
       "      }\n",
       "      attempts++;\n",
       "      if (attempts > 100) {\n",
       "        console.log(\"Bokeh: ERROR: Unable to embed document because BokehJS library is missing\")\n",
       "        clearInterval(timer);\n",
       "      }\n",
       "    }, 10, root)\n",
       "  }\n",
       "})(window);"
      ],
      "application/vnd.bokehjs_exec.v0+json": ""
     },
     "metadata": {
      "application/vnd.bokehjs_exec.v0+json": {
       "id": "43197b34-1d33-463e-bfd2-d152b8a57222"
      }
     },
     "output_type": "display_data"
    }
   ],
   "source": [
    "from bokeh.models import HoverTool\n",
    "\n",
    "source = ColumnDataSource(\n",
    "        data=dict(\n",
    "            x=[1, 2, 3, 4, 5],\n",
    "            y=[2, 5, 8, 2, 7],\n",
    "            desc=['A', 'b', 'C', 'd', 'E'],\n",
    "        )\n",
    "    )\n",
    "\n",
    "hover = HoverTool(\n",
    "        tooltips=[\n",
    "            (\"index\", \"$index\"),\n",
    "            (\"(x,y)\", \"($x, $y)\"),\n",
    "            (\"desc\", \"@desc\"),\n",
    "        ]\n",
    "    )\n",
    "\n",
    "p = figure(plot_width=300, plot_height=300, tools=[hover], title=\"Mouse over the dots\")\n",
    "\n",
    "p.circle('x', 'y', size=20, source=source)\n",
    "\n",
    "show(p)"
   ]
  },
  {
   "cell_type": "markdown",
   "metadata": {},
   "source": [
    "# Widgets"
   ]
  },
  {
   "cell_type": "markdown",
   "metadata": {},
   "source": [
    "Bokeh supports direct integration with a small basic widget set. Thse can be used in conjunction with a Bokeh Server, or with ``CustomJS`` models to add more interactive capability to your documents. You can see a complete list, with example code in the [Adding Widgets](http://bokeh.pydata.org/en/latest/docs/user_guide/interaction.html#adding-widgets) section of the User's Guide. \n",
    "\n",
    "To use the widgets, include them in a layout like you would a plot object:"
   ]
  },
  {
   "cell_type": "code",
   "execution_count": 19,
   "metadata": {},
   "outputs": [
    {
     "data": {
      "text/html": [
       "\n",
       "<div class=\"bk-root\">\n",
       "    <div class=\"bk-plotdiv\" id=\"6b222068-fbc1-429b-9ed5-1e921433eb80\"></div>\n",
       "</div>"
      ]
     },
     "metadata": {},
     "output_type": "display_data"
    },
    {
     "data": {
      "application/javascript": [
       "(function(root) {\n",
       "  function embed_document(root) {\n",
       "    var docs_json = {\"32858920-36e2-48cf-a825-259b435f36bf\":{\"roots\":{\"references\":[{\"attributes\":{\"children\":[{\"id\":\"87bcf956-c947-4b14-bb14-6c8f761e35d8\",\"type\":\"Slider\"}]},\"id\":\"71f29e0c-99b9-47a9-832e-60e5c3ba53bb\",\"type\":\"WidgetBox\"},{\"attributes\":{\"callback\":null,\"end\":10,\"start\":0,\"step\":0.1,\"title\":\"foo\",\"value\":1},\"id\":\"87bcf956-c947-4b14-bb14-6c8f761e35d8\",\"type\":\"Slider\"}],\"root_ids\":[\"71f29e0c-99b9-47a9-832e-60e5c3ba53bb\"]},\"title\":\"Bokeh Application\",\"version\":\"0.12.10\"}};\n",
       "    var render_items = [{\"docid\":\"32858920-36e2-48cf-a825-259b435f36bf\",\"elementid\":\"6b222068-fbc1-429b-9ed5-1e921433eb80\",\"modelid\":\"71f29e0c-99b9-47a9-832e-60e5c3ba53bb\"}];\n",
       "\n",
       "    root.Bokeh.embed.embed_items(docs_json, render_items);\n",
       "  }\n",
       "\n",
       "  if (root.Bokeh !== undefined) {\n",
       "    embed_document(root);\n",
       "  } else {\n",
       "    var attempts = 0;\n",
       "    var timer = setInterval(function(root) {\n",
       "      if (root.Bokeh !== undefined) {\n",
       "        embed_document(root);\n",
       "        clearInterval(timer);\n",
       "      }\n",
       "      attempts++;\n",
       "      if (attempts > 100) {\n",
       "        console.log(\"Bokeh: ERROR: Unable to embed document because BokehJS library is missing\")\n",
       "        clearInterval(timer);\n",
       "      }\n",
       "    }, 10, root)\n",
       "  }\n",
       "})(window);"
      ],
      "application/vnd.bokehjs_exec.v0+json": ""
     },
     "metadata": {
      "application/vnd.bokehjs_exec.v0+json": {
       "id": "71f29e0c-99b9-47a9-832e-60e5c3ba53bb"
      }
     },
     "output_type": "display_data"
    }
   ],
   "source": [
    "from bokeh.layouts import widgetbox\n",
    "from bokeh.models.widgets import Slider\n",
    "\n",
    "\n",
    "slider = Slider(start=0, end=10, value=1, step=.1, title=\"foo\")\n",
    "\n",
    "show(widgetbox(slider))"
   ]
  },
  {
   "cell_type": "code",
   "execution_count": 20,
   "metadata": {},
   "outputs": [
    {
     "data": {
      "text/html": [
       "\n",
       "<div class=\"bk-root\">\n",
       "    <div class=\"bk-plotdiv\" id=\"442ccdca-8c41-4ee9-be3a-f3361e7e0606\"></div>\n",
       "</div>"
      ]
     },
     "metadata": {},
     "output_type": "display_data"
    },
    {
     "data": {
      "application/javascript": [
       "(function(root) {\n",
       "  function embed_document(root) {\n",
       "    var docs_json = {\"4e2a0561-a1ed-4f2a-97ef-5140caf676ab\":{\"roots\":{\"references\":[{\"attributes\":{\"button_type\":\"warning\",\"callback\":null,\"icon\":null,\"label\":\"Dropdown button\",\"menu\":[[\"Item 1\",\"item_1\"],[\"Item 2\",\"item_2\"],null,[\"Item 3\",\"item_3\"]]},\"id\":\"31a9f01b-7727-40c6-b289-82603a621982\",\"type\":\"Dropdown\"},{\"attributes\":{\"children\":[{\"id\":\"31a9f01b-7727-40c6-b289-82603a621982\",\"type\":\"Dropdown\"}]},\"id\":\"86aa9481-5c6e-416f-bee3-ed53152acc30\",\"type\":\"WidgetBox\"}],\"root_ids\":[\"86aa9481-5c6e-416f-bee3-ed53152acc30\"]},\"title\":\"Bokeh Application\",\"version\":\"0.12.10\"}};\n",
       "    var render_items = [{\"docid\":\"4e2a0561-a1ed-4f2a-97ef-5140caf676ab\",\"elementid\":\"442ccdca-8c41-4ee9-be3a-f3361e7e0606\",\"modelid\":\"86aa9481-5c6e-416f-bee3-ed53152acc30\"}];\n",
       "\n",
       "    root.Bokeh.embed.embed_items(docs_json, render_items);\n",
       "  }\n",
       "\n",
       "  if (root.Bokeh !== undefined) {\n",
       "    embed_document(root);\n",
       "  } else {\n",
       "    var attempts = 0;\n",
       "    var timer = setInterval(function(root) {\n",
       "      if (root.Bokeh !== undefined) {\n",
       "        embed_document(root);\n",
       "        clearInterval(timer);\n",
       "      }\n",
       "      attempts++;\n",
       "      if (attempts > 100) {\n",
       "        console.log(\"Bokeh: ERROR: Unable to embed document because BokehJS library is missing\")\n",
       "        clearInterval(timer);\n",
       "      }\n",
       "    }, 10, root)\n",
       "  }\n",
       "})(window);"
      ],
      "application/vnd.bokehjs_exec.v0+json": ""
     },
     "metadata": {
      "application/vnd.bokehjs_exec.v0+json": {
       "id": "86aa9481-5c6e-416f-bee3-ed53152acc30"
      }
     },
     "output_type": "display_data"
    }
   ],
   "source": [
    "from bokeh.io import output_file, show\n",
    "from bokeh.layouts import widgetbox\n",
    "from bokeh.models.widgets import Dropdown\n",
    "\n",
    "output_file(\"dropdown.html\")\n",
    "\n",
    "menu = [(\"Male Retention\", \"m_retention\"), (\"Female Retention\", \"f_retention\"), (\"Overall Retention\", \"o_retention\")]\n",
    "dropdown = Dropdown(label=\"Retention button\", button_type=\"warning\", menu=menu)\n",
    "\n",
    "show(widgetbox(dropdown))"
   ]
  },
  {
   "cell_type": "code",
   "execution_count": 14,
   "metadata": {
    "collapsed": true
   },
   "outputs": [],
   "source": [
    "# EXERCISE: create and show a Select widget \n"
   ]
  },
  {
   "cell_type": "markdown",
   "metadata": {},
   "source": [
    "# CustomJS Callbacks"
   ]
  },
  {
   "cell_type": "code",
   "execution_count": 10,
   "metadata": {},
   "outputs": [
    {
     "data": {
      "text/html": [
       "\n",
       "<div class=\"bk-root\">\n",
       "    <div class=\"bk-plotdiv\" id=\"57ba02fc-6e69-4d7b-bed6-e04f4f4aa5e9\"></div>\n",
       "</div>"
      ]
     },
     "metadata": {},
     "output_type": "display_data"
    },
    {
     "data": {
      "application/javascript": [
       "(function(root) {\n",
       "  function embed_document(root) {\n",
       "    var docs_json = {\"00930e91-b529-45c3-b64b-26134531c19c\":{\"roots\":{\"references\":[{\"attributes\":{\"plot\":null,\"text\":\"\"},\"id\":\"c103856c-e6eb-432a-a746-d308965d90cb\",\"type\":\"Title\"},{\"attributes\":{\"callback\":null},\"id\":\"9f473bf0-8da9-448b-b14b-06291fe3e521\",\"type\":\"DataRange1d\"},{\"attributes\":{\"fill_alpha\":{\"value\":0.1},\"fill_color\":{\"value\":\"#1f77b4\"},\"line_alpha\":{\"value\":0.1},\"line_color\":{\"value\":\"#1f77b4\"},\"size\":{\"units\":\"screen\",\"value\":20},\"x\":{\"field\":\"x\"},\"y\":{\"field\":\"y\"}},\"id\":\"8afe41fa-ed99-480c-ba26-e37992c8a4ed\",\"type\":\"Circle\"},{\"attributes\":{},\"id\":\"e704e9cc-3164-452f-b83f-467c017c2ffc\",\"type\":\"LinearScale\"},{\"attributes\":{\"data_source\":{\"id\":\"bfbffb53-578b-41a5-b298-cb9992f4fc17\",\"type\":\"ColumnDataSource\"},\"glyph\":{\"id\":\"35fe5a82-c65f-4445-ac2b-e27318321500\",\"type\":\"Circle\"},\"hover_glyph\":null,\"muted_glyph\":null,\"nonselection_glyph\":{\"id\":\"8afe41fa-ed99-480c-ba26-e37992c8a4ed\",\"type\":\"Circle\"},\"selection_glyph\":null,\"view\":{\"id\":\"8d7471d1-2be2-48e8-a093-6ffaf942be22\",\"type\":\"CDSView\"}},\"id\":\"02bc5cc1-945e-4a22-bf9e-339426607e6e\",\"type\":\"GlyphRenderer\"},{\"attributes\":{\"dimension\":1,\"plot\":{\"id\":\"e49ceffa-9760-4c51-8c4c-7297dfa035bc\",\"subtype\":\"Figure\",\"type\":\"Plot\"},\"ticker\":{\"id\":\"1da7abad-ab30-4287-a01c-6d083c6fba92\",\"type\":\"BasicTicker\"}},\"id\":\"88131725-e3fb-4b3f-9836-f1da8a89f0bc\",\"type\":\"Grid\"},{\"attributes\":{\"callback\":null,\"column_names\":[\"y\",\"x\"],\"data\":{\"x\":[1,2,3,4,5],\"y\":[2,5,8,2,7]}},\"id\":\"bfbffb53-578b-41a5-b298-cb9992f4fc17\",\"type\":\"ColumnDataSource\"},{\"attributes\":{\"plot\":{\"id\":\"e49ceffa-9760-4c51-8c4c-7297dfa035bc\",\"subtype\":\"Figure\",\"type\":\"Plot\"},\"ticker\":{\"id\":\"5e6cbf6e-fb1b-4947-ab0f-74a4bf182348\",\"type\":\"BasicTicker\"}},\"id\":\"f8b5781b-d719-4d26-b4bb-d3d3ac7ee7e9\",\"type\":\"Grid\"},{\"attributes\":{\"callback\":null},\"id\":\"b3e49017-b7ce-4a9f-b9ad-6b90d0694dd9\",\"type\":\"DataRange1d\"},{\"attributes\":{\"source\":{\"id\":\"bfbffb53-578b-41a5-b298-cb9992f4fc17\",\"type\":\"ColumnDataSource\"}},\"id\":\"8d7471d1-2be2-48e8-a093-6ffaf942be22\",\"type\":\"CDSView\"},{\"attributes\":{},\"id\":\"5e6cbf6e-fb1b-4947-ab0f-74a4bf182348\",\"type\":\"BasicTicker\"},{\"attributes\":{\"formatter\":{\"id\":\"60ba0e8a-7532-4499-bdc9-e894d2d9f0c7\",\"type\":\"BasicTickFormatter\"},\"plot\":{\"id\":\"e49ceffa-9760-4c51-8c4c-7297dfa035bc\",\"subtype\":\"Figure\",\"type\":\"Plot\"},\"ticker\":{\"id\":\"1da7abad-ab30-4287-a01c-6d083c6fba92\",\"type\":\"BasicTicker\"}},\"id\":\"ac93eac4-fd55-4f64-9a99-5661f591292e\",\"type\":\"LinearAxis\"},{\"attributes\":{\"active_drag\":\"auto\",\"active_inspect\":\"auto\",\"active_scroll\":\"auto\",\"active_tap\":\"auto\",\"tools\":[{\"id\":\"b74d8153-8e4f-449a-9de0-8511035f790a\",\"type\":\"TapTool\"}]},\"id\":\"55e91b91-b870-4064-8f90-304260c44838\",\"type\":\"Toolbar\"},{\"attributes\":{\"formatter\":{\"id\":\"80609b81-945b-40db-97a1-786f0179672d\",\"type\":\"BasicTickFormatter\"},\"plot\":{\"id\":\"e49ceffa-9760-4c51-8c4c-7297dfa035bc\",\"subtype\":\"Figure\",\"type\":\"Plot\"},\"ticker\":{\"id\":\"5e6cbf6e-fb1b-4947-ab0f-74a4bf182348\",\"type\":\"BasicTicker\"}},\"id\":\"4e841898-3a63-413e-aebf-d2f69c4eca9f\",\"type\":\"LinearAxis\"},{\"attributes\":{\"code\":\"alert('hello world')\"},\"id\":\"239540d1-76a4-4c84-ae50-3b9e65490be7\",\"type\":\"CustomJS\"},{\"attributes\":{\"fill_color\":{\"value\":\"#1f77b4\"},\"line_color\":{\"value\":\"#1f77b4\"},\"size\":{\"units\":\"screen\",\"value\":20},\"x\":{\"field\":\"x\"},\"y\":{\"field\":\"y\"}},\"id\":\"35fe5a82-c65f-4445-ac2b-e27318321500\",\"type\":\"Circle\"},{\"attributes\":{},\"id\":\"80609b81-945b-40db-97a1-786f0179672d\",\"type\":\"BasicTickFormatter\"},{\"attributes\":{\"below\":[{\"id\":\"4e841898-3a63-413e-aebf-d2f69c4eca9f\",\"type\":\"LinearAxis\"}],\"left\":[{\"id\":\"ac93eac4-fd55-4f64-9a99-5661f591292e\",\"type\":\"LinearAxis\"}],\"plot_height\":300,\"renderers\":[{\"id\":\"4e841898-3a63-413e-aebf-d2f69c4eca9f\",\"type\":\"LinearAxis\"},{\"id\":\"f8b5781b-d719-4d26-b4bb-d3d3ac7ee7e9\",\"type\":\"Grid\"},{\"id\":\"ac93eac4-fd55-4f64-9a99-5661f591292e\",\"type\":\"LinearAxis\"},{\"id\":\"88131725-e3fb-4b3f-9836-f1da8a89f0bc\",\"type\":\"Grid\"},{\"id\":\"02bc5cc1-945e-4a22-bf9e-339426607e6e\",\"type\":\"GlyphRenderer\"}],\"title\":{\"id\":\"c103856c-e6eb-432a-a746-d308965d90cb\",\"type\":\"Title\"},\"toolbar\":{\"id\":\"55e91b91-b870-4064-8f90-304260c44838\",\"type\":\"Toolbar\"},\"x_range\":{\"id\":\"b3e49017-b7ce-4a9f-b9ad-6b90d0694dd9\",\"type\":\"DataRange1d\"},\"x_scale\":{\"id\":\"e704e9cc-3164-452f-b83f-467c017c2ffc\",\"type\":\"LinearScale\"},\"y_range\":{\"id\":\"9f473bf0-8da9-448b-b14b-06291fe3e521\",\"type\":\"DataRange1d\"},\"y_scale\":{\"id\":\"39f95f91-2fc7-48a0-91be-24fe1020bb1b\",\"type\":\"LinearScale\"}},\"id\":\"e49ceffa-9760-4c51-8c4c-7297dfa035bc\",\"subtype\":\"Figure\",\"type\":\"Plot\"},{\"attributes\":{\"callback\":{\"id\":\"239540d1-76a4-4c84-ae50-3b9e65490be7\",\"type\":\"CustomJS\"}},\"id\":\"b74d8153-8e4f-449a-9de0-8511035f790a\",\"type\":\"TapTool\"},{\"attributes\":{},\"id\":\"60ba0e8a-7532-4499-bdc9-e894d2d9f0c7\",\"type\":\"BasicTickFormatter\"},{\"attributes\":{},\"id\":\"39f95f91-2fc7-48a0-91be-24fe1020bb1b\",\"type\":\"LinearScale\"},{\"attributes\":{},\"id\":\"1da7abad-ab30-4287-a01c-6d083c6fba92\",\"type\":\"BasicTicker\"}],\"root_ids\":[\"e49ceffa-9760-4c51-8c4c-7297dfa035bc\"]},\"title\":\"Bokeh Application\",\"version\":\"0.12.10\"}};\n",
       "    var render_items = [{\"docid\":\"00930e91-b529-45c3-b64b-26134531c19c\",\"elementid\":\"57ba02fc-6e69-4d7b-bed6-e04f4f4aa5e9\",\"modelid\":\"e49ceffa-9760-4c51-8c4c-7297dfa035bc\"}];\n",
       "\n",
       "    root.Bokeh.embed.embed_items(docs_json, render_items);\n",
       "  }\n",
       "\n",
       "  if (root.Bokeh !== undefined) {\n",
       "    embed_document(root);\n",
       "  } else {\n",
       "    var attempts = 0;\n",
       "    var timer = setInterval(function(root) {\n",
       "      if (root.Bokeh !== undefined) {\n",
       "        embed_document(root);\n",
       "        clearInterval(timer);\n",
       "      }\n",
       "      attempts++;\n",
       "      if (attempts > 100) {\n",
       "        console.log(\"Bokeh: ERROR: Unable to embed document because BokehJS library is missing\")\n",
       "        clearInterval(timer);\n",
       "      }\n",
       "    }, 10, root)\n",
       "  }\n",
       "})(window);"
      ],
      "application/vnd.bokehjs_exec.v0+json": ""
     },
     "metadata": {
      "application/vnd.bokehjs_exec.v0+json": {
       "id": "e49ceffa-9760-4c51-8c4c-7297dfa035bc"
      }
     },
     "output_type": "display_data"
    }
   ],
   "source": [
    "from bokeh.models import TapTool, CustomJS, ColumnDataSource\n",
    "\n",
    "callback = CustomJS(code=\"alert('hello world')\")\n",
    "tap = TapTool(callback=callback)\n",
    "\n",
    "p = figure(plot_width=600, plot_height=300, tools=[tap])\n",
    "\n",
    "p.circle(x=[1, 2, 3, 4, 5], y=[2, 5, 8, 2, 7], size=20)\n",
    "\n",
    "show(p)"
   ]
  },
  {
   "cell_type": "markdown",
   "metadata": {},
   "source": [
    "## Lots of places to add callbacks\n",
    "\n",
    "* Widgets - Button, Toggle, Dropdown, TextInput, AutocompleteInput, Select, Multiselect, Slider, (DateRangeSlider), DatePicker,\n",
    "* Tools - TapTool, BoxSelectTool, HoverTool,\n",
    "* Selection - ColumnDataSource, AjaxDataSource, BlazeDataSource, ServerDataSource\n",
    "* Ranges - Range1d, DataRange1d, FactorRange\n"
   ]
  },
  {
   "cell_type": "markdown",
   "metadata": {},
   "source": [
    "## Callbacks for widgets\n",
    "\n",
    "Widgets that have values associated can have small JavaScript actions attached to them. These actions (also referred to as \"callbacks\") are executed whenever the widget's value is changed. In order to make it easier to refer to specific Bokeh models (e.g., a data source, or a glyhph) from JavaScript, the ``CustomJS`` obejct also accepts a dictionary of \"args\" that map names to Python Bokeh models. The corresponding JavaScript models are made available automaticaly to the ``CustomJS`` code. \n",
    "\n",
    "And example below shows an action attached to a slider that updates a data source whenever the slider is moved:"
   ]
  },
  {
   "cell_type": "code",
   "execution_count": 11,
   "metadata": {},
   "outputs": [
    {
     "data": {
      "text/html": [
       "\n",
       "<div class=\"bk-root\">\n",
       "    <div class=\"bk-plotdiv\" id=\"92bde154-2a6f-4406-9573-a8622dbcd849\"></div>\n",
       "</div>"
      ]
     },
     "metadata": {},
     "output_type": "display_data"
    },
    {
     "data": {
      "application/javascript": [
       "(function(root) {\n",
       "  function embed_document(root) {\n",
       "    var docs_json = {\"fb79d60c-6a28-4ada-a922-957b5298e1c8\":{\"roots\":{\"references\":[{\"attributes\":{\"children\":[{\"id\":\"52ec040c-7631-43a2-8b42-b19c25af8462\",\"type\":\"Slider\"}]},\"id\":\"38ad1595-0780-46a4-838d-3067fb2e12a6\",\"type\":\"WidgetBox\"},{\"attributes\":{},\"id\":\"d96eeebf-e75c-4fff-a4bc-f353a797e128\",\"type\":\"LinearScale\"},{\"attributes\":{\"plot\":{\"id\":\"38fa8390-3d75-4bc9-b329-71874b151961\",\"subtype\":\"Figure\",\"type\":\"Plot\"},\"ticker\":{\"id\":\"bd4056ee-d965-4dc3-837f-d3449c256385\",\"type\":\"BasicTicker\"}},\"id\":\"37f49705-1c2d-485a-b82b-843ff57f48ed\",\"type\":\"Grid\"},{\"attributes\":{},\"id\":\"bd4056ee-d965-4dc3-837f-d3449c256385\",\"type\":\"BasicTicker\"},{\"attributes\":{\"bottom_units\":\"screen\",\"fill_alpha\":{\"value\":0.5},\"fill_color\":{\"value\":\"lightgrey\"},\"left_units\":\"screen\",\"level\":\"overlay\",\"line_alpha\":{\"value\":1.0},\"line_color\":{\"value\":\"black\"},\"line_dash\":[4,4],\"line_width\":{\"value\":2},\"plot\":null,\"render_mode\":\"css\",\"right_units\":\"screen\",\"top_units\":\"screen\"},\"id\":\"3a263e8d-b058-409a-9489-64346d909830\",\"type\":\"BoxAnnotation\"},{\"attributes\":{\"source\":{\"id\":\"f1ed3f76-d79d-4992-ab95-0256804143ac\",\"type\":\"ColumnDataSource\"}},\"id\":\"ba7f4def-afcb-49c3-a7fc-9af118b442fc\",\"type\":\"CDSView\"},{\"attributes\":{\"children\":[{\"id\":\"38ad1595-0780-46a4-838d-3067fb2e12a6\",\"type\":\"WidgetBox\"},{\"id\":\"38fa8390-3d75-4bc9-b329-71874b151961\",\"subtype\":\"Figure\",\"type\":\"Plot\"}]},\"id\":\"eff05f90-4ae0-435c-9399-61f665996598\",\"type\":\"Column\"},{\"attributes\":{},\"id\":\"21a95b40-c027-490e-b13c-ef036179e5bb\",\"type\":\"BasicTickFormatter\"},{\"attributes\":{},\"id\":\"9defedc7-65ef-4695-880f-8f4168db1ab7\",\"type\":\"WheelZoomTool\"},{\"attributes\":{},\"id\":\"f216bb19-6b4c-4aee-965a-d90b1e94286c\",\"type\":\"BasicTickFormatter\"},{\"attributes\":{\"data_source\":{\"id\":\"f1ed3f76-d79d-4992-ab95-0256804143ac\",\"type\":\"ColumnDataSource\"},\"glyph\":{\"id\":\"ed2182c2-7804-48a0-93d9-2faf7be5670c\",\"type\":\"Line\"},\"hover_glyph\":null,\"muted_glyph\":null,\"nonselection_glyph\":{\"id\":\"175a5d08-aeef-4930-96eb-e511f73633d2\",\"type\":\"Line\"},\"selection_glyph\":null,\"view\":{\"id\":\"ba7f4def-afcb-49c3-a7fc-9af118b442fc\",\"type\":\"CDSView\"}},\"id\":\"a112825a-f6d0-4fcc-93da-685402ba4f5c\",\"type\":\"GlyphRenderer\"},{\"attributes\":{\"callback\":null},\"id\":\"39fcc95b-ee8b-4916-b8f7-d334a30c8b20\",\"type\":\"DataRange1d\"},{\"attributes\":{\"line_alpha\":{\"value\":0.1},\"line_color\":{\"value\":\"#1f77b4\"},\"line_width\":{\"value\":3},\"x\":{\"field\":\"x\"},\"y\":{\"field\":\"y\"}},\"id\":\"175a5d08-aeef-4930-96eb-e511f73633d2\",\"type\":\"Line\"},{\"attributes\":{},\"id\":\"9d86c67b-8b41-4537-8564-e2c46b658c43\",\"type\":\"LinearScale\"},{\"attributes\":{},\"id\":\"85e309ce-19ff-4c88-a617-9b727474178d\",\"type\":\"BasicTicker\"},{\"attributes\":{\"overlay\":{\"id\":\"3a263e8d-b058-409a-9489-64346d909830\",\"type\":\"BoxAnnotation\"}},\"id\":\"e2a157cf-db2a-4635-976b-cb70979bf4a0\",\"type\":\"BoxZoomTool\"},{\"attributes\":{\"plot\":null,\"text\":\"\"},\"id\":\"546448ee-11d8-448f-9510-08eb2e50f7a5\",\"type\":\"Title\"},{\"attributes\":{\"callback\":null,\"end\":6,\"js_property_callbacks\":{\"change:value\":[{\"id\":\"7516bbfb-7e38-4dde-a3b7-cc947a4a3b80\",\"type\":\"CustomJS\"}]},\"start\":0.1,\"step\":0.1,\"title\":\"power\",\"value\":1},\"id\":\"52ec040c-7631-43a2-8b42-b19c25af8462\",\"type\":\"Slider\"},{\"attributes\":{},\"id\":\"da6d51ad-fa2f-4b73-902a-3e319f3f5278\",\"type\":\"HelpTool\"},{\"attributes\":{\"line_alpha\":{\"value\":0.6},\"line_color\":{\"value\":\"#1f77b4\"},\"line_width\":{\"value\":3},\"x\":{\"field\":\"x\"},\"y\":{\"field\":\"y\"}},\"id\":\"ed2182c2-7804-48a0-93d9-2faf7be5670c\",\"type\":\"Line\"},{\"attributes\":{\"formatter\":{\"id\":\"f216bb19-6b4c-4aee-965a-d90b1e94286c\",\"type\":\"BasicTickFormatter\"},\"plot\":{\"id\":\"38fa8390-3d75-4bc9-b329-71874b151961\",\"subtype\":\"Figure\",\"type\":\"Plot\"},\"ticker\":{\"id\":\"bd4056ee-d965-4dc3-837f-d3449c256385\",\"type\":\"BasicTicker\"}},\"id\":\"b4a75369-7890-4086-a0c5-aff72679611e\",\"type\":\"LinearAxis\"},{\"attributes\":{\"formatter\":{\"id\":\"21a95b40-c027-490e-b13c-ef036179e5bb\",\"type\":\"BasicTickFormatter\"},\"plot\":{\"id\":\"38fa8390-3d75-4bc9-b329-71874b151961\",\"subtype\":\"Figure\",\"type\":\"Plot\"},\"ticker\":{\"id\":\"85e309ce-19ff-4c88-a617-9b727474178d\",\"type\":\"BasicTicker\"}},\"id\":\"a82aee54-6e01-4163-8dae-d06b58bceb0c\",\"type\":\"LinearAxis\"},{\"attributes\":{},\"id\":\"e61199e6-bb10-42d1-9530-39a6902e118a\",\"type\":\"SaveTool\"},{\"attributes\":{\"dimension\":1,\"plot\":{\"id\":\"38fa8390-3d75-4bc9-b329-71874b151961\",\"subtype\":\"Figure\",\"type\":\"Plot\"},\"ticker\":{\"id\":\"85e309ce-19ff-4c88-a617-9b727474178d\",\"type\":\"BasicTicker\"}},\"id\":\"35dc185e-e8ed-4e37-97b9-aafb40868049\",\"type\":\"Grid\"},{\"attributes\":{},\"id\":\"867b2efc-6eca-4350-8052-34a60c75699b\",\"type\":\"ResetTool\"},{\"attributes\":{\"callback\":null},\"id\":\"aa93c129-c9e9-42b2-bfce-ba6f91fa12ca\",\"type\":\"DataRange1d\"},{\"attributes\":{\"args\":{\"slider\":{\"id\":\"52ec040c-7631-43a2-8b42-b19c25af8462\",\"type\":\"Slider\"},\"source\":{\"id\":\"f1ed3f76-d79d-4992-ab95-0256804143ac\",\"type\":\"ColumnDataSource\"}},\"code\":\"\\n    var data = source.get('data');\\n    var f = slider.value;\\n    x = data['x']\\n    y = data['y']\\n    for (i = 0; i < x.length; i++) {\\n        y[i] = Math.pow(x[i], f)\\n    }\\n    source.change.emit();\\n\"},\"id\":\"7516bbfb-7e38-4dde-a3b7-cc947a4a3b80\",\"type\":\"CustomJS\"},{\"attributes\":{\"below\":[{\"id\":\"b4a75369-7890-4086-a0c5-aff72679611e\",\"type\":\"LinearAxis\"}],\"left\":[{\"id\":\"a82aee54-6e01-4163-8dae-d06b58bceb0c\",\"type\":\"LinearAxis\"}],\"plot_height\":400,\"plot_width\":400,\"renderers\":[{\"id\":\"b4a75369-7890-4086-a0c5-aff72679611e\",\"type\":\"LinearAxis\"},{\"id\":\"37f49705-1c2d-485a-b82b-843ff57f48ed\",\"type\":\"Grid\"},{\"id\":\"a82aee54-6e01-4163-8dae-d06b58bceb0c\",\"type\":\"LinearAxis\"},{\"id\":\"35dc185e-e8ed-4e37-97b9-aafb40868049\",\"type\":\"Grid\"},{\"id\":\"3a263e8d-b058-409a-9489-64346d909830\",\"type\":\"BoxAnnotation\"},{\"id\":\"a112825a-f6d0-4fcc-93da-685402ba4f5c\",\"type\":\"GlyphRenderer\"}],\"title\":{\"id\":\"546448ee-11d8-448f-9510-08eb2e50f7a5\",\"type\":\"Title\"},\"toolbar\":{\"id\":\"e30f734a-4a81-45f1-afb4-c897ea74ab4c\",\"type\":\"Toolbar\"},\"x_range\":{\"id\":\"39fcc95b-ee8b-4916-b8f7-d334a30c8b20\",\"type\":\"DataRange1d\"},\"x_scale\":{\"id\":\"9d86c67b-8b41-4537-8564-e2c46b658c43\",\"type\":\"LinearScale\"},\"y_range\":{\"id\":\"aa93c129-c9e9-42b2-bfce-ba6f91fa12ca\",\"type\":\"DataRange1d\"},\"y_scale\":{\"id\":\"d96eeebf-e75c-4fff-a4bc-f353a797e128\",\"type\":\"LinearScale\"}},\"id\":\"38fa8390-3d75-4bc9-b329-71874b151961\",\"subtype\":\"Figure\",\"type\":\"Plot\"},{\"attributes\":{},\"id\":\"ba963d10-c21d-4303-89f5-b6901dbf5c66\",\"type\":\"PanTool\"},{\"attributes\":{\"callback\":null,\"column_names\":[\"y\",\"x\"],\"data\":{\"x\":[0.0,0.005,0.01,0.015,0.02,0.025,0.03,0.035,0.04,0.045,0.05,0.055,0.06,0.065,0.07,0.075,0.08,0.085,0.09,0.095,0.1,0.105,0.11,0.115,0.12,0.125,0.13,0.135,0.14,0.145,0.15,0.155,0.16,0.165,0.17,0.17500000000000002,0.18,0.185,0.19,0.195,0.2,0.20500000000000002,0.21,0.215,0.22,0.225,0.23,0.23500000000000001,0.24,0.245,0.25,0.255,0.26,0.265,0.27,0.275,0.28,0.28500000000000003,0.29,0.295,0.3,0.305,0.31,0.315,0.32,0.325,0.33,0.335,0.34,0.34500000000000003,0.35000000000000003,0.355,0.36,0.365,0.37,0.375,0.38,0.385,0.39,0.395,0.4,0.405,0.41000000000000003,0.41500000000000004,0.42,0.425,0.43,0.435,0.44,0.445,0.45,0.455,0.46,0.465,0.47000000000000003,0.47500000000000003,0.48,0.485,0.49,0.495,0.5,0.505,0.51,0.515,0.52,0.525,0.53,0.535,0.54,0.545,0.55,0.555,0.56,0.5650000000000001,0.5700000000000001,0.5750000000000001,0.58,0.585,0.59,0.595,0.6,0.605,0.61,0.615,0.62,0.625,0.63,0.635,0.64,0.645,0.65,0.655,0.66,0.665,0.67,0.675,0.68,0.685,0.6900000000000001,0.6950000000000001,0.7000000000000001,0.705,0.71,0.715,0.72,0.725,0.73,0.735,0.74,0.745,0.75,0.755,0.76,0.765,0.77,0.775,0.78,0.785,0.79,0.795,0.8,0.805,0.81,0.8150000000000001,0.8200000000000001,0.8250000000000001,0.8300000000000001,0.835,0.84,0.845,0.85,0.855,0.86,0.865,0.87,0.875,0.88,0.885,0.89,0.895,0.9,0.905,0.91,0.915,0.92,0.925,0.93,0.935,0.9400000000000001,0.9450000000000001,0.9500000000000001,0.9550000000000001,0.96,0.965,0.97,0.975,0.98,0.985,0.99,0.995,1.0],\"y\":[0.0,0.005,0.01,0.015,0.02,0.025,0.03,0.035,0.04,0.045,0.05,0.055,0.06,0.065,0.07,0.075,0.08,0.085,0.09,0.095,0.1,0.105,0.11,0.115,0.12,0.125,0.13,0.135,0.14,0.145,0.15,0.155,0.16,0.165,0.17,0.17500000000000002,0.18,0.185,0.19,0.195,0.2,0.20500000000000002,0.21,0.215,0.22,0.225,0.23,0.23500000000000001,0.24,0.245,0.25,0.255,0.26,0.265,0.27,0.275,0.28,0.28500000000000003,0.29,0.295,0.3,0.305,0.31,0.315,0.32,0.325,0.33,0.335,0.34,0.34500000000000003,0.35000000000000003,0.355,0.36,0.365,0.37,0.375,0.38,0.385,0.39,0.395,0.4,0.405,0.41000000000000003,0.41500000000000004,0.42,0.425,0.43,0.435,0.44,0.445,0.45,0.455,0.46,0.465,0.47000000000000003,0.47500000000000003,0.48,0.485,0.49,0.495,0.5,0.505,0.51,0.515,0.52,0.525,0.53,0.535,0.54,0.545,0.55,0.555,0.56,0.5650000000000001,0.5700000000000001,0.5750000000000001,0.58,0.585,0.59,0.595,0.6,0.605,0.61,0.615,0.62,0.625,0.63,0.635,0.64,0.645,0.65,0.655,0.66,0.665,0.67,0.675,0.68,0.685,0.6900000000000001,0.6950000000000001,0.7000000000000001,0.705,0.71,0.715,0.72,0.725,0.73,0.735,0.74,0.745,0.75,0.755,0.76,0.765,0.77,0.775,0.78,0.785,0.79,0.795,0.8,0.805,0.81,0.8150000000000001,0.8200000000000001,0.8250000000000001,0.8300000000000001,0.835,0.84,0.845,0.85,0.855,0.86,0.865,0.87,0.875,0.88,0.885,0.89,0.895,0.9,0.905,0.91,0.915,0.92,0.925,0.93,0.935,0.9400000000000001,0.9450000000000001,0.9500000000000001,0.9550000000000001,0.96,0.965,0.97,0.975,0.98,0.985,0.99,0.995,1.0]}},\"id\":\"f1ed3f76-d79d-4992-ab95-0256804143ac\",\"type\":\"ColumnDataSource\"},{\"attributes\":{\"active_drag\":\"auto\",\"active_inspect\":\"auto\",\"active_scroll\":\"auto\",\"active_tap\":\"auto\",\"tools\":[{\"id\":\"ba963d10-c21d-4303-89f5-b6901dbf5c66\",\"type\":\"PanTool\"},{\"id\":\"9defedc7-65ef-4695-880f-8f4168db1ab7\",\"type\":\"WheelZoomTool\"},{\"id\":\"e2a157cf-db2a-4635-976b-cb70979bf4a0\",\"type\":\"BoxZoomTool\"},{\"id\":\"e61199e6-bb10-42d1-9530-39a6902e118a\",\"type\":\"SaveTool\"},{\"id\":\"867b2efc-6eca-4350-8052-34a60c75699b\",\"type\":\"ResetTool\"},{\"id\":\"da6d51ad-fa2f-4b73-902a-3e319f3f5278\",\"type\":\"HelpTool\"}]},\"id\":\"e30f734a-4a81-45f1-afb4-c897ea74ab4c\",\"type\":\"Toolbar\"}],\"root_ids\":[\"eff05f90-4ae0-435c-9399-61f665996598\"]},\"title\":\"Bokeh Application\",\"version\":\"0.12.10\"}};\n",
       "    var render_items = [{\"docid\":\"fb79d60c-6a28-4ada-a922-957b5298e1c8\",\"elementid\":\"92bde154-2a6f-4406-9573-a8622dbcd849\",\"modelid\":\"eff05f90-4ae0-435c-9399-61f665996598\"}];\n",
       "\n",
       "    root.Bokeh.embed.embed_items(docs_json, render_items);\n",
       "  }\n",
       "\n",
       "  if (root.Bokeh !== undefined) {\n",
       "    embed_document(root);\n",
       "  } else {\n",
       "    var attempts = 0;\n",
       "    var timer = setInterval(function(root) {\n",
       "      if (root.Bokeh !== undefined) {\n",
       "        embed_document(root);\n",
       "        clearInterval(timer);\n",
       "      }\n",
       "      attempts++;\n",
       "      if (attempts > 100) {\n",
       "        console.log(\"Bokeh: ERROR: Unable to embed document because BokehJS library is missing\")\n",
       "        clearInterval(timer);\n",
       "      }\n",
       "    }, 10, root)\n",
       "  }\n",
       "})(window);"
      ],
      "application/vnd.bokehjs_exec.v0+json": ""
     },
     "metadata": {
      "application/vnd.bokehjs_exec.v0+json": {
       "id": "eff05f90-4ae0-435c-9399-61f665996598"
      }
     },
     "output_type": "display_data"
    }
   ],
   "source": [
    "from bokeh.layouts import column\n",
    "from bokeh.models import CustomJS, ColumnDataSource, Slider\n",
    "\n",
    "x = [x*0.005 for x in range(0, 201)]\n",
    "\n",
    "source = ColumnDataSource(data=dict(x=x, y=x))\n",
    "\n",
    "plot = figure(plot_width=400, plot_height=400)\n",
    "plot.line('x', 'y', source=source, line_width=3, line_alpha=0.6)\n",
    "\n",
    "slider = Slider(start=0.1, end=6, value=1, step=.1, title=\"power\")\n",
    "\n",
    "update_curve = CustomJS(args=dict(source=source, slider=slider), code=\"\"\"\n",
    "    var data = source.get('data');\n",
    "    var f = slider.value;\n",
    "    x = data['x']\n",
    "    y = data['y']\n",
    "    for (i = 0; i < x.length; i++) {\n",
    "        y[i] = Math.pow(x[i], f)\n",
    "    }\n",
    "    source.change.emit();\n",
    "\"\"\")\n",
    "slider.js_on_change('value', update_curve)\n",
    "\n",
    "\n",
    "show(column(slider, plot))"
   ]
  },
  {
   "cell_type": "markdown",
   "metadata": {},
   "source": [
    "## Calbacks for selections\n",
    "\n",
    "It's also possible to make JavaScript actions that execute whenever a user selection (e.g., box, point, lasso) changes. This is done by attaching the same kind of CustomJS object to whatever data source the selection is made on.\n",
    "\n",
    "The example below is a bit more sophisticated, and demonstrates updating one glyph's data source in response to another glyph's selection: "
   ]
  },
  {
   "cell_type": "code",
   "execution_count": 11,
   "metadata": {},
   "outputs": [
    {
     "data": {
      "text/html": [
       "\n",
       "\n",
       "    <div class=\"bk-root\">\n",
       "        <div class=\"bk-plotdiv\" id=\"7aa85e80-8b20-4dc7-998e-401db9756ecc\"></div>\n",
       "    </div>\n",
       "<script type=\"text/javascript\">\n",
       "  \n",
       "  (function(root) {\n",
       "    function now() {\n",
       "      return new Date();\n",
       "    }\n",
       "  \n",
       "    var force = false;\n",
       "  \n",
       "    if (typeof (root._bokeh_onload_callbacks) === \"undefined\" || force === true) {\n",
       "      root._bokeh_onload_callbacks = [];\n",
       "      root._bokeh_is_loading = undefined;\n",
       "    }\n",
       "  \n",
       "  \n",
       "    \n",
       "    if (typeof (root._bokeh_timeout) === \"undefined\" || force === true) {\n",
       "      root._bokeh_timeout = Date.now() + 0;\n",
       "      root._bokeh_failed_load = false;\n",
       "    }\n",
       "  \n",
       "    var NB_LOAD_WARNING = {'data': {'text/html':\n",
       "       \"<div style='background-color: #fdd'>\\n\"+\n",
       "       \"<p>\\n\"+\n",
       "       \"BokehJS does not appear to have successfully loaded. If loading BokehJS from CDN, this \\n\"+\n",
       "       \"may be due to a slow or bad network connection. Possible fixes:\\n\"+\n",
       "       \"</p>\\n\"+\n",
       "       \"<ul>\\n\"+\n",
       "       \"<li>re-rerun `output_notebook()` to attempt to load from CDN again, or</li>\\n\"+\n",
       "       \"<li>use INLINE resources instead, as so:</li>\\n\"+\n",
       "       \"</ul>\\n\"+\n",
       "       \"<code>\\n\"+\n",
       "       \"from bokeh.resources import INLINE\\n\"+\n",
       "       \"output_notebook(resources=INLINE)\\n\"+\n",
       "       \"</code>\\n\"+\n",
       "       \"</div>\"}};\n",
       "  \n",
       "    function display_loaded() {\n",
       "      if (root.Bokeh !== undefined) {\n",
       "        var el = document.getElementById(\"7aa85e80-8b20-4dc7-998e-401db9756ecc\");\n",
       "        if (el != null) {\n",
       "          el.textContent = \"BokehJS \" + Bokeh.version + \" successfully loaded.\";\n",
       "        }\n",
       "      } else if (Date.now() < root._bokeh_timeout) {\n",
       "        setTimeout(display_loaded, 100)\n",
       "      }\n",
       "    }\n",
       "  \n",
       "  \n",
       "    function run_callbacks() {\n",
       "      try {\n",
       "        root._bokeh_onload_callbacks.forEach(function(callback) { callback() });\n",
       "      }\n",
       "      finally {\n",
       "        delete root._bokeh_onload_callbacks\n",
       "      }\n",
       "      console.info(\"Bokeh: all callbacks have finished\");\n",
       "    }\n",
       "  \n",
       "    function load_libs(js_urls, callback) {\n",
       "      root._bokeh_onload_callbacks.push(callback);\n",
       "      if (root._bokeh_is_loading > 0) {\n",
       "        console.log(\"Bokeh: BokehJS is being loaded, scheduling callback at\", now());\n",
       "        return null;\n",
       "      }\n",
       "      if (js_urls == null || js_urls.length === 0) {\n",
       "        run_callbacks();\n",
       "        return null;\n",
       "      }\n",
       "      console.log(\"Bokeh: BokehJS not loaded, scheduling load and callback at\", now());\n",
       "      root._bokeh_is_loading = js_urls.length;\n",
       "      for (var i = 0; i < js_urls.length; i++) {\n",
       "        var url = js_urls[i];\n",
       "        var s = document.createElement('script');\n",
       "        s.src = url;\n",
       "        s.async = false;\n",
       "        s.onreadystatechange = s.onload = function() {\n",
       "          root._bokeh_is_loading--;\n",
       "          if (root._bokeh_is_loading === 0) {\n",
       "            console.log(\"Bokeh: all BokehJS libraries loaded\");\n",
       "            run_callbacks()\n",
       "          }\n",
       "        };\n",
       "        s.onerror = function() {\n",
       "          console.warn(\"failed to load library \" + url);\n",
       "        };\n",
       "        console.log(\"Bokeh: injecting script tag for BokehJS library: \", url);\n",
       "        document.getElementsByTagName(\"head\")[0].appendChild(s);\n",
       "      }\n",
       "    };var element = document.getElementById(\"7aa85e80-8b20-4dc7-998e-401db9756ecc\");\n",
       "    if (element == null) {\n",
       "      console.log(\"Bokeh: ERROR: autoload.js configured with elementid '7aa85e80-8b20-4dc7-998e-401db9756ecc' but no matching script tag was found. \")\n",
       "      return false;\n",
       "    }\n",
       "  \n",
       "    var js_urls = [];\n",
       "  \n",
       "    var inline_js = [\n",
       "      function(Bokeh) {\n",
       "        (function() {\n",
       "          var fn = function() {\n",
       "            var docs_json = {\"3d0655a9-1f2f-497c-a973-5389db74ab4f\":{\"roots\":{\"references\":[{\"attributes\":{\"fill_alpha\":{\"value\":0.1},\"fill_color\":{\"value\":\"#1f77b4\"},\"line_alpha\":{\"value\":0.1},\"line_color\":{\"value\":\"#1f77b4\"},\"size\":{\"units\":\"screen\",\"value\":8},\"x\":{\"field\":\"x\"},\"y\":{\"field\":\"y\"}},\"id\":\"c3b44934-5ed2-4fbc-874c-40dda3984b89\",\"type\":\"Circle\"},{\"attributes\":{},\"id\":\"2c2f9b70-918d-4e61-883d-7c8d57728079\",\"type\":\"LinearScale\"},{\"attributes\":{},\"id\":\"6829c1c9-c951-4ef0-9ceb-7f1c7584a77f\",\"type\":\"BasicTickFormatter\"},{\"attributes\":{\"source\":{\"id\":\"6a0da6c9-6ce4-4dfc-899c-6b86fbb7f5a6\",\"type\":\"ColumnDataSource\"}},\"id\":\"216d96dc-b9a7-41a7-ab3d-4019bb8240cd\",\"type\":\"CDSView\"},{\"attributes\":{\"callback\":null},\"id\":\"3d0d1bb5-bd47-43f9-9f2c-ce303254dd23\",\"type\":\"DataRange1d\"},{\"attributes\":{\"fill_alpha\":{\"value\":0.5},\"fill_color\":{\"value\":\"lightgrey\"},\"level\":\"overlay\",\"line_alpha\":{\"value\":1.0},\"line_color\":{\"value\":\"black\"},\"line_dash\":[4,4],\"line_width\":{\"value\":2},\"plot\":null,\"xs_units\":\"screen\",\"ys_units\":\"screen\"},\"id\":\"327ec6d6-0716-49f2-b513-eac230358caa\",\"type\":\"PolyAnnotation\"},{\"attributes\":{\"line_alpha\":{\"value\":0.1},\"line_color\":{\"value\":\"#1f77b4\"},\"line_width\":{\"value\":5},\"x\":{\"field\":\"xm\"},\"y\":{\"field\":\"ym\"}},\"id\":\"9251faa0-2306-4e1a-9212-67fc8e12c86f\",\"type\":\"Line\"},{\"attributes\":{},\"id\":\"ed4ec15b-e96b-4603-9685-f148833c9c6b\",\"type\":\"BasicTicker\"},{\"attributes\":{\"dimension\":1,\"plot\":{\"id\":\"c669b475-b412-4609-8337-0606a88f3023\",\"subtype\":\"Figure\",\"type\":\"Plot\"},\"ticker\":{\"id\":\"87fe035b-a0ce-4a5a-b9d1-85b7c84635f7\",\"type\":\"BasicTicker\"}},\"id\":\"70b75cd5-39ea-487d-bb88-926357bca72f\",\"type\":\"Grid\"},{\"attributes\":{\"args\":{\"s2\":{\"id\":\"6a0da6c9-6ce4-4dfc-899c-6b86fbb7f5a6\",\"type\":\"ColumnDataSource\"}},\"code\":\"\\n    var inds = cb_obj.get('selected')['1d'].indices;\\n    var d = cb_obj.get('data');\\n    var ym = 0\\n    \\n    if (inds.length == 0) { return; }\\n    \\n    for (i = 0; i < d['color'].length; i++) {\\n        d['color'][i] = \\\"navy\\\"\\n    }\\n    for (i = 0; i < inds.length; i++) {\\n        d['color'][inds[i]] = \\\"firebrick\\\"\\n        ym += d['y'][inds[i]]\\n    }\\n    \\n    ym /= inds.length\\n    s2.get('data')['ym'] = [ym, ym]\\n    \\n    cb_obj.trigger('change');\\n    s2.trigger('change');\\n\"},\"id\":\"e98bcc19-0862-416f-9fc9-b6fc9406d2b7\",\"type\":\"CustomJS\"},{\"attributes\":{\"source\":{\"id\":\"d73ce496-4a2b-4422-8f1e-8d41b6979e2b\",\"type\":\"ColumnDataSource\"}},\"id\":\"deea95a0-8a57-4bcb-8269-7f9e50dfe8bd\",\"type\":\"CDSView\"},{\"attributes\":{\"formatter\":{\"id\":\"6829c1c9-c951-4ef0-9ceb-7f1c7584a77f\",\"type\":\"BasicTickFormatter\"},\"plot\":{\"id\":\"c669b475-b412-4609-8337-0606a88f3023\",\"subtype\":\"Figure\",\"type\":\"Plot\"},\"ticker\":{\"id\":\"ed4ec15b-e96b-4603-9685-f148833c9c6b\",\"type\":\"BasicTicker\"}},\"id\":\"6617e5da-4189-4989-bf3b-98be07b6fa3b\",\"type\":\"LinearAxis\"},{\"attributes\":{\"plot\":{\"id\":\"c669b475-b412-4609-8337-0606a88f3023\",\"subtype\":\"Figure\",\"type\":\"Plot\"},\"ticker\":{\"id\":\"ed4ec15b-e96b-4603-9685-f148833c9c6b\",\"type\":\"BasicTicker\"}},\"id\":\"436a7128-e0eb-4f90-8dcd-173e44bdc089\",\"type\":\"Grid\"},{\"attributes\":{},\"id\":\"87fe035b-a0ce-4a5a-b9d1-85b7c84635f7\",\"type\":\"BasicTicker\"},{\"attributes\":{\"line_alpha\":{\"value\":0.6},\"line_color\":{\"value\":\"orange\"},\"line_width\":{\"value\":5},\"x\":{\"field\":\"xm\"},\"y\":{\"field\":\"ym\"}},\"id\":\"8934b320-fb27-4a10-ba83-a2d9370b5418\",\"type\":\"Line\"},{\"attributes\":{\"formatter\":{\"id\":\"f9062bfd-49c4-4100-bb24-777e5b938ea3\",\"type\":\"BasicTickFormatter\"},\"plot\":{\"id\":\"c669b475-b412-4609-8337-0606a88f3023\",\"subtype\":\"Figure\",\"type\":\"Plot\"},\"ticker\":{\"id\":\"87fe035b-a0ce-4a5a-b9d1-85b7c84635f7\",\"type\":\"BasicTicker\"}},\"id\":\"a809587c-4b08-416a-87f3-c6d23f0f5c7b\",\"type\":\"LinearAxis\"},{\"attributes\":{\"callback\":null,\"column_names\":[\"xm\",\"ym\"],\"data\":{\"xm\":[0,1],\"ym\":[0.5,0.5]}},\"id\":\"6a0da6c9-6ce4-4dfc-899c-6b86fbb7f5a6\",\"type\":\"ColumnDataSource\"},{\"attributes\":{\"data_source\":{\"id\":\"6a0da6c9-6ce4-4dfc-899c-6b86fbb7f5a6\",\"type\":\"ColumnDataSource\"},\"glyph\":{\"id\":\"8934b320-fb27-4a10-ba83-a2d9370b5418\",\"type\":\"Line\"},\"hover_glyph\":null,\"muted_glyph\":null,\"nonselection_glyph\":{\"id\":\"9251faa0-2306-4e1a-9212-67fc8e12c86f\",\"type\":\"Line\"},\"selection_glyph\":null,\"view\":{\"id\":\"216d96dc-b9a7-41a7-ab3d-4019bb8240cd\",\"type\":\"CDSView\"}},\"id\":\"fb49775b-6fb9-4734-8297-266e2012b4b2\",\"type\":\"GlyphRenderer\"},{\"attributes\":{\"callback\":null,\"overlay\":{\"id\":\"327ec6d6-0716-49f2-b513-eac230358caa\",\"type\":\"PolyAnnotation\"}},\"id\":\"8eb96e99-dc35-404b-8a3c-faf80f6ba55b\",\"type\":\"LassoSelectTool\"},{\"attributes\":{},\"id\":\"f9062bfd-49c4-4100-bb24-777e5b938ea3\",\"type\":\"BasicTickFormatter\"},{\"attributes\":{\"callback\":null},\"id\":\"ca7dcb03-665e-4af8-8f06-83f95c947eed\",\"type\":\"DataRange1d\"},{\"attributes\":{},\"id\":\"baa08970-bffe-4aa7-9a2f-bf143d876bbf\",\"type\":\"LinearScale\"},{\"attributes\":{\"callback\":{\"id\":\"e98bcc19-0862-416f-9fc9-b6fc9406d2b7\",\"type\":\"CustomJS\"},\"column_names\":[\"x\",\"y\",\"color\"],\"data\":{\"color\":[\"navy\",\"navy\",\"navy\",\"navy\",\"navy\",\"navy\",\"navy\",\"navy\",\"navy\",\"navy\",\"navy\",\"navy\",\"navy\",\"navy\",\"navy\",\"navy\",\"navy\",\"navy\",\"navy\",\"navy\",\"navy\",\"navy\",\"navy\",\"navy\",\"navy\",\"navy\",\"navy\",\"navy\",\"navy\",\"navy\",\"navy\",\"navy\",\"navy\",\"navy\",\"navy\",\"navy\",\"navy\",\"navy\",\"navy\",\"navy\",\"navy\",\"navy\",\"navy\",\"navy\",\"navy\",\"navy\",\"navy\",\"navy\",\"navy\",\"navy\",\"navy\",\"navy\",\"navy\",\"navy\",\"navy\",\"navy\",\"navy\",\"navy\",\"navy\",\"navy\",\"navy\",\"navy\",\"navy\",\"navy\",\"navy\",\"navy\",\"navy\",\"navy\",\"navy\",\"navy\",\"navy\",\"navy\",\"navy\",\"navy\",\"navy\",\"navy\",\"navy\",\"navy\",\"navy\",\"navy\",\"navy\",\"navy\",\"navy\",\"navy\",\"navy\",\"navy\",\"navy\",\"navy\",\"navy\",\"navy\",\"navy\",\"navy\",\"navy\",\"navy\",\"navy\",\"navy\",\"navy\",\"navy\",\"navy\",\"navy\",\"navy\",\"navy\",\"navy\",\"navy\",\"navy\",\"navy\",\"navy\",\"navy\",\"navy\",\"navy\",\"navy\",\"navy\",\"navy\",\"navy\",\"navy\",\"navy\",\"navy\",\"navy\",\"navy\",\"navy\",\"navy\",\"navy\",\"navy\",\"navy\",\"navy\",\"navy\",\"navy\",\"navy\",\"navy\",\"navy\",\"navy\",\"navy\",\"navy\",\"navy\",\"navy\",\"navy\",\"navy\",\"navy\",\"navy\",\"navy\",\"navy\",\"navy\",\"navy\",\"navy\",\"navy\",\"navy\",\"navy\",\"navy\",\"navy\",\"navy\",\"navy\",\"navy\",\"navy\",\"navy\",\"navy\",\"navy\",\"navy\",\"navy\",\"navy\",\"navy\",\"navy\",\"navy\",\"navy\",\"navy\",\"navy\",\"navy\",\"navy\",\"navy\",\"navy\",\"navy\",\"navy\",\"navy\",\"navy\",\"navy\",\"navy\",\"navy\",\"navy\",\"navy\",\"navy\",\"navy\",\"navy\",\"navy\",\"navy\",\"navy\",\"navy\",\"navy\",\"navy\",\"navy\",\"navy\",\"navy\",\"navy\",\"navy\",\"navy\",\"navy\",\"navy\",\"navy\",\"navy\",\"navy\",\"navy\",\"navy\",\"navy\",\"navy\",\"navy\",\"navy\",\"navy\",\"navy\",\"navy\",\"navy\",\"navy\",\"navy\",\"navy\",\"navy\",\"navy\",\"navy\",\"navy\",\"navy\",\"navy\",\"navy\",\"navy\",\"navy\",\"navy\",\"navy\",\"navy\",\"navy\",\"navy\",\"navy\",\"navy\",\"navy\",\"navy\",\"navy\",\"navy\",\"navy\",\"navy\",\"navy\",\"navy\",\"navy\",\"navy\",\"navy\",\"navy\",\"navy\",\"navy\",\"navy\",\"navy\",\"navy\",\"navy\",\"navy\",\"navy\",\"navy\",\"navy\",\"navy\",\"navy\",\"navy\",\"navy\",\"navy\",\"navy\",\"navy\",\"navy\",\"navy\",\"navy\",\"navy\",\"navy\",\"navy\",\"navy\",\"navy\",\"navy\",\"navy\",\"navy\",\"navy\",\"navy\",\"navy\",\"navy\",\"navy\",\"navy\",\"navy\",\"navy\",\"navy\",\"navy\",\"navy\",\"navy\",\"navy\",\"navy\",\"navy\",\"navy\",\"navy\",\"navy\",\"navy\",\"navy\",\"navy\",\"navy\",\"navy\",\"navy\",\"navy\",\"navy\",\"navy\",\"navy\",\"navy\",\"navy\",\"navy\",\"navy\",\"navy\",\"navy\",\"navy\",\"navy\",\"navy\",\"navy\",\"navy\",\"navy\",\"navy\",\"navy\",\"navy\",\"navy\",\"navy\",\"navy\",\"navy\",\"navy\",\"navy\",\"navy\",\"navy\",\"navy\",\"navy\",\"navy\",\"navy\",\"navy\",\"navy\",\"navy\",\"navy\",\"navy\",\"navy\",\"navy\",\"navy\",\"navy\",\"navy\",\"navy\",\"navy\",\"navy\",\"navy\",\"navy\",\"navy\",\"navy\",\"navy\",\"navy\",\"navy\",\"navy\",\"navy\",\"navy\",\"navy\",\"navy\",\"navy\",\"navy\",\"navy\",\"navy\",\"navy\",\"navy\",\"navy\",\"navy\",\"navy\",\"navy\",\"navy\",\"navy\",\"navy\",\"navy\",\"navy\",\"navy\",\"navy\",\"navy\",\"navy\",\"navy\",\"navy\",\"navy\",\"navy\",\"navy\",\"navy\",\"navy\",\"navy\",\"navy\",\"navy\",\"navy\",\"navy\",\"navy\",\"navy\",\"navy\",\"navy\",\"navy\",\"navy\",\"navy\",\"navy\",\"navy\",\"navy\",\"navy\",\"navy\",\"navy\",\"navy\",\"navy\",\"navy\",\"navy\",\"navy\",\"navy\",\"navy\",\"navy\",\"navy\",\"navy\",\"navy\",\"navy\",\"navy\",\"navy\",\"navy\",\"navy\",\"navy\",\"navy\",\"navy\",\"navy\",\"navy\",\"navy\",\"navy\",\"navy\",\"navy\",\"navy\",\"navy\",\"navy\",\"navy\",\"navy\",\"navy\",\"navy\",\"navy\",\"navy\",\"navy\",\"navy\",\"navy\",\"navy\",\"navy\",\"navy\",\"navy\",\"navy\",\"navy\",\"navy\",\"navy\",\"navy\",\"navy\",\"navy\",\"navy\",\"navy\",\"navy\",\"navy\",\"navy\",\"navy\",\"navy\",\"navy\",\"navy\",\"navy\",\"navy\",\"navy\",\"navy\",\"navy\",\"navy\",\"navy\",\"navy\",\"navy\",\"navy\",\"navy\",\"navy\",\"navy\",\"navy\",\"navy\",\"navy\",\"navy\",\"navy\",\"navy\",\"navy\",\"navy\",\"navy\",\"navy\",\"navy\",\"navy\",\"navy\",\"navy\",\"navy\",\"navy\",\"navy\",\"navy\",\"navy\",\"navy\",\"navy\",\"navy\",\"navy\",\"navy\",\"navy\",\"navy\",\"navy\",\"navy\",\"navy\",\"navy\",\"navy\",\"navy\",\"navy\",\"navy\",\"navy\",\"navy\",\"navy\",\"navy\",\"navy\"],\"x\":[0.3756319515370674,0.03915528513590494,0.04909517633614813,0.6868060132854438,0.5717566954201361,0.34686830208851005,0.8602823989214868,0.6565038951923806,0.8813326066577437,0.7306394860873681,0.9312723788446069,0.8785759186612998,0.5470162287394205,0.8616866318746346,0.8179579153799053,0.007561125988897799,0.15362822592259717,0.8278331717672399,0.8246124186643911,0.38291885255365954,0.9536458088613666,0.5507175259010861,0.7753454262419112,0.7373469176607229,0.08032756509789396,0.7433042576597122,0.2939625382591444,0.2441164207873716,0.41362442308735214,0.9254870559782834,0.7685977731442265,0.6603986288484259,0.04515823910770567,0.280067814420795,0.24958413746661912,0.9780438849140125,0.6038097680540601,0.47062705056032406,0.9740461750728471,0.25096553216259243,0.5188486296538293,0.37126929302461353,0.46463229582485044,0.8376853574652723,0.9158199621495937,0.9933423818370208,0.21573631942457616,0.8644790479688841,0.7396222795269013,0.6018014027507815,0.21887914913196982,0.4569802978515366,0.18264404238455,0.6020345620489791,0.2972381734658792,0.8892763188259349,0.27046610774446134,0.7155225473873154,0.7990496161878817,0.499701671538204,0.48519573861483656,0.22576921397281957,0.8515130872457112,0.6499084220492599,0.735151468097132,0.3776815344586888,0.2792730788093173,0.143370784301183,0.9774940453818465,0.8617479236307956,0.31008964759322655,0.5243604509195803,0.7206948321949354,0.3124670068438766,0.6520223740737784,0.4244684706958961,0.03652061993083444,0.8337685659473631,0.359439295499262,0.6715447077211525,0.15877193437280723,0.14517132240635633,0.9890615426620848,0.351171266429422,0.5965105862223951,0.9923707551527728,0.0020606677085716063,0.6967905104546926,0.37254145312888987,0.19010377902431663,0.807202741399465,0.9183096324731367,0.7714810526462875,0.30909436822720915,0.7539703394783552,0.15821836745502893,0.022612543795097473,0.5417614250640693,0.5850836784900716,0.4603598839026898,0.8097588710631218,0.1359096481353642,0.8174632165021648,0.501554004816141,0.9258297303574836,0.9778046503967809,0.02552645059113967,0.9982591919533805,0.0659140244170161,0.5503719069390626,0.34941395926378493,0.2335996603866467,0.23057868270253923,0.7570148517812628,0.6690161830660203,0.29266664192156155,0.8685881845098766,0.815425620085748,0.5538742015994967,0.9948483464037179,0.8843264208967797,0.7555603099016431,0.09612744532347373,0.44913419267506605,0.22120339461769656,0.9127585227475159,0.17374776264257685,0.6038232035228576,0.4878834553175617,0.8685787631699965,0.577182608141524,0.21272161123721,0.8674653921038938,0.08102125768517188,0.3972166323864107,0.6736550081941628,0.8409101049120751,0.9969303682664105,0.6674431138937459,0.7210532704818832,0.9623518477766042,0.004260467138640256,0.32932446178472474,0.8832439792650406,0.32089458748992217,0.9947994877757476,0.5947412383365092,0.6428658866595328,0.7794745841180958,0.8192336817039025,0.797537561714223,0.4914976631002598,0.3060550264887514,0.33549268804427257,0.9261121445784526,0.22760389719540863,0.47875189738395496,0.9590690755636954,0.4437947677113404,0.3226368926625559,0.21272374156794915,0.6017975286098798,0.9803979784508998,0.8977607686151344,0.3889849926356246,0.35481141425924667,0.7557103745392311,0.816218382201489,0.9303984295138011,0.12939325797888324,0.3555730211754924,0.5115728375949647,0.3094241943934728,0.30023656473947347,0.8186991571717632,0.03971598067877491,0.14484306703759053,0.4672743055419517,0.05609137074370074,0.10261244058565,0.05925409264986781,0.41655518844141426,0.3497640764098936,0.05700360869549281,0.002073282873958693,0.476146038903844,0.5555626010677363,0.9366256616613637,0.09869444266208771,0.3752690248587732,0.6817014231031772,0.8738380823440722,0.6772404528233865,0.9951676952063787,0.3455981393826205,0.5833046965101591,0.8649898904440606,0.4105421673132874,0.5733440579120466,0.7709506479773914,0.6012444558089896,0.2743081959547985,0.040240084215923067,0.02194342111958103,0.9926460770412667,0.42238577862010074,0.10501095128641458,0.43822042498030833,0.10343796926486748,0.7052822537697568,0.0715534970270002,0.07393843595404015,0.7379069102843819,0.12429100974246743,0.9301278098142344,0.9747400656509596,0.11009688916245175,0.41760714702462454,0.00021609387496945853,0.3494645082865977,0.8184591397012043,0.1293302624633702,0.15545203271975216,0.8087868871288401,0.43663194520842463,0.5419288515756531,0.8790823538343162,0.3722885961597081,0.945080860604504,0.7313276981299519,0.7298370153685617,0.10118641376550708,0.7969070713841664,0.9885109569071925,0.5745550450717487,0.008039600920596524,0.35248241012505455,0.40076230812900016,0.40962906176233194,0.09667430022233059,0.48191989022654247,0.2896638637576314,0.9434695056418675,0.10010944886699713,0.5107441436062372,0.4571988118504444,0.03040156879041933,0.27885102561715813,0.07130694810837446,0.4387851934571235,0.5955221126269915,0.5063082314552174,0.9930751013417601,0.2588738275847867,0.9674288196128682,0.8643783504156806,0.30746262330615104,0.31382279352733866,0.42367439534429785,0.36993890521261785,0.443924737694837,0.03926140786778953,0.2819129547739454,0.5781291070420307,0.3771718783930442,0.5234628974358401,0.7288560215146979,0.5309454128205571,0.702810754573984,0.08686358854291887,0.9837185811291651,0.7879755333506093,0.18219828461450094,0.720596175195172,0.23332364296720076,0.6266816536368612,0.17478793143685845,0.6657259383354924,0.0822009033650053,0.528108084448341,0.4785506616658681,0.21643903789646035,0.9376098567825571,0.7090873981697453,0.844025730151798,0.8873139341491126,0.04665933738865102,0.4752303562693757,0.5215359672754679,0.490997674892354,0.45306652288315397,0.8953021145574521,0.6465733881528132,0.5932460466292245,0.8554005038285776,0.4260329314054818,0.9963883378540109,0.6842873103738147,0.6391670346778753,0.5357043555223359,0.8429865282014009,0.9513456556042055,0.00910245141788002,0.22902581711107273,0.33162227885821727,0.838079974030625,0.2042881333740567,0.8556014945161888,0.11838207042458682,0.7892390579370459,0.07981814725337755,0.6500389889860261,0.18595404533253557,0.0886823736304565,0.11665528514889523,0.047418076846707735,0.27708722018384824,0.3153687517614735,0.5253963847421007,0.07013919492828158,0.1477951891521998,0.8471126208654347,0.04271128801599189,0.1341496613832529,0.904767376451075,0.9079918758080225,0.3962374602617311,0.8353547648412173,0.19371148395458482,0.32403745779565896,0.7636145122797866,0.78236127899162,0.729737903247724,0.26586915986922477,0.8394465166610446,0.8927889559174804,0.6687696516545844,0.07737115652994175,0.01580555483169155,0.11027193935851554,0.6762632310504348,0.8084624531644281,0.032810511019039645,0.6956201472235828,0.4036118983995661,0.10165905828169275,0.63948886302967,0.8924117029615043,0.7194893311699612,0.10394618974128844,0.23094717561537392,0.5313521832815941,0.8054766996775331,0.10704205102381859,0.8649773967731168,0.8186337122474248,0.7041650095334313,0.5013998961805183,0.19223952289997703,0.025494787112820938,0.5656774649317184,0.5991894226368587,0.20868244823433935,0.0867600185712798,0.7139274501232294,0.9861684631869122,0.40658967589804607,0.14362564956324542,0.1652695063281252,0.7023843024602235,0.3638056850814154,0.36329637338248233,0.0649220085455966,0.9969964774598238,0.5532958968148938,0.8186605104985255,0.4741925170842849,0.2335129915064822,0.20065967014908437,0.5257073365365708,0.883237148782075,0.4663931548737834,0.9124815046198921,0.5030190905405769,0.653724330419593,0.7872348927713164,0.9896362808218554,0.6603636215737219,0.04079048524465556,0.6087933277697531,0.446391476204556,0.7863057176900754,0.30517110940497105,0.2347746624592234,0.7505961289289975,0.3463339728580628,0.8738053357409042,0.11624699217059098,0.25422921420803013,0.8322334952849839,0.9946915885534708,0.9361448316311249,0.0030650000067848904,0.537609379614488,0.29695760417377115,0.42331943777420133,0.9893578004783791,0.413258254202284,0.6531224370290575,0.11845790270203138,0.08696497780346724,0.9858575883249305,0.9278812182582094,0.5119944240951434,0.9504518752134744,0.10634372540756198,0.26294088676769534,0.7226279035622932,0.8984777705081703,0.9495398597106902,0.798583478789208,0.9596033839007405,0.9743333687788013,0.0236197975485124,0.08678357931063807,0.4100739050031197,0.5971843780860606,0.9798609986613481,0.18154683444822128,0.17477242927944636,0.7590266671508994,0.24719672735541265,0.263349572688795,0.5701680546218301,0.9541997487938356,0.5538357488857422,0.5525127653181661,0.32977122803261527,0.22626844025377246,0.03708790460129052,0.3805718483045798,0.11881878148774094,0.9603726303847812,0.04207055388072278,0.15898466046188697,0.28009471949748155,0.8857648005984334,0.68651845521553,0.9118203129653634,0.23760361128492957,0.5789890724448638,0.42975680523659865,0.35734867125033754,0.7286714669089837,0.8150405057337796,0.7012546433091721,0.2088670302924286,0.48233924003835515,0.6562704886625819,0.9390205455563988,0.058827620579856243,0.5542574165453059,0.1941348256172838,0.25141734506049684,0.9750354837676807,0.4220912886765462,0.6841486041842626,0.9745686544554092,0.8338995962251392,0.5920923084568938,0.8969553294682248,0.6745560669116385,0.24865796363019588,0.28685904221921343,0.2921751297584303,0.45556154657119463,0.1871348773536109,0.7591693825729744,0.45620635886673333,0.7113180082558299,0.7576555762885491,0.28050541051436606,0.9689494415691856,0.012804910191085317,0.38194442669393946,0.787067797184967,0.7668263628754362,0.8638953417601931,0.8693703430690404,0.1431524770586753,0.9902987589648831,0.626574170146312,0.1377315188286231,0.8190159155451133,0.37640795540387695,0.6194306911012037,0.9240539069925929,0.1051424688346555,0.5559616160136802,0.09687437813630217],\"y\":[0.7073797715336065,0.16536495285793973,0.8340429037506825,0.6413751613962789,0.6567783606675505,0.4222116961763036,0.8496882582289653,0.7054005710715862,0.4846448720670862,0.21773964026468573,0.06446531392712085,0.1417679706043391,0.03082415477686562,0.7118650068085165,0.40388844694100545,0.5626436903476171,0.5699427253462517,0.6474015354227588,0.684313630938418,0.9689614639041154,0.7114625784638128,0.8563055566325306,0.9316284843869399,0.3801830641982563,0.1261374895766676,0.482154910062374,0.2999361879130299,0.4304007170521369,0.18165157803389465,0.21728300394244948,0.06199256724720226,0.28868459574340266,0.569549353553435,0.848119426082156,0.3914837604096737,0.722932474119515,0.005537713982948778,0.7895143035772528,0.8670269212429877,0.07454261136500295,0.5677435716738459,0.7881245619446359,0.8015663109361783,0.42848263842031276,0.8044629198087482,0.431583135246442,0.7903311840094699,0.5759705950070173,0.9311653890068851,0.8156916878084145,0.3639403443373115,0.17838018158248237,0.9667583948043253,0.06022148287798845,0.35735827708870216,0.9352328455033572,0.951080427591055,0.9161045525722873,0.5602120039733308,0.4474316377022749,0.17910318224061228,0.4141415810526413,0.0007660540784359959,0.19880043936603387,0.09367139421914439,0.9393011294038344,0.7582806958968827,0.4938169546094341,0.39005922798187276,0.9677416901994256,0.5141651345899126,0.4381687679371521,0.5359428264161539,0.9965304275210831,0.2633634478358188,0.49856351194317605,0.7975235392231402,0.5439049951752227,0.05822734307663058,0.5106979863635903,0.17750115746966766,0.07911430536811503,0.2506173377862021,0.9714543149205216,0.28025000149733137,0.9142047923039771,0.015984778513933984,0.9991833099652192,0.9229494271394911,0.788177449342108,0.48238223678719916,0.5509276070621025,0.3225770224799963,0.228707700121353,0.7952056240722214,0.37902494804182874,0.9236248719685077,0.6024575905759831,0.7545300610978386,0.636180752625682,0.029527406779557896,0.04945827670278802,0.8338538915969994,0.3311715885398411,0.5906226035175796,0.35147481148837967,0.4045731948967065,0.688686805271943,0.1102799986444144,0.5927312325566944,0.27275515947982876,0.40806045185130624,0.7342072363613777,0.08737569830795988,0.6221813674016566,0.4497666831163133,0.8346814066014125,0.8840568460615165,0.43600266417696953,0.5039370288864378,0.7302484181160422,0.41349616586517746,0.9807161316843939,0.9855761503062389,0.7272631718453582,0.05717158455500271,0.02131677245188024,0.08490156137531535,0.2541546929276032,0.09465092707882772,0.16241162046781188,0.7570578370969353,0.5809786557929953,0.8549749918895215,0.7056845427501436,0.4816771724096688,0.5255879910335034,0.45085026823081864,0.49037472606020027,0.20865148642332,0.6715121385194113,0.4604352803208811,0.25432906764259156,0.21351400081113903,0.5481122861725324,0.7785592955002373,0.41292273966911575,0.9026558353432823,0.9608841915853157,0.10353891238971502,0.2409120000135404,0.03944661941941907,0.29395548721397546,0.25956406228635054,0.8923625418648102,0.5748007490119832,0.13295551849731324,0.4608160326538864,0.884292361440028,0.9504325629801873,0.7778710869376437,0.16848548376453787,0.8382256857728716,0.24842195320599014,0.005384403487418754,0.7225342527870421,0.2710325785920178,0.675435818499581,0.2765510086664439,0.08372173928818072,0.6384595745690093,0.004773131099075623,0.25828534570305406,0.36772196807646285,0.009059874199458084,0.6313801794970212,0.7239017400618482,0.5656903528824833,0.9248017440729545,0.10977450433814606,0.33078086669249607,0.7163169188971488,0.8707408949921659,0.06355974125426722,0.48403705573816136,0.9752768232410378,0.2082803315684726,0.18815584593240542,0.9054936417566434,0.6254230581843604,0.5473309444285184,0.14736690758296545,0.7757260967028344,0.7310801534912288,0.7061693973663025,0.21900739793316126,0.035768276569533075,0.3601663529354875,0.9669266279519467,0.4496844051359279,0.029750058010582614,0.6438992776654722,0.8602264060553573,0.25305705824169744,0.22098134182628626,0.7876105854305302,0.2752392905504657,0.08822106777031391,0.16163856078712469,0.6763515269170967,0.6725840485488668,0.8060040285113103,0.7495382682237124,0.7216159365223829,0.027051735223125872,0.3527034666940341,0.7121385200650551,0.9713399254916896,0.7146007883419331,0.6345194259315652,0.8835442664970464,0.9037991955544102,0.7393663333406992,0.6258323964885268,0.4325140424289141,0.5068903760119908,0.7392705576670112,0.5399835982766881,0.16817942859280877,0.14086248442210514,0.844167026777364,0.48345147332816873,0.13536093760644397,0.7905717428201533,0.6772289422670575,0.9976312388198455,0.4470463408293913,0.2448332982036332,0.0496163422173419,0.9299594717827567,0.5106684387546069,0.5336058967924705,0.2729037935381815,0.26249164946963344,0.5667855269631644,0.5305412587366453,0.02752288165610084,0.9223946363065935,0.5717544138337983,0.6734255982173069,0.8608819549274191,0.36434014407627646,0.028263233167284074,0.783823112866727,0.020574477455676643,0.139002566180763,0.43021319283364157,0.9529897849895681,0.3345621686703534,0.7706622053545936,0.5707892434097135,0.971088967872617,0.703955421570594,0.6589155117041703,0.3942257905739288,0.21900915097530704,0.289321800828512,0.16505864825184657,0.3645362792302552,0.19880270879062878,0.32987163927522,0.6868931761849139,0.9674771122697486,0.9339975154494674,0.34288129482970087,0.31278235033189516,0.7015503573331038,0.20771533504470063,0.269135142485713,0.15755224184912764,0.15817054232076422,0.9264910438721864,0.9524178542902382,0.5530511721302961,0.3087804672231702,0.957754053667061,0.7068742178904268,0.9602156228879828,0.8438859137237882,0.14490041676278265,0.4262272075620407,0.31640961187637573,0.13734617364042923,0.009681376612353798,0.9607693302109529,0.7631573624990453,0.0912823637689818,0.21739858870686923,0.049578839099573835,0.8472149457279754,0.33237282709939875,0.4028818472302227,0.7752308890194306,0.3541940624884745,0.1976878599384304,0.030203221438634187,0.40269520770844125,0.9212210401559628,0.4442969191740992,0.49699263359336354,0.13701904083342342,0.17044660452336657,0.33070816658375213,0.2110094773175224,0.9264156623288649,0.6130955441066462,0.15595258376502208,0.18052163186862746,0.1410482545784758,0.21756076154226067,0.18195144462479618,0.8534911500398215,0.6639318013283375,0.7855134415596536,0.6737094995901,0.16481842384449008,0.6542499515666717,0.75477081683367,0.7971603757271327,0.26005431588613015,0.6435413294009117,0.16182435580048338,0.0987396601387932,0.5180233606804231,0.2519538296260454,0.6394419464983164,0.08819013309464041,0.492499029474616,0.7708426084417539,0.010458979238538224,0.17711024178510149,0.45833935475104504,0.23911399904573383,0.9690905198417146,0.003480709147340999,0.9637312204751184,0.3518646128847025,0.8527336679781958,0.709509523489482,0.4951649529238952,0.5017992237006015,0.20921952319774462,0.10000028186521415,0.8863033279407715,0.058739821663931546,0.39005376041937445,0.06376003135600128,0.7386162294621117,0.614215649787808,0.42971381107330897,0.9597510314308422,0.016968336979957366,0.26543176262463775,0.12305181708429547,0.7371255912464209,0.15672302181452546,0.9570752556459129,0.21119483731910993,0.387912592988086,0.9693033580061188,0.2529523512052695,0.662518413155605,0.7985020201595715,0.16844996502938925,0.6405027499721028,0.2289693328512029,0.016874974249479813,0.9643823618812489,0.33028868601976613,0.08342366535598023,0.9821068873797737,0.2593706385837933,0.7410836451261321,0.7452300115180954,0.5460119087904169,0.8465493685452192,0.8174602503707565,0.06278223519812465,0.8865364703893445,0.5856577745528955,0.4881188470545067,0.617677972171039,0.38289650366491,0.8376526184136184,0.6311526499009616,0.07162038482375033,0.9693316138348023,0.3873173693474733,0.06650617867651631,0.570475605264583,0.4640967271555787,0.9622501439715303,0.4158038354502315,0.7207315397158841,0.650954220999715,0.007220147019964762,0.603689374396823,0.0979475803796287,0.5027827302943079,0.2796470237399905,0.44268890740173616,0.7786331101500851,0.3771097720662201,0.9512477997281351,0.34725955765130534,0.7035494439623442,0.8453373900543246,0.6727106572537486,0.5030807500708241,0.5239474721615128,0.3370314584935139,0.8186612220819827,0.8249099917643956,0.4050465419352729,0.5233597155761324,0.11462413178195896,0.975418006416887,0.9520343416673945,0.4365447550555984,0.7014665279224388,0.24996408550880322,0.30018821285169117,0.9698015938303506,0.9204498698940627,0.1785780866941855,0.42947047467815513,0.27481867127079085,0.6574126849692637,0.5234412678580089,0.5657565362471484,0.5234909238850372,0.8882592872105886,0.31916713280801245,0.11087412242883976,0.894400056497899,0.8269093883936172,0.14397521711975592,0.011676408038914565,0.7052230481288089,0.010929930006151722,0.8758805731994822,0.22859925851866958,0.47450600003541654,0.04741177135549346,0.11993150300085087,0.5379218624950207,0.639651127930695,0.646085961256492,0.6358827178174777,0.5445631955632648,0.029161839291308556,0.8844920772544507,0.7576360715595023,0.6247627738395616,0.6267395879087012,0.5346153182411714,0.7370418980608242,0.42074756353299136,0.27104312470326997,0.8084958421549728,0.5944940797818352,0.8523717397393525,0.7247254708360108,0.06961252964968268,0.8806380687502618,0.7585537071122864,0.031253602564998206,0.22963179076034257,0.02977378681079601,0.16239355541681788,0.047584269973696025,0.47168220989487497,0.34489130882021946,0.25029228027546124,0.11051305317403615,0.424951394351438,0.07580663823964218,0.8562471518533209,0.7350687250550104,0.9979895680840732,0.9582106843975629,0.28912667660988234,0.6938221594638097,0.8728540680421437,0.607571305456289,0.8432800758823066,0.0154024924592151,0.9383079425909804,0.8660485907561675,0.8318130144482044]}},\"id\":\"d73ce496-4a2b-4422-8f1e-8d41b6979e2b\",\"type\":\"ColumnDataSource\"},{\"attributes\":{\"plot\":null,\"text\":\"Select Here\"},\"id\":\"2e19bbe9-facb-49ed-a926-aa300929836a\",\"type\":\"Title\"},{\"attributes\":{\"active_drag\":\"auto\",\"active_inspect\":\"auto\",\"active_scroll\":\"auto\",\"active_tap\":\"auto\",\"tools\":[{\"id\":\"8eb96e99-dc35-404b-8a3c-faf80f6ba55b\",\"type\":\"LassoSelectTool\"}]},\"id\":\"83b4dde6-b9f2-4fda-9080-5c23b6093e37\",\"type\":\"Toolbar\"},{\"attributes\":{\"fill_alpha\":{\"value\":0.4},\"fill_color\":{\"field\":\"color\"},\"line_alpha\":{\"value\":0.4},\"line_color\":{\"field\":\"color\"},\"size\":{\"units\":\"screen\",\"value\":8},\"x\":{\"field\":\"x\"},\"y\":{\"field\":\"y\"}},\"id\":\"be870a78-47e4-4852-811c-1988d8fc10f4\",\"type\":\"Circle\"},{\"attributes\":{\"data_source\":{\"id\":\"d73ce496-4a2b-4422-8f1e-8d41b6979e2b\",\"type\":\"ColumnDataSource\"},\"glyph\":{\"id\":\"be870a78-47e4-4852-811c-1988d8fc10f4\",\"type\":\"Circle\"},\"hover_glyph\":null,\"muted_glyph\":null,\"nonselection_glyph\":{\"id\":\"c3b44934-5ed2-4fbc-874c-40dda3984b89\",\"type\":\"Circle\"},\"selection_glyph\":null,\"view\":{\"id\":\"deea95a0-8a57-4bcb-8269-7f9e50dfe8bd\",\"type\":\"CDSView\"}},\"id\":\"c7b6fbcd-7d73-45d2-a6a6-7c4e82d4dc76\",\"type\":\"GlyphRenderer\"},{\"attributes\":{\"below\":[{\"id\":\"6617e5da-4189-4989-bf3b-98be07b6fa3b\",\"type\":\"LinearAxis\"}],\"left\":[{\"id\":\"a809587c-4b08-416a-87f3-c6d23f0f5c7b\",\"type\":\"LinearAxis\"}],\"plot_height\":400,\"plot_width\":400,\"renderers\":[{\"id\":\"6617e5da-4189-4989-bf3b-98be07b6fa3b\",\"type\":\"LinearAxis\"},{\"id\":\"436a7128-e0eb-4f90-8dcd-173e44bdc089\",\"type\":\"Grid\"},{\"id\":\"a809587c-4b08-416a-87f3-c6d23f0f5c7b\",\"type\":\"LinearAxis\"},{\"id\":\"70b75cd5-39ea-487d-bb88-926357bca72f\",\"type\":\"Grid\"},{\"id\":\"327ec6d6-0716-49f2-b513-eac230358caa\",\"type\":\"PolyAnnotation\"},{\"id\":\"c7b6fbcd-7d73-45d2-a6a6-7c4e82d4dc76\",\"type\":\"GlyphRenderer\"},{\"id\":\"fb49775b-6fb9-4734-8297-266e2012b4b2\",\"type\":\"GlyphRenderer\"}],\"title\":{\"id\":\"2e19bbe9-facb-49ed-a926-aa300929836a\",\"type\":\"Title\"},\"toolbar\":{\"id\":\"83b4dde6-b9f2-4fda-9080-5c23b6093e37\",\"type\":\"Toolbar\"},\"x_range\":{\"id\":\"ca7dcb03-665e-4af8-8f06-83f95c947eed\",\"type\":\"DataRange1d\"},\"x_scale\":{\"id\":\"baa08970-bffe-4aa7-9a2f-bf143d876bbf\",\"type\":\"LinearScale\"},\"y_range\":{\"id\":\"3d0d1bb5-bd47-43f9-9f2c-ce303254dd23\",\"type\":\"DataRange1d\"},\"y_scale\":{\"id\":\"2c2f9b70-918d-4e61-883d-7c8d57728079\",\"type\":\"LinearScale\"}},\"id\":\"c669b475-b412-4609-8337-0606a88f3023\",\"subtype\":\"Figure\",\"type\":\"Plot\"}],\"root_ids\":[\"c669b475-b412-4609-8337-0606a88f3023\"]},\"title\":\"Bokeh Application\",\"version\":\"0.12.7\"}};\n",
       "            var render_items = [{\"docid\":\"3d0655a9-1f2f-497c-a973-5389db74ab4f\",\"elementid\":\"7aa85e80-8b20-4dc7-998e-401db9756ecc\",\"modelid\":\"c669b475-b412-4609-8337-0606a88f3023\"}];\n",
       "            \n",
       "            Bokeh.embed.embed_items(docs_json, render_items);\n",
       "          };\n",
       "          if (document.readyState != \"loading\") fn();\n",
       "          else document.addEventListener(\"DOMContentLoaded\", fn);\n",
       "        })();\n",
       "      },\n",
       "      function(Bokeh) {\n",
       "      }\n",
       "    ];\n",
       "  \n",
       "    function run_inline_js() {\n",
       "      \n",
       "      if ((root.Bokeh !== undefined) || (force === true)) {\n",
       "        for (var i = 0; i < inline_js.length; i++) {\n",
       "          inline_js[i].call(root, root.Bokeh);\n",
       "        }if (force === true) {\n",
       "          display_loaded();\n",
       "        }} else if (Date.now() < root._bokeh_timeout) {\n",
       "        setTimeout(run_inline_js, 100);\n",
       "      } else if (!root._bokeh_failed_load) {\n",
       "        console.log(\"Bokeh: BokehJS failed to load within specified timeout.\");\n",
       "        root._bokeh_failed_load = true;\n",
       "      } else if (force !== true) {\n",
       "        var cell = $(document.getElementById(\"7aa85e80-8b20-4dc7-998e-401db9756ecc\")).parents('.cell').data().cell;\n",
       "        cell.output_area.append_execute_result(NB_LOAD_WARNING)\n",
       "      }\n",
       "  \n",
       "    }\n",
       "  \n",
       "    if (root._bokeh_is_loading === 0) {\n",
       "      console.log(\"Bokeh: BokehJS loaded, going straight to plotting\");\n",
       "      run_inline_js();\n",
       "    } else {\n",
       "      load_libs(js_urls, function() {\n",
       "        console.log(\"Bokeh: BokehJS plotting callback run at\", now());\n",
       "        run_inline_js();\n",
       "      });\n",
       "    }\n",
       "  }(window));\n",
       "</script>"
      ]
     },
     "metadata": {},
     "output_type": "display_data"
    }
   ],
   "source": [
    "from random import random\n",
    "\n",
    "x = [random() for x in range(500)]\n",
    "y = [random() for y in range(500)]\n",
    "color = [\"navy\"] * len(x)\n",
    "\n",
    "s = ColumnDataSource(data=dict(x=x, y=y, color=color))\n",
    "p = figure(plot_width=400, plot_height=400, tools=\"lasso_select\", title=\"Select Here\")\n",
    "p.circle('x', 'y', color='color', size=8, source=s, alpha=0.4)\n",
    "\n",
    "s2 = ColumnDataSource(data=dict(xm=[0,1],ym=[0.5, 0.5]))\n",
    "p.line(x='xm', y='ym', color=\"orange\", line_width=5, alpha=0.6, source=s2)\n",
    "\n",
    "s.callback = CustomJS(args=dict(s2=s2), code=\"\"\"\n",
    "    var inds = cb_obj.get('selected')['1d'].indices;\n",
    "    var d = cb_obj.get('data');\n",
    "    var ym = 0\n",
    "    \n",
    "    if (inds.length == 0) { return; }\n",
    "    \n",
    "    for (i = 0; i < d['color'].length; i++) {\n",
    "        d['color'][i] = \"navy\"\n",
    "    }\n",
    "    for (i = 0; i < inds.length; i++) {\n",
    "        d['color'][inds[i]] = \"firebrick\"\n",
    "        ym += d['y'][inds[i]]\n",
    "    }\n",
    "    \n",
    "    ym /= inds.length\n",
    "    s2.get('data')['ym'] = [ym, ym]\n",
    "    \n",
    "    cb_obj.trigger('change');\n",
    "    s2.trigger('change');\n",
    "\"\"\")\n",
    "\n",
    "show(p)"
   ]
  },
  {
   "cell_type": "markdown",
   "metadata": {
    "collapsed": true
   },
   "source": [
    "# More\n",
    "For more interactions, see the User Guide - http://bokeh.pydata.org/en/latest/docs/user_guide/interaction.html"
   ]
  },
  {
   "cell_type": "code",
   "execution_count": null,
   "metadata": {
    "collapsed": true
   },
   "outputs": [],
   "source": []
  }
 ],
 "metadata": {
  "anaconda-cloud": {},
  "kernelspec": {
   "display_name": "Python 2",
   "language": "python",
   "name": "python2"
  },
  "language_info": {
   "codemirror_mode": {
    "name": "ipython",
    "version": 2
   },
   "file_extension": ".py",
   "mimetype": "text/x-python",
   "name": "python",
   "nbconvert_exporter": "python",
   "pygments_lexer": "ipython2",
   "version": "2.7.14"
  },
  "widgets": {
   "state": {
    "335ae2c8ff80469e9adac668c2924989": {
     "views": [
      {
       "cell_index": 19
      }
     ]
    }
   },
   "version": "1.2.0"
  }
 },
 "nbformat": 4,
 "nbformat_minor": 1
}
