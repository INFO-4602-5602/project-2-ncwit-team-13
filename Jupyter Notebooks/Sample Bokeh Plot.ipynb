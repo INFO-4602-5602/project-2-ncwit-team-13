{
 "cells": [
  {
   "cell_type": "code",
   "execution_count": 17,
   "metadata": {},
   "outputs": [
    {
     "data": {
      "text/html": [
       "\n",
       "<div class=\"bk-root\">\n",
       "    <div class=\"bk-plotdiv\" id=\"3f90a783-4db0-4a2c-b729-0c6e73c50b36\"></div>\n",
       "</div>"
      ]
     },
     "metadata": {},
     "output_type": "display_data"
    },
    {
     "data": {
      "application/javascript": [
       "(function(root) {\n",
       "  function embed_document(root) {\n",
       "    var docs_json = {\"96b89e30-bc8d-4f38-9429-26298fbf3a9d\":{\"roots\":{\"references\":[{\"attributes\":{\"line_alpha\":{\"value\":0.6},\"line_color\":{\"value\":\"#1f77b4\"},\"line_width\":{\"value\":3},\"x\":{\"field\":\"x\"},\"y\":{\"field\":\"y\"}},\"id\":\"4e200f6e-8252-472d-933f-4f149c5b117d\",\"type\":\"Line\"},{\"attributes\":{},\"id\":\"2d710a0d-60ae-493c-900d-48be02881d16\",\"type\":\"BasicTicker\"},{\"attributes\":{\"data_source\":{\"id\":\"3836024e-0920-420b-99bb-de6e15545792\",\"type\":\"ColumnDataSource\"},\"glyph\":{\"id\":\"4e200f6e-8252-472d-933f-4f149c5b117d\",\"type\":\"Line\"},\"hover_glyph\":null,\"muted_glyph\":null,\"nonselection_glyph\":{\"id\":\"12e999b1-aa7d-4544-9e21-b7072331a12f\",\"type\":\"Line\"},\"selection_glyph\":null,\"view\":{\"id\":\"195eea93-439f-4c2f-8096-86629867ce3b\",\"type\":\"CDSView\"}},\"id\":\"dc016d36-3e7a-4cb4-aa18-6e38d9ed437e\",\"type\":\"GlyphRenderer\"},{\"attributes\":{\"formatter\":{\"id\":\"d62c396a-bfbd-4457-be21-6654db87d420\",\"type\":\"BasicTickFormatter\"},\"plot\":{\"id\":\"007c32e3-b295-4ed9-9464-2c1117f61cbf\",\"subtype\":\"Figure\",\"type\":\"Plot\"},\"ticker\":{\"id\":\"2d710a0d-60ae-493c-900d-48be02881d16\",\"type\":\"BasicTicker\"}},\"id\":\"5c47c9f1-8f17-4222-b98c-d26b1baedf5f\",\"type\":\"LinearAxis\"},{\"attributes\":{},\"id\":\"d62c396a-bfbd-4457-be21-6654db87d420\",\"type\":\"BasicTickFormatter\"},{\"attributes\":{},\"id\":\"dc1b1e92-7e95-4763-bfdc-5373a7143e8b\",\"type\":\"LinearScale\"},{\"attributes\":{},\"id\":\"d6c66cfc-c4aa-4ffc-9dc2-6e25f40f13df\",\"type\":\"BasicTicker\"},{\"attributes\":{},\"id\":\"f5e2b622-ebf0-4407-ac21-12ba5e21a0d4\",\"type\":\"WheelZoomTool\"},{\"attributes\":{\"plot\":{\"id\":\"007c32e3-b295-4ed9-9464-2c1117f61cbf\",\"subtype\":\"Figure\",\"type\":\"Plot\"},\"ticker\":{\"id\":\"d6c66cfc-c4aa-4ffc-9dc2-6e25f40f13df\",\"type\":\"BasicTicker\"}},\"id\":\"fb525a13-9d14-4926-987e-841fe29a1640\",\"type\":\"Grid\"},{\"attributes\":{},\"id\":\"d0d18608-fc42-408a-aa89-1435ab5372b9\",\"type\":\"BasicTickFormatter\"},{\"attributes\":{\"callback\":null,\"column_names\":[\"y\",\"x\"],\"data\":{\"x\":{\"__ndarray__\":\"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\",\"dtype\":\"float64\",\"shape\":[200]},\"y\":{\"__ndarray__\":\"AAAAAAAAAAAPbq7OsCewP3OY8JZyH8A/FKmDwJgayD/MDB3gJf3PPxrx7QWH39M/N68IVTOs1z8ru7BCt2DbP8oJU9tK+d4/zlsgVyE54T8B4S/GCeTiP0t7+BKre+Q/MS3dQWX+5T8dUwWsrWrnP4+3GZIQv+g/k/+hlzL66T/3S38l0hrrPzdRGrLIH+w/bf717QsI7T/n93PTrtLtP1qPtZjifu4/xWOigvcL7z+MTz2YXXnvPxejkDWlxu8/8LybfX/z7z9GvM2qvv/vP90suz1W6+8/yQHfCVu27z8B21kgA2HvPxZGxZil6+4/KUhTOLpW7j/Z45T32KLtP8dVZGe50Ow/BkuR9THh6z/ROw4SN9XqPzc5fjXarek/Rrwhykhs6D8KQj/4yhHnPyGZQVfCn+U/Y5/hhKgX5D/CqsujDXviP0bdScOWy+A/+S8oY/gV3j/VFfh0D3baP6TVf6glu9Y//BnBeAnp0j+w5Z8ZQgfOP5Jzb3rMHcY/z8QcFYo7vD9V0j4jVz2oPwmFs8REKpC/WkG7L64vtL/4rvLNGCDCvxl4k1bbFcq/1VvZln/40L8eUsz8v9TUv6RapVy+m9i/rqBw559J3L8QOMtuo9rfvznL4ZySpeG/kgnVXdFL479kkIMUX97kv2bAh/OgW+a/p3sK6RHC57/z780rRBDpv3+kdbDiROq/R9yOhbJe679nI/YUlFzsv5gLUkmEPe2/9pl3lp0A7r9FlqrjGKXuv+yuylZOKu+/hBqe/7WP77/g6Ypi6NTvv4Z5MeKe+e+/KD58B7T9779XYtunI+HvvzQxhekKpO+/f/e2JahG778WthSpWsnuv/+TaFKiLO6/uU4lEB9x7b/c0jA9kJfsv5iKnd3ToOu/P6kZvOWN6r/EqPto3l/pv/Mw8hvyF+i/IJZ7eW+35r/h6WU9vj/lvyYdtMtdsuO/XdReqeMQ4r/aMIDe+Vzgvyu+IYe6MN2/uCnkdreJ2b8Phie4pMjVv2/6Lw9X8dG/nraR33MPzL+IFYL6lh/Ev21AV91hNri/TN6kwcApoL+F3qTBwCmgP0lAV91hNrg/dhWC+pYfxD+MtpHfcw/MP3b6Lw9X8dE/FoYnuKTI1T+wKeR2t4nZPyS+IYe6MN0/1zCA3vlc4D9Z1F6p4xDiPykdtMtdsuM/3ullPb4/5T8clnt5b7fmP/Aw8hvyF+g/wqj7aN5f6T9BqRm85Y3qP5qKnd3ToOs/2tIwPZCX7D+4TiUQH3HtP/6TaFKiLO4/FbYUqVrJ7j+A97YlqEbvPzQxhekKpO8/V2LbpyPh7z8oPnwHtP3vP4Z5MeKe+e8/3+mKYujU7z+FGp7/tY/vP+2uylZOKu8/RJaq4xil7j/3mXeWnQDuP5cLUkmEPe0/aSP2FJRc7D9J3I6Fsl7rP32kdbDiROo/9u/NK0QQ6T+kewrpEcLnP2zAh/OgW+Y/ZZCDFF/e5D+PCdVd0UvjPz3L4ZySpeE/CjjLbqPa3z+9oHDnn0ncP6VapVy+m9g/D1LM/L/U1D/eW9mWf/jQPwt4k1bbFco/Cq/yzRggwj9eQbsvri+0PxeGs8REKpA/D9I+I1c9qL/sxBwViju8v4Fzb3rMHca/ruWfGUIHzr/sGcF4CenSv5zVf6glu9a/3BX4dA922r/xLyhj+BXev0bdScOWy+C/vKrLow174r9in+GEqBfkvySZQVfCn+W/CEI/+MoR579IvCHKSGzovzI5fjXarem/0TsOEjfV6r8IS5H1MeHrv8VVZGe50Oy/2eOU99ii7b8nSFM4ulbuvxZGxZil6+6/AttZIANh77/JAd8JW7bvv94suz1W6++/RrzNqr7/77/wvJt9f/PvvxijkDWlxu+/jU89mF1577/EY6KC9wvvv1yPtZjifu6/6Pdz067S7b9w/vXtCwjtvzhRGrLIH+y/9Ut/JdIa67+X/6GXMvrpv4+3GZIQv+i/I1MFrK1q578zLd1BZf7lv0l7+BKre+S/BeEvxgnk4r/NWyBXITnhv9kJU9tK+d6/LruwQrdg278vrwhVM6zXvyPx7QWH39O/xgwd4CX9z78zqYPAmBrIv3iY8JZyH8C/5m2uzrAnsL8HXBQzJqbBvA==\",\"dtype\":\"float64\",\"shape\":[200]}}},\"id\":\"3836024e-0920-420b-99bb-de6e15545792\",\"type\":\"ColumnDataSource\"},{\"attributes\":{},\"id\":\"2f46ee4e-7710-4648-b5b5-e2b7df9ad32e\",\"type\":\"PanTool\"},{\"attributes\":{},\"id\":\"60715639-fec6-4b10-80f0-9840db53ee5a\",\"type\":\"LinearScale\"},{\"attributes\":{\"formatter\":{\"id\":\"d0d18608-fc42-408a-aa89-1435ab5372b9\",\"type\":\"BasicTickFormatter\"},\"plot\":{\"id\":\"007c32e3-b295-4ed9-9464-2c1117f61cbf\",\"subtype\":\"Figure\",\"type\":\"Plot\"},\"ticker\":{\"id\":\"d6c66cfc-c4aa-4ffc-9dc2-6e25f40f13df\",\"type\":\"BasicTicker\"}},\"id\":\"1d6847ce-ebb7-4bf8-b930-b6f3494a857e\",\"type\":\"LinearAxis\"},{\"attributes\":{},\"id\":\"d9759670-e37f-4d1b-a6a3-aa9e2a645a0f\",\"type\":\"ResetTool\"},{\"attributes\":{\"dimension\":1,\"plot\":{\"id\":\"007c32e3-b295-4ed9-9464-2c1117f61cbf\",\"subtype\":\"Figure\",\"type\":\"Plot\"},\"ticker\":{\"id\":\"2d710a0d-60ae-493c-900d-48be02881d16\",\"type\":\"BasicTicker\"}},\"id\":\"fe07cf6b-3ff0-4966-898e-f8cebb34fff2\",\"type\":\"Grid\"},{\"attributes\":{\"callback\":null,\"end\":12.566370614359172},\"id\":\"7fabefb0-8eff-423d-843d-18db3c172a6d\",\"type\":\"Range1d\"},{\"attributes\":{\"plot\":null,\"text\":\"my sine wave\"},\"id\":\"a4732740-0462-443e-815d-e1ec1e3d63bd\",\"type\":\"Title\"},{\"attributes\":{},\"id\":\"67a93558-dbdb-444b-aefd-e474588e2c47\",\"type\":\"CrosshairTool\"},{\"attributes\":{\"callback\":null,\"end\":2.5,\"start\":-2.5},\"id\":\"7d21fa85-3d6b-466f-a85e-0ae5737b1ce9\",\"type\":\"Range1d\"},{\"attributes\":{\"below\":[{\"id\":\"1d6847ce-ebb7-4bf8-b930-b6f3494a857e\",\"type\":\"LinearAxis\"}],\"left\":[{\"id\":\"5c47c9f1-8f17-4222-b98c-d26b1baedf5f\",\"type\":\"LinearAxis\"}],\"plot_height\":400,\"plot_width\":400,\"renderers\":[{\"id\":\"1d6847ce-ebb7-4bf8-b930-b6f3494a857e\",\"type\":\"LinearAxis\"},{\"id\":\"fb525a13-9d14-4926-987e-841fe29a1640\",\"type\":\"Grid\"},{\"id\":\"5c47c9f1-8f17-4222-b98c-d26b1baedf5f\",\"type\":\"LinearAxis\"},{\"id\":\"fe07cf6b-3ff0-4966-898e-f8cebb34fff2\",\"type\":\"Grid\"},{\"id\":\"dc016d36-3e7a-4cb4-aa18-6e38d9ed437e\",\"type\":\"GlyphRenderer\"}],\"title\":{\"id\":\"a4732740-0462-443e-815d-e1ec1e3d63bd\",\"type\":\"Title\"},\"toolbar\":{\"id\":\"2d70b71f-7d4d-4d84-8d5d-1058d294e103\",\"type\":\"Toolbar\"},\"x_range\":{\"id\":\"7fabefb0-8eff-423d-843d-18db3c172a6d\",\"type\":\"Range1d\"},\"x_scale\":{\"id\":\"60715639-fec6-4b10-80f0-9840db53ee5a\",\"type\":\"LinearScale\"},\"y_range\":{\"id\":\"7d21fa85-3d6b-466f-a85e-0ae5737b1ce9\",\"type\":\"Range1d\"},\"y_scale\":{\"id\":\"dc1b1e92-7e95-4763-bfdc-5373a7143e8b\",\"type\":\"LinearScale\"}},\"id\":\"007c32e3-b295-4ed9-9464-2c1117f61cbf\",\"subtype\":\"Figure\",\"type\":\"Plot\"},{\"attributes\":{},\"id\":\"200fe6e9-aafc-4748-9296-ce07009a719d\",\"type\":\"SaveTool\"},{\"attributes\":{\"line_alpha\":{\"value\":0.1},\"line_color\":{\"value\":\"#1f77b4\"},\"line_width\":{\"value\":3},\"x\":{\"field\":\"x\"},\"y\":{\"field\":\"y\"}},\"id\":\"12e999b1-aa7d-4544-9e21-b7072331a12f\",\"type\":\"Line\"},{\"attributes\":{\"source\":{\"id\":\"3836024e-0920-420b-99bb-de6e15545792\",\"type\":\"ColumnDataSource\"}},\"id\":\"195eea93-439f-4c2f-8096-86629867ce3b\",\"type\":\"CDSView\"},{\"attributes\":{\"active_drag\":\"auto\",\"active_inspect\":\"auto\",\"active_scroll\":\"auto\",\"active_tap\":\"auto\",\"tools\":[{\"id\":\"67a93558-dbdb-444b-aefd-e474588e2c47\",\"type\":\"CrosshairTool\"},{\"id\":\"2f46ee4e-7710-4648-b5b5-e2b7df9ad32e\",\"type\":\"PanTool\"},{\"id\":\"d9759670-e37f-4d1b-a6a3-aa9e2a645a0f\",\"type\":\"ResetTool\"},{\"id\":\"200fe6e9-aafc-4748-9296-ce07009a719d\",\"type\":\"SaveTool\"},{\"id\":\"f5e2b622-ebf0-4407-ac21-12ba5e21a0d4\",\"type\":\"WheelZoomTool\"}]},\"id\":\"2d70b71f-7d4d-4d84-8d5d-1058d294e103\",\"type\":\"Toolbar\"}],\"root_ids\":[\"007c32e3-b295-4ed9-9464-2c1117f61cbf\"]},\"title\":\"Bokeh Application\",\"version\":\"0.12.10\"}};\n",
       "    var render_items = [{\"docid\":\"96b89e30-bc8d-4f38-9429-26298fbf3a9d\",\"elementid\":\"3f90a783-4db0-4a2c-b729-0c6e73c50b36\",\"modelid\":\"007c32e3-b295-4ed9-9464-2c1117f61cbf\"}];\n",
       "\n",
       "    root.Bokeh.embed.embed_items(docs_json, render_items);\n",
       "  }\n",
       "\n",
       "  if (root.Bokeh !== undefined) {\n",
       "    embed_document(root);\n",
       "  } else {\n",
       "    var attempts = 0;\n",
       "    var timer = setInterval(function(root) {\n",
       "      if (root.Bokeh !== undefined) {\n",
       "        embed_document(root);\n",
       "        clearInterval(timer);\n",
       "      }\n",
       "      attempts++;\n",
       "      if (attempts > 100) {\n",
       "        console.log(\"Bokeh: ERROR: Unable to embed document because BokehJS library is missing\")\n",
       "        clearInterval(timer);\n",
       "      }\n",
       "    }, 10, root)\n",
       "  }\n",
       "})(window);"
      ],
      "application/vnd.bokehjs_exec.v0+json": ""
     },
     "metadata": {
      "application/vnd.bokehjs_exec.v0+json": {
       "id": "007c32e3-b295-4ed9-9464-2c1117f61cbf"
      }
     },
     "output_type": "display_data"
    }
   ],
   "source": [
    "''' Present an interactive function explorer with slider widgets.\n",
    "Scrub the sliders to change the properties of the ``sin`` curve, or\n",
    "type into the title text box to update the title of the plot.\n",
    "Use the ``bokeh serve`` command to run the example by executing:\n",
    "    bokeh serve sliders.py\n",
    "at your command prompt. Then navigate to the URL\n",
    "    http://localhost:5006/sliders\n",
    "in your browser.\n",
    "'''\n",
    "import numpy as np\n",
    "\n",
    "from bokeh.io import curdoc\n",
    "from bokeh.layouts import row, widgetbox\n",
    "from bokeh.models import ColumnDataSource\n",
    "from bokeh.models.widgets import Slider, TextInput\n",
    "from bokeh.plotting import figure, output_file, show\n",
    "\n",
    "# Set up data\n",
    "N = 200\n",
    "x = np.linspace(0, 4*np.pi, N)\n",
    "y = np.sin(x)\n",
    "source = ColumnDataSource(data=dict(x=x, y=y))\n",
    "\n",
    "\n",
    "# Set up plot\n",
    "plot = figure(plot_height=400, plot_width=400, title=\"my sine wave\",\n",
    "              tools=\"crosshair,pan,reset,save,wheel_zoom\",\n",
    "              x_range=[0, 4*np.pi], y_range=[-2.5, 2.5])\n",
    "\n",
    "plot.line('x', 'y', source=source, line_width=3, line_alpha=0.6)\n",
    "\n",
    "\n",
    "# Set up widgets\n",
    "text = TextInput(title=\"title\", value='my sine wave')\n",
    "offset = Slider(title=\"offset\", value=0.0, start=-5.0, end=5.0, step=0.1)\n",
    "amplitude = Slider(title=\"amplitude\", value=1.0, start=-5.0, end=5.0, step=0.1)\n",
    "phase = Slider(title=\"phase\", value=0.0, start=0.0, end=2*np.pi)\n",
    "freq = Slider(title=\"frequency\", value=1.0, start=0.1, end=5.1, step=0.1)\n",
    "\n",
    "\n",
    "# Set up callbacks\n",
    "def update_title(attrname, old, new):\n",
    "    plot.title.text = text.value\n",
    "\n",
    "text.on_change('value', update_title)\n",
    "\n",
    "def update_data(attrname, old, new):\n",
    "\n",
    "    # Get the current slider values\n",
    "    a = amplitude.value\n",
    "    b = offset.value\n",
    "    w = phase.value\n",
    "    k = freq.value\n",
    "\n",
    "    # Generate the new curve\n",
    "    x = np.linspace(0, 4*np.pi, N)\n",
    "    y = a*np.sin(k*x + w) + b\n",
    "\n",
    "    source.data = dict(x=x, y=y)\n",
    "\n",
    "for w in [offset, amplitude, phase, freq]:\n",
    "    w.on_change('value', update_data)\n",
    "\n",
    "\n",
    "# Set up layouts and add to document\n",
    "inputs = widgetbox(text, offset, amplitude, phase, freq)\n",
    "\n",
    "curdoc().add_root(row(inputs, plot, width=800))\n",
    "curdoc().title = \"Sliders\"\n",
    "\n",
    "output_file(\"line.html\")\n",
    "show(plot)"
   ]
  }
 ],
 "metadata": {
  "kernelspec": {
   "display_name": "Python 2",
   "language": "python",
   "name": "python2"
  },
  "language_info": {
   "codemirror_mode": {
    "name": "ipython",
    "version": 2
   },
   "file_extension": ".py",
   "mimetype": "text/x-python",
   "name": "python",
   "nbconvert_exporter": "python",
   "pygments_lexer": "ipython2",
   "version": "2.7.14"
  }
 },
 "nbformat": 4,
 "nbformat_minor": 2
}
