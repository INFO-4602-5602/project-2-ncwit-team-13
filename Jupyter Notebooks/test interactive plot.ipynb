{
 "cells": [
  {
   "cell_type": "markdown",
   "metadata": {},
   "source": [
    "Basic Interactor Demo\n",
    "---------------------\n",
    "\n",
    "This demo shows off an interactive visualization using [Bokeh](https://bokeh.pydata.org) for plotting, and Ipython interactors for widgets. The demo runs entirely inside the Ipython notebook, with no Bokeh server required.\n",
    "\n",
    "The dropdown offers a choice of trig functions to plot, and the sliders control the frequency, amplitude, and phase. \n",
    "\n",
    "To run, click on, `Cell->Run All` in the top menu, then scroll to the bottom and move the sliders. "
   ]
  },
  {
   "cell_type": "code",
   "execution_count": 1,
   "metadata": {},
   "outputs": [
    {
     "data": {
      "text/html": [
       "\n",
       "    <div class=\"bk-root\">\n",
       "        <a href=\"https://bokeh.pydata.org\" target=\"_blank\" class=\"bk-logo bk-logo-small bk-logo-notebook\"></a>\n",
       "        <span id=\"63126f9d-20ef-4759-820c-50f3d6235914\">Loading BokehJS ...</span>\n",
       "    </div>"
      ]
     },
     "metadata": {},
     "output_type": "display_data"
    },
    {
     "data": {
      "application/javascript": [
       "\n",
       "(function(root) {\n",
       "  function now() {\n",
       "    return new Date();\n",
       "  }\n",
       "\n",
       "  var force = true;\n",
       "\n",
       "  if (typeof (root._bokeh_onload_callbacks) === \"undefined\" || force === true) {\n",
       "    root._bokeh_onload_callbacks = [];\n",
       "    root._bokeh_is_loading = undefined;\n",
       "  }\n",
       "\n",
       "  var JS_MIME_TYPE = 'application/javascript';\n",
       "  var HTML_MIME_TYPE = 'text/html';\n",
       "  var EXEC_MIME_TYPE = 'application/vnd.bokehjs_exec.v0+json';\n",
       "  var CLASS_NAME = 'output_bokeh rendered_html';\n",
       "\n",
       "  /**\n",
       "   * Render data to the DOM node\n",
       "   */\n",
       "  function render(props, node) {\n",
       "    var script = document.createElement(\"script\");\n",
       "    node.appendChild(script);\n",
       "  }\n",
       "\n",
       "  /**\n",
       "   * Handle when an output is cleared or removed\n",
       "   */\n",
       "  function handleClearOutput(event, handle) {\n",
       "    var cell = handle.cell;\n",
       "\n",
       "    var id = cell.output_area._bokeh_element_id;\n",
       "    var server_id = cell.output_area._bokeh_server_id;\n",
       "    // Clean up Bokeh references\n",
       "    if (id !== undefined) {\n",
       "      Bokeh.index[id].model.document.clear();\n",
       "      delete Bokeh.index[id];\n",
       "    }\n",
       "\n",
       "    if (server_id !== undefined) {\n",
       "      // Clean up Bokeh references\n",
       "      var cmd = \"from bokeh.io.state import curstate; print(curstate().uuid_to_server['\" + server_id + \"'].get_sessions()[0].document.roots[0]._id)\";\n",
       "      cell.notebook.kernel.execute(cmd, {\n",
       "        iopub: {\n",
       "          output: function(msg) {\n",
       "            var element_id = msg.content.text.trim();\n",
       "            Bokeh.index[element_id].model.document.clear();\n",
       "            delete Bokeh.index[element_id];\n",
       "          }\n",
       "        }\n",
       "      });\n",
       "      // Destroy server and session\n",
       "      var cmd = \"import bokeh.io.notebook as ion; ion.destroy_server('\" + server_id + \"')\";\n",
       "      cell.notebook.kernel.execute(cmd);\n",
       "    }\n",
       "  }\n",
       "\n",
       "  /**\n",
       "   * Handle when a new output is added\n",
       "   */\n",
       "  function handleAddOutput(event, handle) {\n",
       "    var output_area = handle.output_area;\n",
       "    var output = handle.output;\n",
       "\n",
       "    // limit handleAddOutput to display_data with EXEC_MIME_TYPE content only\n",
       "    if ((output.output_type != \"display_data\") || (!output.data.hasOwnProperty(EXEC_MIME_TYPE))) {\n",
       "      return\n",
       "    }\n",
       "\n",
       "    var toinsert = output_area.element.find(`.${CLASS_NAME.split(' ')[0]}`);\n",
       "\n",
       "    if (output.metadata[EXEC_MIME_TYPE][\"id\"] !== undefined) {\n",
       "      toinsert[0].firstChild.textContent = output.data[JS_MIME_TYPE];\n",
       "      // store reference to embed id on output_area\n",
       "      output_area._bokeh_element_id = output.metadata[EXEC_MIME_TYPE][\"id\"];\n",
       "    }\n",
       "    if (output.metadata[EXEC_MIME_TYPE][\"server_id\"] !== undefined) {\n",
       "      var bk_div = document.createElement(\"div\");\n",
       "      bk_div.innerHTML = output.data[HTML_MIME_TYPE];\n",
       "      var script_attrs = bk_div.children[0].attributes;\n",
       "      for (var i = 0; i < script_attrs.length; i++) {\n",
       "        toinsert[0].firstChild.setAttribute(script_attrs[i].name, script_attrs[i].value);\n",
       "      }\n",
       "      // store reference to server id on output_area\n",
       "      output_area._bokeh_server_id = output.metadata[EXEC_MIME_TYPE][\"server_id\"];\n",
       "    }\n",
       "  }\n",
       "\n",
       "  function register_renderer(events, OutputArea) {\n",
       "\n",
       "    function append_mime(data, metadata, element) {\n",
       "      // create a DOM node to render to\n",
       "      var toinsert = this.create_output_subarea(\n",
       "        metadata,\n",
       "        CLASS_NAME,\n",
       "        EXEC_MIME_TYPE\n",
       "      );\n",
       "      this.keyboard_manager.register_events(toinsert);\n",
       "      // Render to node\n",
       "      var props = {data: data, metadata: metadata[EXEC_MIME_TYPE]};\n",
       "      render(props, toinsert[0]);\n",
       "      element.append(toinsert);\n",
       "      return toinsert\n",
       "    }\n",
       "\n",
       "    /* Handle when an output is cleared or removed */\n",
       "    events.on('clear_output.CodeCell', handleClearOutput);\n",
       "    events.on('delete.Cell', handleClearOutput);\n",
       "\n",
       "    /* Handle when a new output is added */\n",
       "    events.on('output_added.OutputArea', handleAddOutput);\n",
       "\n",
       "    /**\n",
       "     * Register the mime type and append_mime function with output_area\n",
       "     */\n",
       "    OutputArea.prototype.register_mime_type(EXEC_MIME_TYPE, append_mime, {\n",
       "      /* Is output safe? */\n",
       "      safe: true,\n",
       "      /* Index of renderer in `output_area.display_order` */\n",
       "      index: 0\n",
       "    });\n",
       "  }\n",
       "\n",
       "  // register the mime type if in Jupyter Notebook environment and previously unregistered\n",
       "  if (root.Jupyter !== undefined) {\n",
       "    var events = require('base/js/events');\n",
       "    var OutputArea = require('notebook/js/outputarea').OutputArea;\n",
       "\n",
       "    if (OutputArea.prototype.mime_types().indexOf(EXEC_MIME_TYPE) == -1) {\n",
       "      register_renderer(events, OutputArea);\n",
       "    }\n",
       "  }\n",
       "\n",
       "  \n",
       "  if (typeof (root._bokeh_timeout) === \"undefined\" || force === true) {\n",
       "    root._bokeh_timeout = Date.now() + 5000;\n",
       "    root._bokeh_failed_load = false;\n",
       "  }\n",
       "\n",
       "  var NB_LOAD_WARNING = {'data': {'text/html':\n",
       "     \"<div style='background-color: #fdd'>\\n\"+\n",
       "     \"<p>\\n\"+\n",
       "     \"BokehJS does not appear to have successfully loaded. If loading BokehJS from CDN, this \\n\"+\n",
       "     \"may be due to a slow or bad network connection. Possible fixes:\\n\"+\n",
       "     \"</p>\\n\"+\n",
       "     \"<ul>\\n\"+\n",
       "     \"<li>re-rerun `output_notebook()` to attempt to load from CDN again, or</li>\\n\"+\n",
       "     \"<li>use INLINE resources instead, as so:</li>\\n\"+\n",
       "     \"</ul>\\n\"+\n",
       "     \"<code>\\n\"+\n",
       "     \"from bokeh.resources import INLINE\\n\"+\n",
       "     \"output_notebook(resources=INLINE)\\n\"+\n",
       "     \"</code>\\n\"+\n",
       "     \"</div>\"}};\n",
       "\n",
       "  function display_loaded() {\n",
       "    var el = document.getElementById(\"63126f9d-20ef-4759-820c-50f3d6235914\");\n",
       "    if (el != null) {\n",
       "      el.textContent = \"BokehJS is loading...\";\n",
       "    }\n",
       "    if (root.Bokeh !== undefined) {\n",
       "      if (el != null) {\n",
       "        el.textContent = \"BokehJS \" + root.Bokeh.version + \" successfully loaded.\";\n",
       "      }\n",
       "    } else if (Date.now() < root._bokeh_timeout) {\n",
       "      setTimeout(display_loaded, 100)\n",
       "    }\n",
       "  }\n",
       "\n",
       "\n",
       "  function run_callbacks() {\n",
       "    try {\n",
       "      root._bokeh_onload_callbacks.forEach(function(callback) { callback() });\n",
       "    }\n",
       "    finally {\n",
       "      delete root._bokeh_onload_callbacks\n",
       "    }\n",
       "    console.info(\"Bokeh: all callbacks have finished\");\n",
       "  }\n",
       "\n",
       "  function load_libs(js_urls, callback) {\n",
       "    root._bokeh_onload_callbacks.push(callback);\n",
       "    if (root._bokeh_is_loading > 0) {\n",
       "      console.log(\"Bokeh: BokehJS is being loaded, scheduling callback at\", now());\n",
       "      return null;\n",
       "    }\n",
       "    if (js_urls == null || js_urls.length === 0) {\n",
       "      run_callbacks();\n",
       "      return null;\n",
       "    }\n",
       "    console.log(\"Bokeh: BokehJS not loaded, scheduling load and callback at\", now());\n",
       "    root._bokeh_is_loading = js_urls.length;\n",
       "    for (var i = 0; i < js_urls.length; i++) {\n",
       "      var url = js_urls[i];\n",
       "      var s = document.createElement('script');\n",
       "      s.src = url;\n",
       "      s.async = false;\n",
       "      s.onreadystatechange = s.onload = function() {\n",
       "        root._bokeh_is_loading--;\n",
       "        if (root._bokeh_is_loading === 0) {\n",
       "          console.log(\"Bokeh: all BokehJS libraries loaded\");\n",
       "          run_callbacks()\n",
       "        }\n",
       "      };\n",
       "      s.onerror = function() {\n",
       "        console.warn(\"failed to load library \" + url);\n",
       "      };\n",
       "      console.log(\"Bokeh: injecting script tag for BokehJS library: \", url);\n",
       "      document.getElementsByTagName(\"head\")[0].appendChild(s);\n",
       "    }\n",
       "  };var element = document.getElementById(\"63126f9d-20ef-4759-820c-50f3d6235914\");\n",
       "  if (element == null) {\n",
       "    console.log(\"Bokeh: ERROR: autoload.js configured with elementid '63126f9d-20ef-4759-820c-50f3d6235914' but no matching script tag was found. \")\n",
       "    return false;\n",
       "  }\n",
       "\n",
       "  var js_urls = [\"https://cdn.pydata.org/bokeh/release/bokeh-0.12.10.min.js\", \"https://cdn.pydata.org/bokeh/release/bokeh-widgets-0.12.10.min.js\", \"https://cdn.pydata.org/bokeh/release/bokeh-tables-0.12.10.min.js\", \"https://cdn.pydata.org/bokeh/release/bokeh-gl-0.12.10.min.js\"];\n",
       "\n",
       "  var inline_js = [\n",
       "    function(Bokeh) {\n",
       "      Bokeh.set_log_level(\"info\");\n",
       "    },\n",
       "    \n",
       "    function(Bokeh) {\n",
       "      \n",
       "    },\n",
       "    function(Bokeh) {\n",
       "      console.log(\"Bokeh: injecting CSS: https://cdn.pydata.org/bokeh/release/bokeh-0.12.10.min.css\");\n",
       "      Bokeh.embed.inject_css(\"https://cdn.pydata.org/bokeh/release/bokeh-0.12.10.min.css\");\n",
       "      console.log(\"Bokeh: injecting CSS: https://cdn.pydata.org/bokeh/release/bokeh-widgets-0.12.10.min.css\");\n",
       "      Bokeh.embed.inject_css(\"https://cdn.pydata.org/bokeh/release/bokeh-widgets-0.12.10.min.css\");\n",
       "      console.log(\"Bokeh: injecting CSS: https://cdn.pydata.org/bokeh/release/bokeh-tables-0.12.10.min.css\");\n",
       "      Bokeh.embed.inject_css(\"https://cdn.pydata.org/bokeh/release/bokeh-tables-0.12.10.min.css\");\n",
       "    }\n",
       "  ];\n",
       "\n",
       "  function run_inline_js() {\n",
       "    \n",
       "    if ((root.Bokeh !== undefined) || (force === true)) {\n",
       "      for (var i = 0; i < inline_js.length; i++) {\n",
       "        inline_js[i].call(root, root.Bokeh);\n",
       "      }if (force === true) {\n",
       "        display_loaded();\n",
       "      }} else if (Date.now() < root._bokeh_timeout) {\n",
       "      setTimeout(run_inline_js, 100);\n",
       "    } else if (!root._bokeh_failed_load) {\n",
       "      console.log(\"Bokeh: BokehJS failed to load within specified timeout.\");\n",
       "      root._bokeh_failed_load = true;\n",
       "    } else if (force !== true) {\n",
       "      var cell = $(document.getElementById(\"63126f9d-20ef-4759-820c-50f3d6235914\")).parents('.cell').data().cell;\n",
       "      cell.output_area.append_execute_result(NB_LOAD_WARNING)\n",
       "    }\n",
       "\n",
       "  }\n",
       "\n",
       "  if (root._bokeh_is_loading === 0) {\n",
       "    console.log(\"Bokeh: BokehJS loaded, going straight to plotting\");\n",
       "    run_inline_js();\n",
       "  } else {\n",
       "    load_libs(js_urls, function() {\n",
       "      console.log(\"Bokeh: BokehJS plotting callback run at\", now());\n",
       "      run_inline_js();\n",
       "    });\n",
       "  }\n",
       "}(window));"
      ],
      "application/vnd.bokehjs_load.v0+json": "\n(function(root) {\n  function now() {\n    return new Date();\n  }\n\n  var force = true;\n\n  if (typeof (root._bokeh_onload_callbacks) === \"undefined\" || force === true) {\n    root._bokeh_onload_callbacks = [];\n    root._bokeh_is_loading = undefined;\n  }\n\n  \n\n  \n  if (typeof (root._bokeh_timeout) === \"undefined\" || force === true) {\n    root._bokeh_timeout = Date.now() + 5000;\n    root._bokeh_failed_load = false;\n  }\n\n  var NB_LOAD_WARNING = {'data': {'text/html':\n     \"<div style='background-color: #fdd'>\\n\"+\n     \"<p>\\n\"+\n     \"BokehJS does not appear to have successfully loaded. If loading BokehJS from CDN, this \\n\"+\n     \"may be due to a slow or bad network connection. Possible fixes:\\n\"+\n     \"</p>\\n\"+\n     \"<ul>\\n\"+\n     \"<li>re-rerun `output_notebook()` to attempt to load from CDN again, or</li>\\n\"+\n     \"<li>use INLINE resources instead, as so:</li>\\n\"+\n     \"</ul>\\n\"+\n     \"<code>\\n\"+\n     \"from bokeh.resources import INLINE\\n\"+\n     \"output_notebook(resources=INLINE)\\n\"+\n     \"</code>\\n\"+\n     \"</div>\"}};\n\n  function display_loaded() {\n    var el = document.getElementById(\"63126f9d-20ef-4759-820c-50f3d6235914\");\n    if (el != null) {\n      el.textContent = \"BokehJS is loading...\";\n    }\n    if (root.Bokeh !== undefined) {\n      if (el != null) {\n        el.textContent = \"BokehJS \" + root.Bokeh.version + \" successfully loaded.\";\n      }\n    } else if (Date.now() < root._bokeh_timeout) {\n      setTimeout(display_loaded, 100)\n    }\n  }\n\n\n  function run_callbacks() {\n    try {\n      root._bokeh_onload_callbacks.forEach(function(callback) { callback() });\n    }\n    finally {\n      delete root._bokeh_onload_callbacks\n    }\n    console.info(\"Bokeh: all callbacks have finished\");\n  }\n\n  function load_libs(js_urls, callback) {\n    root._bokeh_onload_callbacks.push(callback);\n    if (root._bokeh_is_loading > 0) {\n      console.log(\"Bokeh: BokehJS is being loaded, scheduling callback at\", now());\n      return null;\n    }\n    if (js_urls == null || js_urls.length === 0) {\n      run_callbacks();\n      return null;\n    }\n    console.log(\"Bokeh: BokehJS not loaded, scheduling load and callback at\", now());\n    root._bokeh_is_loading = js_urls.length;\n    for (var i = 0; i < js_urls.length; i++) {\n      var url = js_urls[i];\n      var s = document.createElement('script');\n      s.src = url;\n      s.async = false;\n      s.onreadystatechange = s.onload = function() {\n        root._bokeh_is_loading--;\n        if (root._bokeh_is_loading === 0) {\n          console.log(\"Bokeh: all BokehJS libraries loaded\");\n          run_callbacks()\n        }\n      };\n      s.onerror = function() {\n        console.warn(\"failed to load library \" + url);\n      };\n      console.log(\"Bokeh: injecting script tag for BokehJS library: \", url);\n      document.getElementsByTagName(\"head\")[0].appendChild(s);\n    }\n  };var element = document.getElementById(\"63126f9d-20ef-4759-820c-50f3d6235914\");\n  if (element == null) {\n    console.log(\"Bokeh: ERROR: autoload.js configured with elementid '63126f9d-20ef-4759-820c-50f3d6235914' but no matching script tag was found. \")\n    return false;\n  }\n\n  var js_urls = [\"https://cdn.pydata.org/bokeh/release/bokeh-0.12.10.min.js\", \"https://cdn.pydata.org/bokeh/release/bokeh-widgets-0.12.10.min.js\", \"https://cdn.pydata.org/bokeh/release/bokeh-tables-0.12.10.min.js\", \"https://cdn.pydata.org/bokeh/release/bokeh-gl-0.12.10.min.js\"];\n\n  var inline_js = [\n    function(Bokeh) {\n      Bokeh.set_log_level(\"info\");\n    },\n    \n    function(Bokeh) {\n      \n    },\n    function(Bokeh) {\n      console.log(\"Bokeh: injecting CSS: https://cdn.pydata.org/bokeh/release/bokeh-0.12.10.min.css\");\n      Bokeh.embed.inject_css(\"https://cdn.pydata.org/bokeh/release/bokeh-0.12.10.min.css\");\n      console.log(\"Bokeh: injecting CSS: https://cdn.pydata.org/bokeh/release/bokeh-widgets-0.12.10.min.css\");\n      Bokeh.embed.inject_css(\"https://cdn.pydata.org/bokeh/release/bokeh-widgets-0.12.10.min.css\");\n      console.log(\"Bokeh: injecting CSS: https://cdn.pydata.org/bokeh/release/bokeh-tables-0.12.10.min.css\");\n      Bokeh.embed.inject_css(\"https://cdn.pydata.org/bokeh/release/bokeh-tables-0.12.10.min.css\");\n    }\n  ];\n\n  function run_inline_js() {\n    \n    if ((root.Bokeh !== undefined) || (force === true)) {\n      for (var i = 0; i < inline_js.length; i++) {\n        inline_js[i].call(root, root.Bokeh);\n      }if (force === true) {\n        display_loaded();\n      }} else if (Date.now() < root._bokeh_timeout) {\n      setTimeout(run_inline_js, 100);\n    } else if (!root._bokeh_failed_load) {\n      console.log(\"Bokeh: BokehJS failed to load within specified timeout.\");\n      root._bokeh_failed_load = true;\n    } else if (force !== true) {\n      var cell = $(document.getElementById(\"63126f9d-20ef-4759-820c-50f3d6235914\")).parents('.cell').data().cell;\n      cell.output_area.append_execute_result(NB_LOAD_WARNING)\n    }\n\n  }\n\n  if (root._bokeh_is_loading === 0) {\n    console.log(\"Bokeh: BokehJS loaded, going straight to plotting\");\n    run_inline_js();\n  } else {\n    load_libs(js_urls, function() {\n      console.log(\"Bokeh: BokehJS plotting callback run at\", now());\n      run_inline_js();\n    });\n  }\n}(window));"
     },
     "metadata": {},
     "output_type": "display_data"
    }
   ],
   "source": [
    "from ipywidgets import interact\n",
    "import numpy as np\n",
    "\n",
    "from bokeh.io import push_notebook, show, output_notebook\n",
    "from bokeh.plotting import figure\n",
    "output_notebook()"
   ]
  },
  {
   "cell_type": "code",
   "execution_count": 2,
   "metadata": {},
   "outputs": [],
   "source": [
    "x = np.linspace(0, 2*np.pi, 2000)\n",
    "y = np.sin(x)"
   ]
  },
  {
   "cell_type": "code",
   "execution_count": 3,
   "metadata": {},
   "outputs": [],
   "source": [
    "p = figure(title=\"simple line example\", plot_height=300, plot_width=600, y_range=(-5,5))\n",
    "r = p.line(x, y, color=\"#2222aa\", line_width=3)"
   ]
  },
  {
   "cell_type": "code",
   "execution_count": 7,
   "metadata": {},
   "outputs": [],
   "source": [
    "def update(f, w=1, A=1, phi=0):\n",
    "    if   f == \"Male Retention\": func = np.sin\n",
    "    elif f == \"Female Retention\": func = np.cos\n",
    "    elif f == \"Overall Retention\": func = np.tan\n",
    "    r.data_source.data['y'] = A * func(w * x + phi)\n",
    "    push_notebook()"
   ]
  },
  {
   "cell_type": "code",
   "execution_count": 8,
   "metadata": {},
   "outputs": [
    {
     "data": {
      "text/html": [
       "\n",
       "<div class=\"bk-root\">\n",
       "    <div class=\"bk-plotdiv\" id=\"6e806bd4-0aca-4fc6-a64f-69b604c200c5\"></div>\n",
       "</div>"
      ]
     },
     "metadata": {},
     "output_type": "display_data"
    },
    {
     "data": {
      "application/javascript": [
       "(function(root) {\n",
       "  function embed_document(root) {\n",
       "    var docs_json = {\"a81a7322-28b5-4588-b023-a8bef6390743\":{\"roots\":{\"references\":[{\"attributes\":{},\"id\":\"59856b63-c9fe-4eb9-a1b8-46320598cf3e\",\"type\":\"WheelZoomTool\"},{\"attributes\":{},\"id\":\"146537f8-0e2b-47ce-b5f6-ac00a671da10\",\"type\":\"LinearScale\"},{\"attributes\":{\"bottom_units\":\"screen\",\"fill_alpha\":{\"value\":0.5},\"fill_color\":{\"value\":\"lightgrey\"},\"left_units\":\"screen\",\"level\":\"overlay\",\"line_alpha\":{\"value\":1.0},\"line_color\":{\"value\":\"black\"},\"line_dash\":[4,4],\"line_width\":{\"value\":2},\"plot\":null,\"render_mode\":\"css\",\"right_units\":\"screen\",\"top_units\":\"screen\"},\"id\":\"e2aeb92a-aa80-4ded-9129-36171d1213f9\",\"type\":\"BoxAnnotation\"},{\"attributes\":{\"callback\":null,\"end\":5,\"start\":-5},\"id\":\"de763f1a-8ab8-49f8-be04-37f99ec6c695\",\"type\":\"Range1d\"},{\"attributes\":{\"formatter\":{\"id\":\"5234d357-1565-4289-b2f0-6d2b0da5b434\",\"type\":\"BasicTickFormatter\"},\"plot\":{\"id\":\"8e84c853-1fcd-40e8-868a-67878d365fe8\",\"subtype\":\"Figure\",\"type\":\"Plot\"},\"ticker\":{\"id\":\"1dfcd757-617b-47aa-936e-e85aad9b6981\",\"type\":\"BasicTicker\"}},\"id\":\"18af0bc3-c89a-4d8a-8700-0856b6a4eee6\",\"type\":\"LinearAxis\"},{\"attributes\":{\"plot\":{\"id\":\"8e84c853-1fcd-40e8-868a-67878d365fe8\",\"subtype\":\"Figure\",\"type\":\"Plot\"},\"ticker\":{\"id\":\"1dfcd757-617b-47aa-936e-e85aad9b6981\",\"type\":\"BasicTicker\"}},\"id\":\"88d8cb23-c077-4993-a4f6-885ba9597326\",\"type\":\"Grid\"},{\"attributes\":{},\"id\":\"c2aeb113-c2e1-436b-a6c4-108cb0f479d4\",\"type\":\"PanTool\"},{\"attributes\":{\"overlay\":{\"id\":\"e2aeb92a-aa80-4ded-9129-36171d1213f9\",\"type\":\"BoxAnnotation\"}},\"id\":\"6de7b807-c634-4a59-bff8-087801053acf\",\"type\":\"BoxZoomTool\"},{\"attributes\":{},\"id\":\"fdf1e4d1-834e-4cfe-8564-dcc5516dbe5b\",\"type\":\"ResetTool\"},{\"attributes\":{\"active_drag\":\"auto\",\"active_inspect\":\"auto\",\"active_scroll\":\"auto\",\"active_tap\":\"auto\",\"tools\":[{\"id\":\"c2aeb113-c2e1-436b-a6c4-108cb0f479d4\",\"type\":\"PanTool\"},{\"id\":\"59856b63-c9fe-4eb9-a1b8-46320598cf3e\",\"type\":\"WheelZoomTool\"},{\"id\":\"6de7b807-c634-4a59-bff8-087801053acf\",\"type\":\"BoxZoomTool\"},{\"id\":\"6692e6dd-8938-4003-8829-b67b7f744ec5\",\"type\":\"SaveTool\"},{\"id\":\"fdf1e4d1-834e-4cfe-8564-dcc5516dbe5b\",\"type\":\"ResetTool\"},{\"id\":\"be9d83a4-545d-4316-bf51-1ecabaef87a4\",\"type\":\"HelpTool\"}]},\"id\":\"2c071910-77d9-412d-8eca-7d291924c01a\",\"type\":\"Toolbar\"},{\"attributes\":{},\"id\":\"51ef22d1-c56f-4b91-a226-d06aaf72d6d6\",\"type\":\"LinearScale\"},{\"attributes\":{\"callback\":null},\"id\":\"5622c231-2b72-4919-8ab6-3fceb15caa2f\",\"type\":\"DataRange1d\"},{\"attributes\":{\"dimension\":1,\"plot\":{\"id\":\"8e84c853-1fcd-40e8-868a-67878d365fe8\",\"subtype\":\"Figure\",\"type\":\"Plot\"},\"ticker\":{\"id\":\"afaaffbd-00d0-4f27-8daa-a1cfe116bc2c\",\"type\":\"BasicTicker\"}},\"id\":\"6dd7a95f-9167-4956-a6e8-67fa99a2e204\",\"type\":\"Grid\"},{\"attributes\":{\"below\":[{\"id\":\"18af0bc3-c89a-4d8a-8700-0856b6a4eee6\",\"type\":\"LinearAxis\"}],\"left\":[{\"id\":\"0c4b5788-5f94-4ab4-bca7-da6beafd7d06\",\"type\":\"LinearAxis\"}],\"plot_height\":300,\"renderers\":[{\"id\":\"18af0bc3-c89a-4d8a-8700-0856b6a4eee6\",\"type\":\"LinearAxis\"},{\"id\":\"88d8cb23-c077-4993-a4f6-885ba9597326\",\"type\":\"Grid\"},{\"id\":\"0c4b5788-5f94-4ab4-bca7-da6beafd7d06\",\"type\":\"LinearAxis\"},{\"id\":\"6dd7a95f-9167-4956-a6e8-67fa99a2e204\",\"type\":\"Grid\"},{\"id\":\"e2aeb92a-aa80-4ded-9129-36171d1213f9\",\"type\":\"BoxAnnotation\"},{\"id\":\"6eb79ad4-3faf-4cde-bd4d-cbbe2640d001\",\"type\":\"GlyphRenderer\"}],\"title\":{\"id\":\"fb0b942a-f048-485f-b7c6-005bbbd61692\",\"type\":\"Title\"},\"toolbar\":{\"id\":\"2c071910-77d9-412d-8eca-7d291924c01a\",\"type\":\"Toolbar\"},\"x_range\":{\"id\":\"5622c231-2b72-4919-8ab6-3fceb15caa2f\",\"type\":\"DataRange1d\"},\"x_scale\":{\"id\":\"146537f8-0e2b-47ce-b5f6-ac00a671da10\",\"type\":\"LinearScale\"},\"y_range\":{\"id\":\"de763f1a-8ab8-49f8-be04-37f99ec6c695\",\"type\":\"Range1d\"},\"y_scale\":{\"id\":\"51ef22d1-c56f-4b91-a226-d06aaf72d6d6\",\"type\":\"LinearScale\"}},\"id\":\"8e84c853-1fcd-40e8-868a-67878d365fe8\",\"subtype\":\"Figure\",\"type\":\"Plot\"},{\"attributes\":{},\"id\":\"5234d357-1565-4289-b2f0-6d2b0da5b434\",\"type\":\"BasicTickFormatter\"},{\"attributes\":{\"callback\":null,\"column_names\":[\"y\",\"x\"],\"data\":{\"x\":{\"__ndarray__\":\"AAAAAAAAAAB1ciVzsb9pP3VyJXOxv3k/2BVcFsVPgz91ciVzsb+JP4ln9+fOF5A/2BVcFsVPkz8mxMBEu4eWP3VyJXOxv5k/xCCKoaf3nD+JZ/fnzhegP7C+Kf/Js6E/2BVcFsVPoz//bI4twOukPybEwES7h6Y/ThvzW7YjqD91ciVzsb+pP5zJV4qsW6s/xCCKoaf3rD/rd7y4opOuP4ln9+fOF7A/HZOQc8zlsD+wvin/ybOxP0TqworHgbI/2BVcFsVPsz9rQfWhwh20P/9sji3A67Q/k5gnub25tT8mxMBEu4e2P7rvWdC4Vbc/ThvzW7YjuD/hRozns/G4P3VyJXOxv7k/CZ6+/q6Nuj+cyVeKrFu7PzD18BWqKbw/xCCKoaf3vD9XTCMtpcW9P+t3vLiik74/f6NVRKBhvz+JZ/fnzhfAP1P9w63NfsA/HZOQc8zlwD/nKF05y0zBP7C+Kf/Js8E/elT2xMgawj9E6sKKx4HCPw6Aj1DG6MI/2BVcFsVPwz+iqyjcw7bDP2tB9aHCHcQ/NdfBZ8GExD//bI4twOvEP8kCW/O+UsU/k5gnub25xT9dLvR+vCDGPybEwES7h8Y/8FmNCrruxj+671nQuFXHP4SFJpa3vMc/ThvzW7YjyD8Ysb8htYrIP+FGjOez8cg/q9xYrbJYyT91ciVzsb/JPz8I8jiwJso/CZ6+/q6Nyj/SM4vErfTKP5zJV4qsW8s/Zl8kUKvCyz8w9fAVqinMP/qKvduokMw/xCCKoaf3zD+NtlZnpl7NP1dMIy2lxc0/IeLv8qMszj/rd7y4opPOP7UNiX6h+s4/f6NVRKBhzz9IOSIKn8jPP4ln9+fOF9A/brLdSk5L0D9T/cOtzX7QPzhIqhBNstA/HZOQc8zl0D8C3nbWSxnRP+coXTnLTNE/zHNDnEqA0T+wvin/ybPRP5UJEGJJ59E/elT2xMga0j9fn9wnSE7SP0TqworHgdI/KTWp7Ua10j8OgI9QxujSP/PKdbNFHNM/2BVcFsVP0z+9YEJ5RIPTP6KrKNzDttM/hvYOP0Pq0z9rQfWhwh3UP1CM2wRCUdQ/NdfBZ8GE1D8aIqjKQLjUP/9sji3A69Q/5Ld0kD8f1T/JAlvzvlLVP65NQVY+htU/k5gnub251T944w0cPe3VP10u9H68INY/QXna4TtU1j8mxMBEu4fWPwsPp6c6u9Y/8FmNCrru1j/VpHNtOSLXP7rvWdC4Vdc/nzpAMziJ1z+EhSaWt7zXP2nQDPk28Nc/ThvzW7Yj2D8zZtm+NVfYPxixvyG1itg//PulhDS+2D/hRozns/HYP8aRckozJdk/q9xYrbJY2T+QJz8QMozZP3VyJXOxv9k/Wr0L1jDz2T8/CPI4sCbaPyRT2JsvWto/CZ6+/q6N2j/u6KRhLsHaP9Izi8St9No/t35xJy0o2z+cyVeKrFvbP4EUPu0rj9s/Zl8kUKvC2z9LqgqzKvbbPzD18BWqKdw/FUDXeCld3D/6ir3bqJDcP9/Voz4oxNw/xCCKoaf33D+pa3AEJyvdP422VmemXt0/cgE9yiWS3T9XTCMtpcXdPzyXCZAk+d0/IeLv8qMs3j8GLdZVI2DeP+t3vLiik94/0MKiGyLH3j+1DYl+ofreP5pYb+EgLt8/f6NVRKBh3z9k7junH5XfP0g5IgqfyN8/LYQIbR783z+JZ/fnzhfgP/yMapmOMeA/brLdSk5L4D/g11D8DWXgP1P9w63NfuA/xSI3X42Y4D84SKoQTbLgP6ptHcIMzOA/HZOQc8zl4D+PuAMljP/gPwLedtZLGeE/dAPqhwsz4T/nKF05y0zhP1lO0OqKZuE/zHNDnEqA4T8+mbZNCprhP7C+Kf/Js+E/I+ScsInN4T+VCRBiSefhPwgvgxMJAeI/elT2xMga4j/teWl2iDTiP1+f3CdITuI/0sRP2Qdo4j9E6sKKx4HiP7cPNjyHm+I/KTWp7Ua14j+bWhyfBs/iPw6Aj1DG6OI/gKUCAoYC4z/zynWzRRzjP2Xw6GQFNuM/2BVcFsVP4z9KO8/HhGnjP71gQnlEg+M/L4a1KgSd4z+iqyjcw7bjPxTRm42D0OM/hvYOP0Pq4z/5G4LwAgTkP2tB9aHCHeQ/3mZoU4I35D9QjNsEQlHkP8OxTrYBa+Q/NdfBZ8GE5D+o/DQZgZ7kPxoiqMpAuOQ/jUcbfADS5D//bI4twOvkP3KSAd9/BeU/5Ld0kD8f5T9W3edB/zjlP8kCW/O+UuU/OyjOpH5s5T+uTUFWPoblPyBztAf+n+U/k5gnub255T8FvppqfdPlP3jjDRw97eU/6giBzfwG5j9dLvR+vCDmP89TZzB8OuY/QXna4TtU5j+0nk2T+23mPybEwES7h+Y/mekz9nqh5j8LD6enOrvmP340Gln61OY/8FmNCrru5j9jfwC8eQjnP9Wkc205Iuc/SMrmHvk75z+671nQuFXnPywVzYF4b+c/nzpAMziJ5z8RYLPk96LnP4SFJpa3vOc/9qqZR3fW5z9p0Az5NvDnP9v1f6r2Ceg/ThvzW7Yj6D/AQGYNdj3oPzNm2b41V+g/pYtMcPVw6D8Ysb8htYroP4rWMtN0pOg//PulhDS+6D9vIRk29NfoP+FGjOez8eg/VGz/mHML6T/GkXJKMyXpPzm35fvyPuk/q9xYrbJY6T8eAsxecnLpP5AnPxAyjOk/A02ywfGl6T91ciVzsb/pP+eXmCRx2ek/Wr0L1jDz6T/M4n6H8AzqPz8I8jiwJuo/sS1l6m9A6j8kU9ibL1rqP5Z4S03vc+o/CZ6+/q6N6j97wzGwbqfqP+7opGEuweo/YA4YE+7a6j/SM4vErfTqP0VZ/nVtDus/t35xJy0o6z8qpOTY7EHrP5zJV4qsW+s/D+/KO2x16z+BFD7tK4/rP/Q5sZ7rqOs/Zl8kUKvC6z/ZhJcBa9zrP0uqCrMq9us/vs99ZOoP7D8w9fAVqinsP6IaZMdpQ+w/FUDXeCld7D+HZUoq6XbsP/qKvduokOw/bLAwjWiq7D/f1aM+KMTsP1H7FvDn3ew/xCCKoaf37D82Rv1SZxHtP6lrcAQnK+0/G5HjteZE7T+NtlZnpl7tPwDcyRhmeO0/cgE9yiWS7T/lJrB75avtP1dMIy2lxe0/ynGW3mTf7T88lwmQJPntP6+8fEHkEu4/IeLv8qMs7j+UB2OkY0buPwYt1lUjYO4/eFJJB+N57j/rd7y4opPuP12dL2pire4/0MKiGyLH7j9C6BXN4eDuP7UNiX6h+u4/JzP8L2EU7z+aWG/hIC7vPwx+4pLgR+8/f6NVRKBh7z/xyMj1X3vvP2TuO6cfle8/1hOvWN+u7z9IOSIKn8jvP7telbte4u8/LYQIbR787z/Q1D0P7wrwP4ln9+fOF/A/QvqwwK4k8D/8jGqZjjHwP7UfJHJuPvA/brLdSk5L8D8nRZcjLljwP+DXUPwNZfA/mmoK1e1x8D9T/cOtzX7wPwyQfYati/A/xSI3X42Y8D9/tfA3baXwPzhIqhBNsvA/8dpj6Sy/8D+qbR3CDMzwP2QA15rs2PA/HZOQc8zl8D/WJUpMrPLwP4+4AyWM//A/SEu9/WsM8T8C3nbWSxnxP7twMK8rJvE/dAPqhwsz8T8tlqNg6z/xP+coXTnLTPE/oLsWEqtZ8T9ZTtDqimbxPxLhicNqc/E/zHNDnEqA8T+FBv10Ko3xPz6Ztk0KmvE/9ytwJuqm8T+wvin/ybPxP2pR49epwPE/I+ScsInN8T/cdlaJadrxP5UJEGJJ5/E/T5zJOin08T8IL4MTCQHyP8HBPOzoDfI/elT2xMga8j8z56+dqCfyP+15aXaINPI/pgwjT2hB8j9fn9wnSE7yPxgylgAoW/I/0sRP2Qdo8j+LVwmy53TyP0TqworHgfI//Xx8Y6eO8j+3DzY8h5vyP3Ci7xRnqPI/KTWp7Ua18j/ix2LGJsLyP5taHJ8Gz/I/Ve3Vd+bb8j8OgI9QxujyP8cSSSmm9fI/gKUCAoYC8z86OLzaZQ/zP/PKdbNFHPM/rF0vjCUp8z9l8OhkBTbzPx+Doj3lQvM/2BVcFsVP8z+RqBXvpFzzP0o7z8eEafM/A86IoGR28z+9YEJ5RIPzP3bz+1EkkPM/L4a1KgSd8z/oGG8D5KnzP6KrKNzDtvM/Wz7itKPD8z8U0ZuNg9DzP81jVWZj3fM/hvYOP0Pq8z9AicgXI/fzP/kbgvACBPQ/sq47yeIQ9D9rQfWhwh30PyXUrnqiKvQ/3mZoU4I39D+X+SEsYkT0P1CM2wRCUfQ/Ch+V3SFe9D/DsU62AWv0P3xECI/hd/Q/NdfBZ8GE9D/uaXtAoZH0P6j8NBmBnvQ/YY/u8WCr9D8aIqjKQLj0P9O0YaMgxfQ/jUcbfADS9D9G2tRU4N70P/9sji3A6/Q/uP9HBqD49D9ykgHffwX1Pyslu7dfEvU/5Ld0kD8f9T+dSi5pHyz1P1bd50H/OPU/EHChGt9F9T/JAlvzvlL1P4KVFMyeX/U/OyjOpH5s9T/1uod9Xnn1P65NQVY+hvU/Z+D6Lh6T9T8gc7QH/p/1P9kFbuDdrPU/k5gnub259T9MK+GRncb1PwW+mmp90/U/vlBUQ13g9T944w0cPe31PzF2x/Qc+vU/6giBzfwG9j+jmzqm3BP2P10u9H68IPY/FsGtV5wt9j/PU2cwfDr2P4jmIAlcR/Y/QXna4TtU9j/7C5S6G2H2P7SeTZP7bfY/bTEHbNt69j8mxMBEu4f2P+BWeh2blPY/mekz9nqh9j9SfO3OWq72PwsPp6c6u/Y/xaFggBrI9j9+NBpZ+tT2PzfH0zHa4fY/8FmNCrru9j+p7Ebjmfv2P2N/ALx5CPc/HBK6lFkV9z/VpHNtOSL3P443LUYZL/c/SMrmHvk79z8BXaD32Ej3P7rvWdC4Vfc/c4ITqZhi9z8sFc2BeG/3P+anhlpYfPc/nzpAMziJ9z9YzfkLGJb3PxFgs+T3ovc/y/Jsvdev9z+EhSaWt7z3Pz0Y4G6Xyfc/9qqZR3fW9z+wPVMgV+P3P2nQDPk28Pc/ImPG0Rb99z/b9X+q9gn4P5SIOYPWFvg/ThvzW7Yj+D8Hrqw0ljD4P8BAZg12Pfg/edMf5lVK+D8zZtm+NVf4P+z4kpcVZPg/pYtMcPVw+D9eHgZJ1X34PxixvyG1ivg/0UN5+pSX+D+K1jLTdKT4P0Np7KtUsfg//PulhDS++D+2jl9dFMv4P28hGTb01/g/KLTSDtTk+D/hRozns/H4P5vZRcCT/vg/VGz/mHML+T8N/7hxUxj5P8aRckozJfk/fyQsIxMy+T85t+X78j75P/JJn9TSS/k/q9xYrbJY+T9kbxKGkmX5Px4CzF5ycvk/15SFN1J/+T+QJz8QMoz5P0m6+OgRmfk/A02ywfGl+T+832ua0bL5P3VyJXOxv/k/LgXfS5HM+T/nl5gkcdn5P6EqUv1Q5vk/Wr0L1jDz+T8TUMWuEAD6P8zifofwDPo/hnU4YNAZ+j8/CPI4sCb6P/iaqxGQM/o/sS1l6m9A+j9rwB7DT036PyRT2JsvWvo/3eWRdA9n+j+WeEtN73P6P08LBSbPgPo/CZ6+/q6N+j/CMHjXjpr6P3vDMbBup/o/NFbriE60+j/u6KRhLsH6P6d7XjoOzvo/YA4YE+7a+j8ZodHrzef6P9Izi8St9Po/jMZEnY0B+z9FWf51bQ77P/7rt05NG/s/t35xJy0o+z9xESsADTX7Pyqk5NjsQfs/4zaescxO+z+cyVeKrFv7P1ZcEWOMaPs/D+/KO2x1+z/IgYQUTIL7P4EUPu0rj/s/Oqf3xQuc+z/0ObGe66j7P63ManfLtfs/Zl8kUKvC+z8f8t0oi8/7P9mElwFr3Ps/khdR2krp+z9LqgqzKvb7PwQ9xIsKA/w/vs99ZOoP/D93Yjc9yhz8PzD18BWqKfw/6Yeq7ok2/D+iGmTHaUP8P1ytHaBJUPw/FUDXeCld/D/O0pBRCWr8P4dlSirpdvw/QfgDA8mD/D/6ir3bqJD8P7Mdd7SInfw/bLAwjWiq/D8lQ+plSLf8P9/Voz4oxPw/mGhdFwjR/D9R+xbw5938PwqO0MjH6vw/xCCKoaf3/D99s0N6hwT9PzZG/VJnEf0/79i2K0ce/T+pa3AEJyv9P2L+Kd0GOP0/G5HjteZE/T/UI52OxlH9P422VmemXv0/R0kQQIZr/T8A3MkYZnj9P7lug/FFhf0/cgE9yiWS/T8slPaiBZ/9P+UmsHvlq/0/nrlpVMW4/T9XTCMtpcX9PxHf3AWF0v0/ynGW3mTf/T+DBFC3ROz9PzyXCZAk+f0/9SnDaAQG/j+vvHxB5BL+P2hPNhrEH/4/IeLv8qMs/j/adKnLgzn+P5QHY6RjRv4/TZocfUNT/j8GLdZVI2D+P7+/jy4Dbf4/eFJJB+N5/j8y5QLgwob+P+t3vLiik/4/pAp2kYKg/j9dnS9qYq3+Pxcw6UJCuv4/0MKiGyLH/j+JVVz0AdT+P0LoFc3h4P4//HrPpcHt/j+1DYl+ofr+P26gQleBB/8/JzP8L2EU/z/gxbUIQSH/P5pYb+EgLv8/U+sougA7/z8MfuKS4Ef/P8UQnGvAVP8/f6NVRKBh/z84Ng8dgG7/P/HIyPVfe/8/qluCzj+I/z9k7junH5X/Px2B9X//of8/1hOvWN+u/z+Ppmgxv7v/P0g5IgqfyP8/Aszb4n7V/z+7XpW7XuL/P3TxTpQ+7/8/LYQIbR78/z9zC+EifwQAQNDUPQ/vCgBALZ6a+14RAECJZ/fnzhcAQOYwVNQ+HgBAQvqwwK4kAECfww2tHisAQPyMapmOMQBAWFbHhf43AEC1HyRybj4AQBHpgF7eRABAbrLdSk5LAEDLezo3vlEAQCdFlyMuWABAhA70D55eAEDg11D8DWUAQD2hreh9awBAmmoK1e1xAED2M2fBXXgAQFP9w63NfgBAsMYgmj2FAEAMkH2GrYsAQGlZ2nIdkgBAxSI3X42YAEAi7JNL/Z4AQH+18DdtpQBA235NJN2rAEA4SKoQTbIAQJQRB/28uABA8dpj6Sy/AEBOpMDVnMUAQKptHcIMzABABzd6rnzSAEBkANea7NgAQMDJM4dc3wBAHZOQc8zlAEB5XO1fPOwAQNYlSkys8gBAM++mOBz5AECPuAMljP8AQOyBYBH8BQFASEu9/WsMAUClFBrq2xIBQALedtZLGQFAXqfTwrsfAUC7cDCvKyYBQBg6jZubLAFAdAPqhwszAUDRzEZ0ezkBQC2Wo2DrPwFAil8ATVtGAUDnKF05y0wBQEPyuSU7UwFAoLsWEqtZAUD8hHP+GmABQFlO0OqKZgFAthct1/psAUAS4YnDanMBQG+q5q/aeQFAzHNDnEqAAUAoPaCIuoYBQIUG/XQqjQFA4c9ZYZqTAUA+mbZNCpoBQJtiEzp6oAFA9ytwJuqmAUBU9cwSWq0BQLC+Kf/JswFADYiG6zm6AUBqUePXqcABQMYaQMQZxwFAI+ScsInNAUCArfmc+dMBQNx2Volp2gFAOUCzddngAUCVCRBiSecBQPLSbE657QFAT5zJOin0AUCrZSYnmfoBQAgvgxMJAQJAZPjf/3gHAkDBwTzs6A0CQB6LmdhYFAJAelT2xMgaAkDXHVOxOCECQDPnr52oJwJAkLAMihguAkDteWl2iDQCQElDxmL4OgJApgwjT2hBAkAD1n872EcCQF+f3CdITgJAvGg5FLhUAkAYMpYAKFsCQHX78uyXYQJA0sRP2QdoAkAujqzFd24CQItXCbLndAJA5yBmnld7AkBE6sKKx4ECQKGzH3c3iAJA/Xx8Y6eOAkBaRtlPF5UCQLcPNjyHmwJAE9mSKPehAkBwou8UZ6gCQMxrTAHXrgJAKTWp7Ua1AkCG/gXatrsCQOLHYsYmwgJAP5G/spbIAkCbWhyfBs8CQPgjeYt21QJAVe3Vd+bbAkCxtjJkVuICQA6Aj1DG6AJAa0nsPDbvAkDHEkkppvUCQCTcpRUW/AJAgKUCAoYCA0Ddbl/u9QgDQDo4vNplDwNAlgEZx9UVA0DzynWzRRwDQE+U0p+1IgNArF0vjCUpA0AJJ4x4lS8DQGXw6GQFNgNAwrlFUXU8A0Afg6I95UIDQHtM/ylVSQNA2BVcFsVPA0A037gCNVYDQJGoFe+kXANA7nFy2xRjA0BKO8/HhGkDQKcELLT0bwNAA86IoGR2A0Bgl+WM1HwDQL1gQnlEgwNAGSqfZbSJA0B28/tRJJADQNO8WD6UlgNAL4a1KgSdA0CMTxIXdKMDQOgYbwPkqQNAReLL71OwA0Ciqyjcw7YDQP50hcgzvQNAWz7itKPDA0C3Bz+hE8oDQBTRm42D0ANAcZr4efPWA0DNY1VmY90DQCotslLT4wNAhvYOP0PqA0Djv2srs/ADQECJyBcj9wNAnFIlBJP9A0D5G4LwAgQEQFbl3txyCgRAsq47yeIQBEAPeJi1UhcEQGtB9aHCHQRAyApSjjIkBEAl1K56oioEQIGdC2cSMQRA3mZoU4I3BEA6MMU/8j0EQJf5ISxiRARA9MJ+GNJKBEBQjNsEQlEEQK1VOPGxVwRACh+V3SFeBEBm6PHJkWQEQMOxTrYBawRAH3uronFxBEB8RAiP4XcEQNkNZXtRfgRANdfBZ8GEBECSoB5UMYsEQO5pe0ChkQRASzPYLBGYBECo/DQZgZ4EQATGkQXxpARAYY/u8WCrBEC+WEve0LEEQBoiqMpAuARAd+sEt7C+BEDTtGGjIMUEQDB+vo+QywRAjUcbfADSBEDpEHhocNgEQEba1FTg3gRAoqMxQVDlBED/bI4twOsEQFw26xkw8gRAuP9HBqD4BEAVyaTyD/8EQHKSAd9/BQVAzltey+8LBUArJbu3XxIFQIfuF6TPGAVA5Ld0kD8fBUBBgdF8ryUFQJ1KLmkfLAVA+hOLVY8yBUBW3edB/zgFQLOmRC5vPwVAEHChGt9FBUBsOf4GT0wFQMkCW/O+UgVAJsy33y5ZBUCClRTMnl8FQN9ecbgOZgVAOyjOpH5sBUCY8SqR7nIFQPW6h31eeQVAUYTkac5/BUCuTUFWPoYFQAoXnkKujAVAZ+D6Lh6TBUDEqVcbjpkFQCBztAf+nwVAfTwR9G2mBUDZBW7g3awFQDbPysxNswVAk5gnub25BUDvYYSlLcAFQEwr4ZGdxgVAqfQ9fg3NBUAFvppqfdMFQGKH91bt2QVAvlBUQ13gBUAbGrEvzeYFQHjjDRw97QVA1KxqCK3zBUAxdsf0HPoFQI0/JOGMAAZA6giBzfwGBkBH0t25bA0GQKObOqbcEwZAAGWXkkwaBkBdLvR+vCAGQLn3UGssJwZAFsGtV5wtBkByigpEDDQGQM9TZzB8OgZALB3EHOxABkCI5iAJXEcGQOWvffXLTQZAQXna4TtUBkCeQjfOq1oGQPsLlLobYQZAV9XwpotnBkC0nk2T+20GQBFoqn9rdAZAbTEHbNt6BkDK+mNYS4EGQCbEwES7hwZAg40dMSuOBkDgVnodm5QGQDwg1wkLmwZAmekz9nqhBkD1spDi6qcGQFJ87c5argZAr0VKu8q0BkALD6enOrsGQGjYA5SqwQZAxaFggBrIBkAha71sis4GQH40Gln61AZA2v12RWrbBkA3x9Mx2uEGQJSQMB5K6AZA8FmNCrruBkBNI+r2KfUGQKnsRuOZ+wZABrajzwkCB0BjfwC8eQgHQL9IXajpDgdAHBK6lFkVB0B52xaByRsHQNWkc205IgdAMm7QWakoB0CONy1GGS8HQOsAijKJNQdASMrmHvk7B0Ckk0MLaUIHQAFdoPfYSAdAXSb940hPB0C671nQuFUHQBe5trwoXAdAc4ITqZhiB0DQS3CVCGkHQCwVzYF4bwdAid4pbuh1B0Dmp4ZaWHwHQEJx40bIggdAnzpAMziJB0D8A50fqI8HQFjN+QsYlgdAtZZW+IecB0ARYLPk96IHQG4pENFnqQdAy/JsvdevB0AnvMmpR7YHQISFJpa3vAdA4E6DgifDB0A9GOBul8kHQJrhPFsH0AdA9qqZR3fWB0BTdPYz59wHQLA9UyBX4wdADAewDMfpB0Bp0Az5NvAHQMWZaeWm9gdAImPG0Rb9B0B/LCO+hgMIQNv1f6r2CQhAOL/clmYQCECUiDmD1hYIQPFRlm9GHQhAThvzW7YjCECq5E9IJioIQAeurDSWMAhAZHcJIQY3CEDAQGYNdj0IQB0Kw/nlQwhAedMf5lVKCEDWnHzSxVAIQDNm2b41VwhAjy82q6VdCEDs+JKXFWQIQEjC74OFaghApYtMcPVwCEACValcZXcIQF4eBknVfQhAu+diNUWECEAYsb8htYoIQHR6HA4lkQhA0UN5+pSXCEAtDdbmBJ4IQIrWMtN0pAhA55+Pv+SqCEBDaeyrVLEIQKAySZjEtwhA/PulhDS+CEBZxQJxpMQIQLaOX10UywhAEli8SYTRCEBvIRk29NcIQMzqdSJk3ghAKLTSDtTkCECFfS/7Q+sIQOFGjOez8QhAPhDp0yP4CECb2UXAk/4IQPeioqwDBQlAVGz/mHMLCUCwNVyF4xEJQA3/uHFTGAlAasgVXsMeCUDGkXJKMyUJQCNbzzajKwlAfyQsIxMyCUDc7YgPgzgJQDm35fvyPglAlYBC6GJFCUDySZ/U0ksJQE8T/MBCUglAq9xYrbJYCUAIprWZIl8JQGRvEoaSZQlAwThvcgJsCUAeAsxecnIJQHrLKEvieAlA15SFN1J/CUAzXuIjwoUJQJAnPxAyjAlA7fCb/KGSCUBJuvjoEZkJQKaDVdWBnwlAA02ywfGlCUBfFg+uYawJQLzfa5rRsglAGKnIhkG5CUB1ciVzsb8JQNI7gl8hxglALgXfS5HMCUCLzjs4AdMJQOeXmCRx2QlARGH1EOHfCUChKlL9UOYJQP3zrunA7AlAWr0L1jDzCUC3hmjCoPkJQBNQxa4QAApAcBkim4AGCkDM4n6H8AwKQCms23NgEwpAhnU4YNAZCkDiPpVMQCAKQD8I8jiwJgpAm9FOJSAtCkD4mqsRkDMKQFVkCP7/OQpAsS1l6m9ACkAO98HW30YKQGvAHsNPTQpAx4l7r79TCkAkU9ibL1oKQIAcNYifYApA3eWRdA9nCkA6r+5gf20KQJZ4S03vcwpA80GoOV96CkBPCwUmz4AKQKzUYRI/hwpACZ6+/q6NCkBlZxvrHpQKQMIweNeOmgpAHvrUw/6gCkB7wzGwbqcKQNiMjpzerQpANFbriE60CkCRH0h1vroKQO7opGEuwQpASrIBTp7HCkCne146Ds4KQANFuyZ+1ApAYA4YE+7aCkC913T/XeEKQBmh0evN5wpAdmou2D3uCkDSM4vErfQKQC/957Ad+wpAjMZEnY0BC0Doj6GJ/QcLQEVZ/nVtDgtAoiJbYt0UC0D+67dOTRsLQFu1FDu9IQtAt35xJy0oC0AUSM4TnS4LQHERKwANNQtAzdqH7Hw7C0AqpOTY7EELQIZtQcVcSAtA4zaescxOC0BAAPudPFULQJzJV4qsWwtA+ZK0dhxiC0BWXBFjjGgLQLIlbk/8bgtAD+/KO2x1C0BruCco3HsLQMiBhBRMggtAJUvhALyIC0CBFD7tK48LQN7dmtmblQtAOqf3xQucC0CXcFSye6ILQPQ5sZ7rqAtAUAMOi1uvC0CtzGp3y7ULQAqWx2M7vAtAZl8kUKvCC0DDKIE8G8kLQB/y3SiLzwtAfLs6FfvVC0DZhJcBa9wLQDVO9O3a4gtAkhdR2krpC0Du4K3Guu8LQEuqCrMq9gtAqHNnn5r8C0AEPcSLCgMMQGEGIXh6CQxAvs99ZOoPDEAamdpQWhYMQHdiNz3KHAxA0yuUKTojDEAw9fAVqikMQI2+TQIaMAxA6Yeq7ok2DEBGUQfb+TwMQKIaZMdpQwxA/+PAs9lJDEBcrR2gSVAMQLh2eoy5VgxAFUDXeCldDEBxCTRlmWMMQM7SkFEJagxAK5ztPXlwDECHZUoq6XYMQOQupxZZfQxAQfgDA8mDDECdwWDvOIoMQPqKvduokAxAVlQayBiXDECzHXe0iJ0MQBDn06D4owxAbLAwjWiqDEDJeY152LAMQCVD6mVItwxAggxHUri9DEDf1aM+KMQMQDufACuYygxAmGhdFwjRDED1MboDeNcMQFH7FvDn3QxArsRz3FfkDEAKjtDIx+oMQGdXLbU38QxAxCCKoaf3DEAg6uaNF/4MQH2zQ3qHBA1A2XygZvcKDUA2Rv1SZxENQJMPWj/XFw1A79i2K0ceDUBMohMYtyQNQKlrcAQnKw1ABTXN8JYxDUBi/indBjgNQL7Hhsl2Pg1AG5HjteZEDUB4WkCiVksNQNQjnY7GUQ1AMe35ejZYDUCNtlZnpl4NQOp/s1MWZQ1AR0kQQIZrDUCjEm0s9nENQADcyRhmeA1AXaUmBdZ+DUC5boPxRYUNQBY44N21iw1AcgE9yiWSDUDPypm2lZgNQCyU9qIFnw1AiF1Tj3WlDUDlJrB75asNQEHwDGhVsg1AnrlpVMW4DUD7gsZANb8NQFdMIy2lxQ1AtBWAGRXMDUAR39wFhdINQG2oOfL02A1AynGW3mTfDUAmO/PK1OUNQIMEULdE7A1A4M2so7TyDUA8lwmQJPkNQJlgZnyU/w1A9SnDaAQGDkBS8x9VdAwOQK+8fEHkEg5AC4bZLVQZDkBoTzYaxB8OQMQYkwY0Jg5AIeLv8qMsDkB+q0zfEzMOQNp0qcuDOQ5ANz4GuPM/DkCUB2OkY0YOQPDQv5DTTA5ATZocfUNTDkCpY3lps1kOQAYt1lUjYA5AY/YyQpNmDkC/v48uA20OQByJ7Bpzcw5AeFJJB+N5DkDVG6bzUoAOQDLlAuDChg5Ajq5fzDKNDkDrd7y4opMOQEhBGaUSmg5ApAp2kYKgDkAB1NJ98qYOQF2dL2pirQ5AumaMVtKzDkAXMOlCQroOQHP5RS+ywA5A0MKiGyLHDkAsjP8Hks0OQIlVXPQB1A5A5h654HHaDkBC6BXN4eAOQJ+xcrlR5w5A/HrPpcHtDkBYRCySMfQOQLUNiX6h+g5AEdflahEBD0BuoEJXgQcPQMtpn0PxDQ9AJzP8L2EUD0CE/Fgc0RoPQODFtQhBIQ9APY8S9bAnD0CaWG/hIC4PQPYhzM2QNA9AU+sougA7D0CwtIWmcEEPQAx+4pLgRw9AaUc/f1BOD0DFEJxrwFQPQCLa+FcwWw9Af6NVRKBhD0DbbLIwEGgPQDg2Dx2Abg9AlP9rCfB0D0DxyMj1X3sPQE6SJeLPgQ9AqluCzj+ID0AHJd+6r44PQGTuO6cflQ9AwLeYk4+bD0AdgfV//6EPQHlKUmxvqA9A1hOvWN+uD0Az3QtFT7UPQI+maDG/uw9A7G/FHS/CD0BIOSIKn8gPQKUCf/YOzw9AAszb4n7VD0BelTjP7tsPQLtelbte4g9AFyjyp87oD0B08U6UPu8PQNG6q4Cu9Q9ALYQIbR78D0DFprIsRwEQQHML4SJ/BBBAInAPGbcHEEDQ1D0P7woQQH45bAUnDhBALZ6a+14REEDbAsnxlhQQQIln9+fOFxBAN8wl3gYbEEDmMFTUPh4QQJSVgsp2IRBAQvqwwK4kEEDxXt+25icQQJ/DDa0eKxBATSg8o1YuEED8jGqZjjEQQKrxmI/GNBBAWFbHhf43EEAHu/V7NjsQQLUfJHJuPhBAY4RSaKZBEEAR6YBe3kQQQMBNr1QWSBBAbrLdSk5LEEAcFwxBhk4QQMt7Oje+URBAeeBoLfZUEEAnRZcjLlgQQNapxRlmWxBAhA70D55eEEAycyIG1mEQQODXUPwNZRBAjzx/8kVoEEA9oa3ofWsQQOsF3N61bhBAmmoK1e1xEEBIzzjLJXUQQPYzZ8FdeBBApZiVt5V7EEBT/cOtzX4QQAFi8qMFghBAsMYgmj2FEEBeK0+QdYgQQAyQfYatixBAuvSrfOWOEEBpWdpyHZIQQBe+CGlVlRBAxSI3X42YEEB0h2VVxZsQQCLsk0v9nhBA0FDCQTWiEEB/tfA3baUQQC0aHy6lqBBA235NJN2rEECK43saFa8QQDhIqhBNshBA5qzYBoW1EECUEQf9vLgQQEN2NfP0uxBA8dpj6Sy/EECfP5LfZMIQQE6kwNWcxRBA/Ajvy9TIEECqbR3CDMwQQFnSS7hEzxBABzd6rnzSEEC1m6iktNUQQGQA15rs2BBAEmUFkSTcEEDAyTOHXN8QQG4uYn2U4hBAHZOQc8zlEEDL975pBOkQQHlc7V887BBAKMEbVnTvEEDWJUpMrPIQQISKeELk9RBAM++mOBz5EEDhU9UuVPwQQI+4AyWM/xBAPh0yG8QCEUDsgWAR/AURQJrmjgc0CRFASEu9/WsMEUD3r+vzow8RQKUUGurbEhFAU3lI4BMWEUAC3nbWSxkRQLBCpcyDHBFAXqfTwrsfEUANDAK58yIRQLtwMK8rJhFAadVepWMpEUAYOo2bmywRQMaeu5HTLxFAdAPqhwszEUAiaBh+QzYRQNHMRnR7ORFAfzF1arM8EUAtlqNg6z8RQNz60VYjQxFAil8ATVtGEUA4xC5Dk0kRQOcoXTnLTBFAlY2LLwNQEUBD8rklO1MRQPJW6BtzVhFAoLsWEqtZEUBOIEUI41wRQPyEc/4aYBFAq+mh9FJjEUBZTtDqimYRQAez/uDCaRFAthct1/psEUBkfFvNMnARQBLhicNqcxFAwUW4uaJ2EUBvquav2nkRQB0PFaYSfRFAzHNDnEqAEUB62HGSgoMRQCg9oIi6hhFA1qHOfvKJEUCFBv10Ko0RQDNrK2tikBFA4c9ZYZqTEUCQNIhX0pYRQD6Ztk0KmhFA7P3kQ0KdEUCbYhM6eqARQEnHQTCyoxFA9ytwJuqmEUCmkJ4cIqoRQFT1zBJarRFAAlr7CJKwEUCwvin/ybMRQF8jWPUBtxFADYiG6zm6EUC77LThcb0RQGpR49epwBFAGLYRzuHDEUDGGkDEGccRQHV/brpRyhFAI+ScsInNEUDRSMumwdARQICt+Zz50xFALhIokzHXEUDcdlaJadoRQIrbhH+h3RFAOUCzddngEUDnpOFrEeQRQJUJEGJJ5xFARG4+WIHqEUDy0mxOue0RQKA3m0Tx8BFAT5zJOin0EUD9APgwYfcRQKtlJieZ+hFAWspUHdH9EUAIL4MTCQESQLaTsQlBBBJAZPjf/3gHEkATXQ72sAoSQMHBPOzoDRJAbyZr4iAREkAei5nYWBQSQMzvx86QFxJAelT2xMgaEkApuSS7AB4SQNcdU7E4IRJAhYKBp3AkEkAz56+dqCcSQOJL3pPgKhJAkLAMihguEkA+FTuAUDESQO15aXaINBJAm96XbMA3EkBJQ8Zi+DoSQPin9FgwPhJApgwjT2hBEkBUcVFFoEQSQAPWfzvYRxJAsTquMRBLEkBfn9wnSE4SQA0ECx6AURJAvGg5FLhUEkBqzWcK8FcSQBgylgAoWxJAx5bE9l9eEkB1+/Lsl2ESQCNgIePPZBJA0sRP2QdoEkCAKX7PP2sSQC6OrMV3bhJA3fLau69xEkCLVwmy53QSQDm8N6gfeBJA5yBmnld7EkCWhZSUj34SQETqworHgRJA8k7xgP+EEkChsx93N4gSQE8YTm1vixJA/Xx8Y6eOEkCs4apZ35ESQFpG2U8XlRJACKsHRk+YEkC3DzY8h5sSQGV0ZDK/nhJAE9mSKPehEkDBPcEeL6USQHCi7xRnqBJAHgceC5+rEkDMa0wB164SQHvQevcOshJAKTWp7Ua1EkDXmdfjfrgSQIb+Bdq2uxJANGM00O6+EkDix2LGJsISQJEskbxexRJAP5G/spbIEkDt9e2ozssSQJtaHJ8GzxJASr9KlT7SEkD4I3mLdtUSQKaIp4Gu2BJAVe3Vd+bbEkADUgRuHt8SQLG2MmRW4hJAYBthWo7lEkAOgI9QxugSQLzkvUb+6xJAa0nsPDbvEkAZrhozbvISQMcSSSmm9RJAdXd3H974EkAk3KUVFvwSQNJA1AtO/xJAgKUCAoYCE0AvCjH4vQUTQN1uX+71CBNAi9ON5C0ME0A6OLzaZQ8TQOic6tCdEhNAlgEZx9UVE0BFZke9DRkTQPPKdbNFHBNAoS+kqX0fE0BPlNKftSITQP74AJbtJRNArF0vjCUpE0Bawl2CXSwTQAknjHiVLxNAt4u6bs0yE0Bl8OhkBTYTQBRVF1s9ORNAwrlFUXU8E0BwHnRHrT8TQB+Doj3lQhNAzefQMx1GE0B7TP8pVUkTQCmxLSCNTBNA2BVcFsVPE0CGeooM/VITQDTfuAI1VhNA40Pn+GxZE0CRqBXvpFwTQD8NROXcXxNA7nFy2xRjE0Cc1qDRTGYTQEo7z8eEaRNA+Z/9vbxsE0CnBCy09G8TQFVpWqoscxNAA86IoGR2E0CyMreWnHkTQGCX5YzUfBNADvwTgwyAE0C9YEJ5RIMTQGvFcG98hhNAGSqfZbSJE0DIjs1b7IwTQHbz+1EkkBNAJFgqSFyTE0DTvFg+lJYTQIEhhzTMmRNAL4a1KgSdE0Dd6uMgPKATQIxPEhd0oxNAOrRADaymE0DoGG8D5KkTQJd9nfkbrRNAReLL71OwE0DzRvrli7MTQKKrKNzDthNAUBBX0vu5E0D+dIXIM70TQKzZs75rwBNAWz7itKPDE0AJoxCr28YTQLcHP6ETyhNAZmxtl0vNE0AU0ZuNg9ATQMI1yoO70xNAcZr4efPWE0Af/yZwK9oTQM1jVWZj3RNAfMiDXJvgE0AqLbJS0+MTQNiR4EgL5xNAhvYOP0PqE0A1Wz01e+0TQOO/ayuz8BNAkSSaIevzE0BAicgXI/cTQO7t9g1b+hNAnFIlBJP9E0BLt1P6ygAUQPkbgvACBBRAp4Cw5joHFEBW5d7ccgoUQARKDdOqDRRAsq47yeIQFEBgE2q/GhQUQA94mLVSFxRAvdzGq4oaFEBrQfWhwh0UQBqmI5j6IBRAyApSjjIkFEB2b4CEaicUQCXUrnqiKhRA0zjdcNotFECBnQtnEjEUQDACOl1KNBRA3mZoU4I3FECMy5ZJujoUQDowxT/yPRRA6ZTzNSpBFECX+SEsYkQUQEVeUCKaRxRA9MJ+GNJKFECiJ60OCk4UQFCM2wRCURRA//AJ+3lUFECtVTjxsVcUQFu6ZufpWhRACh+V3SFeFEC4g8PTWWEUQGbo8cmRZBRAFE0gwMlnFEDDsU62AWsUQHEWfaw5bhRAH3uronFxFEDO39mYqXQUQHxECI/hdxRAKqk2hRl7FEDZDWV7UX4UQIdyk3GJgRRANdfBZ8GEFEDkO/Bd+YcUQJKgHlQxixRAQAVNSmmOFEDuaXtAoZEUQJ3OqTbZlBRASzPYLBGYFED5lwYjSZsUQKj8NBmBnhRAVmFjD7mhFEAExpEF8aQUQLMqwPsoqBRAYY/u8WCrFEAP9BzomK4UQL5YS97QsRRAbL151Ai1FEAaIqjKQLgUQMiG1sB4uxRAd+sEt7C+FEAlUDOt6MEUQNO0YaMgxRRAghmQmVjIFEAwfr6PkMsUQN7i7IXIzhRAjUcbfADSFEA7rElyONUUQOkQeGhw2BRAmHWmXqjbFEBG2tRU4N4UQPQ+A0sY4hRAoqMxQVDlFEBRCGA3iOgUQP9sji3A6xRArdG8I/juFEBcNusZMPIUQAqbGRBo9RRAuP9HBqD4FEBnZHb81/sUQBXJpPIP/xRAwy3T6EcCFUBykgHffwUVQCD3L9W3CBVAzltey+8LFUB8wIzBJw8VQCslu7dfEhVA2YnprZcVFUCH7hekzxgVQDZTRpoHHBVA5Ld0kD8fFUCSHKOGdyIVQEGB0XyvJRVA7+X/cucoFUCdSi5pHywVQEyvXF9XLxVA+hOLVY8yFUCoeLlLxzUVQFbd50H/OBVABUIWODc8FUCzpkQubz8VQGELcySnQhVAEHChGt9FFUC+1M8QF0kVQGw5/gZPTBVAG54s/YZPFUDJAlvzvlIVQHdnien2VRVAJsy33y5ZFUDUMObVZlwVQIKVFMyeXxVAMPpCwtZiFUDfXnG4DmYVQI3Dn65GaRVAOyjOpH5sFUDqjPyatm8VQJjxKpHuchVARlZZhyZ2FUD1uod9XnkVQKMftnOWfBVAUYTkac5/FUD/6BJgBoMVQK5NQVY+hhVAXLJvTHaJFUAKF55CrowVQLl7zDjmjxVAZ+D6Lh6TFUAVRSklVpYVQMSpVxuOmRVAcg6GEcacFUAgc7QH/p8VQM/X4v01oxVAfTwR9G2mFUAroT/qpakVQNkFbuDdrBVAiGqc1hWwFUA2z8rMTbMVQOQz+cKFthVAk5gnub25FUBB/VWv9bwVQO9hhKUtwBVAnsaym2XDFUBMK+GRncYVQPqPD4jVyRVAqfQ9fg3NFUBXWWx0RdAVQAW+mmp90xVAsyLJYLXWFUBih/dW7dkVQBDsJU0l3RVAvlBUQ13gFUBttYI5leMVQBsasS/N5hVAyX7fJQXqFUB44w0cPe0VQCZIPBJ18BVA1KxqCK3zFUCDEZn+5PYVQDF2x/Qc+hVA39r16lT9FUCNPyThjAAWQDykUtfEAxZA6giBzfwGFkCYba/DNAoWQEfS3blsDRZA9TYMsKQQFkCjmzqm3BMWQFIAaZwUFxZAAGWXkkwaFkCuycWIhB0WQF0u9H68IBZAC5MidfQjFkC591BrLCcWQGdcf2FkKhZAFsGtV5wtFkDEJdxN1DAWQHKKCkQMNBZAIe84OkQ3FkDPU2cwfDoWQH24lSa0PRZALB3EHOxAFkDagfISJEQWQIjmIAlcRxZAN0tP/5NKFkDlr331y00WQJMUrOsDURZAQXna4TtUFkDw3QjYc1cWQJ5CN86rWhZATKdlxONdFkD7C5S6G2EWQKlwwrBTZBZAV9XwpotnFkAGOh+dw2oWQLSeTZP7bRZAYgN8iTNxFkARaKp/a3QWQL/M2HWjdxZAbTEHbNt6FkAbljViE34WQMr6Y1hLgRZAeF+SToOEFkAmxMBEu4cWQNUo7zrzihZAg40dMSuOFkAx8ksnY5EWQOBWeh2blBZAjruoE9OXFkA8INcJC5sWQOuEBQBDnhZAmekz9nqhFkBHTmLssqQWQPWykOLqpxZApBe/2CKrFkBSfO3OWq4WQADhG8WSsRZAr0VKu8q0FkBdqnixArgWQAsPp6c6uxZAunPVnXK+FkBo2AOUqsEWQBY9MorixBZAxaFggBrIFkBzBo92UssWQCFrvWyKzhZAz8/rYsLRFkB+NBpZ+tQWQCyZSE8y2BZA2v12RWrbFkCJYqU7ot4WQDfH0zHa4RZA5SsCKBLlFkCUkDAeSugWQEL1XhSC6xZA8FmNCrruFkCfvrsA8vEWQE0j6vYp9RZA+4cY7WH4FkCp7EbjmfsWQFhRddnR/hZABrajzwkCF0C0GtLFQQUXQGN/ALx5CBdAEeQusrELF0C/SF2o6Q4XQG6ti54hEhdAHBK6lFkVF0DKduiKkRgXQHnbFoHJGxdAJ0BFdwEfF0DVpHNtOSIXQIMJomNxJRdAMm7QWakoF0Dg0v5P4SsXQI43LUYZLxdAPZxbPFEyF0DrAIoyiTUXQJlluCjBOBdASMrmHvk7F0D2LhUVMT8XQKSTQwtpQhdAUvhxAaFFF0ABXaD32EgXQK/Bzu0QTBdAXSb940hPF0AMiyvagFIXQLrvWdC4VRdAaFSIxvBYF0AXuba8KFwXQMUd5bJgXxdAc4ITqZhiF0Ai50Gf0GUXQNBLcJUIaRdAfrCei0BsF0AsFc2BeG8XQNt5+3ewchdAid4pbuh1F0A3Q1hkIHkXQOanhlpYfBdAlAy1UJB/F0BCceNGyIIXQPHVET0AhhdAnzpAMziJF0BNn24pcIwXQPwDnR+ojxdAqmjLFeCSF0BYzfkLGJYXQAYyKAJQmRdAtZZW+IecF0Bj+4Tuv58XQBFgs+T3ohdAwMTh2i+mF0BuKRDRZ6kXQByOPsefrBdAy/JsvdevF0B5V5uzD7MXQCe8yalHthdA1iD4n3+5F0CEhSaWt7wXQDLqVIzvvxdA4E6DgifDF0CPs7F4X8YXQD0Y4G6XyRdA63wOZc/MF0Ca4TxbB9AXQEhGa1E/0xdA9qqZR3fWF0ClD8g9r9kXQFN09jPn3BdAAdkkKh/gF0CwPVMgV+MXQF6igRaP5hdADAewDMfpF0C6a94C/+wXQGnQDPk28BdAFzU7727zF0DFmWnlpvYXQHT+l9ve+RdAImPG0Rb9F0DQx/THTgAYQH8sI76GAxhALZFRtL4GGEDb9X+q9gkYQIparqAuDRhAOL/clmYQGEDmIwuNnhMYQJSIOYPWFhhAQ+1neQ4aGEDxUZZvRh0YQJ+2xGV+IBhAThvzW7YjGED8fyFS7iYYQKrkT0gmKhhAWUl+Pl4tGEAHrqw0ljAYQLUS2yrOMxhAZHcJIQY3GEAS3DcXPjoYQMBAZg12PRhAbqWUA65AGEAdCsP55UMYQMtu8e8dRxhAedMf5lVKGEAoOE7cjU0YQNacfNLFUBhAhAGryP1TGEAzZtm+NVcYQOHKB7VtWhhAjy82q6VdGEA+lGSh3WAYQOz4kpcVZBhAml3BjU1nGEBIwu+DhWoYQPcmHnq9bRhApYtMcPVwGEBT8HpmLXQYQAJVqVxldxhAsLnXUp16GEBeHgZJ1X0YQA2DND8NgRhAu+diNUWEGEBpTJErfYcYQBixvyG1ihhAxhXuF+2NGEB0ehwOJZEYQCLfSgRdlBhA0UN5+pSXGEB/qKfwzJoYQC0N1uYEnhhA3HEE3TyhGECK1jLTdKQYQDg7YcmspxhA55+Pv+SqGECVBL61HK4YQENp7KtUsRhA8s0aooy0GECgMkmYxLcYQE6Xd478uhhA/PulhDS+GECrYNR6bMEYQFnFAnGkxBhAByoxZ9zHGEC2jl9dFMsYQGTzjVNMzhhAEli8SYTRGEDBvOo/vNQYQG8hGTb01xhAHYZHLCzbGEDM6nUiZN4YQHpPpBic4RhAKLTSDtTkGEDWGAEFDOgYQIV9L/tD6xhAM+Jd8XvuGEDhRozns/EYQJCrut3r9BhAPhDp0yP4GEDsdBfKW/sYQJvZRcCT/hhAST50tssBGUD3oqKsAwUZQKUH0aI7CBlAVGz/mHMLGUAC0S2Pqw4ZQLA1XIXjERlAX5qKexsVGUAN/7hxUxgZQLtj52eLGxlAasgVXsMeGUAYLURU+yEZQA==\",\"dtype\":\"float64\",\"shape\":[2000]},\"y\":{\"__ndarray__\":\"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\",\"dtype\":\"float64\",\"shape\":[2000]}}},\"id\":\"6b820aae-67ed-4b27-976b-1501a2259063\",\"type\":\"ColumnDataSource\"},{\"attributes\":{},\"id\":\"be9d83a4-545d-4316-bf51-1ecabaef87a4\",\"type\":\"HelpTool\"},{\"attributes\":{\"line_alpha\":{\"value\":0.1},\"line_color\":{\"value\":\"#1f77b4\"},\"line_width\":{\"value\":3},\"x\":{\"field\":\"x\"},\"y\":{\"field\":\"y\"}},\"id\":\"2c38ebb3-8758-4cf8-9e1e-bfac155a906b\",\"type\":\"Line\"},{\"attributes\":{\"line_color\":{\"value\":\"#2222aa\"},\"line_width\":{\"value\":3},\"x\":{\"field\":\"x\"},\"y\":{\"field\":\"y\"}},\"id\":\"f6124726-0095-434b-9476-36538bfde899\",\"type\":\"Line\"},{\"attributes\":{},\"id\":\"1dfcd757-617b-47aa-936e-e85aad9b6981\",\"type\":\"BasicTicker\"},{\"attributes\":{},\"id\":\"6692e6dd-8938-4003-8829-b67b7f744ec5\",\"type\":\"SaveTool\"},{\"attributes\":{\"data_source\":{\"id\":\"6b820aae-67ed-4b27-976b-1501a2259063\",\"type\":\"ColumnDataSource\"},\"glyph\":{\"id\":\"f6124726-0095-434b-9476-36538bfde899\",\"type\":\"Line\"},\"hover_glyph\":null,\"muted_glyph\":null,\"nonselection_glyph\":{\"id\":\"2c38ebb3-8758-4cf8-9e1e-bfac155a906b\",\"type\":\"Line\"},\"selection_glyph\":null,\"view\":{\"id\":\"cd816363-e79f-4337-8128-5c6024d4e436\",\"type\":\"CDSView\"}},\"id\":\"6eb79ad4-3faf-4cde-bd4d-cbbe2640d001\",\"type\":\"GlyphRenderer\"},{\"attributes\":{\"source\":{\"id\":\"6b820aae-67ed-4b27-976b-1501a2259063\",\"type\":\"ColumnDataSource\"}},\"id\":\"cd816363-e79f-4337-8128-5c6024d4e436\",\"type\":\"CDSView\"},{\"attributes\":{\"plot\":null,\"text\":\"simple line example\"},\"id\":\"fb0b942a-f048-485f-b7c6-005bbbd61692\",\"type\":\"Title\"},{\"attributes\":{\"formatter\":{\"id\":\"6ba5c918-a960-45e0-9c89-14c4fcb41874\",\"type\":\"BasicTickFormatter\"},\"plot\":{\"id\":\"8e84c853-1fcd-40e8-868a-67878d365fe8\",\"subtype\":\"Figure\",\"type\":\"Plot\"},\"ticker\":{\"id\":\"afaaffbd-00d0-4f27-8daa-a1cfe116bc2c\",\"type\":\"BasicTicker\"}},\"id\":\"0c4b5788-5f94-4ab4-bca7-da6beafd7d06\",\"type\":\"LinearAxis\"},{\"attributes\":{},\"id\":\"6ba5c918-a960-45e0-9c89-14c4fcb41874\",\"type\":\"BasicTickFormatter\"},{\"attributes\":{},\"id\":\"afaaffbd-00d0-4f27-8daa-a1cfe116bc2c\",\"type\":\"BasicTicker\"}],\"root_ids\":[\"8e84c853-1fcd-40e8-868a-67878d365fe8\"]},\"title\":\"Bokeh Application\",\"version\":\"0.12.10\"}};\n",
       "    var render_items = [{\"docid\":\"a81a7322-28b5-4588-b023-a8bef6390743\",\"elementid\":\"6e806bd4-0aca-4fc6-a64f-69b604c200c5\",\"modelid\":\"8e84c853-1fcd-40e8-868a-67878d365fe8\",\"notebook_comms_target\":\"3d66a84b-96dd-4520-a068-8ef49578ad7f\"}];\n",
       "\n",
       "    root.Bokeh.embed.embed_items(docs_json, render_items);\n",
       "  }\n",
       "\n",
       "  if (root.Bokeh !== undefined) {\n",
       "    embed_document(root);\n",
       "  } else {\n",
       "    var attempts = 0;\n",
       "    var timer = setInterval(function(root) {\n",
       "      if (root.Bokeh !== undefined) {\n",
       "        embed_document(root);\n",
       "        clearInterval(timer);\n",
       "      }\n",
       "      attempts++;\n",
       "      if (attempts > 100) {\n",
       "        console.log(\"Bokeh: ERROR: Unable to embed document because BokehJS library is missing\")\n",
       "        clearInterval(timer);\n",
       "      }\n",
       "    }, 10, root)\n",
       "  }\n",
       "})(window);"
      ],
      "application/vnd.bokehjs_exec.v0+json": ""
     },
     "metadata": {
      "application/vnd.bokehjs_exec.v0+json": {
       "id": "8e84c853-1fcd-40e8-868a-67878d365fe8"
      }
     },
     "output_type": "display_data"
    },
    {
     "data": {
      "text/html": [
       "<p><code>&lt;Bokeh Notebook handle for <strong>In[8]</strong>&gt;</code></p>"
      ],
      "text/plain": [
       "<bokeh.io.notebook.CommsHandle at 0xd084320>"
      ]
     },
     "execution_count": 8,
     "metadata": {},
     "output_type": "execute_result"
    }
   ],
   "source": [
    "show(p, notebook_handle=True)"
   ]
  },
  {
   "cell_type": "code",
   "execution_count": 9,
   "metadata": {},
   "outputs": [
    {
     "data": {
      "application/vnd.jupyter.widget-view+json": {
       "model_id": "001e8b4db17841baba6b61a872d1e35d",
       "version_major": 2,
       "version_minor": 0
      },
      "text/plain": [
       "A Jupyter Widget"
      ]
     },
     "metadata": {},
     "output_type": "display_data"
    },
    {
     "data": {
      "text/plain": [
       "<function __main__.update>"
      ]
     },
     "execution_count": 9,
     "metadata": {},
     "output_type": "execute_result"
    }
   ],
   "source": [
    "interact(update, f=[\"Male Retention\", \"Female Retention\", \"Overall Retention\"], w=(0,100), A=(1,5), phi=(0, 20, 0.1))"
   ]
  },
  {
   "cell_type": "code",
   "execution_count": null,
   "metadata": {},
   "outputs": [],
   "source": []
  },
  {
   "cell_type": "code",
   "execution_count": null,
   "metadata": {
    "collapsed": true
   },
   "outputs": [],
   "source": []
  }
 ],
 "metadata": {
  "kernelspec": {
   "display_name": "Python 2",
   "language": "python",
   "name": "python2"
  },
  "language_info": {
   "codemirror_mode": {
    "name": "ipython",
    "version": 2
   },
   "file_extension": ".py",
   "mimetype": "text/x-python",
   "name": "python",
   "nbconvert_exporter": "python",
   "pygments_lexer": "ipython2",
   "version": "2.7.14"
  }
 },
 "nbformat": 4,
 "nbformat_minor": 1
}
